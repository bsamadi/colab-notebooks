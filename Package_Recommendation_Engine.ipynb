{
  "nbformat": 4,
  "nbformat_minor": 0,
  "metadata": {
    "colab": {
      "name": "Package Recommendation Engine.ipynb",
      "version": "0.3.2",
      "provenance": [],
      "collapsed_sections": [
        "qVu3yEACC45f",
        "xcwbeBIKNLVk",
        "91Qswcs-Racr",
        "YLscgV61RK_L",
        "VSG-Oc6kZPuj",
        "4Wg_p5YxjEuM",
        "wzuV40b0Bdo1",
        "fMHGgz8GE4eC",
        "JUE1Wa8ESmh3"
      ],
      "include_colab_link": true
    },
    "kernelspec": {
      "name": "python3",
      "display_name": "Python 3"
    }
  },
  "cells": [
    {
      "cell_type": "markdown",
      "metadata": {
        "id": "view-in-github",
        "colab_type": "text"
      },
      "source": [
        "[View in Colaboratory](https://colab.research.google.com/github/connected-bsamadi/colab-notebooks/blob/master/Package_Recommendation_Engine.ipynb)"
      ]
    },
    {
      "metadata": {
        "id": "qVu3yEACC45f",
        "colab_type": "text"
      },
      "cell_type": "markdown",
      "source": [
        "# Setting up"
      ]
    },
    {
      "metadata": {
        "id": "0XeiWi7llE07",
        "colab_type": "code",
        "colab": {}
      },
      "cell_type": "code",
      "source": [
        "# Google Cloud authentication\n",
        "from google.colab import auth\n",
        "auth.authenticate_user()"
      ],
      "execution_count": 0,
      "outputs": []
    },
    {
      "metadata": {
        "id": "9qLqtNVSEYIl",
        "colab_type": "code",
        "colab": {}
      },
      "cell_type": "code",
      "source": [
        "# Installing packages\n",
        "!pip install nltk > /dev/null\n",
        "!pip install rake-nltk > /dev/null\n",
        "!pip install just > /dev/null\n"
      ],
      "execution_count": 0,
      "outputs": []
    },
    {
      "metadata": {
        "id": "cs_R3Keakxdj",
        "colab_type": "code",
        "colab": {
          "base_uri": "https://localhost:8080/",
          "height": 0
        },
        "outputId": "b627e918-23ef-4969-d3ac-8168fc43cdc6"
      },
      "cell_type": "code",
      "source": [
        "# Download a list of stop words for RAKE\n",
        "!wget https://raw.githubusercontent.com/zelandiya/RAKE-tutorial/master/data/stoplists/SmartStoplist.txt > /dev/null"
      ],
      "execution_count": 3,
      "outputs": [
        {
          "output_type": "stream",
          "text": [
            "\n",
            "Redirecting output to ‘wget-log.5’.\n"
          ],
          "name": "stdout"
        }
      ]
    },
    {
      "metadata": {
        "id": "F7IOueubz7XD",
        "colab_type": "code",
        "colab": {
          "base_uri": "https://localhost:8080/",
          "height": 0
        },
        "outputId": "815b4f1c-76c4-428d-a16a-d25b6e02480f"
      },
      "cell_type": "code",
      "source": [
        "from google.cloud import bigquery\n",
        "import json\n",
        "import re\n",
        "import pandas\n",
        "from rake_nltk import Rake\n",
        "import sys\n",
        "import just\n",
        "import numpy as np\n",
        "import matplotlib.pyplot as plt\n",
        "from collections import Counter\n",
        "from keras.models import Sequential\n",
        "from keras.layers import Activation, Dense\n",
        "from keras.layers import LSTM\n",
        "from keras.optimizers import RMSprop"
      ],
      "execution_count": 4,
      "outputs": [
        {
          "output_type": "stream",
          "text": [
            "Using TensorFlow backend.\n"
          ],
          "name": "stderr"
        }
      ]
    },
    {
      "metadata": {
        "id": "eUJxhFqJM8Qf",
        "colab_type": "code",
        "colab": {}
      },
      "cell_type": "code",
      "source": [
        "# Assigning the project name and creating the BigQuery client\n",
        "# https://cloud.google.com/resource-manager/docs/creating-managing-projects\n",
        "project_id = 'ontario-2018'\n",
        "client = bigquery.Client(project=project_id)"
      ],
      "execution_count": 0,
      "outputs": []
    },
    {
      "metadata": {
        "id": "xcwbeBIKNLVk",
        "colab_type": "text"
      },
      "cell_type": "markdown",
      "source": [
        "# Data Query\n",
        "BigQuery is used to get the data from the github_repos dataset."
      ]
    },
    {
      "metadata": {
        "id": "t81Olv1jMWLf",
        "colab_type": "code",
        "colab": {}
      },
      "cell_type": "code",
      "source": [
        "# Legacy SQL is used\n",
        "job_config = bigquery.job.QueryJobConfig()\n",
        "job_config.use_legacy_sql=True"
      ],
      "execution_count": 0,
      "outputs": []
    },
    {
      "metadata": {
        "id": "91Qswcs-Racr",
        "colab_type": "text"
      },
      "cell_type": "markdown",
      "source": [
        "## Extracting packages"
      ]
    },
    {
      "metadata": {
        "id": "sFJRNRdPRgit",
        "colab_type": "code",
        "colab": {}
      },
      "cell_type": "code",
      "source": [
        "### Get packages from big query\n",
        "query = ('''\n",
        "SELECT sample_repo_name, content\n",
        "FROM [bigquery-public-data:github_repos.sample_contents] contents\n",
        "INNER JOIN [bigquery-public-data:github_repos.sample_files] files\n",
        "  ON contents.id = files.id\n",
        "INNER JOIN [bigquery-public-data:github_repos.sample_repos] repos\n",
        "  ON contents.sample_repo_name = repos.repo_name\n",
        "WHERE files.path = 'package.json' AND repos.watch_count > 1000\n",
        "''')\n",
        "query_job = client.query(query,job_config)\n",
        "package_results = query_job.to_dataframe().values\n",
        "#print(package_results)"
      ],
      "execution_count": 0,
      "outputs": []
    },
    {
      "metadata": {
        "id": "7EQsdb2kNGFG",
        "colab_type": "code",
        "colab": {}
      },
      "cell_type": "code",
      "source": [
        "### Transform package_results into package_array\n",
        "package_array = []\n",
        "package_reponame_array = []\n",
        "for package in package_results:\n",
        "    repo_obj = json.loads(package[1])\n",
        "    package_record = {}\n",
        "    package_record[\"reponame\"] = package[0]\n",
        "    package_reponame_array.append(package[0])\n",
        "    if \"name\" in repo_obj:\n",
        "      package_record[\"name\"] = repo_obj[\"name\"]\n",
        "    if \"devDependencies\" in repo_obj:\n",
        "      dev_dependencies = repo_obj[\"devDependencies\"]\n",
        "      if (len(dev_dependencies) > 0):\n",
        "        package_record[\"devDependencies\"] = dev_dependencies\n",
        "    if \"dependencies\" in repo_obj:\n",
        "      dependencies = repo_obj[\"dependencies\"]\n",
        "      if (len(dependencies) > 0):\n",
        "        package_record[\"dependencies\"] = dependencies\n",
        "    if \"keywords\" in repo_obj:\n",
        "      keywords = repo_obj[\"keywords\"]\n",
        "      if (len(keywords) > 0):\n",
        "        package_record[\"keywords\"] = keywords\n",
        "    package_array.append(package_record)\n",
        "#print(package_array)"
      ],
      "execution_count": 0,
      "outputs": []
    },
    {
      "metadata": {
        "id": "YLscgV61RK_L",
        "colab_type": "text"
      },
      "cell_type": "markdown",
      "source": [
        "## Extracting Readme Files"
      ]
    },
    {
      "metadata": {
        "id": "23hOpMn0EOvJ",
        "colab_type": "code",
        "colab": {
          "base_uri": "https://localhost:8080/",
          "height": 51
        },
        "outputId": "b91e4200-0d10-4532-ff01-8cc4c1d47cf4"
      },
      "cell_type": "code",
      "source": [
        "### Get README.md files from big query\n",
        "\n",
        "job_config = bigquery.job.QueryJobConfig()\n",
        "job_config.use_legacy_sql=False\n",
        "query = ('''SELECT files.repo_name, content\n",
        "FROM `bigquery-public-data.github_repos.contents` contents\n",
        "INNER JOIN `bigquery-public-data.github_repos.files` files\n",
        "  ON contents.id = files.id\n",
        "WHERE files.path IN ('readme.md','Readme.md', 'README.md', 'README.MD') AND files.repo_name IN UNNEST(@repolist)\n",
        "''')\n",
        "\n",
        "query_params = [\n",
        "    bigquery.ArrayQueryParameter('repolist', 'STRING', package_reponame_array)\n",
        "]\n",
        "job_config.query_parameters = query_params\n",
        "query_job = client.query(query,job_config)\n",
        "readme_results = query_job.to_dataframe().values\n",
        "print(len(package_reponame_array))\n",
        "print(len(readme_results))"
      ],
      "execution_count": 9,
      "outputs": [
        {
          "output_type": "stream",
          "text": [
            "25\n",
            "22\n"
          ],
          "name": "stdout"
        }
      ]
    },
    {
      "metadata": {
        "id": "9NKXKxtuLNBL",
        "colab_type": "code",
        "colab": {}
      },
      "cell_type": "code",
      "source": [
        "### Transform readme_results into readme_array\n",
        "\n",
        "readme_array = []\n",
        "for readme_interim in readme_results:\n",
        "  readme_record = {}\n",
        "  readme_record[\"reponame\"] = readme_interim[0]\n",
        "  readme_record[\"content\"] = readme_interim[1]\n",
        "  readme_array.append(readme_record)\n",
        "#print(readme_array)"
      ],
      "execution_count": 0,
      "outputs": []
    },
    {
      "metadata": {
        "id": "VSG-Oc6kZPuj",
        "colab_type": "text"
      },
      "cell_type": "markdown",
      "source": [
        "# Creating training data"
      ]
    },
    {
      "metadata": {
        "id": "xvOmdIICO-SR",
        "colab_type": "code",
        "colab": {}
      },
      "cell_type": "code",
      "source": [
        "### Load the content of SmartStoplist.txt into stop_words\n",
        "\n",
        "stop_words=[]\n",
        "with open(\"SmartStoplist.txt\", 'r') as f:\n",
        "    for i, x in enumerate(f):\n",
        "        if 1 <= i:\n",
        "            stop_words.append(x.rstrip())"
      ],
      "execution_count": 0,
      "outputs": []
    },
    {
      "metadata": {
        "id": "vetcC0I-R5eh",
        "colab_type": "code",
        "colab": {
          "base_uri": "https://localhost:8080/",
          "height": 71
        },
        "outputId": "6e184317-79ec-4ecb-ceec-b32b3b920baf"
      },
      "cell_type": "code",
      "source": [
        "### Extract keywords using Rake\n",
        "\n",
        "rake = Rake(stopwords=stop_words, max_length=1)\n",
        "concatenated_readme = ''\n",
        "for readme in readme_array:\n",
        "  concatenated_readme = concatenated_readme + readme[\"content\"]\n",
        "rake.extract_keywords_from_text(concatenated_readme)\n",
        "ranked_phrases = rake.get_ranked_phrases()\n",
        "print(ranked_phrases)\n",
        "len(ranked_phrases)"
      ],
      "execution_count": 12,
      "outputs": [
        {
          "output_type": "stream",
          "text": [
            "['“', '’', '‘', '—', '}}`', '}]', '};', '},', '}).', '})', '||', '{...}`.', 'zos', 'zip', 'zh_cn', 'zfy6ll7efa', 'zenparsing', 'zen', 'youtube', 'youtu', 'yielded', 'yieldables', 'yieldable', 'yield', 'yelouafi', 'yellowgreen', 'yellowapple', 'yellow', 'years', 'yarn', 'yandex', 'xojs', 'xo', 'xmlhttprequest', 'xcodeproj', 'xcode', 'wrong', 'written', 'writing', 'write', 'wrap', 'wpo', 'wow', 'worry', 'world', 'works', 'working', 'workarounds', 'workaround', 'work', 'won', 'withgoogle', 'windowscroller', 'windows', 'windowing', 'window', 'win', 'wikipedia', 'wiki', 'width', 'white', 'whatwg', 'weststrate', 'welcoming', 'weeks', 'webstorm', 'webstore', 'website', 'websemantics', 'webscr', 'webpagetest', 'webpack', 'web', 'wearejh', 'ways', 'watches', 'watch', 'wasn', 'warranty', 'warranties', 'warnings', 'warning', 'warn', 'wait', 'vue', 'vscode', 'voted', 'vortex', 'voorhoede', 'voila', 'visualization', 'visiting', 'visit', 'visionmedia', 'virtualized', 'virtualization', 'viewport', 'viewmodel', 'viewer', 'view', 'videos', 'vi', 'versions', 'version', 'verify', 'verbose', 'vendor', 'ved', 've', 'vars', 'variable', 'vampolo', 'values', 'validator', 'validated', 'val', 'vadimdemedes', 'v5', 'v4', 'v3', 'v2', 'v1', 'v0', 'uvk9zassm8q', 'utm_source', 'utm_medium', 'utm_content', 'utm_campaign', 'utilize', 'usp', 'usingautosizer', 'users', 'username', 'userid', 'user_fetch_requested', 'user', 'useable', 'usd', 'usage', 'urls', 'url', 'uploaded', 'upload', 'upgrade', 'updating', 'updates', 'updated', 'update', 'unzip', 'unprefixed', 'unprefix', 'unpkg', 'unopinionated', 'unobtrusiveness', 'unlink', 'unlike', 'units', 'unit', 'unique', 'uniform', 'unfinishedtodocount', 'unexpected', 'understanding', 'unconditionally', 'uncompressed', 'unavailable', 'unable', 'umd', 'ul', 'ui', 'ug32xx0o3l', 'typically', 'typescriptlang', 'typescript', 'types', 'typeerror', 'typed', 'type', 'ty', 'txt', 'twitter', 'twiliosms', 'twilioipm', 'tweet', 'tweak', 'tutorials', 'turning', 'turned', 'turn', 'tsconfig', 'truthy', 'true', 'trough', 'troubleshooting', 'triggers', 'trigger', 'tricks', 'treo', 'tree', 'treated', 'treasuredata', 'travis', 'transpiles', 'transpile', 'transpilation', 'translation', 'translate', 'transition', 'transformation', 'transform', 'tracked', 'track', 'trace', 'tower', 'touch', 'tos', 'tort', 'top', 'tootallnate', 'tooltips', 'tooltip', 'tools', 'toolkit', 'tooling', 'tool', 'tons', 'ton', 'tokei', 'toggles', 'toggled', 'toggle', 'todoview', 'todos', 'todolistview', 'todolist', 'todo', 'today', 'tmp', 'tldt', 'tldroid', 'tldr_viewer', 'tldr_elixir_client', 'tldr', 'tlcr', 'tl', 'tj', 'titles', 'title', 'tired', 'tiny', 'timing', 'timeseries', 'times', 'timer', 'timeouts', 'timeout', 'timeline', 'time', 'ticking', 'thunks', 'thunk', 'thumb', 'throwsasync', 'thrown', 'thrower', 'throw', 'throttling', 'threaded', 'thread', 'things', 'thing', 'themes', 'theme', 'thearegee', 'tether', 'tests', 'testing', 'test', 'terminology', 'terminal', 'templates', 'template', 'tempfile', 'temp', 'technically', 'technical', 'teams', 'team', 'tealdeer', 'tdlmbo_hzsbp8tmg', 'tc39', 'taylorhakes', 'tasks', 'targetting', 'target', 'tape', 'tap', 'taobao', 'talks', 'talking', 'talk', 'takes', 'takelatest', 'takeevery', 'tags', 'tagged', 'tag', 'tablewithnaturalsort', 'table', 'tabindex', 't7cujdu', 'systemjs', 'system', 'syntax', 'synchronous', 'sync', 'symbol', 'sylvainpolletvillard', 'swiper3', 'swiper2', 'swiper', 'svg', 'surprised', 'surfaced', 'surface', 'suppose', 'supports', 'supported', 'support', 'supplying', 'supply', 'superraytin', 'super', 'summary', 'suitable', 'suggest', 'success', 'subset', 'subsequent', 'subprocesses', 'submitted', 'submit', 'submission', 'sublime', 'sublicense', 'subject', 'subdomain', 'stylus', 'styles', 'stylelint', 'style', 'studio', 'structure', 'strong', 'strive', 'string', 'straightforward', 'straight', 'storing', 'stores', 'stored', 'store', 'storage', 'step', 'stdout', 'statustext', 'statuses', 'status', 'stats', 'statistics', 'statement', 'state', 'stashed', 'startup', 'starter', 'started', 'start', 'stars', 'star', 'standard', 'stand', 'stale', 'stage', 'stable', 'srsudar', 'src', 'squeeze', 'square', 'spying', 'spring', 'spreadsheets', 'spread', 'sponsors', 'sponsored', 'sponsor', 'spin', 'speedcurve', 'specification', 'special', 'spec', 'spawns', 'spacing', 'space', 'sources', 'sourcemaps', 'source', 'sotojuan', 'sorting', 'sorted', 'sortable', 'sonnylazuardi', 'somelibname', 'solve', 'solution', 'solo', 'software', 'social', 'snippets', 'snippetoptions', 'snippet', 'snapshots', 'snapshot', 'snap', 'smart', 'slowed', 'slow', 'slightly', 'slider', 'slashing', 'slack', 'skipping', 'skipped', 'skip', 'size', 'sites', 'site_request_forgery_', 'site', 'single', 'sindresorhus', 'simply', 'simplified', 'simplicity', 'simplest', 'simpler', 'simple', 'similarly', 'similar', 'signing', 'signal', 'sig', 'side', 'shown', 'show', 'shouldn', 'short', 'shoichikaji', 'shirts', 'ships', 'shipped', 'shields', 'sharpened', 'sharing', 'shared', 'share', 'shallowcompare', 'shallow', 'shakyshane', 'sh', 'sg', 'setup', 'settings', 'setting', 'settimeout', 'set', 'session', 'service', 'server', 'serial', 'sending', 'send', 'semver', 'semantically', 'selectortimings', 'selectors', 'selectorcounts', 'selector', 'selected', 'select', 'security', 'section', 'search', 'seal', 'scss', 'scrollsync', 'scripts', 'script', 'screenshots', 'screenshot', 'screencast', 'screen', 'scores', 'scientific', 'science', 'schematics', 'scenario', 'scan', 'scale', 'scalable', 'sboudrias', 'saves', 'saved', 'save', 'satisfied', 'sass', 'samverschueren', 'sagas', 'sagamiddleware', 'saga', 'safeeval', 'safe', 'safari_48x48', 'safari', 'sa', 'rycochet', 'rxjs', 'rusty', 'rust', 'runtime', 'runs', 'running', 'run', 'rules', 'rule', 'ruby', 'ru_ru', 'rs', 'root', 'room', 'rollup', 'robot', 'roadmap', 'rnpm', 'rmsportal', 'rilut', 'rights', 'rgba', 'review', 'reverselist', 'returns', 'returned', 'return', 'results', 'result', 'restriction', 'rest', 'responsibility', 'response', 'respond', 'resources', 'resource', 'resolves', 'resolve', 'resolution', 'resizable', 'res', 'requires', 'requirejs', 'required', 'require', 'requests', 'request', 'req', 'repro', 'repository', 'repos', 'reports', 'reporting', 'reporter', 'reported', 'report', 'repo', 'reply', 'replied', 'replaced', 'repeated', 'repeat', 'rendertimings', 'rendering', 'rendered', 'rendercounts', 'render', 'rems', 'removed', 'remove', 'remix', 'remind', 'remember', 'remains', 'relying', 'relies', 'reliable', 'releases', 'released', 'release', 'relations', 'related', 'reject', 'registry', 'register', 'regions', 'regex', 'regenerator', 'regenerated', 'refguide', 'referral', 'references', 'reference', 'refer', 'reduxsaga', 'redux', 'reduces', 'reducer', 'redis', 'redirection', 'redirect', 'redbubble', 'recursed', 'recordunmountevent', 'recordrenderstopevent', 'recordrenderstartevent', 'recordmountevent', 'recordit', 'recorder', 'recorded', 'recommended', 'recommend', 'recipes', 'recipe', 'receiving', 'received', 'receive', 'rebelmail', 'reassign', 'reason', 'realize', 'real', 'ready', 'reads', 'readme_ru', 'readme_ja', 'readme', 'reading', 'readfile', 'readable', 'read', 'reactive_programming', 'reactive', 'reactions', 'reaction', 'reacted', 'react', 'reached', 'rc', 'raylee', 'raw', 'ratio', 'ranges', 'rails', 'radius', 'rackt', 'quit', 'quickstart', 'quickest', 'quick', 'questions', 'queries', 'python', 'py', 'px', 'pwa', 'putting', 'put', 'pushing', 'push', 'purpose', 'pulls', 'pubsub', 'publish', 'publicly', 'public', 'pt_br', 'psibi', 'prs', 'proxy', 'proxies', 'providing', 'providers', 'providedtitle', 'provided', 'provide', 'props', 'proposals', 'proposal', 'property', 'properties', 'proper', 'proof', 'pronunciation', 'pronounced', 'prompted', 'promises', 'promise', 'projects', 'projectdir', 'project', 'progress', 'programming', 'programmer', 'programmatically', 'profiling', 'profile', 'production', 'product', 'producing', 'produce', 'processors', 'processes', 'processed', 'process', 'problem', 'prints', 'printing', 'printed', 'previous', 'prevented', 'prettier', 'preset', 'presented', 'presentation', 'present', 'prepared', 'prelink', 'prefixes', 'prefixer', 'prefixed', 'prefix', 'preferences', 'prefer', 'predictable', 'precompiling', 'precompiled', 'precedence', 'pre', 'pranavraja', 'practices', 'practice', 'pr', 'pp1', 'pp', 'powered', 'power', 'postlink', 'postinstall', 'postimg', 'postgres', 'postcssjs', 'postcss', 'position', 'port', 'porras', 'pops', 'poppers', 'popperjs', 'popper', 'popovers', 'polyfills', 'polyfill', 'points', 'point', 'png', 'pm', 'plugins', 'plugin', 'pluggable', 'plist', 'pld3jnfklds7wsehsal2cfwg0fex7a6aok', 'playlist', 'playground', 'platforms', 'plans', 'planning', 'plan', 'places', 'placements', 'placeholders', 'placeholder', 'place', 'pixel', 'pivotal', 'pitfalls', 'pipeline', 'pipe', 'pify', 'picture', 'picking', 'picker', 'pick', 'phrases', 'php', 'philosophy', 'pg', 'perl', 'performant', 'performance', 'perform', 'perfect', 'percentiles', 'percentage', 'pepa65', 'people', 'pending', 'peers', 'paypalobjects', 'paypal', 'payload', 'paused', 'paulirish', 'patterns', 'pattern', 'patreon', 'path', 'patch', 'paste', 'past', 'password', 'passing', 'passes', 'passed', 'pass', 'parts', 'part', 'parsing', 'parsejson', 'parse', 'params', 'parameters', 'parallelism', 'parallel', 'panel', 'pairs', 'pain', 'pages', 'pageres', 'page__nav', 'page__main', 'page__head', 'page__footer', 'page', 'padding', 'packagr', 'packages', 'packager', 'packageinstance', 'package', 'owasp', 'overriding', 'overrides', 'override', 'output', 'outdated', 'ots', 'ostera', 'osjsorg', 'os', 'originates', 'origin', 'org', 'order', 'orange', 'options', 'optionally', 'optional', 'option', 'opting', 'optimizer', 'optimized', 'optimization', 'opposite', 'opposed', 'opinionated', 'operations', 'operate', 'opera_48x48', 'opera', 'opensourcenorth', 'opened', 'open', 'opacity', 'onupdate', 'online', 'onepage', 'onenotedev', 'oncreate', 'onclick', 'on_spectrum', 'omit', 'older', 'official', 'offer', 'obvious', 'obtaining', 'observer', 'observables', 'observable', 'objects', 'object', 'obj', 'obama', 'nyvnqkrl69s', 'nyc', 'nutellinoit', 'number', 'null', 'nuget', 'npx', 'npmjs', 'npm', 'novemberborn', 'november', 'notthrowsasync', 'note', 'noryn6gotvo', 'normalized', 'normalize', 'normal', 'nope', 'nontrivial', 'nonthrower', 'noninfringement', 'nolimits4web', 'noise', 'nodejs', 'node_modules', 'node_env', 'node', 'nnmlddkpgoecicoallmimonoboialpap', 'nl', 'nilj0', 'nightlies', 'nice', 'ngtools', 'ng', 'news', 'neutrino', 'network', 'net', 'nestedtimeline', 'nested', 'neighborhood999', 'needed', 'ndmitry', 'nay', 'navigation', 'nav', 'natively', 'native', 'names', 'named', 'mz', 'mysaga', 'mweststrate', 'multigrid', 'multicolumnsorttable', 'mt', 'mskims', 'mscdex', 'mozilla', 'moz', 'moving', 'move', 'months', 'monorepo', 'mongodb', 'modules', 'module', 'modular', 'modifying', 'modify', 'modifiers', 'modifier', 'modified', 'moderate', 'models', 'model', 'mode', 'moddus', 'mocha', 'mobxjs', 'mobx4', 'mobx', 'mobservable', 'mobile', 'mo', 'mixed', 'mit', 'mistake', 'miss', 'mirrors', 'minus', 'minmax', 'minimize', 'minimal', 'minified', 'mini', 'mind', 'min', 'milliseconds', 'mikaeljorhult', 'migrating', 'middlewares', 'middleware', 'middleman', 'microsoftedge', 'microsoft', 'michel', 'mic', 'mflint', 'metrics', 'metric', 'methods', 'method', 'metadata', 'messages', 'message', 'mess', 'merged', 'merge', 'merchantability', 'menu', 'mentioned', 'mendix', 'members', 'melpa', 'meet', 'medium', 'medis', 'media', 'mechanisms', 'mechanism', 'measuring', 'meant', 'means', 'meaning', 'md', 'max', 'mathematical', 'math', 'matching', 'matches', 'matcher', 'matched', 'match', 'master', 'masonry', 'martians', 'margin', 'maplimit', 'map', 'manually', 'manner', 'manekinekko', 'management', 'managed', 'manage', 'man', 'making', 'makes', 'make', 'maintenance', 'maintain', 'main', 'magic', 'made', 'macros', 'macro', 'macos', 'machine', 'mac', 'm4a', 'lukehoban', 'luisrudge', 'luin', 'lts', 'ls', 'lpg', 'lower', 'low', 'love', 'lots', 'lot', 'lord63', 'loops', 'longer', 'long', 'logos', 'logornpm_final4', 'logo_readme', 'logo', 'logging', 'logged', 'log', 'lodin', 'lodash', 'location', 'locate', 'localization', 'loading', 'loader', 'load', 'll', 'listening', 'listeners', 'listen', 'list', 'linux', 'lint', 'links', 'linkingsucceeded', 'linking', 'linked', 'link', 'linear', 'line', 'limited', 'limitations', 'limitation', 'likewise', 'lighthouse', 'lifecycle', 'licenses', 'license', 'library', 'libraries', 'libhive', 'liberapay', 'lib', 'liable', 'liability', 'li', 'lh4u', 'leveraging', 'levels', 'level', 'letting', 'lessons', 'lengthy', 'leighmcculloch', 'leave', 'learned', 'learncode', 'learn', 'leak', 'lead', 'lckifpakia', 'lc', 'layer', 'launched', 'launch', 'latest', 'larger', 'large', 'lang', 'landscape', 'labs', 'labels', 'labeled', 'label', 'l9', 'l81', 'l7', 'kuanyui', 'korean', 'ko_kr', 'knockout', 'kirillseva', 'kinds', 'kindly', 'kind', 'keywords', 'keys', 'keyboard', 'key', 'kevva', 'kdpgvgumpgfqahpjicrk', 'kbd', 'k8dr8bmu7', 'justinribeiro', 'jspm', 'json', 'jsdom', 'jsdelivr', 'jsc', 'js', 'jquery', 'jpg', 'jpeg', 'joytocode', 'jonsuh', 'jonathantneal', 'join', 'joelbarbosa', 'jlhwung', 'jhz3aaqobk', 'jfmengels', 'jest', 'jenius', 'jekyll', 'jeffjewiss', 'javascriptcore', 'javascript', 'jamestalmage', 'ja_jp', 'j30k46l7xw', 'ixzpn44trr', 'ivdgtxspnwlojlhrpkf1nwezfl8', 'iterable', 'items', 'item_name', 'it_it', 'istanbul', 'issuestats', 'issues', 'issue', 'isolation', 'isolated', 'ish', 'iq0', 'ios', 'ioredis', 'io', 'involves', 'invoked', 'inverse', 'introduction', 'introduces', 'introduced', 'introduce', 'intro', 'intricacies', 'internally', 'interfaces', 'interface', 'interesting', 'interested', 'interacting', 'intentions', 'intentional', 'intended', 'integrations', 'integration', 'integrate', 'instructions', 'instanceof', 'instance', 'installing', 'installed', 'installation', 'installable', 'install', 'instability', 'inspired', 'insist', 'insights', 'inside', 'insert', 'ins', 'inquirer', 'input', 'innerhtml', 'inlined', 'injecting', 'initialized', 'ing', 'information', 'info', 'influence', 'infiniteloader', 'infinite', 'infer', 'indirection', 'indexing', 'index', 'increasing', 'including', 'includes', 'included', 'include', 'improved', 'improve', 'improper', 'imported', 'important', 'import', 'implied', 'implements', 'implemented', 'implementation', 'implement', 'imperative_programming', 'imgur', 'img', 'images', 'image', 'imac', 'im', 'ignoreunknownversions', 'ignore', 'iexplore', 'ie9', 'ie11', 'ie10', 'ides', 'identical', 'ideas', 'ideal', 'idea', 'idangero', 'id1071725095', 'id1063631769', 'id', 'iamvdo', 'hybrids', 'human', 'hug', 'hubspot', 'httparchive', 'http', 'html5accessibility', 'html', 'hterkelsen', 'hpe', 'howto', 'howdyai', 'howdy', 'hover', 'hostname', 'host', 'hooks', 'hook', 'home', 'hl', 'hit', 'hill', 'highly', 'highlighting', 'highlighted', 'higher', 'high', 'hidroh', 'hidden', 'hey', 'herokuapp', 'helpful', 'helpers', 'helped', 'height', 'heart', 'hears', 'heard', 'headers', 'header', 'head', 'haven', 'hard', 'happy', 'happened', 'happen', 'handling', 'handles', 'handler', 'handled', 'handle', 'handbook', 'hand', 'hamburgers', 'hamburger', 'hacks', 'hacking', 'h1', 'gzip', 'gulp', 'guise', 'guides', 'guideline', 'guide', 'gui', 'guesstimate', 'guess', 'gucong3000', 'guard', 'guaranteed', 'grunt', 'group', 'grids', 'grid', 'greenkeeper', 'green', 'greater', 'great', 'gray', 'gratipay', 'grateful', 'graphs', 'graph', 'granted', 'grandpa', 'gradients', 'gradient', 'grade', 'gpu', 'gpa', 'gotwarlost', 'googlechrome', 'google', 'godaddy', 'goal', 'gnode', 'glossary', 'globals', 'global_objects', 'global', 'glob', 'glitch', 'giving', 'give', 'gittip', 'gitter', 'githubusercontent', 'github', 'git', 'gif', 'gianasista', 'gh', 'gfx', 'getter', 'getstarted', 'getguesstimate', 'generators', 'generator', 'generated', 'generate', 'generally', 'general', 'gems', 'gemfile', 'gatherers', 'gap', 'gallery', 'ga', 'future', 'furnished', 'functions', 'functional', 'function', 'func', 'fun', 'fully', 'full', 'fs', 'fritz', 'friends', 'friendly', 'friend', 'frequently', 'freesuraj', 'freenode', 'free', 'framework', 'fragment', 'fr_fr', 'foundation', 'found', 'forward', 'formdata', 'form', 'forks', 'forking', 'fork', 'forget', 'foreachof', 'forceupdategrids', 'forceupdategrid', 'forcefully', 'force', 'forbidden_header_name', 'foot', 'foo', 'fonts', 'font', 'follow', 'folder', 'focused', 'focusable', 'focus', 'fn', 'fly', 'flux', 'flowtype', 'flow', 'flexibility', 'flexbugs', 'flexbox', 'flex', 'flavors', 'flat', 'flags', 'flag', 'fkd7hjknpt', 'fixes', 'fixed', 'fix', 'fitness', 'fit', 'firefox_48x48', 'firefox', 'fired', 'finished', 'fine', 'find', 'final', 'filter', 'files', 'filed', 'file', 'fields', 'field', 'ffd7be7bf628', 'ffb400', 'ff69b4', 'fezvrasta', 'fetchuser', 'fetchpolyfill', 'fetch', 'features', 'featured', 'feature', 'fc4e', 'fbos', 'fastlane', 'faster', 'fast', 'faq', 'family', 'familiarize', 'familiar', 'falsy', 'false', 'failwithoutassertions', 'failure', 'fails', 'failing', 'fail', 'fact', 'facebook', 'eyes', 'externalresources', 'external', 'extensions', 'extension', 'extended', 'expressjs', 'express', 'exports', 'exported', 'export', 'exploring', 'explicitly', 'explanations', 'explanation', 'experiments', 'experience', 'expected', 'expanded', 'exits', 'execution', 'executed', 'execute', 'executable', 'excluded', 'exclude', 'excel', 'examples', 'example_audit', 'ex7oladjt', 'evil', 'events', 'event', 'eval', 'establish', 'esnext', 'esm', 'eslint', 'es_es', 'es6', 'es5', 'es2015', 'es', 'errors', 'error', 'errinvalidproj', 'err', 'equivalent', 'epub', 'environment', 'env', 'entry', 'entries', 'enterprise', 'ensure', 'english', 'engine', 'endpoint', 'ending', 'end', 'encourage', 'encountered', 'encounter', 'enables', 'enabled', 'enable', 'en_us', 'en', 'ems', 'emphatic', 'emilebres', 'ember', 'emazzotta', 'elements', 'element', 'elegant', 'electron_48x48', 'electron', 'elastic', 'ejs', 'efficient', 'effects', 'effect', 'ef1589d7063f', 'editing', 'edit', 'edgurgel', 'edge_48x48', 'edge', 'ecmascript', 'ebidel', 'easy', 'easiest', 'easier', 'ease', 'early', 'e8', 'e7v91mu2m5x48ehx', 'e79e', 'e7', 'e6', 'e5', 'dwres', 'duration', 'due', 'dt', 'drop', 'drive', 'draios', 'dragging', 'drag', 'dq', 'downs', 'downloads', 'download', 'dougwilson', 'dont_trip_up_with_vendor_prefixes', 'donation', 'donate', 'don', 'domains', 'domain', 'dom', 'doiuse', 'doesn', 'documentation', 'document', 'docs', 'docker', 'dm', 'dive', 'div', 'distributions', 'distribution', 'distribute', 'dist', 'displaying', 'displayed', 'display', 'dispatcher', 'dispatched', 'dispatch', 'disk', 'discussion', 'discuss', 'discover', 'disabled', 'disable', 'disabilities', 'directory', 'directories', 'directly', 'diogofcunha', 'dig', 'difference', 'diff', 'didn', 'devtools', 'devkit', 'devices', 'device', 'devhub', 'development', 'developers', 'developer', 'developed', 'develop', 'devdeps', 'devdependencies', 'dev', 'determine', 'detection', 'detected', 'detect', 'details', 'detail', 'destroy', 'destination', 'desired', 'designed', 'design', 'description', 'describe', 'derived', 'derive', 'derivations', 'derivation', 'depth', 'deps', 'deploy', 'depends', 'depending', 'dependents', 'dependency', 'dependencies', 'depended', 'depend', 'depdendency', 'demonstrated', 'demand', 'delegation', 'defining', 'defined', 'define', 'defaults', 'default', 'decorators', 'decorator', 'decorate', 'declared', 'declare', 'declarations', 'debugging', 'debug', 'deals', 'dealings', 'deal', 'de', 'dbrgn', 'david', 'datepicker', 'date', 'database', 'data', 'dash', 'damages', 'd460fxti0f', 'cz', 'customizingstyles', 'customize', 'customization', 'customizable', 'custom', 'current', 'currency_code', 'cumbersome', 'cult', 'cssnext', 'cssnano', 'css', 'csrf', 'cs1707', 'crucial', 'cross', 'credits', 'credentials', 'creator', 'creation', 'creatinganinfiniteloadinglist', 'creating', 'createstore', 'created', 'create', 'crawl', 'craving', 'crash', 'cpu', 'cpp', 'covert', 'covered', 'coveralls', 'coverage', 'courses', 'couple', 'counted', 'count', 'cors', 'correct', 'corner', 'coreh', 'core', 'copyright', 'copy', 'copies', 'coordinate', 'cookies', 'cookie', 'cook', 'converted', 'convert', 'convention', 'controls', 'controller', 'control', 'contributors', 'contributions', 'contributing', 'contribute', 'contrast', 'contrary', 'contract', 'continue', 'context', 'contents', 'content', 'constructor', 'constitutes', 'constants', 'const', 'consolidate', 'console', 'consistent', 'considered', 'connection', 'connecting', 'connect', 'conflict', 'configured', 'configure', 'configuration', 'configs', 'config', 'conditions', 'concurrent', 'concurrency', 'concordancejs', 'concordance', 'concise', 'concerned', 'concepts', 'concept', 'computes', 'computer', 'computed', 'compute', 'computations', 'compression', 'comprehensive', 'componentwillupdate', 'componentwillunmount', 'componentwillmount', 'components', 'componentdidupdate', 'component', 'complicated', 'compliant', 'complex', 'completion', 'completing', 'complete', 'compiler', 'compileenhancements', 'compiled', 'compile', 'compatible', 'compatibility', 'compat', 'compass', 'comparison', 'comparing', 'compared', 'compare', 'companies', 'community', 'commune', 'commonjs', 'common', 'committed', 'commitizen', 'commit', 'comment', 'commands', 'commander', 'command', 'comma', 'combined', 'combinations', 'columnsizer', 'column', 'color', 'collections', 'collection', 'collapse', 'coinbase', 'codesandbox', 'codemods', 'codecov', 'code_style', 'code', 'codacy', 'cocoapods', 'cmd', 'cloudup', 'closed', 'clone', 'clients', 'client', 'clicking', 'clicked', 'click', 'cli', 'clean', 'clauderic', 'classfellow', 'classes', 'class', 'claim', 'ciscospark', 'ciscojabber', 'circleci', 'ci', 'chromium', 'chrome_path', 'chrome_48x48', 'chrome', 'chrisallenlane', 'choose', 'choices', 'choice', 'chinese', 'child', 'checkstatus', 'check', 'cheat', 'chat', 'charge', 'character', 'channel', 'changing', 'changelog', 'changed', 'change', 'chance', 'challenges', 'chain', 'cgi', 'cells', 'cellmeasurer', 'cdns', 'cdnjs', 'cdn', 'cc', 'cb', 'causality', 'cats', 'category', 'categorical', 'catched', 'catch', 'cases', 'case', 'cascade', 'care', 'capture', 'capable', 'caolan', 'canonical', 'caniuse', 'cancelled', 'calling', 'called', 'callbacks', 'callback', 'call', 'calibre', 'calculations', 'calculation', 'calculate', 'caching', 'cached', 'bvaughn', 'buy', 'button', 'business', 'built', 'buildtools', 'buildscripts', 'builds', 'building', 'build_webpack', 'build_optimizer', 'build_ng_packagr', 'build_dev', 'build_connector', 'build_angular', 'build', 'bugs', 'bug', 'btn_donatecc_lg', 'btn', 'bs', 'brunch', 'browsersync', 'browserslist', 'browsers', 'browserify', 'browser', 'browse', 'brought', 'brotli', 'broccoli', 'bring', 'brightgreen', 'bridge', 'brevity', 'breaking', 'break', 'branches', 'branch', 'brainmaestro', 'brackets', 'br', 'boyney123', 'box', 'bower', 'bound', 'bots', 'botkit', 'botframework', 'bot', 'boring', 'border', 'bootstrap', 'boom', 'boolean', 'books', 'book', 'boils', 'boilerplates', 'body', 'bn', 'blogs', 'blocksize', 'blocking', 'block', 'blob', 'blipmdconlkpinefehnmjammfjpmpbjk', 'blakeembrey', 'bl', 'bit', 'binaries', 'bin', 'bigquery', 'big', 'bhp', 'beta', 'benefit', 'beneficial', 'belong', 'believed', 'behavior', 'behaves', 'begins', 'beginnertutorial', 'beforeeach', 'beautiful', 'beaconed', 'bd', 'bcoe', 'bc', 'baz', 'basics', 'basically', 'basic', 'bash', 'based', 'bar', 'badges', 'badge_grade', 'badge', 'backport', 'background', 'backers', 'backer', 'backed', 'back', 'babel', 'b8', 'b5', 'b1', 'ay', 'aws40kox90u', 'awesome', 'awaited', 'await', 'avoided', 'avoid', 'avatar', 'avajs', 'ava__js', 'ava', 'autosizer', 'autorun', 'autoprefixer', 'autoprefix', 'automatization', 'automatically', 'authors', 'authoring', 'author', 'authentication', 'audits', 'auditing', 'audit', 'attribute', 'attempts', 'attaching', 'atom', 'atlassian', 'atlaskit', 'asynchronous', 'async', 'assign', 'assets', 'assertions', 'assertion', 'assert', 'art', 'arrowturn', 'arrowkeystepper', 'arrowalt', 'arrow', 'arrays', 'array', 'arising', 'aria', 'arguments', 'argument', 'args', 'aren', 'area', 'archive', 'architecture', 'architect', 'appveyor', 'apps', 'approach', 'applystyles', 'applystyle', 'applyreactstyle', 'applymiddleware', 'apply', 'applies', 'applied', 'application', 'applicable', 'apple', 'apphub', 'append', 'appearance', 'app', 'apmssu3qnf0', 'apis', 'api', 'antd', 'ant', 'answer', 'annotating', 'animations', 'animated', 'angularjs', 'angular_devkit', 'angular', 'android', 'andreasonny83', 'andreascn', 'andersevenrud', 'anatomy', 'analyzing', 'analyze', 'analysis', 'amp', 'amount', 'amd', 'altoghether', 'alternatively', 'alternative', 'alter', 'alrra', 'allowing', 'allowed', 'alipayobjects', 'alias', 'algolia', 'alfred', 'alfmdwaaqbaj', 'aims', 'aimed', 'aim', 'ai', 'ahead', 'aggregate', 'aftereach', 'affecting', 'affect', 'ae', 'advisable', 'advantage', 'advanced', 'adjust', 'adjacent', 'addyosmani', 'addition', 'adding', 'added', 'add', 'actual', 'acts', 'activities', 'actively', 'active', 'actions', 'actioncounts', 'action', 'achieved', 'achieve', 'account', 'accomplished', 'accessing', 'accessible', 'accessibility', 'accessed', 'access_control_cors', 'access', 'accepts', 'ac', 'abortsignal', 'aborting', 'abortcontroller', 'abortable', 'ability', 'aa1bac299dd0', 'a8', 'a7', '```', \"`['\", '`:', '`.', '`-', '`,', '`)', '`\"', '`!`', '_sass', '_q50bxqkafi', '_prevention_cheat_sheet', '_polyfill_', '_not', '_includes', '_donations', '_click', '_base', '_anything', '__tests__', '__snapshots__', '__mocks__', '__dirname', '____lighthouse', '][]', '].', '],', '])`', '\\\\[[', '\\\\*', '[`', '[];', '[[', '[!', '>`', '></', '><', '=>', '==========', '===', '</', '<!--', ':-------------------------------------------------------------------------------------------------------------', ':---------------------------------------------------------------------------------------------------------', ':--------------', ':)', '9f91', '9df04cb6', '9c', '99', '97f3', '962647f8', '92ce', '92', '9129', '91', '903e', '9000', '900', '90', '9', '8m', '8f', '8de3', '8c', '8b', '89', '88a95d146a75', '88', '84', '83be', '83', '81', '8001', '80', '8', '7c9e7c86e0c6ead141bb0539d33143d0e1f576dd', '732', '7', '6px', '6833f9', '67', '663be15acb3dd2eb0f71b1956ef28c2cd3fdeed0', '640x360', '635902', '6002', '60', '6', '5px', '5ms', '5ed9c7', '59cb', '5983843', '59', '58', '57', '56', '55', '54557dc319b04e92e31cb87427bef194ec1c549c', '54', '5368888', '53', '5224894a7cca', '52', '512', '51', '500', '50', '5', '4x', '4px', '4ef7d128', '4d63', '49', '485645', '484499', '48', '47073b5b58aa6f3fb24f98757be5d3f56218d160', '47', '46', '45000', '45', '44', '43', '42m', '42', '412', '41', '40px', '40m', '40gmail', '40556658', '40', '4', '3dy', '3dxy', '3dx', '3bbase64', '3anonhosted', '3aimage', '3abtn_donate_sm', '3a', '39191', '39', '38', '37311298', '37', '36', '35', '34', '33px', '33', '32', '31', '30330590', '3000x3000', '3000', '300', '30', '3', '2x', '2px', '2m', '2fwebpack', '2fupdate', '2fsvg', '2fschematics', '2fr', '2fpwa', '2fcore', '2fcli', '2fbuild', '2farchitect', '2fangular', '2egif', '2ecom', '2dsync', '2dppx', '2ddonationsbf', '2cphn2zybpzd0itgl2zwxsb18xiibkyxrhlw5hbwu9ikxpdmvsbg8gmsigeg1sbnm9imh0dha6ly93d3cudzmub3jnlziwmdavc3zniib2awv3qm94psiwidagmtagoci', '2bxml', '2bphn0ewxlpi5jbhmtmxtmawxsoinmzmy7ftwvc3r5bgu', '2bphbhdgggy2xhc3m9imnscy0xiibkpsjnnswwqy40miwwldasljyzldasmy4zngmwldeuodqumtksmi43miwxljc0ldmumwgwvjcunthhljq0ljq0ldasmcwwlc42oc4znuw0ljm1ldyunjlinwm0lju4ldasns0unjmsns0zljm1uzkuntgsmcw1ldbattiuodmsnc4xogeunjmunjmsmcwxldesljy1ls42m0eunjqunjqsmcwwldesmi44myw0lje4wk01ldqumthhljyzljyzldasmswxlc42ns0unjnbljy0ljy0ldasmcwxldusnc4xofptmi4xnywwys42my42mywwldesmswunjutljyzqs42nc42ncwwldasmsw3lje3ldqumthaii8', '2bpgrlznm', '2bpc9zdmc', '2bpc9kzwzzpjx0axrszt5zcgvjdhj1btwvdgl0bgu', '2b', '2978551', '29597', '29', '28', '27', '261d', '26', '25', '2464966', '24', '23f662f6', '2301202', '23', '22478294', '22', '214067', '2109932', '21', '20your', '20with', '20weststrate', '20the', '20supercharge', '20state', '20start', '20react', '20quick', '20px', '20mobx', '20in', '20guide', '20client', '20chat', '20apps', '2017', '2000', '20', '2', '1s', '1fr', '1dri6hc2xiptlbkfnh8yczocpxqtoacicdesdyvfg_be', '1c3a711a', '19', '18', '17391516', '17', '16', '15s', '15px', '15', '1462115295', '14333364', '14', '13', '12m', '127', '1234', '12', '11e8', '11e6', '11e5', '11737732', '113399210633478618934', '11', '10s', '1050222', '100px', '100', '10', '1', '0ca1e55e', '098f2f8ed866', '09', '0800', '000', '0', '/`', '/></', '/>', '//', '/-', '/*', '/).', '/),', '/)', '...', '-->', '---|---|---', '---------', '-----', '----', '---', '--', '++)', '*/', '**:', '**.', '**', '*(', \"*','\", \"*',\", ')`', ')]', ');', '):', ').', ')**', ')!', '(`-', '([', '()`.', '()`,', '()`', '()', \"('\", \"']`)\", \"'.\", \"'-\", \"','\", \"',\", \"');\", '######', '#####', '####', '###', '##', '\":', '\",', '\"**/*.', '\"\";', '!\"']\n"
          ],
          "name": "stdout"
        },
        {
          "output_type": "execute_result",
          "data": {
            "text/plain": [
              "2606"
            ]
          },
          "metadata": {
            "tags": []
          },
          "execution_count": 12
        }
      ]
    },
    {
      "metadata": {
        "id": "aoYCyfUBccfq",
        "colab_type": "code",
        "colab": {
          "base_uri": "https://localhost:8080/",
          "height": 71
        },
        "outputId": "547f655b-be37-4aaf-bf79-1444e25f1047"
      },
      "cell_type": "code",
      "source": [
        "### Remove all non-english characters\n",
        "\n",
        "pattern = re.compile(\"[a-zA-Z0-9]\")\n",
        "input_nodes = list(filter(lambda x: bool(re.match(pattern, x)), ranked_phrases))\n",
        "input_nodes = list(filter(lambda x: len(x)>1, input_nodes))\n",
        "print(input_nodes)\n",
        "len(input_nodes)"
      ],
      "execution_count": 13,
      "outputs": [
        {
          "output_type": "stream",
          "text": [
            "['zos', 'zip', 'zh_cn', 'zfy6ll7efa', 'zenparsing', 'zen', 'youtube', 'youtu', 'yielded', 'yieldables', 'yieldable', 'yield', 'yelouafi', 'yellowgreen', 'yellowapple', 'yellow', 'years', 'yarn', 'yandex', 'xojs', 'xo', 'xmlhttprequest', 'xcodeproj', 'xcode', 'wrong', 'written', 'writing', 'write', 'wrap', 'wpo', 'wow', 'worry', 'world', 'works', 'working', 'workarounds', 'workaround', 'work', 'won', 'withgoogle', 'windowscroller', 'windows', 'windowing', 'window', 'win', 'wikipedia', 'wiki', 'width', 'white', 'whatwg', 'weststrate', 'welcoming', 'weeks', 'webstorm', 'webstore', 'website', 'websemantics', 'webscr', 'webpagetest', 'webpack', 'web', 'wearejh', 'ways', 'watches', 'watch', 'wasn', 'warranty', 'warranties', 'warnings', 'warning', 'warn', 'wait', 'vue', 'vscode', 'voted', 'vortex', 'voorhoede', 'voila', 'visualization', 'visiting', 'visit', 'visionmedia', 'virtualized', 'virtualization', 'viewport', 'viewmodel', 'viewer', 'view', 'videos', 'vi', 'versions', 'version', 'verify', 'verbose', 'vendor', 'ved', 've', 'vars', 'variable', 'vampolo', 'values', 'validator', 'validated', 'val', 'vadimdemedes', 'v5', 'v4', 'v3', 'v2', 'v1', 'v0', 'uvk9zassm8q', 'utm_source', 'utm_medium', 'utm_content', 'utm_campaign', 'utilize', 'usp', 'usingautosizer', 'users', 'username', 'userid', 'user_fetch_requested', 'user', 'useable', 'usd', 'usage', 'urls', 'url', 'uploaded', 'upload', 'upgrade', 'updating', 'updates', 'updated', 'update', 'unzip', 'unprefixed', 'unprefix', 'unpkg', 'unopinionated', 'unobtrusiveness', 'unlink', 'unlike', 'units', 'unit', 'unique', 'uniform', 'unfinishedtodocount', 'unexpected', 'understanding', 'unconditionally', 'uncompressed', 'unavailable', 'unable', 'umd', 'ul', 'ui', 'ug32xx0o3l', 'typically', 'typescriptlang', 'typescript', 'types', 'typeerror', 'typed', 'type', 'ty', 'txt', 'twitter', 'twiliosms', 'twilioipm', 'tweet', 'tweak', 'tutorials', 'turning', 'turned', 'turn', 'tsconfig', 'truthy', 'true', 'trough', 'troubleshooting', 'triggers', 'trigger', 'tricks', 'treo', 'tree', 'treated', 'treasuredata', 'travis', 'transpiles', 'transpile', 'transpilation', 'translation', 'translate', 'transition', 'transformation', 'transform', 'tracked', 'track', 'trace', 'tower', 'touch', 'tos', 'tort', 'top', 'tootallnate', 'tooltips', 'tooltip', 'tools', 'toolkit', 'tooling', 'tool', 'tons', 'ton', 'tokei', 'toggles', 'toggled', 'toggle', 'todoview', 'todos', 'todolistview', 'todolist', 'todo', 'today', 'tmp', 'tldt', 'tldroid', 'tldr_viewer', 'tldr_elixir_client', 'tldr', 'tlcr', 'tl', 'tj', 'titles', 'title', 'tired', 'tiny', 'timing', 'timeseries', 'times', 'timer', 'timeouts', 'timeout', 'timeline', 'time', 'ticking', 'thunks', 'thunk', 'thumb', 'throwsasync', 'thrown', 'thrower', 'throw', 'throttling', 'threaded', 'thread', 'things', 'thing', 'themes', 'theme', 'thearegee', 'tether', 'tests', 'testing', 'test', 'terminology', 'terminal', 'templates', 'template', 'tempfile', 'temp', 'technically', 'technical', 'teams', 'team', 'tealdeer', 'tdlmbo_hzsbp8tmg', 'tc39', 'taylorhakes', 'tasks', 'targetting', 'target', 'tape', 'tap', 'taobao', 'talks', 'talking', 'talk', 'takes', 'takelatest', 'takeevery', 'tags', 'tagged', 'tag', 'tablewithnaturalsort', 'table', 'tabindex', 't7cujdu', 'systemjs', 'system', 'syntax', 'synchronous', 'sync', 'symbol', 'sylvainpolletvillard', 'swiper3', 'swiper2', 'swiper', 'svg', 'surprised', 'surfaced', 'surface', 'suppose', 'supports', 'supported', 'support', 'supplying', 'supply', 'superraytin', 'super', 'summary', 'suitable', 'suggest', 'success', 'subset', 'subsequent', 'subprocesses', 'submitted', 'submit', 'submission', 'sublime', 'sublicense', 'subject', 'subdomain', 'stylus', 'styles', 'stylelint', 'style', 'studio', 'structure', 'strong', 'strive', 'string', 'straightforward', 'straight', 'storing', 'stores', 'stored', 'store', 'storage', 'step', 'stdout', 'statustext', 'statuses', 'status', 'stats', 'statistics', 'statement', 'state', 'stashed', 'startup', 'starter', 'started', 'start', 'stars', 'star', 'standard', 'stand', 'stale', 'stage', 'stable', 'srsudar', 'src', 'squeeze', 'square', 'spying', 'spring', 'spreadsheets', 'spread', 'sponsors', 'sponsored', 'sponsor', 'spin', 'speedcurve', 'specification', 'special', 'spec', 'spawns', 'spacing', 'space', 'sources', 'sourcemaps', 'source', 'sotojuan', 'sorting', 'sorted', 'sortable', 'sonnylazuardi', 'somelibname', 'solve', 'solution', 'solo', 'software', 'social', 'snippets', 'snippetoptions', 'snippet', 'snapshots', 'snapshot', 'snap', 'smart', 'slowed', 'slow', 'slightly', 'slider', 'slashing', 'slack', 'skipping', 'skipped', 'skip', 'size', 'sites', 'site_request_forgery_', 'site', 'single', 'sindresorhus', 'simply', 'simplified', 'simplicity', 'simplest', 'simpler', 'simple', 'similarly', 'similar', 'signing', 'signal', 'sig', 'side', 'shown', 'show', 'shouldn', 'short', 'shoichikaji', 'shirts', 'ships', 'shipped', 'shields', 'sharpened', 'sharing', 'shared', 'share', 'shallowcompare', 'shallow', 'shakyshane', 'sh', 'sg', 'setup', 'settings', 'setting', 'settimeout', 'set', 'session', 'service', 'server', 'serial', 'sending', 'send', 'semver', 'semantically', 'selectortimings', 'selectors', 'selectorcounts', 'selector', 'selected', 'select', 'security', 'section', 'search', 'seal', 'scss', 'scrollsync', 'scripts', 'script', 'screenshots', 'screenshot', 'screencast', 'screen', 'scores', 'scientific', 'science', 'schematics', 'scenario', 'scan', 'scale', 'scalable', 'sboudrias', 'saves', 'saved', 'save', 'satisfied', 'sass', 'samverschueren', 'sagas', 'sagamiddleware', 'saga', 'safeeval', 'safe', 'safari_48x48', 'safari', 'sa', 'rycochet', 'rxjs', 'rusty', 'rust', 'runtime', 'runs', 'running', 'run', 'rules', 'rule', 'ruby', 'ru_ru', 'rs', 'root', 'room', 'rollup', 'robot', 'roadmap', 'rnpm', 'rmsportal', 'rilut', 'rights', 'rgba', 'review', 'reverselist', 'returns', 'returned', 'return', 'results', 'result', 'restriction', 'rest', 'responsibility', 'response', 'respond', 'resources', 'resource', 'resolves', 'resolve', 'resolution', 'resizable', 'res', 'requires', 'requirejs', 'required', 'require', 'requests', 'request', 'req', 'repro', 'repository', 'repos', 'reports', 'reporting', 'reporter', 'reported', 'report', 'repo', 'reply', 'replied', 'replaced', 'repeated', 'repeat', 'rendertimings', 'rendering', 'rendered', 'rendercounts', 'render', 'rems', 'removed', 'remove', 'remix', 'remind', 'remember', 'remains', 'relying', 'relies', 'reliable', 'releases', 'released', 'release', 'relations', 'related', 'reject', 'registry', 'register', 'regions', 'regex', 'regenerator', 'regenerated', 'refguide', 'referral', 'references', 'reference', 'refer', 'reduxsaga', 'redux', 'reduces', 'reducer', 'redis', 'redirection', 'redirect', 'redbubble', 'recursed', 'recordunmountevent', 'recordrenderstopevent', 'recordrenderstartevent', 'recordmountevent', 'recordit', 'recorder', 'recorded', 'recommended', 'recommend', 'recipes', 'recipe', 'receiving', 'received', 'receive', 'rebelmail', 'reassign', 'reason', 'realize', 'real', 'ready', 'reads', 'readme_ru', 'readme_ja', 'readme', 'reading', 'readfile', 'readable', 'read', 'reactive_programming', 'reactive', 'reactions', 'reaction', 'reacted', 'react', 'reached', 'rc', 'raylee', 'raw', 'ratio', 'ranges', 'rails', 'radius', 'rackt', 'quit', 'quickstart', 'quickest', 'quick', 'questions', 'queries', 'python', 'py', 'px', 'pwa', 'putting', 'put', 'pushing', 'push', 'purpose', 'pulls', 'pubsub', 'publish', 'publicly', 'public', 'pt_br', 'psibi', 'prs', 'proxy', 'proxies', 'providing', 'providers', 'providedtitle', 'provided', 'provide', 'props', 'proposals', 'proposal', 'property', 'properties', 'proper', 'proof', 'pronunciation', 'pronounced', 'prompted', 'promises', 'promise', 'projects', 'projectdir', 'project', 'progress', 'programming', 'programmer', 'programmatically', 'profiling', 'profile', 'production', 'product', 'producing', 'produce', 'processors', 'processes', 'processed', 'process', 'problem', 'prints', 'printing', 'printed', 'previous', 'prevented', 'prettier', 'preset', 'presented', 'presentation', 'present', 'prepared', 'prelink', 'prefixes', 'prefixer', 'prefixed', 'prefix', 'preferences', 'prefer', 'predictable', 'precompiling', 'precompiled', 'precedence', 'pre', 'pranavraja', 'practices', 'practice', 'pr', 'pp1', 'pp', 'powered', 'power', 'postlink', 'postinstall', 'postimg', 'postgres', 'postcssjs', 'postcss', 'position', 'port', 'porras', 'pops', 'poppers', 'popperjs', 'popper', 'popovers', 'polyfills', 'polyfill', 'points', 'point', 'png', 'pm', 'plugins', 'plugin', 'pluggable', 'plist', 'pld3jnfklds7wsehsal2cfwg0fex7a6aok', 'playlist', 'playground', 'platforms', 'plans', 'planning', 'plan', 'places', 'placements', 'placeholders', 'placeholder', 'place', 'pixel', 'pivotal', 'pitfalls', 'pipeline', 'pipe', 'pify', 'picture', 'picking', 'picker', 'pick', 'phrases', 'php', 'philosophy', 'pg', 'perl', 'performant', 'performance', 'perform', 'perfect', 'percentiles', 'percentage', 'pepa65', 'people', 'pending', 'peers', 'paypalobjects', 'paypal', 'payload', 'paused', 'paulirish', 'patterns', 'pattern', 'patreon', 'path', 'patch', 'paste', 'past', 'password', 'passing', 'passes', 'passed', 'pass', 'parts', 'part', 'parsing', 'parsejson', 'parse', 'params', 'parameters', 'parallelism', 'parallel', 'panel', 'pairs', 'pain', 'pages', 'pageres', 'page__nav', 'page__main', 'page__head', 'page__footer', 'page', 'padding', 'packagr', 'packages', 'packager', 'packageinstance', 'package', 'owasp', 'overriding', 'overrides', 'override', 'output', 'outdated', 'ots', 'ostera', 'osjsorg', 'os', 'originates', 'origin', 'org', 'order', 'orange', 'options', 'optionally', 'optional', 'option', 'opting', 'optimizer', 'optimized', 'optimization', 'opposite', 'opposed', 'opinionated', 'operations', 'operate', 'opera_48x48', 'opera', 'opensourcenorth', 'opened', 'open', 'opacity', 'onupdate', 'online', 'onepage', 'onenotedev', 'oncreate', 'onclick', 'on_spectrum', 'omit', 'older', 'official', 'offer', 'obvious', 'obtaining', 'observer', 'observables', 'observable', 'objects', 'object', 'obj', 'obama', 'nyvnqkrl69s', 'nyc', 'nutellinoit', 'number', 'null', 'nuget', 'npx', 'npmjs', 'npm', 'novemberborn', 'november', 'notthrowsasync', 'note', 'noryn6gotvo', 'normalized', 'normalize', 'normal', 'nope', 'nontrivial', 'nonthrower', 'noninfringement', 'nolimits4web', 'noise', 'nodejs', 'node_modules', 'node_env', 'node', 'nnmlddkpgoecicoallmimonoboialpap', 'nl', 'nilj0', 'nightlies', 'nice', 'ngtools', 'ng', 'news', 'neutrino', 'network', 'net', 'nestedtimeline', 'nested', 'neighborhood999', 'needed', 'ndmitry', 'nay', 'navigation', 'nav', 'natively', 'native', 'names', 'named', 'mz', 'mysaga', 'mweststrate', 'multigrid', 'multicolumnsorttable', 'mt', 'mskims', 'mscdex', 'mozilla', 'moz', 'moving', 'move', 'months', 'monorepo', 'mongodb', 'modules', 'module', 'modular', 'modifying', 'modify', 'modifiers', 'modifier', 'modified', 'moderate', 'models', 'model', 'mode', 'moddus', 'mocha', 'mobxjs', 'mobx4', 'mobx', 'mobservable', 'mobile', 'mo', 'mixed', 'mit', 'mistake', 'miss', 'mirrors', 'minus', 'minmax', 'minimize', 'minimal', 'minified', 'mini', 'mind', 'min', 'milliseconds', 'mikaeljorhult', 'migrating', 'middlewares', 'middleware', 'middleman', 'microsoftedge', 'microsoft', 'michel', 'mic', 'mflint', 'metrics', 'metric', 'methods', 'method', 'metadata', 'messages', 'message', 'mess', 'merged', 'merge', 'merchantability', 'menu', 'mentioned', 'mendix', 'members', 'melpa', 'meet', 'medium', 'medis', 'media', 'mechanisms', 'mechanism', 'measuring', 'meant', 'means', 'meaning', 'md', 'max', 'mathematical', 'math', 'matching', 'matches', 'matcher', 'matched', 'match', 'master', 'masonry', 'martians', 'margin', 'maplimit', 'map', 'manually', 'manner', 'manekinekko', 'management', 'managed', 'manage', 'man', 'making', 'makes', 'make', 'maintenance', 'maintain', 'main', 'magic', 'made', 'macros', 'macro', 'macos', 'machine', 'mac', 'm4a', 'lukehoban', 'luisrudge', 'luin', 'lts', 'ls', 'lpg', 'lower', 'low', 'love', 'lots', 'lot', 'lord63', 'loops', 'longer', 'long', 'logos', 'logornpm_final4', 'logo_readme', 'logo', 'logging', 'logged', 'log', 'lodin', 'lodash', 'location', 'locate', 'localization', 'loading', 'loader', 'load', 'll', 'listening', 'listeners', 'listen', 'list', 'linux', 'lint', 'links', 'linkingsucceeded', 'linking', 'linked', 'link', 'linear', 'line', 'limited', 'limitations', 'limitation', 'likewise', 'lighthouse', 'lifecycle', 'licenses', 'license', 'library', 'libraries', 'libhive', 'liberapay', 'lib', 'liable', 'liability', 'li', 'lh4u', 'leveraging', 'levels', 'level', 'letting', 'lessons', 'lengthy', 'leighmcculloch', 'leave', 'learned', 'learncode', 'learn', 'leak', 'lead', 'lckifpakia', 'lc', 'layer', 'launched', 'launch', 'latest', 'larger', 'large', 'lang', 'landscape', 'labs', 'labels', 'labeled', 'label', 'l9', 'l81', 'l7', 'kuanyui', 'korean', 'ko_kr', 'knockout', 'kirillseva', 'kinds', 'kindly', 'kind', 'keywords', 'keys', 'keyboard', 'key', 'kevva', 'kdpgvgumpgfqahpjicrk', 'kbd', 'k8dr8bmu7', 'justinribeiro', 'jspm', 'json', 'jsdom', 'jsdelivr', 'jsc', 'js', 'jquery', 'jpg', 'jpeg', 'joytocode', 'jonsuh', 'jonathantneal', 'join', 'joelbarbosa', 'jlhwung', 'jhz3aaqobk', 'jfmengels', 'jest', 'jenius', 'jekyll', 'jeffjewiss', 'javascriptcore', 'javascript', 'jamestalmage', 'ja_jp', 'j30k46l7xw', 'ixzpn44trr', 'ivdgtxspnwlojlhrpkf1nwezfl8', 'iterable', 'items', 'item_name', 'it_it', 'istanbul', 'issuestats', 'issues', 'issue', 'isolation', 'isolated', 'ish', 'iq0', 'ios', 'ioredis', 'io', 'involves', 'invoked', 'inverse', 'introduction', 'introduces', 'introduced', 'introduce', 'intro', 'intricacies', 'internally', 'interfaces', 'interface', 'interesting', 'interested', 'interacting', 'intentions', 'intentional', 'intended', 'integrations', 'integration', 'integrate', 'instructions', 'instanceof', 'instance', 'installing', 'installed', 'installation', 'installable', 'install', 'instability', 'inspired', 'insist', 'insights', 'inside', 'insert', 'ins', 'inquirer', 'input', 'innerhtml', 'inlined', 'injecting', 'initialized', 'ing', 'information', 'info', 'influence', 'infiniteloader', 'infinite', 'infer', 'indirection', 'indexing', 'index', 'increasing', 'including', 'includes', 'included', 'include', 'improved', 'improve', 'improper', 'imported', 'important', 'import', 'implied', 'implements', 'implemented', 'implementation', 'implement', 'imperative_programming', 'imgur', 'img', 'images', 'image', 'imac', 'im', 'ignoreunknownversions', 'ignore', 'iexplore', 'ie9', 'ie11', 'ie10', 'ides', 'identical', 'ideas', 'ideal', 'idea', 'idangero', 'id1071725095', 'id1063631769', 'id', 'iamvdo', 'hybrids', 'human', 'hug', 'hubspot', 'httparchive', 'http', 'html5accessibility', 'html', 'hterkelsen', 'hpe', 'howto', 'howdyai', 'howdy', 'hover', 'hostname', 'host', 'hooks', 'hook', 'home', 'hl', 'hit', 'hill', 'highly', 'highlighting', 'highlighted', 'higher', 'high', 'hidroh', 'hidden', 'hey', 'herokuapp', 'helpful', 'helpers', 'helped', 'height', 'heart', 'hears', 'heard', 'headers', 'header', 'head', 'haven', 'hard', 'happy', 'happened', 'happen', 'handling', 'handles', 'handler', 'handled', 'handle', 'handbook', 'hand', 'hamburgers', 'hamburger', 'hacks', 'hacking', 'h1', 'gzip', 'gulp', 'guise', 'guides', 'guideline', 'guide', 'gui', 'guesstimate', 'guess', 'gucong3000', 'guard', 'guaranteed', 'grunt', 'group', 'grids', 'grid', 'greenkeeper', 'green', 'greater', 'great', 'gray', 'gratipay', 'grateful', 'graphs', 'graph', 'granted', 'grandpa', 'gradients', 'gradient', 'grade', 'gpu', 'gpa', 'gotwarlost', 'googlechrome', 'google', 'godaddy', 'goal', 'gnode', 'glossary', 'globals', 'global_objects', 'global', 'glob', 'glitch', 'giving', 'give', 'gittip', 'gitter', 'githubusercontent', 'github', 'git', 'gif', 'gianasista', 'gh', 'gfx', 'getter', 'getstarted', 'getguesstimate', 'generators', 'generator', 'generated', 'generate', 'generally', 'general', 'gems', 'gemfile', 'gatherers', 'gap', 'gallery', 'ga', 'future', 'furnished', 'functions', 'functional', 'function', 'func', 'fun', 'fully', 'full', 'fs', 'fritz', 'friends', 'friendly', 'friend', 'frequently', 'freesuraj', 'freenode', 'free', 'framework', 'fragment', 'fr_fr', 'foundation', 'found', 'forward', 'formdata', 'form', 'forks', 'forking', 'fork', 'forget', 'foreachof', 'forceupdategrids', 'forceupdategrid', 'forcefully', 'force', 'forbidden_header_name', 'foot', 'foo', 'fonts', 'font', 'follow', 'folder', 'focused', 'focusable', 'focus', 'fn', 'fly', 'flux', 'flowtype', 'flow', 'flexibility', 'flexbugs', 'flexbox', 'flex', 'flavors', 'flat', 'flags', 'flag', 'fkd7hjknpt', 'fixes', 'fixed', 'fix', 'fitness', 'fit', 'firefox_48x48', 'firefox', 'fired', 'finished', 'fine', 'find', 'final', 'filter', 'files', 'filed', 'file', 'fields', 'field', 'ffd7be7bf628', 'ffb400', 'ff69b4', 'fezvrasta', 'fetchuser', 'fetchpolyfill', 'fetch', 'features', 'featured', 'feature', 'fc4e', 'fbos', 'fastlane', 'faster', 'fast', 'faq', 'family', 'familiarize', 'familiar', 'falsy', 'false', 'failwithoutassertions', 'failure', 'fails', 'failing', 'fail', 'fact', 'facebook', 'eyes', 'externalresources', 'external', 'extensions', 'extension', 'extended', 'expressjs', 'express', 'exports', 'exported', 'export', 'exploring', 'explicitly', 'explanations', 'explanation', 'experiments', 'experience', 'expected', 'expanded', 'exits', 'execution', 'executed', 'execute', 'executable', 'excluded', 'exclude', 'excel', 'examples', 'example_audit', 'ex7oladjt', 'evil', 'events', 'event', 'eval', 'establish', 'esnext', 'esm', 'eslint', 'es_es', 'es6', 'es5', 'es2015', 'es', 'errors', 'error', 'errinvalidproj', 'err', 'equivalent', 'epub', 'environment', 'env', 'entry', 'entries', 'enterprise', 'ensure', 'english', 'engine', 'endpoint', 'ending', 'end', 'encourage', 'encountered', 'encounter', 'enables', 'enabled', 'enable', 'en_us', 'en', 'ems', 'emphatic', 'emilebres', 'ember', 'emazzotta', 'elements', 'element', 'elegant', 'electron_48x48', 'electron', 'elastic', 'ejs', 'efficient', 'effects', 'effect', 'ef1589d7063f', 'editing', 'edit', 'edgurgel', 'edge_48x48', 'edge', 'ecmascript', 'ebidel', 'easy', 'easiest', 'easier', 'ease', 'early', 'e8', 'e7v91mu2m5x48ehx', 'e79e', 'e7', 'e6', 'e5', 'dwres', 'duration', 'due', 'dt', 'drop', 'drive', 'draios', 'dragging', 'drag', 'dq', 'downs', 'downloads', 'download', 'dougwilson', 'dont_trip_up_with_vendor_prefixes', 'donation', 'donate', 'don', 'domains', 'domain', 'dom', 'doiuse', 'doesn', 'documentation', 'document', 'docs', 'docker', 'dm', 'dive', 'div', 'distributions', 'distribution', 'distribute', 'dist', 'displaying', 'displayed', 'display', 'dispatcher', 'dispatched', 'dispatch', 'disk', 'discussion', 'discuss', 'discover', 'disabled', 'disable', 'disabilities', 'directory', 'directories', 'directly', 'diogofcunha', 'dig', 'difference', 'diff', 'didn', 'devtools', 'devkit', 'devices', 'device', 'devhub', 'development', 'developers', 'developer', 'developed', 'develop', 'devdeps', 'devdependencies', 'dev', 'determine', 'detection', 'detected', 'detect', 'details', 'detail', 'destroy', 'destination', 'desired', 'designed', 'design', 'description', 'describe', 'derived', 'derive', 'derivations', 'derivation', 'depth', 'deps', 'deploy', 'depends', 'depending', 'dependents', 'dependency', 'dependencies', 'depended', 'depend', 'depdendency', 'demonstrated', 'demand', 'delegation', 'defining', 'defined', 'define', 'defaults', 'default', 'decorators', 'decorator', 'decorate', 'declared', 'declare', 'declarations', 'debugging', 'debug', 'deals', 'dealings', 'deal', 'de', 'dbrgn', 'david', 'datepicker', 'date', 'database', 'data', 'dash', 'damages', 'd460fxti0f', 'cz', 'customizingstyles', 'customize', 'customization', 'customizable', 'custom', 'current', 'currency_code', 'cumbersome', 'cult', 'cssnext', 'cssnano', 'css', 'csrf', 'cs1707', 'crucial', 'cross', 'credits', 'credentials', 'creator', 'creation', 'creatinganinfiniteloadinglist', 'creating', 'createstore', 'created', 'create', 'crawl', 'craving', 'crash', 'cpu', 'cpp', 'covert', 'covered', 'coveralls', 'coverage', 'courses', 'couple', 'counted', 'count', 'cors', 'correct', 'corner', 'coreh', 'core', 'copyright', 'copy', 'copies', 'coordinate', 'cookies', 'cookie', 'cook', 'converted', 'convert', 'convention', 'controls', 'controller', 'control', 'contributors', 'contributions', 'contributing', 'contribute', 'contrast', 'contrary', 'contract', 'continue', 'context', 'contents', 'content', 'constructor', 'constitutes', 'constants', 'const', 'consolidate', 'console', 'consistent', 'considered', 'connection', 'connecting', 'connect', 'conflict', 'configured', 'configure', 'configuration', 'configs', 'config', 'conditions', 'concurrent', 'concurrency', 'concordancejs', 'concordance', 'concise', 'concerned', 'concepts', 'concept', 'computes', 'computer', 'computed', 'compute', 'computations', 'compression', 'comprehensive', 'componentwillupdate', 'componentwillunmount', 'componentwillmount', 'components', 'componentdidupdate', 'component', 'complicated', 'compliant', 'complex', 'completion', 'completing', 'complete', 'compiler', 'compileenhancements', 'compiled', 'compile', 'compatible', 'compatibility', 'compat', 'compass', 'comparison', 'comparing', 'compared', 'compare', 'companies', 'community', 'commune', 'commonjs', 'common', 'committed', 'commitizen', 'commit', 'comment', 'commands', 'commander', 'command', 'comma', 'combined', 'combinations', 'columnsizer', 'column', 'color', 'collections', 'collection', 'collapse', 'coinbase', 'codesandbox', 'codemods', 'codecov', 'code_style', 'code', 'codacy', 'cocoapods', 'cmd', 'cloudup', 'closed', 'clone', 'clients', 'client', 'clicking', 'clicked', 'click', 'cli', 'clean', 'clauderic', 'classfellow', 'classes', 'class', 'claim', 'ciscospark', 'ciscojabber', 'circleci', 'ci', 'chromium', 'chrome_path', 'chrome_48x48', 'chrome', 'chrisallenlane', 'choose', 'choices', 'choice', 'chinese', 'child', 'checkstatus', 'check', 'cheat', 'chat', 'charge', 'character', 'channel', 'changing', 'changelog', 'changed', 'change', 'chance', 'challenges', 'chain', 'cgi', 'cells', 'cellmeasurer', 'cdns', 'cdnjs', 'cdn', 'cc', 'cb', 'causality', 'cats', 'category', 'categorical', 'catched', 'catch', 'cases', 'case', 'cascade', 'care', 'capture', 'capable', 'caolan', 'canonical', 'caniuse', 'cancelled', 'calling', 'called', 'callbacks', 'callback', 'call', 'calibre', 'calculations', 'calculation', 'calculate', 'caching', 'cached', 'bvaughn', 'buy', 'button', 'business', 'built', 'buildtools', 'buildscripts', 'builds', 'building', 'build_webpack', 'build_optimizer', 'build_ng_packagr', 'build_dev', 'build_connector', 'build_angular', 'build', 'bugs', 'bug', 'btn_donatecc_lg', 'btn', 'bs', 'brunch', 'browsersync', 'browserslist', 'browsers', 'browserify', 'browser', 'browse', 'brought', 'brotli', 'broccoli', 'bring', 'brightgreen', 'bridge', 'brevity', 'breaking', 'break', 'branches', 'branch', 'brainmaestro', 'brackets', 'br', 'boyney123', 'box', 'bower', 'bound', 'bots', 'botkit', 'botframework', 'bot', 'boring', 'border', 'bootstrap', 'boom', 'boolean', 'books', 'book', 'boils', 'boilerplates', 'body', 'bn', 'blogs', 'blocksize', 'blocking', 'block', 'blob', 'blipmdconlkpinefehnmjammfjpmpbjk', 'blakeembrey', 'bl', 'bit', 'binaries', 'bin', 'bigquery', 'big', 'bhp', 'beta', 'benefit', 'beneficial', 'belong', 'believed', 'behavior', 'behaves', 'begins', 'beginnertutorial', 'beforeeach', 'beautiful', 'beaconed', 'bd', 'bcoe', 'bc', 'baz', 'basics', 'basically', 'basic', 'bash', 'based', 'bar', 'badges', 'badge_grade', 'badge', 'backport', 'background', 'backers', 'backer', 'backed', 'back', 'babel', 'b8', 'b5', 'b1', 'ay', 'aws40kox90u', 'awesome', 'awaited', 'await', 'avoided', 'avoid', 'avatar', 'avajs', 'ava__js', 'ava', 'autosizer', 'autorun', 'autoprefixer', 'autoprefix', 'automatization', 'automatically', 'authors', 'authoring', 'author', 'authentication', 'audits', 'auditing', 'audit', 'attribute', 'attempts', 'attaching', 'atom', 'atlassian', 'atlaskit', 'asynchronous', 'async', 'assign', 'assets', 'assertions', 'assertion', 'assert', 'art', 'arrowturn', 'arrowkeystepper', 'arrowalt', 'arrow', 'arrays', 'array', 'arising', 'aria', 'arguments', 'argument', 'args', 'aren', 'area', 'archive', 'architecture', 'architect', 'appveyor', 'apps', 'approach', 'applystyles', 'applystyle', 'applyreactstyle', 'applymiddleware', 'apply', 'applies', 'applied', 'application', 'applicable', 'apple', 'apphub', 'append', 'appearance', 'app', 'apmssu3qnf0', 'apis', 'api', 'antd', 'ant', 'answer', 'annotating', 'animations', 'animated', 'angularjs', 'angular_devkit', 'angular', 'android', 'andreasonny83', 'andreascn', 'andersevenrud', 'anatomy', 'analyzing', 'analyze', 'analysis', 'amp', 'amount', 'amd', 'altoghether', 'alternatively', 'alternative', 'alter', 'alrra', 'allowing', 'allowed', 'alipayobjects', 'alias', 'algolia', 'alfred', 'alfmdwaaqbaj', 'aims', 'aimed', 'aim', 'ai', 'ahead', 'aggregate', 'aftereach', 'affecting', 'affect', 'ae', 'advisable', 'advantage', 'advanced', 'adjust', 'adjacent', 'addyosmani', 'addition', 'adding', 'added', 'add', 'actual', 'acts', 'activities', 'actively', 'active', 'actions', 'actioncounts', 'action', 'achieved', 'achieve', 'account', 'accomplished', 'accessing', 'accessible', 'accessibility', 'accessed', 'access_control_cors', 'access', 'accepts', 'ac', 'abortsignal', 'aborting', 'abortcontroller', 'abortable', 'ability', 'aa1bac299dd0', 'a8', 'a7', '9f91', '9df04cb6', '9c', '99', '97f3', '962647f8', '92ce', '92', '9129', '91', '903e', '9000', '900', '90', '8m', '8f', '8de3', '8c', '8b', '89', '88a95d146a75', '88', '84', '83be', '83', '81', '8001', '80', '7c9e7c86e0c6ead141bb0539d33143d0e1f576dd', '732', '6px', '6833f9', '67', '663be15acb3dd2eb0f71b1956ef28c2cd3fdeed0', '640x360', '635902', '6002', '60', '5px', '5ms', '5ed9c7', '59cb', '5983843', '59', '58', '57', '56', '55', '54557dc319b04e92e31cb87427bef194ec1c549c', '54', '5368888', '53', '5224894a7cca', '52', '512', '51', '500', '50', '4x', '4px', '4ef7d128', '4d63', '49', '485645', '484499', '48', '47073b5b58aa6f3fb24f98757be5d3f56218d160', '47', '46', '45000', '45', '44', '43', '42m', '42', '412', '41', '40px', '40m', '40gmail', '40556658', '40', '3dy', '3dxy', '3dx', '3bbase64', '3anonhosted', '3aimage', '3abtn_donate_sm', '3a', '39191', '39', '38', '37311298', '37', '36', '35', '34', '33px', '33', '32', '31', '30330590', '3000x3000', '3000', '300', '30', '2x', '2px', '2m', '2fwebpack', '2fupdate', '2fsvg', '2fschematics', '2fr', '2fpwa', '2fcore', '2fcli', '2fbuild', '2farchitect', '2fangular', '2egif', '2ecom', '2dsync', '2dppx', '2ddonationsbf', '2cphn2zybpzd0itgl2zwxsb18xiibkyxrhlw5hbwu9ikxpdmvsbg8gmsigeg1sbnm9imh0dha6ly93d3cudzmub3jnlziwmdavc3zniib2awv3qm94psiwidagmtagoci', '2bxml', '2bphn0ewxlpi5jbhmtmxtmawxsoinmzmy7ftwvc3r5bgu', '2bphbhdgggy2xhc3m9imnscy0xiibkpsjnnswwqy40miwwldasljyzldasmy4zngmwldeuodqumtksmi43miwxljc0ldmumwgwvjcunthhljq0ljq0ldasmcwwlc42oc4znuw0ljm1ldyunjlinwm0lju4ldasns0unjmsns0zljm1uzkuntgsmcw1ldbattiuodmsnc4xogeunjmunjmsmcwxldesljy1ls42m0eunjqunjqsmcwwldesmi44myw0lje4wk01ldqumthhljyzljyzldasmswxlc42ns0unjnbljy0ljy0ldasmcwxldusnc4xofptmi4xnywwys42my42mywwldesmswunjutljyzqs42nc42ncwwldasmsw3lje3ldqumthaii8', '2bpgrlznm', '2bpc9zdmc', '2bpc9kzwzzpjx0axrszt5zcgvjdhj1btwvdgl0bgu', '2b', '2978551', '29597', '29', '28', '27', '261d', '26', '25', '2464966', '24', '23f662f6', '2301202', '23', '22478294', '22', '214067', '2109932', '21', '20your', '20with', '20weststrate', '20the', '20supercharge', '20state', '20start', '20react', '20quick', '20px', '20mobx', '20in', '20guide', '20client', '20chat', '20apps', '2017', '2000', '20', '1s', '1fr', '1dri6hc2xiptlbkfnh8yczocpxqtoacicdesdyvfg_be', '1c3a711a', '19', '18', '17391516', '17', '16', '15s', '15px', '15', '1462115295', '14333364', '14', '13', '12m', '127', '1234', '12', '11e8', '11e6', '11e5', '11737732', '113399210633478618934', '11', '10s', '1050222', '100px', '100', '10', '0ca1e55e', '098f2f8ed866', '09', '0800', '000']\n"
          ],
          "name": "stdout"
        },
        {
          "output_type": "execute_result",
          "data": {
            "text/plain": [
              "2483"
            ]
          },
          "metadata": {
            "tags": []
          },
          "execution_count": 13
        }
      ]
    },
    {
      "metadata": {
        "id": "zsXDPcu4axp7",
        "colab_type": "code",
        "colab": {
          "base_uri": "https://localhost:8080/",
          "height": 54
        },
        "outputId": "3c1ad0ab-b834-4149-b4e7-6cbd69ac9a61"
      },
      "cell_type": "code",
      "source": [
        "### Perform keyword extraction for individual reademe files and\n",
        "### remove keywords that are not in the target input_nodes\n",
        "readme_keywords_array = []\n",
        "for readme_entry in readme_array:\n",
        "  raked_entry = rake.extract_keywords_from_text(readme_entry[\"content\"])\n",
        "  ranked_phrases = rake.get_ranked_phrases()\n",
        "  # Filter keywords\n",
        "  ranked_phrases = list(filter(lambda x: x in input_nodes,ranked_phrases))\n",
        "  # Build keywords object\n",
        "  keywords = {}\n",
        "  keywords[\"reponame\"] = readme_entry[\"reponame\"]\n",
        "  keywords[\"keywords\"] = ranked_phrases\n",
        "  readme_keywords_array.append(keywords)\n",
        "print(readme_keywords_array)"
      ],
      "execution_count": 14,
      "outputs": [
        {
          "output_type": "stream",
          "text": [
            "[{'reponame': 'angular/angular-cli', 'keywords': ['webpack', 'version', 'updating', 'update', 'type', 'tools', 'today', 'templates', 'tasks', 'svg', 'style', 'status', 'stars', 'social', 'shields', 'set', 'scripts', 'schematics', 'result', 'remove', 'release', 'readme', 'read', 'pwa', 'provide', 'project', 'perform', 'packagr', 'packages', 'package', 'org', 'optimizer', 'npm', 'ngtools', 'ng', 'monorepo', 'md', 'master', 'manage', 'links', 'link', 'license', 'libraries', 'latest', 'label', 'io', 'interfaces', 'important', 'im', 'ides', 'home', 'goal', 'github', 'gh', 'forks', 'fork', 'find', 'file', 'failure', 'extension', 'ejs', 'dm', 'devkit', 'develop', 'dev', 'deploy', 'core', 'contributing', 'content', 'code', 'cli', 'circleci', 'ci', 'change', 'builds', 'build_webpack', 'build_optimizer', 'build_ng_packagr', 'build_angular', 'build', 'blob', 'badge', 'architect', 'angular_devkit', 'angular', 'analyze', 'add', '2fwebpack', '2fupdate', '2fschematics', '2fpwa', '2fcore', '2fcli', '2fbuild', '2farchitect', '2fangular']}, {'reponame': 'tj/co', 'keywords': ['yielded', 'yieldables', 'yieldable', 'yield', 'write', 'wrap', 'wiki', 'web', 'visionmedia', 'view', 'versions', 'val', 'v4', 'utm_source', 'utm_medium', 'utm_content', 'utm_campaign', 'url', 'travis', 'tootallnate', 'tj', 'thunks', 'throw', 'svg', 'supported', 'style', 'square', 'spec', 'shields', 'returns', 'returned', 'resolves', 'resolve', 'removed', 'remains', 'relies', 'released', 'reject', 'reference', 'read', 'promises', 'promise', 'pr', 'polyfills', 'polyfill', 'pass', 'parallel', 'package', 'org', 'objects', 'npm', 'normalize', 'nodejs', 'node', 'nice', 'nested', 'mz', 'mozilla', 'moving', 'meaning', 'lukehoban', 'lower', 'log', 'library', 'libraries', 'letting', 'join', 'javascript', 'ish', 'io', 'invoked', 'ing', 'include', 'implementation', 'im', 'gnode', 'global_objects', 'gitter', 'github', 'generators', 'generator', 'generally', 'functions', 'function', 'flat', 'flags', 'flag', 'errors', 'error', 'err', 'en', 'ecmascript', 'downloads', 'docs', 'dm', 'delegation', 'coveralls', 'convert', 'console', 'compliant', 'ci', 'catched', 'catch', 'called', 'callback', 'browsers', 'browser', 'box', 'boom', 'badge', 'avoided', 'async', 'arrays', 'array', 'access', '20chat', '11', '10']}, {'reponame': 'jonsuh/hamburgers', 'keywords': ['zip', 'withgoogle', 'width', 'web', 'vortex', 'voila', 'values', 'users', 'unzip', 'units', 'unit', 'types', 'type', 'tweak', 'true', 'trigger', 'transition', 'toggles', 'toggled', 'toggle', 'timing', 'tabindex', 't7cujdu', 'supported', 'support', 'structure', 'stand', 'squeeze', 'spring', 'spin', 'spacing', 'source', 'slider', 'site', 'settings', 'set', 'search', 'scss', 'satisfied', 'sass', 'run', 'ruby', 'rest', 'rems', 'remove', 'realize', 'rails', 'radius', 'px', 'project', 'postcss', 'plan', 'pivotal', 'people', 'path', 'padding', 'package', 'org', 'opened', 'opacity', 'older', 'obvious', 'npmjs', 'note', 'navigation', 'nav', 'mozilla', 'modular', 'minus', 'menu', 'math', 'master', 'make', 'locate', 'list', 'linear', 'library', 'leave', 'layer', 'labs', 'label', 'keyboard', 'kbd', 'jonsuh', 'javascript', 'io', 'insist', 'information', 'included', 'include', 'import', 'implementation', 'imgur', 'ie9', 'html5accessibility', 'hover', 'height', 'hamburgers', 'hamburger', 'github', 'gif', 'gems', 'gemfile', 'function', 'found', 'focusable', 'filter', 'files', 'file', 'false', 'fail', 'expanded', 'excluded', 'en', 'ems', 'emphatic', 'elastic', 'duration', 'dom', 'docs', 'dist', 'disabilities', 'directory', 'dig', 'default', 'declare', 'declarations', 'customize', 'customization', 'customizable', 'css', 'create', 'craving', 'copy', 'cook', 'context', 'contents', 'content', 'consistent', 'compile', 'comment', 'color', 'collection', 'collapse', 'closed', 'classes', 'class', 'choose', 'choice', 'check', 'change', 'caniuse', 'browsers', 'break', 'boring', 'border', 'blob', 'autoprefixer', 'attribute', 'attempts', 'arrowturn', 'arrowalt', 'arrow', 'aria', 'archive', 'append', 'animations', 'add', 'active', 'account', 'accessible', 'accessibility', '6px', '4px', '40px', '3dy', '3dxy', '3dx', '20px', '15s', '15px', '000']}, {'reponame': 'rnpm/rnpm', 'keywords': ['xcodeproj', 'xcode', 'write', 'wow', 'worry', 'works', 'working', 'work', 'warranty', 'warranties', 'variable', 'val', 'users', 'user', 'update', 'unlink', 'tort', 'tools', 'tooling', 'tool', 'tj', 'tired', 'time', 'things', 'svg', 'supported', 'supplying', 'suggest', 'sublicense', 'subject', 'straight', 'src', 'sponsored', 'special', 'sonnylazuardi', 'somelibname', 'solve', 'software', 'skipped', 'shields', 'sharpened', 'send', 'semver', 'section', 'seal', 'script', 'scenario', 'sboudrias', 'running', 'run', 'rnpm', 'rights', 'review', 'restriction', 'resources', 'require', 'repository', 'repo', 'registry', 'reference', 'receive', 'reason', 'reading', 'read', 'react', 'purpose', 'publish', 'prs', 'provided', 'provide', 'projects', 'project', 'progress', 'process', 'previous', 'presented', 'present', 'prelink', 'pre', 'postlink', 'postinstall', 'postimg', 'png', 'plugins', 'plugin', 'pluggable', 'plist', 'perfect', 'pass', 'part', 'parsing', 'parse', 'params', 'parameters', 'packages', 'packageinstance', 'package', 'org', 'order', 'options', 'optional', 'option', 'open', 'object', 'obama', 'npm', 'november', 'normal', 'noninfringement', 'native', 'names', 'months', 'modules', 'modify', 'mode', 'mit', 'mistake', 'mic', 'merged', 'merge', 'merchantability', 'means', 'master', 'manually', 'making', 'make', 'maintenance', 'made', 'love', 'logornpm_final4', 'll', 'list', 'links', 'linkingsucceeded', 'linking', 'linked', 'link', 'limited', 'limitation', 'liable', 'liability', 'l81', 'kindly', 'kind', 'json', 'js', 'issues', 'issue', 'ios', 'io', 'interface', 'interested', 'integrate', 'instance', 'installed', 'install', 'inspired', 'inside', 'inquirer', 'information', 'index', 'including', 'included', 'include', 'improve', 'important', 'implied', 'hooks', 'hook', 'hey', 'helped', 'heart', 'guides', 'group', 'great', 'granted', 'gpa', 'giving', 'githubusercontent', 'github', 'gif', 'gh', 'gallery', 'furnished', 'function', 'func', 'fun', 'friend', 'free', 'fonts', 'flags', 'fitness', 'filed', 'file', 'fields', 'field', 'fc4e', 'fastlane', 'fast', 'fails', 'fact', 'facebook', 'express', 'exports', 'exported', 'ex7oladjt', 'event', 'errinvalidproj', 'equivalent', 'ensure', 'end', 'easy', 'ease', 'drop', 'don', 'doesn', 'documentation', 'docs', 'distribute', 'displayed', 'developer', 'dev', 'details', 'description', 'dependency', 'dependencies', 'depdendency', 'defined', 'define', 'default', 'dealings', 'deal', 'david', 'damages', 'custom', 'coverage', 'coreh', 'core', 'copyright', 'copy', 'copies', 'convention', 'contributors', 'contract', 'connection', 'configuration', 'config', 'conditions', 'concept', 'complicated', 'companies', 'commands', 'commander', 'command', 'cocoapods', 'cli', 'claim', 'circleci', 'check', 'charge', 'cdn', 'cc', 'case', 'build', 'bring', 'bridge', 'blob', 'big', 'belong', 'badges', 'back', 'automatically', 'authors', 'authoring', 'async', 'assets', 'array', 'arising', 'argument', 'args', 'approach', 'apphub', 'answer', 'android', 'aims', 'aimed', 'aim', 'add', 'acts', 'action', 'accepts', '9df04cb6', '92ce', '9000', '88a95d146a75', '640x360', '2464966', '17', '16', '1462115295', '14333364', '11e5']}, {'reponame': 'getguesstimate/guesstimate-app', 'keywords': ['work', 'window', 'wikipedia', 'wiki', 'website', 'ways', 'view', 'variable', 'values', 'users', 'useable', 'uniform', 'ui', 'ug32xx0o3l', 'type', 'turned', 'tracked', 'track', 'tool', 'tiny', 'timeseries', 'times', 'timeline', 'things', 'system', 'symbol', 'subset', 'stores', 'stored', 'statistics', 'start', 'site', 'single', 'simple', 'similarly', 'similar', 'show', 'shared', 'share', 'setup', 'set', 'selectortimings', 'selectors', 'selectorcounts', 'selector', 'selected', 'security', 'search', 'scientific', 'saved', 'save', 'running', 'run', 'return', 'repo', 'rendertimings', 'rendering', 'rendered', 'rendercounts', 'render', 'reference', 'recordunmountevent', 'recordrenderstopevent', 'recordrenderstartevent', 'recordmountevent', 'recordit', 'recorder', 'recorded', 'recommend', 'reason', 'ranges', 'rails', 'putting', 'put', 'public', 'production', 'processed', 'prints', 'practice', 'postgres', 'picture', 'percentiles', 'output', 'org', 'option', 'opposed', 'operations', 'object', 'note', 'normal', 'node', 'nestedtimeline', 'nested', 'moderate', 'models', 'model', 'metrics', 'metric', 'means', 'mathematical', 'math', 'making', 'makes', 'make', 'made', 'long', 'log', 'line', 'limited', 'lifecycle', 'lckifpakia', 'larger', 'labeled', 'json', 'jhz3aaqobk', 'ixzpn44trr', 'involves', 'interesting', 'installed', 'insert', 'input', 'information', 'indexing', 'improved', 'important', 'html', 'hidden', 'happy', 'hand', 'guesstimate', 'guess', 'github', 'git', 'gif', 'getguesstimate', 'general', 'future', 'functions', 'function', 'free', 'fkd7hjknpt', 'execution', 'excel', 'events', 'errors', 'entry', 'edit', 'don', 'docs', 'distributions', 'distribution', 'dispatched', 'development', 'dev', 'detail', 'description', 'depends', 'default', 'debugging', 'data', 'creator', 'converted', 'controls', 'constants', 'computer', 'componentwillupdate', 'componentwillunmount', 'componentwillmount', 'componentdidupdate', 'component', 'compared', 'collections', 'collection', 'click', 'chrome', 'child', 'character', 'changed', 'cells', 'cats', 'categorical', 'called', 'calculations', 'calculation', 'build_dev', 'bit', 'basic', 'background', 'authentication', 'app', 'api', 'allowed', 'algolia', 'added', 'actions', 'actioncounts', 'accessible', '90', '35', '25']}, {'reponame': 'BrowserSync/browser-sync', 'keywords': ['work', 'windows', 'webscr', 'wearejh', 'visit', 'urls', 'twitter', 'travis', 'sync', 'svg', 'support', 'style', 'storing', 'square', 'snippetoptions', 'snippet', 'size', 'shields', 'shakyshane', 'send', 'recipes', 'public', 'providing', 'provide', 'project', 'present', 'png', 'paypal', 'package', 'org', 'order', 'options', 'npmjs', 'npm', 'news', 'master', 'logo', 'log', 'linux', 'lc', 'label', 'item_name', 'io', 'internally', 'injecting', 'info', 'img', 'herokuapp', 'haven', 'gittip', 'githubusercontent', 'github', 'gh', 'flat', 'err', 'donation', 'docs', 'dm', 'devices', 'developed', 'devdeps', 'devdependencies', 'dev', 'deps', 'david', 'contribute', 'console', 'cmd', 'ci', 'cgi', 'business', 'bs', 'browsersync', 'browser', 'breaking', 'bin', 'badges', 'badge', 'appveyor', 'alternatively', 'accessed', 'access', '40gmail', '2ecom', '2dsync']}, {'reponame': 'bvaughn/react-virtualized', 'keywords': ['windowscroller', 'windowing', 'website', 'ways', 'virtualized', 'virtualization', 'usingautosizer', 'user', 'updated', 'umd', 'turn', 'true', 'trigger', 'tree', 'treasuredata', 'tracked', 'touch', 'top', 'timeline', 'themes', 'tablewithnaturalsort', 'table', 'syntax', 'svg', 'supported', 'support', 'styles', 'style', 'state', 'start', 'sponsors', 'sponsor', 'sorting', 'sorted', 'sortable', 'solution', 'side', 'show', 'shields', 'shallowcompare', 'shallow', 'sh', 'scrollsync', 'reverselist', 'resizable', 'require', 'requests', 'report', 'rendering', 'rendered', 'render', 'recipe', 'ready', 'readme', 'react', 'props', 'properties', 'project', 'position', 'png', 'playground', 'places', 'picker', 'performant', 'pass', 'package', 'org', 'order', 'options', 'optional', 'optimization', 'offer', 'npmjs', 'npm', 'multigrid', 'multicolumnsorttable', 'minimal', 'method', 'menu', 'means', 'md', 'master', 'masonry', 'managed', 'lot', 'lodin', 'localization', 'll', 'list', 'learn', 'js', 'join', 'j30k46l7xw', 'items', 'issues', 'ios', 'io', 'interacting', 'instructions', 'install', 'infiniteloader', 'infinite', 'increasing', 'import', 'images', 'html', 'hpe', 'hover', 'guides', 'grid', 'global', 'githubusercontent', 'github', 'gh', 'functional', 'full', 'fritz', 'friendly', 'forking', 'forceupdategrids', 'forceupdategrid', 'forcefully', 'flat', 'find', 'file', 'external', 'examples', 'es', 'ensure', 'emilebres', 'elements', 'elegant', 'effect', 'ef1589d7063f', 'edit', 'easiest', 'dt', 'drop', 'drag', 'docs', 'dm', 'distribution', 'dist', 'displaying', 'diogofcunha', 'devhub', 'detected', 'detect', 'dependencies', 'defined', 'default', 'declared', 'deals', 'data', 'customizingstyles', 'cumbersome', 'css', 'creatinganinfiniteloadinglist', 'creating', 'couple', 'contributing', 'configure', 'config', 'concerned', 'components', 'component', 'compare', 'commonjs', 'columnsizer', 'column', 'collection', 'codecov', 'clauderic', 'circleci', 'check', 'chat', 'changelog', 'changed', 'change', 'cellmeasurer', 'capable', 'canonical', 'bvaughn', 'browser', 'blob', 'bhp', 'badge', 'backers', 'backer', 'avoid', 'avatar', 'autosizer', 'assets', 'arrowkeystepper', 'array', 'aren', 'application', 'api', 'animated', 'android', 'alias', 'aims', 'actively', 'aa1bac299dd0', '9f91', '97f3', '962647f8', '9129', '83be', '59cb', '5983843', '37311298', '29597', '29', '28', '27', '261d', '26', '25', '24', '23', '22', '21', '20', '1c3a711a', '19', '18', '17391516', '17', '16', '15', '14', '13', '12', '11e8', '11e6', '11e5', '11737732', '11', '10', '0ca1e55e', '098f2f8ed866']}, {'reponame': 'GoogleChrome/lighthouse', 'keywords': ['youtube', 'yarn', 'write', 'wpo', 'working', 'webstore', 'website', 'webpagetest', 'webpack', 'web', 'watch', 'warning', 'warn', 'wait', 'voorhoede', 'visualization', 'visiting', 'viewer', 'view', 'vi', 'uvk9zassm8q', 'users', 'url', 'unit', 'tweet', 'turn', 'treo', 'travis', 'trace', 'tower', 'top', 'tools', 'tool', 'timeout', 'time', 'throttling', 'thearegee', 'tests', 'testing', 'test', 'terminology', 'teams', 'surfaced', 'surface', 'summary', 'subset', 'subsequent', 'string', 'stores', 'storage', 'step', 'stdout', 'stashed', 'started', 'stable', 'speedcurve', 'space', 'solo', 'slowed', 'slack', 'size', 'sites', 'site', 'signing', 'show', 'ships', 'shields', 'shared', 'sh', 'set', 'session', 'service', 'sending', 'send', 'select', 'security', 'screenshots', 'scores', 'saves', 'save', 'runs', 'running', 'run', 'results', 'requests', 'request', 'reports', 'reporting', 'report', 'repo', 'regions', 'recipes', 'readme', 'read', 'quickstart', 'publicly', 'prompted', 'project', 'progress', 'programmatically', 'produce', 'processed', 'prefer', 'practices', 'port', 'point', 'png', 'plans', 'performance', 'paulirish', 'path', 'pass', 'panel', 'pairs', 'page', 'package', 'overriding', 'output', 'org', 'options', 'opting', 'opposite', 'open', 'number', 'npmjs', 'npm', 'note', 'noryn6gotvo', 'nope', 'node', 'nightlies', 'network', 'mode', 'mocha', 'mobile', 'mixed', 'milliseconds', 'metrics', 'method', 'message', 'measuring', 'md', 'master', 'manekinekko', 'making', 'make', 'magic', 'machine', 'love', 'logging', 'loading', 'load', 'll', 'list', 'lint', 'line', 'lighthouse', 'lifecycle', 'lh4u', 'learn', 'lead', 'launched', 'latest', 'lang', 'justinribeiro', 'json', 'js', 'joytocode', 'issue', 'io', 'interested', 'integrations', 'installed', 'install', 'instability', 'insights', 'information', 'info', 'images', 'httparchive', 'http', 'html', 'hostname', 'hit', 'helpful', 'hacking', 'gulp', 'guide', 'great', 'gpu', 'googlechrome', 'google', 'godaddy', 'githubusercontent', 'github', 'generate', 'gatherers', 'ga', 'foundation', 'foo', 'flags', 'file', 'ffd7be7bf628', 'featured', 'extension', 'extended', 'export', 'exploring', 'experiments', 'exits', 'executable', 'examples', 'example_audit', 'errors', 'error', 'enabled', 'enable', 'emazzotta', 'ebidel', 'e79e', 'dragging', 'documentation', 'docs', 'docker', 'disk', 'disable', 'devtools', 'devices', 'device', 'developers', 'developer', 'detect', 'details', 'detail', 'desired', 'demand', 'default', 'debugging', 'date', 'custom', 'crawl', 'cpu', 'coveralls', 'corner', 'control', 'contribute', 'continue', 'considered', 'configure', 'configuration', 'command', 'comma', 'color', 'clicking', 'cli', 'ci', 'chromium', 'chrome_path', 'chrome', 'choose', 'choices', 'check', 'capture', 'calibre', 'button', 'built', 'build', 'bugs', 'browsers', 'browser', 'branch', 'br', 'boyney123', 'boolean', 'blob', 'blipmdconlkpinefehnmjammfjpmpbjk', 'bigquery', 'beaconed', 'basics', 'based', 'badges', 'backed', 'author', 'authentication', 'audits', 'auditing', 'audit', 'assets', 'array', 'archive', 'architecture', 'appveyor', 'applied', 'app', 'api', 'andreasonny83', 'analyzing', 'analysis', 'aggregate', 'affect', 'addyosmani', 'account', 'ability', '903e', '8de3', '732', '6002', '5224894a7cca', '4x', '4ef7d128', '45000', '412', '40556658', '39191', '23f662f6', '2301202', '22478294', '11e8', '11e6']}, {'reponame': 'ant-design/ant-design', 'keywords': ['zos', 'zh_cn', 'written', 'wiki', 'websemantics', 'utm_source', 'utm_medium', 'utm_content', 'utm_campaign', 'typescript', 'type', 'tree', 'travis', 'tools', 'theme', 'tdlmbo_hzsbp8tmg', 'svg', 'support', 'submit', 'style', 'started', 'src', 'shields', 'set', 'server', 'safari_48x48', 'safari', 'room', 'rmsportal', 'repro', 'read', 'react', 'rc', 'pulls', 'prs', 'project', 'pr', 'png', 'percentage', 'package', 'org', 'opera_48x48', 'opera', 'open', 'npmjs', 'npm', 'nilj0', 'medium', 'md', 'max', 'master', 'logos', 'kdpgvgumpgfqahpjicrk', 'join', 'issues', 'io', 'introduce', 'import', 'images', 'im', 'ie9', 'ie11', 'ie10', 'ideas', 'high', 'gitter', 'githubusercontent', 'github', 'git', 'gh', 'flat', 'firefox_48x48', 'firefox', 'faq', 'enterprise', 'english', 'en', 'electron_48x48', 'electron', 'edge_48x48', 'edge', 'e8', 'e7', 'e6', 'e5', 'docs', 'dm', 'dist', 'development', 'dev', 'design', 'david', 'datepicker', 'customize', 'contributions', 'contributing', 'component', 'codesandbox', 'codecov', 'ci', 'chrome_48x48', 'chrome', 'check', 'chat', 'build', 'browsers', 'browser', 'brightgreen', 'branch', 'box', 'blob', 'bd', 'bc', 'badge', 'b8', 'b5', 'awesome', 'atom', 'antd', 'ant', 'alrra', 'alipayobjects', 'ae', 'ac', 'a8', 'a7', '9c', '99', '92', '91', '8f', '8c', '8b', '89', '88', '84', '83', '81', '8001', '80', '2000']}, {'reponame': 'github/fetch', 'keywords': ['xmlhttprequest', 'work', 'window', 'whatwg', 'webpack', 'web', 'wasn', 'versions', 'version', 'url', 'upload', 'updates', 'unconditionally', 'typically', 'time', 'testing', 'taylorhakes', 'target', 'takes', 'support', 'supply', 'subset', 'subdomain', 'statustext', 'statuses', 'status', 'standard', 'specification', 'spec', 'solution', 'site_request_forgery_', 'signal', 'set', 'server', 'sending', 'safe', 'safari', 'run', 'ruby', 'responsibility', 'response', 'resolve', 'requests', 'request', 'relying', 'reliable', 'reject', 'refer', 'redirect', 'recommend', 'reason', 'readme', 'read', 'promises', 'promise', 'project', 'prevented', 'polyfill', 'php', 'part', 'parsejson', 'package', 'owasp', 'origin', 'org', 'open', 'omit', 'obtaining', 'note', 'nontrivial', 'node', 'natively', 'native', 'mozilla', 'mo', 'method', 'metadata', 'meant', 'make', 'log', 'limitations', 'json', 'issue', 'io', 'intricacies', 'innerhtml', 'influence', 'index', 'including', 'include', 'import', 'implements', 'implemented', 'implement', 'idea', 'http', 'headers', 'happened', 'handle', 'google', 'glossary', 'github', 'function', 'found', 'formdata', 'form', 'forbidden_header_name', 'firefox', 'files', 'file', 'fetchpolyfill', 'fetch', 'feature', 'familiarize', 'exports', 'error', 'entry', 'ensure', 'en', 'effect', 'domains', 'domain', 'doesn', 'document', 'docs', 'dist', 'define', 'default', 'debug', 'data', 'current', 'csrf', 'cross', 'credentials', 'cors', 'cookies', 'cookie', 'controller', 'contents', 'content', 'constitutes', 'console', 'configure', 'completing', 'compatibility', 'code', 'chrome', 'checkstatus', 'bug', 'browsers', 'browser', 'body', 'behaves', 'approach', 'application', 'applicable', 'apis', 'api', 'advisable', 'add', 'access_control_cors', 'access', 'abortsignal', 'aborting', 'abortcontroller', 'abortable', '67', '60', '500', '37', '32', '300', '2017', '1234', '11', '09']}, {'reponame': 'caolan/async', 'keywords': ['working', 'webpack', 'visit', 'version', 'v1', 'utm_source', 'utm_medium', 'utm_content', 'utm_campaign', 'urls', 'url', 'svg', 'style', 'straight', 'shields', 'results', 'repos', 'readme', 'readfile', 'providers', 'pr', 'parse', 'packages', 'package', 'org', 'optimized', 'obj', 'npmjs', 'npm', 'node', 'master', 'maplimit', 'map', 'logo_readme', 'logo', 'log', 'libhive', 'key', 'json', 'jsdelivr', 'jpg', 'join', 'io', 'installable', 'im', 'global', 'gitter', 'githubusercontent', 'github', 'fs', 'forward', 'foreachof', 'examples', 'es', 'error', 'err', 'documentation', 'directly', 'dev', 'data', 'console', 'configs', 'ci', 'chat', 'catch', 'caolan', 'callback', 'browser', 'branch', 'blob', 'badge', 'async', 'array', '20chat']}, {'reponame': 'FezVrasta/popper.js', 'keywords': ['years', 'yarn', 'written', 'writing', 'write', 'work', 'width', 'webpack', 'vue', 'visiting', 'visit', 'vampolo', 'users', 'upgrade', 'unpkg', 'umd', 'twitter', 'true', 'trough', 'trace', 'tos', 'tooltips', 'tooltip', 'tool', 'tether', 'test', 'talking', 'tags', 'svg', 'support', 'styles', 'style', 'strong', 'star', 'stable', 'spec', 'source', 'size', 'simplest', 'simple', 'similar', 'shipped', 'shields', 'sh', 'screen', 'safari', 'rollup', 'return', 'requirejs', 'reference', 'recommended', 'reason', 'read', 'react', 'questions', 'purpose', 'provide', 'projects', 'project', 'profiling', 'preset', 'prepared', 'position', 'pops', 'poppers', 'popperjs', 'popper', 'popovers', 'png', 'pm', 'plugin', 'placements', 'place', 'pick', 'performant', 'pain', 'page', 'override', 'org', 'order', 'optionally', 'onupdate', 'onenotedev', 'oncreate', 'on_spectrum', 'object', 'nuget', 'npmjs', 'npm', 'node_modules', 'net', 'modifiers', 'modifier', 'minified', 'mind', 'min', 'middlewares', 'microsoftedge', 'microsoft', 'method', 'mess', 'means', 'md', 'master', 'makes', 'make', 'made', 'lots', 'lot', 'logo', 'lodash', 'limitations', 'limitation', 'license', 'library', 'libraries', 'learned', 'learn', 'latest', 'labels', 'kinds', 'jsdom', 'js', 'jquery', 'jest', 'issues', 'issue', 'io', 'integrate', 'install', 'inspired', 'initialized', 'info', 'import', 'implemented', 'imac', 'iexplore', 'identical', 'idea', 'hubspot', 'herokuapp', 'gzip', 'graphs', 'googlechrome', 'globals', 'give', 'githubusercontent', 'github', 'function', 'friends', 'framework', 'folder', 'fn', 'firefox', 'find', 'fezvrasta', 'features', 'export', 'examples', 'event', 'esnext', 'esm', 'es2015', 'engine', 'enabled', 'ember', 'element', 'easy', 'drop', 'drive', 'draios', 'downs', 'dom', 'doesn', 'documentation', 'document', 'dist', 'directory', 'development', 'developers', 'destroy', 'dependents', 'dependencies', 'depended', 'define', 'data', 'custom', 'create', 'coverage', 'contributors', 'content', 'computes', 'compute', 'compression', 'code', 'ci', 'chromium', 'choice', 'chat', 'cdns', 'cdn', 'called', 'callbacks', 'callback', 'calculate', 'browsers', 'browse', 'brotli', 'branches', 'branch', 'bower', 'bootstrap', 'blob', 'begins', 'basically', 'based', 'badges', 'badge', 'babel', 'awesome', 'automatically', 'atlassian', 'atlaskit', 'aria', 'architecture', 'applystyles', 'applystyle', 'applyreactstyle', 'apply', 'applies', 'application', 'api', 'angularjs', 'angular', 'andreascn', 'anatomy', 'amd', 'alternatively', 'alter', 'aim', 'adjacent', 'accessible', '900', '6833f9', '5ms', '3bbase64', '3aimage', '2fsvg', '2cphn2zybpzd0itgl2zwxsb18xiibkyxrhlw5hbwu9ikxpdmvsbg8gmsigeg1sbnm9imh0dha6ly93d3cudzmub3jnlziwmdavc3zniib2awv3qm94psiwidagmtagoci', '2bxml', '2bphn0ewxlpi5jbhmtmxtmawxsoinmzmy7ftwvc3r5bgu', '2bphbhdgggy2xhc3m9imnscy0xiibkpsjnnswwqy40miwwldasljyzldasmy4zngmwldeuodqumtksmi43miwxljc0ldmumwgwvjcunthhljq0ljq0ldasmcwwlc42oc4znuw0ljm1ldyunjlinwm0lju4ldasns0unjmsns0zljm1uzkuntgsmcw1ldbattiuodmsnc4xogeunjmunjmsmcwxldesljy1ls42m0eunjqunjqsmcwwldesmi44myw0lje4wk01ldqumthhljyzljyzldasmswxlc42ns0unjnbljy0ljy0ldasmcwxldusnc4xofptmi4xnywwys42my42mywwldesmswunjutljyzqs42nc42ncwwldasmsw3lje3ldqumthaii8', '2bpgrlznm', '2bpc9zdmc', '2bpc9kzwzzpjx0axrszt5zcgvjdhj1btwvdgl0bgu', '2b', '11', '10']}, {'reponame': 'tldr-pages/tldr', 'keywords': ['yellowapple', 'writing', 'wikipedia', 'wiki', 'welcoming', 'webstore', 'voted', 'url', 'tree', 'travis', 'tokei', 'tldt', 'tldroid', 'tldr_viewer', 'tldr_elixir_client', 'tldr', 'tlcr', 'tl', 'tealdeer', 'tap', 'svg', 'submitted', 'strive', 'store', 'srsudar', 'skipped', 'simplified', 'shoichikaji', 'shields', 'sg', 'rusty', 'rust', 'rule', 'rs', 'rilut', 'resource', 'resolution', 'repository', 'remind', 'remember', 'reading', 'read', 'raylee', 'raw', 'python', 'py', 'pulls', 'psibi', 'prs', 'project', 'preferences', 'pranavraja', 'pr', 'porras', 'png', 'php', 'perl', 'pepa65', 'people', 'parts', 'pages', 'ostera', 'originates', 'org', 'options', 'nutellinoit', 'number', 'node', 'nnmlddkpgoecicoallmimonoboialpap', 'needed', 'mt', 'moddus', 'mflint', 'merged', 'melpa', 'md', 'master', 'man', 'maintain', 'macos', 'ls', 'lord63', 'long', 'list', 'linux', 'line', 'license', 'lengthy', 'leighmcculloch', 'label', 'kuanyui', 'kirillseva', 'issuestats', 'issues', 'iq0', 'ios', 'io', 'install', 'im', 'id1071725095', 'id', 'hterkelsen', 'hill', 'hidroh', 'graphs', 'google', 'gitter', 'github', 'gianasista', 'frequently', 'freesuraj', 'find', 'files', 'explanations', 'examples', 'entries', 'edgurgel', 'dwres', 'downloads', 'doesn', 'didn', 'details', 'detail', 'designed', 'defaults', 'de', 'dbrgn', 'dash', 'cs1707', 'create', 'cpp', 'covered', 'contributors', 'contributions', 'computer', 'comprehensive', 'community', 'common', 'commands', 'command', 'collection', 'closed', 'clients', 'client', 'ci', 'chrome', 'chrisallenlane', 'cheat', 'category', 'builds', 'branch', 'brainmaestro', 'blocksize', 'blob', 'binaries', 'benefit', 'bash', 'badge', 'b1', 'arguments', 'argument', 'apps', 'apple', 'app', 'alfred', 'ahead', 'access', '512', '4d63']}, {'reponame': 'sindresorhus/ava', 'keywords': ['zh_cn', 'zenparsing', 'zen', 'yarn', 'xojs', 'xo', 'written', 'writing', 'write', 'worry', 'works', 'workarounds', 'workaround', 'work', 'won', 'wikipedia', 'wiki', 'webstorm', 'webpack', 'web', 'watch', 'wait', 'vue', 'vscode', 'version', 'verbose', 'vars', 'variable', 'values', 'vadimdemedes', 'v5', 'v0', 'username', 'user', 'usage', 'updates', 'updated', 'update', 'unlike', 'unique', 'unexpected', 'unavailable', 'unable', 'typically', 'typescript', 'typeerror', 'type', 'txt', 'tsconfig', 'truthy', 'true', 'tree', 'treated', 'transpiles', 'transpile', 'transpilation', 'todo', 'titles', 'title', 'timer', 'timeouts', 'timeout', 'time', 'throwsasync', 'thrown', 'thrower', 'throw', 'threaded', 'tests', 'testing', 'test', 'tempfile', 'temp', 'tc39', 'target', 'tape', 'tap', 'tagged', 'tag', 'systemjs', 'syntax', 'synchronous', 'svg', 'supported', 'support', 'supply', 'subset', 'subprocesses', 'sublime', 'string', 'storing', 'stored', 'status', 'statement', 'state', 'stage', 'spying', 'spawns', 'sources', 'sourcemaps', 'source', 'sotojuan', 'snippets', 'snapshots', 'snapshot', 'snap', 'slow', 'skipping', 'skipped', 'skip', 'size', 'single', 'sindresorhus', 'similarly', 'signal', 'shown', 'show', 'shouldn', 'shirts', 'shields', 'shared', 'setup', 'setting', 'settimeout', 'set', 'serial', 'select', 'section', 'script', 'saved', 'samverschueren', 'safeeval', 'runs', 'running', 'run', 'rules', 'ru_ru', 'returns', 'returned', 'return', 'results', 'result', 'resolve', 'requires', 'required', 'require', 'repos', 'reporter', 'reported', 'repo', 'replaced', 'repeated', 'repeat', 'render', 'remove', 'remember', 'releases', 'release', 'reject', 'register', 'regex', 'regenerated', 'references', 'reference', 'refer', 'redbubble', 'recursed', 'recommend', 'recipes', 'received', 'reassign', 'reads', 'readme', 'readable', 'read', 'react', 'reached', 'raw', 'quit', 'questions', 'pt_br', 'prs', 'providedtitle', 'provided', 'provide', 'proposals', 'proposal', 'property', 'properties', 'pronunciation', 'pronounced', 'promises', 'promise', 'projects', 'projectdir', 'project', 'profile', 'process', 'problem', 'preset', 'prefix', 'prefer', 'precompiling', 'precompiled', 'precedence', 'power', 'png', 'plugin', 'planning', 'plan', 'placeholders', 'pitfalls', 'pify', 'picking', 'performance', 'people', 'patterns', 'pattern', 'paste', 'passing', 'passes', 'passed', 'pass', 'parallelism', 'parallel', 'pageres', 'packages', 'package', 'overriding', 'overrides', 'output', 'org', 'order', 'options', 'option', 'opinionated', 'observables', 'observable', 'objects', 'object', 'nyc', 'number', 'null', 'npx', 'npmjs', 'npm', 'novemberborn', 'notthrowsasync', 'note', 'normal', 'nonthrower', 'noise', 'nodejs', 'node_modules', 'node_env', 'node', 'nice', 'net', 'named', 'mozilla', 'mongodb', 'modules', 'module', 'modify', 'modifiers', 'modifier', 'mode', 'mocha', 'mixed', 'mirrors', 'minimal', 'mini', 'mind', 'migrating', 'methods', 'method', 'messages', 'message', 'mentioned', 'means', 'md', 'matching', 'matches', 'matcher', 'matched', 'match', 'master', 'making', 'make', 'main', 'magic', 'macros', 'macro', 'm4a', 'loops', 'long', 'logo', 'log', 'lodash', 'location', 'll', 'list', 'likewise', 'li', 'learn', 'leak', 'lead', 'l9', 'l7', 'ko_kr', 'kind', 'kevva', 'jspm', 'json', 'js', 'join', 'jfmengels', 'jest', 'javascript', 'jamestalmage', 'ja_jp', 'it_it', 'istanbul', 'issues', 'isolation', 'isolated', 'io', 'inverse', 'introduced', 'interface', 'intentional', 'intended', 'integration', 'instanceof', 'instance', 'installed', 'install', 'inside', 'ins', 'input', 'information', 'infer', 'included', 'include', 'improper', 'imported', 'import', 'implemented', 'implementation', 'implement', 'ignore', 'ideal', 'human', 'hooks', 'hook', 'highly', 'highlighting', 'highlighted', 'helpful', 'helpers', 'header', 'hard', 'happen', 'h1', 'gulp', 'grunt', 'greater', 'great', 'gotwarlost', 'global_objects', 'glob', 'giving', 'give', 'github', 'gif', 'function', 'friendly', 'fr_fr', 'force', 'foo', 'follow', 'folder', 'focus', 'fn', 'fly', 'flow', 'flags', 'flag', 'fixed', 'fix', 'finished', 'find', 'filter', 'files', 'file', 'features', 'faster', 'fast', 'falsy', 'false', 'failwithoutassertions', 'failing', 'fail', 'eyes', 'extensions', 'extension', 'experience', 'expected', 'executed', 'execute', 'exclude', 'examples', 'eval', 'eslint', 'es_es', 'es2015', 'es', 'error', 'equivalent', 'environment', 'env', 'entries', 'ensure', 'endpoint', 'ending', 'end', 'encourage', 'encountered', 'encounter', 'enabled', 'enable', 'en', 'ecmascript', 'easy', 'early', 'e7v91mu2m5x48ehx', 'don', 'doesn', 'docs', 'displayed', 'display', 'disable', 'directory', 'directories', 'difference', 'diff', 'devtools', 'development', 'determine', 'detection', 'details', 'designed', 'describe', 'derived', 'dependencies', 'depend', 'defining', 'defined', 'define', 'default', 'debugging', 'database', 'data', 'custom', 'create', 'crash', 'coverage', 'counted', 'count', 'correct', 'contribute', 'context', 'contents', 'constructor', 'const', 'console', 'considered', 'connect', 'conflict', 'configured', 'configure', 'configuration', 'config', 'concurrent', 'concurrency', 'concordancejs', 'concordance', 'completion', 'complete', 'compileenhancements', 'compiled', 'compatible', 'compared', 'community', 'commonjs', 'common', 'commit', 'comment', 'command', 'combined', 'codemods', 'code_style', 'code', 'clone', 'cli', 'clean', 'ci', 'chrome', 'check', 'chat', 'changed', 'change', 'challenges', 'chain', 'cb', 'category', 'case', 'called', 'callback', 'call', 'cached', 'built', 'building', 'build', 'browser', 'break', 'branch', 'br', 'bound', 'blob', 'beta', 'beneficial', 'behavior', 'behaves', 'beforeeach', 'bcoe', 'baz', 'basically', 'based', 'bar', 'badge', 'babel', 'ay', 'awesome', 'awaited', 'await', 'avajs', 'ava__js', 'ava', 'attaching', 'atom', 'asynchronous', 'async', 'assign', 'assertions', 'assertion', 'assert', 'arrays', 'arguments', 'argument', 'appveyor', 'apply', 'applies', 'api', 'allowing', 'aftereach', 'affecting', 'addition', 'added', 'add', 'actual', 'achieved', 'accomplished', '663be15acb3dd2eb0f71b1956ef28c2cd3fdeed0', '5ed9c7', '47073b5b58aa6f3fb24f98757be5d3f56218d160', '31', '30330590', '2m', '25', '10s', '1050222', '100']}, {'reponame': 'nolimits4web/Swiper', 'keywords': ['zip', 'versions', 'v3', 'v2', 'v1', 'tree', 'swiper3', 'swiper2', 'swiper', 'svg', 'style', 'status', 'started', 'src', 'simplicity', 'root', 'review', 'result', 'repo', 'production', 'platforms', 'package', 'org', 'open', 'npm', 'nolimits4web', 'md', 'master', 'jsdelivr', 'js', 'join', 'issue', 'ios', 'io', 'intended', 'install', 'info', 'im', 'idangero', 'gulp', 'guideline', 'greenkeeper', 'gitter', 'free', 'focused', 'find', 'files', 'experience', 'dm', 'dist', 'development', 'devdependencies', 'dev', 'designed', 'dependencies', 'css', 'contributing', 'compatible', 'committed', 'cli', 'ci', 'chat', 'build', 'bring', 'branch', 'blob', 'badge', 'archive', 'api', '20chat']}, {'reponame': 'andersevenrud/OS.js-v2', 'keywords': ['yellowgreen', 'yellow', 'webscr', 'visit', 'v3', 'utm_source', 'utm_medium', 'utm_content', 'utm_campaign', 'user', 'usd', 'unavailable', 'ty', 'tree', 'times', 'svg', 'support', 'shields', 'screenshot', 'referral', 'project', 'pp', 'png', 'paypal', 'patreon', 'outdated', 'osjsorg', 'os', 'org', 'orange', 'open', 'note', 'md', 'master', 'logo', 'license', 'liberapay', 'lc', 'js', 'join', 'io', 'install', 'im', 'green', 'grade', 'google', 'githubusercontent', 'github', 'gfx', 'fully', 'find', 'ffb400', 'features', 'facebook', 'donate', 'docker', 'disabled', 'currency_code', 'contributing', 'community', 'codacy', 'cmd', 'ci', 'cgi', 'business', 'browser', 'branch', 'bn', 'blob', 'bin', 'big', 'badge_grade', 'badge', 'app', 'andersevenrud', 'amp', '40gmail', '3anonhosted', '3abtn_donate_sm', '2egif', '2ecom', '2ddonationsbf', '2978551', '113399210633478618934']}, {'reponame': 'mobxjs/mobx', 'keywords': ['youtube', 'youtu', 'write', 'worry', 'works', 'working', 'won', 'wikipedia', 'wiki', 'white', 'weststrate', 'weeks', 'website', 'watch', 'vue', 'viewmodel', 'videos', 'verify', 'ved', 'values', 'validated', 'utm_source', 'utm_medium', 'utm_content', 'utm_campaign', 'usp', 'updating', 'updated', 'update', 'unopinionated', 'unobtrusiveness', 'unlike', 'unfinishedtodocount', 'understanding', 'umd', 'ul', 'ui', 'typed', 'tutorials', 'turning', 'turn', 'true', 'tree', 'translate', 'track', 'ton', 'todoview', 'todos', 'todolistview', 'todolist', 'todo', 'title', 'time', 'ticking', 'thumb', 'throw', 'things', 'thing', 'technical', 'team', 'targetting', 'talk', 'table', 'synchronous', 'sync', 'svg', 'supports', 'support', 'suitable', 'success', 'submission', 'structure', 'straightforward', 'store', 'state', 'startup', 'started', 'start', 'stand', 'stale', 'spreadsheets', 'sponsors', 'sponsor', 'source', 'snippets', 'smart', 'slightly', 'slashing', 'skip', 'site', 'simply', 'simpler', 'simple', 'similar', 'sig', 'side', 'short', 'shipped', 'shields', 'sharing', 'setting', 'set', 'service', 'server', 'semantically', 'section', 'screencast', 'scalable', 'sa', 'rxjs', 'runs', 'run', 'rule', 'return', 'result', 'rest', 'resources', 'resolve', 'required', 'repos', 'rendering', 'rendered', 'render', 'remove', 'relations', 'related', 'refguide', 'references', 'redux', 'reduces', 'recorded', 'reason', 'real', 'readme', 'read', 'reactive_programming', 'reactive', 'reactions', 'reaction', 'reacted', 'react', 'radius', 'quick', 'put', 'pushing', 'push', 'pubsub', 'proxy', 'proxies', 'providing', 'props', 'property', 'properties', 'proper', 'proof', 'project', 'programming', 'programmer', 'producing', 'problem', 'prints', 'printing', 'printed', 'prettier', 'presentation', 'prefer', 'predictable', 'pr', 'pp1', 'png', 'pitfalls', 'philosophy', 'pg', 'performance', 'people', 'paypalobjects', 'paypal', 'patch', 'past', 'passing', 'pass', 'part', 'pages', 'padding', 'package', 'ots', 'org', 'order', 'opensourcenorth', 'opened', 'online', 'onepage', 'onclick', 'observer', 'observables', 'observable', 'objects', 'object', 'nyvnqkrl69s', 'number', 'note', 'normalized', 'normalize', 'node', 'nl', 'net', 'nested', 'needed', 'nay', 'native', 'mweststrate', 'modified', 'mobxjs', 'mobx4', 'mobx', 'mobservable', 'miss', 'minimize', 'michel', 'message', 'mendix', 'mechanisms', 'mechanism', 'md', 'math', 'master', 'margin', 'map', 'manner', 'management', 'managed', 'manage', 'making', 'makes', 'maintain', 'lts', 'lpg', 'lower', 'love', 'lot', 'longer', 'logo', 'lodash', 'listeners', 'list', 'link', 'line', 'library', 'libraries', 'lib', 'li', 'leveraging', 'levels', 'level', 'lessons', 'learncode', 'learn', 'knockout', 'k8dr8bmu7', 'jsc', 'js', 'jpg', 'jpeg', 'join', 'javascriptcore', 'javascript', 'ivdgtxspnwlojlhrpkf1nwezfl8', 'io', 'introduction', 'introduces', 'introduce', 'intro', 'intentions', 'installation', 'inspired', 'influence', 'indirection', 'includes', 'import', 'implementation', 'imperative_programming', 'im', 'ie11', 'id', 'hug', 'html', 'hl', 'handler', 'handled', 'guise', 'guard', 'guaranteed', 'green', 'graph', 'grandpa', 'google', 'glitch', 'gitter', 'github', 'gh', 'getter', 'functions', 'function', 'fun', 'fully', 'free', 'found', 'forget', 'force', 'flux', 'flowtype', 'flow', 'flexibility', 'fix', 'fit', 'finished', 'fine', 'find', 'filter', 'ff69b4', 'features', 'feature', 'fbos', 'faster', 'fast', 'faq', 'false', 'fact', 'explicitly', 'explanation', 'execution', 'establish', 'es6', 'es5', 'es', 'error', 'ensure', 'end', 'en_us', 'efficient', 'effects', 'edit', 'easy', 'easier', 'due', 'dq', 'donate', 'don', 'dom', 'doesn', 'documentation', 'docs', 'div', 'dispatcher', 'discuss', 'difference', 'details', 'derived', 'derive', 'derivations', 'derivation', 'depth', 'demonstrated', 'defined', 'decorators', 'decorator', 'decorate', 'data', 'd460fxti0f', 'custom', 'credits', 'creation', 'created', 'coverage', 'courses', 'contrast', 'continue', 'console', 'concise', 'concepts', 'concept', 'computed', 'computations', 'components', 'component', 'complex', 'compat', 'comparison', 'comparing', 'community', 'coinbase', 'codesandbox', 'code_style', 'code', 'client', 'classes', 'ci', 'check', 'chat', 'changing', 'changed', 'change', 'chance', 'cdn', 'causality', 'care', 'calling', 'buildscripts', 'build', 'btn_donatecc_lg', 'btn', 'browser', 'branch', 'box', 'border', 'books', 'book', 'boils', 'boilerplates', 'blogs', 'blob', 'bl', 'big', 'believed', 'basically', 'badges', 'badge', 'backport', 'background', 'backers', 'backer', 'aws40kox90u', 'awesome', 'avatar', 'autorun', 'automatically', 'arrays', 'array', 'apps', 'approach', 'application', 'app', 'apmssu3qnf0', 'api', 'answer', 'annotating', 'android', 'amount', 'altoghether', 'alternative', 'alias', 'alfmdwaaqbaj', 'advantage', 'added', 'activities', 'actions', 'action', 'achieve', 'accessed', '8m', '7c9e7c86e0c6ead141bb0539d33143d0e1f576dd', '5px', '59', '58', '57', '56', '55', '54557dc319b04e92e31cb87427bef194ec1c549c', '54', '53', '52', '51', '500', '50', '49', '48', '47', '46', '45', '44', '43', '42m', '42', '41', '40m', '40', '3a', '39', '38', '37', '36', '35', '34', '33', '32', '31', '30', '2x', '2px', '29', '28', '27', '26', '25', '24', '23', '22', '21', '20your', '20with', '20weststrate', '20the', '20supercharge', '20state', '20start', '20react', '20quick', '20mobx', '20in', '20guide', '20client', '20chat', '20apps', '20', '1dri6hc2xiptlbkfnh8yczocpxqtoacicdesdyvfg_be', '19', '18', '17', '16', '15', '14', '13', '12m', '12', '11', '10']}, {'reponame': 'luin/medis', 'keywords': ['world', 'working', 'windows', 'win', 'version', 'validator', 'utm_source', 'utm_medium', 'utm_content', 'utm_campaign', 'twitter', 'terminal', 'tag', 'supports', 'support', 'spread', 'shields', 'server', 'screen', 'scan', 'run', 'roadmap', 'releases', 'redis', 'rackt', 'pr', 'powered', 'port', 'png', 'password', 'page', 'packager', 'open', 'mscdex', 'medis', 'manage', 'mac', 'luin', 'love', 'll', 'keys', 'json', 'join', 'ioredis', 'io', 'introduced', 'input', 'im', 'id1063631769', 'host', 'highlighting', 'gui', 'group', 'grateful', 'gitter', 'githubusercontent', 'github', 'friendly', 'fact', 'facebook', 'encourage', 'electron', 'editing', 'easy', 'download', 'developers', 'data', 'cz', 'crucial', 'connecting', 'connect', 'commitizen', 'command', 'classfellow', 'chat', 'call', 'buy', 'built', 'brought', 'brightgreen', 'br', 'blocking', 'beautiful', 'badge', 'atom', 'apple', 'app', '635902', '5368888', '485645', '484499', '214067', '2109932', '20chat', '127']}, {'reponame': 'expressjs/express', 'keywords': ['zfy6ll7efa', 'windows', 'wiki', 'website', 'visit', 'visionmedia', 'view', 'utilize', 'url', 'unopinionated', 'travis', 'tmp', 'tj', 'svg', 'support', 'super', 'starter', 'started', 'shown', 'shields', 'server', 'run', 'res', 'required', 'req', 'redirection', 'read', 'quickest', 'project', 'packages', 'package', 'org', 'npmjs', 'npm', 'node', 'modules', 'migrating', 'master', 'making', 'listen', 'list', 'linux', 'label', 'js', 'io', 'installing', 'installation', 'install', 'information', 'image', 'im', 'hybrids', 'html', 'higher', 'group', 'gratipay', 'graphs', 'google', 'generator', 'generate', 'freenode', 'force', 'focus', 'features', 'expressjs', 'express', 'executable', 'examples', 'en', 'downloads', 'download', 'dougwilson', 'dm', 'discussion', 'discover', 'dependencies', 'coveralls', 'contributors', 'content', 'consolidate', 'community', 'cloudup', 'clone', 'ci', 'caching', 'branch', 'appveyor', 'application', 'app', '3000x3000', '3000', '10']}, {'reponame': 'postcss/autoprefixer', 'keywords': ['yandex', 'wrong', 'write', 'world', 'works', 'work', 'wiki', 'webpack', 'web', 'warnings', 'warning', 'warn', 'viewport', 'versions', 'vendor', 'values', 'usage', 'url', 'unprefixed', 'unprefix', 'uncompressed', 'ui', 'types', 'type', 'twitter', 'true', 'tricks', 'tree', 'transition', 'transformation', 'transform', 'tools', 'test', 'template', 'technically', 'tasks', 'target', 'taobao', 'system', 'sylvainpolletvillard', 'svg', 'surprised', 'supports', 'supported', 'support', 'sublime', 'stylus', 'stylelint', 'style', 'stats', 'src', 'sponsored', 'specification', 'spacing', 'sourcemaps', 'snap', 'size', 'sindresorhus', 'shared', 'setup', 'set', 'selectors', 'selected', 'select', 'scale', 'rycochet', 'rules', 'rule', 'rgba', 'result', 'resolution', 'required', 'remove', 'releases', 'recommended', 'recommend', 'rebelmail', 'ratio', 'rails', 'queries', 'put', 'property', 'properties', 'proof', 'project', 'production', 'processors', 'process', 'preset', 'prefixes', 'prefixer', 'prefixed', 'prefix', 'practices', 'practice', 'postcssjs', 'postcss', 'polyfills', 'polyfill', 'points', 'plugins', 'plugin', 'placeholder', 'pixel', 'pipe', 'part', 'parameters', 'page__nav', 'page__main', 'page__head', 'page__footer', 'page', 'packages', 'package', 'options', 'option', 'open', 'opacity', 'npmjs', 'node', 'news', 'neutrino', 'ndmitry', 'nav', 'moz', 'move', 'module', 'minmax', 'min', 'mikaeljorhult', 'middleware', 'middleman', 'media', 'md', 'master', 'martians', 'map', 'make', 'main', 'luisrudge', 'logo', 'log', 'loader', 'list', 'libraries', 'learn', 'key', 'json', 'js', 'jonathantneal', 'jlhwung', 'jenius', 'jekyll', 'jeffjewiss', 'issue', 'io', 'input', 'image', 'ignoreunknownversions', 'ignore', 'iamvdo', 'html', 'head', 'handles', 'handle', 'hacks', 'gulp', 'guide', 'gucong3000', 'grunt', 'grids', 'grid', 'gray', 'gradients', 'gradient', 'google', 'github', 'generated', 'gemfile', 'gap', 'future', 'function', 'free', 'fragment', 'forget', 'foot', 'font', 'flexbugs', 'flexbox', 'flex', 'fixes', 'fix', 'final', 'features', 'family', 'false', 'fact', 'exports', 'evil', 'eslint', 'epub', 'environment', 'env', 'enable', 'edge', 'dont_trip_up_with_vendor_prefixes', 'doiuse', 'docs', 'display', 'disabled', 'disable', 'device', 'developers', 'develop', 'destination', 'designed', 'depending', 'default', 'data', 'custom', 'cult', 'cssnext', 'cssnano', 'css', 'create', 'covert', 'coordinate', 'console', 'config', 'compiled', 'compass', 'comment', 'combinations', 'color', 'code', 'cli', 'check', 'change', 'cases', 'cascade', 'buildtools', 'build', 'brunch', 'browserslist', 'browsers', 'browser', 'broccoli', 'brackets', 'box', 'border', 'boolean', 'block', 'blob', 'blakeembrey', 'behavior', 'badges', 'badge', 'background', 'babel', 'autoprefixer', 'autoprefix', 'automatization', 'atom', 'assets', 'area', 'appearance', 'api', 'ai', 'adjust', 'add', '33px', '2x', '2fr', '2dppx', '26', '1s', '1fr', '16', '11', '100px', '100', '10']}, {'reponame': 'yelouafi/redux-saga', 'keywords': ['yelouafi', 'write', 'world', 'website', 'webpack', 'watches', 've', 'utm_source', 'utm_medium', 'utm_content', 'utm_campaign', 'userid', 'user_fetch_requested', 'user', 'umd', 'ui', 'typescriptlang', 'tsconfig', 'troubleshooting', 'triggers', 'tree', 'transpile', 'translation', 'thunk', 'thread', 'tests', 'test', 'target', 'takelatest', 'takeevery', 'syntax', 'svg', 'suppose', 'support', 'superraytin', 'suitable', 'store', 'started', 'sponsors', 'sponsor', 'source', 'site', 'show', 'shields', 'set', 'sagas', 'sagamiddleware', 'saga', 'runtime', 'run', 'regenerator', 'reduxsaga', 'redux', 'reducer', 'recipes', 'readme_ru', 'readme_ja', 'readme', 'read', 'put', 'pt_br', 'provide', 'pr', 'png', 'pending', 'payload', 'paused', 'packages', 'package', 'org', 'options', 'open', 'official', 'npmjs', 'npm', 'neighborhood999', 'mysaga', 'mskims', 'min', 'middleware', 'means', 'md', 'master', 'manage', 'make', 'main', 'low', 'logo', 'll', 'link', 'library', 'libraries', 'launch', 'latest', 'landscape', 'korean', 'kind', 'json', 'js', 'join', 'joelbarbosa', 'iterable', 'io', 'introduction', 'inlined', 'index', 'imported', 'important', 'import', 'im', 'html', 'high', 'handle', 'handbook', 'glossary', 'gitter', 'github', 'git', 'generators', 'generator', 'flavors', 'firefox', 'fired', 'find', 'file', 'fetchuser', 'fetch', 'familiar', 'facebook', 'externalresources', 'execute', 'es6', 'es2015', 'end', 'enables', 'efficient', 'effects', 'edge', 'easy', 'easier', 'don', 'dom', 'documentation', 'docs', 'dm', 'dist', 'dispatched', 'dispatch', 'directly', 'createstore', 'contrary', 'continue', 'const', 'connect', 'component', 'compiler', 'clicked', 'ci', 'chrome', 'chinese', 'check', 'chat', 'cdnjs', 'catch', 'cancelled', 'call', 'button', 'builds', 'build', 'browserify', 'browser', 'brevity', 'branch', 'blob', 'beginnertutorial', 'basics', 'badge', 'backers', 'backer', 'avatar', 'applymiddleware', 'application', 'api', 'aims', 'advanced', 'add', 'activities', 'actions', 'action', 'accessing', 'access', '29', '28', '27', '26', '25', '24', '23', '22', '21', '20', '19', '18', '17', '16', '15', '14', '13', '12', '11', '10', '0800']}, {'reponame': 'howdyai/botkit', 'keywords': ['youtube', 'works', 'work', 'web', 'users', 'uploaded', 'type', 'twiliosms', 'twilioipm', 'true', 'trigger', 'toolkit', 'tons', 'thing', 'teams', 'talks', 'support', 'studio', 'storage', 'slack', 'shields', 'share', 'send', 'science', 'runs', 'run', 'robot', 'review', 'response', 'respond', 'reply', 'replied', 'remix', 'released', 'receiving', 'receive', 'readme', 'read', 'questions', 'project', 'progress', 'product', 'processes', 'plugins', 'pld3jnfklds7wsehsal2cfwg0fex7a6aok', 'playlist', 'platforms', 'pipeline', 'phrases', 'peers', 'patterns', 'package', 'overriding', 'org', 'operate', 'npmjs', 'npm', 'node', 'move', 'modifying', 'mit', 'middlewares', 'middleware', 'messages', 'message', 'members', 'meet', 'md', 'matching', 'makes', 'make', 'logging', 'logged', 'listening', 'listen', 'list', 'licenses', 'learn', 'large', 'keywords', 'io', 'installing', 'install', 'information', 'html', 'howto', 'howdyai', 'howdy', 'host', 'hears', 'heard', 'handling', 'handled', 'goal', 'glitch', 'getstarted', 'functions', 'function', 'fun', 'fully', 'focus', 'find', 'file', 'fields', 'familiar', 'facebook', 'events', 'event', 'edit', 'easy', 'easier', 'docs', 'dm', 'dive', 'designed', 'design', 'david', 'database', 'create', 'core', 'controller', 'contributing', 'contribute', 'console', 'configure', 'community', 'commune', 'clicked', 'ciscospark', 'ciscojabber', 'choice', 'channel', 'button', 'building', 'build_connector', 'build', 'browser', 'bots', 'botkit', 'botframework', 'bot', 'behavior', 'authentication', 'art', 'apps', 'application', 'app', 'allowing', 'ai', 'adjust', 'addition', 'adding', 'add']}]\n"
          ],
          "name": "stdout"
        }
      ]
    },
    {
      "metadata": {
        "id": "4S-R3TpNqUwW",
        "colab_type": "code",
        "colab": {
          "base_uri": "https://localhost:8080/",
          "height": 34
        },
        "outputId": "0e4283b5-60c7-4280-f684-b09696fbb226"
      },
      "cell_type": "code",
      "source": [
        "# Creating a dictionary for keywords\n",
        "repos = []\n",
        "keywords_dic={}\n",
        "for i in range(len(readme_keywords_array)):\n",
        "  repos.append(readme_keywords_array[i][\"reponame\"])\n",
        "  keywords_dic[readme_keywords_array[i][\"reponame\"]] = readme_keywords_array[i][\"keywords\"]\n",
        "len(repos)"
      ],
      "execution_count": 15,
      "outputs": [
        {
          "output_type": "execute_result",
          "data": {
            "text/plain": [
              "22"
            ]
          },
          "metadata": {
            "tags": []
          },
          "execution_count": 15
        }
      ]
    },
    {
      "metadata": {
        "id": "9tRZPQgdsLIF",
        "colab_type": "code",
        "colab": {
          "base_uri": "https://localhost:8080/",
          "height": 34
        },
        "outputId": "f2f1ee8a-d350-462a-919c-b1c7bd8b0a33"
      },
      "cell_type": "code",
      "source": [
        "# Creating a dictionary for packages\n",
        "packages_dic={}\n",
        "for repo in package_array:\n",
        "  if repo[\"reponame\"] in repos:\n",
        "    packages_dic[repo[\"reponame\"]] = []\n",
        "    if \"devDependencies\" in repo:\n",
        "      packages_dic[repo[\"reponame\"]].append(repo[\"devDependencies\"])\n",
        "    if \"dependencies\" in repo:\n",
        "      packages_dic[repo[\"reponame\"]].append(repo[\"dependencies\"])\n",
        "len(packages_dic.keys())"
      ],
      "execution_count": 16,
      "outputs": [
        {
          "output_type": "execute_result",
          "data": {
            "text/plain": [
              "22"
            ]
          },
          "metadata": {
            "tags": []
          },
          "execution_count": 16
        }
      ]
    },
    {
      "metadata": {
        "id": "4Wg_p5YxjEuM",
        "colab_type": "text"
      },
      "cell_type": "markdown",
      "source": [
        "# Training Data"
      ]
    },
    {
      "metadata": {
        "id": "KoOxSwJwXZ_D",
        "colab_type": "code",
        "colab": {}
      },
      "cell_type": "code",
      "source": [
        "# list keywords for each repo\n",
        "Questions = [keywords_dic[i] for i in repos]\n",
        "max_input_len = max(map(len, Questions))\n",
        "\n",
        "# list of unique keywords\n",
        "input_tokens = list({keyword for repo_list in Questions for keyword in repo_list})\n",
        "num_input_tokens = len(input_tokens)\n",
        "keyword_to_index = {}\n",
        "for i in range(len(input_tokens)):\n",
        "  keyword_to_index[input_tokens[i]]=i\n",
        "index_to_keyword = {v: k for k, v in keyword_to_index.items()}"
      ],
      "execution_count": 0,
      "outputs": []
    },
    {
      "metadata": {
        "id": "-6ZkS2YwXxAm",
        "colab_type": "code",
        "colab": {}
      },
      "cell_type": "code",
      "source": [
        "# list packages for each repo\n",
        "Answers = [list(packages_dic[i][0]) for i in repos]\n",
        "max_output_len = max(map(len, Answers))\n",
        "\n",
        "# list of unique packages\n",
        "output_tokens = list({pkg for repo_pkg in Answers for pkg in repo_pkg})\n",
        "num_output_tokens = len(output_tokens)\n",
        "package_to_index = {}\n",
        "for i in range(len(output_tokens)):\n",
        "  package_to_index[output_tokens[i]]=i\n",
        "index_to_package = {v: k for k, v in package_to_index.items()}"
      ],
      "execution_count": 0,
      "outputs": []
    },
    {
      "metadata": {
        "id": "bmDcUgyS1oxQ",
        "colab_type": "code",
        "colab": {}
      },
      "cell_type": "code",
      "source": [
        "n = len(repos)\n",
        "X = np.zeros((n, max_input_len, num_input_tokens), dtype=np.bool)\n",
        "y = np.zeros((n, num_output_tokens), dtype=np.bool)\n",
        "for num_pair, (question, answer) in enumerate(zip(Questions, Answers)):\n",
        "  for num_token, q_token in enumerate(question):\n",
        "    X[num_pair, num_token, keyword_to_index[q_token]] = 1\n",
        "  for num_token, a_token in enumerate(answer):\n",
        "    y[num_pair, package_to_index[a_token]] = 1"
      ],
      "execution_count": 0,
      "outputs": []
    },
    {
      "metadata": {
        "id": "wzuV40b0Bdo1",
        "colab_type": "text"
      },
      "cell_type": "markdown",
      "source": [
        "# Build the model"
      ]
    },
    {
      "metadata": {
        "id": "Tdf-qb0SAWvJ",
        "colab_type": "code",
        "colab": {}
      },
      "cell_type": "code",
      "source": [
        "hidden_units=128\n",
        "model = Sequential()\n",
        "input_s = (None, num_input_tokens)\n",
        "model.add(LSTM(hidden_units, input_shape=input_s))\n",
        "model.add(Dense(num_output_tokens))\n",
        "model.add(Activation('softmax'))\n",
        "optimizer = RMSprop(lr=0.01)\n",
        "model.compile(loss='categorical_crossentropy', optimizer=optimizer)"
      ],
      "execution_count": 0,
      "outputs": []
    },
    {
      "metadata": {
        "id": "fMHGgz8GE4eC",
        "colab_type": "text"
      },
      "cell_type": "markdown",
      "source": [
        "# Training"
      ]
    },
    {
      "metadata": {
        "id": "GL--1oleEzPh",
        "colab_type": "code",
        "colab": {
          "base_uri": "https://localhost:8080/",
          "height": 0
        },
        "outputId": "e96d4e06-8f7b-4fd2-9abd-6099d45528f7"
      },
      "cell_type": "code",
      "source": [
        "iterations=20\n",
        "bat_size=256\n",
        "num_epochs=3\n",
        "for iteration in range(iterations):\n",
        "  print()\n",
        "  print('-' * 50)\n",
        "  print('Iteration', iteration)\n",
        "  model.fit(X, y, batch_size=bat_size, epochs=num_epochs)"
      ],
      "execution_count": 21,
      "outputs": [
        {
          "output_type": "stream",
          "text": [
            "\n",
            "--------------------------------------------------\n",
            "Iteration 0\n",
            "Epoch 1/3\n",
            "22/22 [==============================] - 5s 250ms/step - loss: 99.4411\n",
            "Epoch 2/3\n",
            "22/22 [==============================] - 4s 185ms/step - loss: 97.7976\n",
            "Epoch 3/3\n",
            "22/22 [==============================] - 4s 180ms/step - loss: 187.1240\n",
            "\n",
            "--------------------------------------------------\n",
            "Iteration 1\n",
            "Epoch 1/3\n",
            "22/22 [==============================] - 4s 173ms/step - loss: 109.3901\n",
            "Epoch 2/3\n",
            "22/22 [==============================] - 4s 177ms/step - loss: 101.5815\n",
            "Epoch 3/3\n",
            "22/22 [==============================] - 4s 180ms/step - loss: 103.5705\n",
            "\n",
            "--------------------------------------------------\n",
            "Iteration 2\n",
            "Epoch 1/3\n",
            "22/22 [==============================] - 4s 179ms/step - loss: 101.5850\n",
            "Epoch 2/3\n",
            "22/22 [==============================] - 4s 180ms/step - loss: 100.3576\n",
            "Epoch 3/3\n",
            "22/22 [==============================] - 4s 177ms/step - loss: 99.3283\n",
            "\n",
            "--------------------------------------------------\n",
            "Iteration 3\n",
            "Epoch 1/3\n",
            "22/22 [==============================] - 4s 177ms/step - loss: 98.2976\n",
            "Epoch 2/3\n",
            "22/22 [==============================] - 4s 179ms/step - loss: 97.8838\n",
            "Epoch 3/3\n",
            "22/22 [==============================] - 4s 178ms/step - loss: 97.7366\n",
            "\n",
            "--------------------------------------------------\n",
            "Iteration 4\n",
            "Epoch 1/3\n",
            "22/22 [==============================] - 4s 177ms/step - loss: 97.7561\n",
            "Epoch 2/3\n",
            "22/22 [==============================] - 4s 185ms/step - loss: 97.8253\n",
            "Epoch 3/3\n",
            "22/22 [==============================] - 4s 179ms/step - loss: 97.9497\n",
            "\n",
            "--------------------------------------------------\n",
            "Iteration 5\n",
            "Epoch 1/3\n",
            "22/22 [==============================] - 4s 183ms/step - loss: 98.0916\n",
            "Epoch 2/3\n",
            "22/22 [==============================] - 4s 177ms/step - loss: 98.2628\n",
            "Epoch 3/3\n",
            "22/22 [==============================] - 4s 179ms/step - loss: 98.3987\n",
            "\n",
            "--------------------------------------------------\n",
            "Iteration 6\n",
            "Epoch 1/3\n",
            "22/22 [==============================] - 4s 175ms/step - loss: 98.4858\n",
            "Epoch 2/3\n",
            "22/22 [==============================] - 4s 174ms/step - loss: 98.4583\n",
            "Epoch 3/3\n",
            "22/22 [==============================] - 4s 175ms/step - loss: 98.4580\n",
            "\n",
            "--------------------------------------------------\n",
            "Iteration 7\n",
            "Epoch 1/3\n",
            "22/22 [==============================] - 4s 180ms/step - loss: 98.5287\n",
            "Epoch 2/3\n",
            "22/22 [==============================] - 4s 175ms/step - loss: 98.4622\n",
            "Epoch 3/3\n",
            "22/22 [==============================] - 4s 175ms/step - loss: 98.5150\n",
            "\n",
            "--------------------------------------------------\n",
            "Iteration 8\n",
            "Epoch 1/3\n",
            "22/22 [==============================] - 4s 173ms/step - loss: 98.4540\n",
            "Epoch 2/3\n",
            "22/22 [==============================] - 4s 174ms/step - loss: 98.4855\n",
            "Epoch 3/3\n",
            "22/22 [==============================] - 4s 180ms/step - loss: 98.4046\n",
            "\n",
            "--------------------------------------------------\n",
            "Iteration 9\n",
            "Epoch 1/3\n",
            "22/22 [==============================] - 4s 178ms/step - loss: 98.3951\n",
            "Epoch 2/3\n",
            "22/22 [==============================] - 4s 200ms/step - loss: 98.3637\n",
            "Epoch 3/3\n",
            "22/22 [==============================] - 4s 180ms/step - loss: 98.3920\n",
            "\n",
            "--------------------------------------------------\n",
            "Iteration 10\n",
            "Epoch 1/3\n",
            "22/22 [==============================] - 4s 175ms/step - loss: 98.3718\n",
            "Epoch 2/3\n",
            "22/22 [==============================] - 4s 174ms/step - loss: 98.4214\n",
            "Epoch 3/3\n",
            "22/22 [==============================] - 4s 178ms/step - loss: 98.3948\n",
            "\n",
            "--------------------------------------------------\n",
            "Iteration 11\n",
            "Epoch 1/3\n",
            "22/22 [==============================] - 4s 175ms/step - loss: 98.4198\n",
            "Epoch 2/3\n",
            "22/22 [==============================] - 4s 171ms/step - loss: 98.4042\n",
            "Epoch 3/3\n",
            "22/22 [==============================] - 4s 173ms/step - loss: 98.4170\n",
            "\n",
            "--------------------------------------------------\n",
            "Iteration 12\n",
            "Epoch 1/3\n",
            "22/22 [==============================] - 4s 172ms/step - loss: 98.3957\n",
            "Epoch 2/3\n",
            "22/22 [==============================] - 4s 172ms/step - loss: 98.4039\n",
            "Epoch 3/3\n",
            "22/22 [==============================] - 4s 175ms/step - loss: 98.3440\n",
            "\n",
            "--------------------------------------------------\n",
            "Iteration 13\n",
            "Epoch 1/3\n",
            "22/22 [==============================] - 4s 191ms/step - loss: 98.4191\n",
            "Epoch 2/3\n",
            "22/22 [==============================] - 4s 204ms/step - loss: 98.3089\n",
            "Epoch 3/3\n",
            "22/22 [==============================] - 5s 217ms/step - loss: 98.2197\n",
            "\n",
            "--------------------------------------------------\n",
            "Iteration 14\n",
            "Epoch 1/3\n",
            "22/22 [==============================] - 4s 200ms/step - loss: 98.0421\n",
            "Epoch 2/3\n",
            "22/22 [==============================] - 5s 236ms/step - loss: 98.2918\n",
            "Epoch 3/3\n",
            "22/22 [==============================] - 4s 203ms/step - loss: 98.3956\n",
            "\n",
            "--------------------------------------------------\n",
            "Iteration 15\n",
            "Epoch 1/3\n",
            "22/22 [==============================] - 5s 223ms/step - loss: 98.4866\n",
            "Epoch 2/3\n",
            "22/22 [==============================] - 4s 186ms/step - loss: 98.4118\n",
            "Epoch 3/3\n",
            "22/22 [==============================] - 4s 185ms/step - loss: 98.0560\n",
            "\n",
            "--------------------------------------------------\n",
            "Iteration 16\n",
            "Epoch 1/3\n",
            "22/22 [==============================] - 4s 185ms/step - loss: 98.3095\n",
            "Epoch 2/3\n",
            "22/22 [==============================] - 4s 182ms/step - loss: 98.1458\n",
            "Epoch 3/3\n",
            "22/22 [==============================] - 4s 190ms/step - loss: 98.4045\n",
            "\n",
            "--------------------------------------------------\n",
            "Iteration 17\n",
            "Epoch 1/3\n",
            "22/22 [==============================] - 4s 200ms/step - loss: 98.4017\n",
            "Epoch 2/3\n",
            "22/22 [==============================] - 4s 201ms/step - loss: 98.3643\n",
            "Epoch 3/3\n",
            "22/22 [==============================] - 5s 231ms/step - loss: 98.3704\n",
            "\n",
            "--------------------------------------------------\n",
            "Iteration 18\n",
            "Epoch 1/3\n",
            "22/22 [==============================] - 6s 253ms/step - loss: 98.4296\n",
            "Epoch 2/3\n",
            "22/22 [==============================] - 5s 232ms/step - loss: 98.5509\n",
            "Epoch 3/3\n",
            "22/22 [==============================] - 4s 203ms/step - loss: 98.5425\n",
            "\n",
            "--------------------------------------------------\n",
            "Iteration 19\n",
            "Epoch 1/3\n",
            "22/22 [==============================] - 4s 197ms/step - loss: 98.4379\n",
            "Epoch 2/3\n",
            "22/22 [==============================] - 4s 199ms/step - loss: 98.5518\n",
            "Epoch 3/3\n",
            "22/22 [==============================] - 5s 208ms/step - loss: 98.2396\n"
          ],
          "name": "stdout"
        }
      ]
    },
    {
      "metadata": {
        "id": "roOFONAuLXK6",
        "colab_type": "code",
        "colab": {}
      },
      "cell_type": "code",
      "source": [
        "model.save(\"neural_token\")"
      ],
      "execution_count": 0,
      "outputs": []
    },
    {
      "metadata": {
        "id": "JUE1Wa8ESmh3",
        "colab_type": "text"
      },
      "cell_type": "markdown",
      "source": [
        "# Prediction"
      ]
    },
    {
      "metadata": {
        "id": "GQqtQNkVSwqi",
        "colab_type": "code",
        "colab": {}
      },
      "cell_type": "code",
      "source": [
        "repo=repos[1]\n",
        "keys = keywords_dic[repo]\n",
        "keys_encoded = np.zeros((1, max_input_len, num_input_tokens), dtype=np.bool)\n",
        "for num_token, q in enumerate(keys):\n",
        "    X[1, num_token, keyword_to_index[q]] = 1"
      ],
      "execution_count": 0,
      "outputs": []
    },
    {
      "metadata": {
        "id": "j5sBKfAmPJ96",
        "colab_type": "code",
        "colab": {
          "base_uri": "https://localhost:8080/",
          "height": 364
        },
        "outputId": "9521bc24-9fd7-4193-e07c-d01b0c3a8fe6"
      },
      "cell_type": "code",
      "source": [
        "preds = model.predict(keys_encoded, verbose=0)[0]\n",
        "plt.plot(preds)"
      ],
      "execution_count": 24,
      "outputs": [
        {
          "output_type": "execute_result",
          "data": {
            "text/plain": [
              "[<matplotlib.lines.Line2D at 0x7fbf883a83c8>]"
            ]
          },
          "metadata": {
            "tags": []
          },
          "execution_count": 24
        },
        {
          "output_type": "display_data",
          "data": {
            "image/png": "[encoded data removed]",
            "text/plain": [
              "<matplotlib.figure.Figure at 0x7fbf88444ba8>"
            ]
          },
          "metadata": {
            "tags": []
          }
        }
      ]
    },
    {
      "metadata": {
        "id": "MC00ZSr_ZEKU",
        "colab_type": "code",
        "colab": {
          "base_uri": "https://localhost:8080/",
          "height": 85
        },
        "outputId": "a1ef6321-9b74-45f0-b92c-a625d7e93e9e"
      },
      "cell_type": "code",
      "source": [
        "ix=np.argsort(preds)\n",
        "print(index_to_package[ix[-1]])\n",
        "print(index_to_package[ix[-2]])\n",
        "print(index_to_package[ix[-3]])\n",
        "print(index_to_package[ix[-4]])"
      ],
      "execution_count": 25,
      "outputs": [
        {
          "output_type": "stream",
          "text": [
            "babel-eslint\n",
            "babel-preset-es2015\n",
            "react-dom\n",
            "istanbul\n"
          ],
          "name": "stdout"
        }
      ]
    },
    {
      "metadata": {
        "id": "VDyMlZFoSedr",
        "colab_type": "code",
        "colab": {
          "base_uri": "https://localhost:8080/",
          "height": 85
        },
        "outputId": "e7fed77e-2115-4ba9-8da9-64a363c7db76"
      },
      "cell_type": "code",
      "source": [
        "packages_dic[repo]"
      ],
      "execution_count": 26,
      "outputs": [
        {
          "output_type": "execute_result",
          "data": {
            "text/plain": [
              "[{'browserify': '^10.0.0',\n",
              "  'istanbul-harmony': '0',\n",
              "  'mocha': '^2.0.0',\n",
              "  'mz': '^1.0.2'}]"
            ]
          },
          "metadata": {
            "tags": []
          },
          "execution_count": 26
        }
      ]
    }
  ]
}