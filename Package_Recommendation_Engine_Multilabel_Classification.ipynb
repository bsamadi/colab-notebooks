{
  "nbformat": 4,
  "nbformat_minor": 0,
  "metadata": {
    "colab": {
      "name": "Package Recommendation Engine - Multilabel Classification.ipynb",
      "version": "0.3.2",
      "provenance": [],
      "collapsed_sections": [],
      "include_colab_link": true
    },
    "kernelspec": {
      "name": "python3",
      "display_name": "Python 3"
    }
  },
  "cells": [
    {
      "cell_type": "markdown",
      "metadata": {
        "id": "view-in-github",
        "colab_type": "text"
      },
      "source": [
        "[View in Colaboratory](https://colab.research.google.com/github/connected-bsamadi/colab-notebooks/blob/master/Package_Recommendation_Engine_Multilabel_Classification.ipynb)"
      ]
    },
    {
      "metadata": {
        "id": "qVu3yEACC45f",
        "colab_type": "text"
      },
      "cell_type": "markdown",
      "source": [
        "# Setting up"
      ]
    },
    {
      "metadata": {
        "id": "0XeiWi7llE07",
        "colab_type": "code",
        "colab": {}
      },
      "cell_type": "code",
      "source": [
        "# Google Cloud authentication\n",
        "from google.colab import auth\n",
        "auth.authenticate_user()"
      ],
      "execution_count": 0,
      "outputs": []
    },
    {
      "metadata": {
        "id": "9qLqtNVSEYIl",
        "colab_type": "code",
        "colab": {}
      },
      "cell_type": "code",
      "source": [
        "# Installing packages\n",
        "!pip install just > /dev/null\n"
      ],
      "execution_count": 0,
      "outputs": []
    },
    {
      "metadata": {
        "id": "F7IOueubz7XD",
        "colab_type": "code",
        "colab": {}
      },
      "cell_type": "code",
      "source": [
        "from google.cloud import bigquery\n",
        "import json\n",
        "import re\n",
        "import pandas\n",
        "import sys\n",
        "import just\n",
        "import numpy as np\n",
        "import matplotlib.pyplot as plt\n",
        "from collections import Counter"
      ],
      "execution_count": 0,
      "outputs": []
    },
    {
      "metadata": {
        "id": "kn6Kq3UqccFT",
        "colab_type": "code",
        "colab": {
          "base_uri": "https://localhost:8080/",
          "height": 34
        },
        "outputId": "c0490842-650e-4058-fd03-721f7dc038bd"
      },
      "cell_type": "code",
      "source": [
        "from keras.preprocessing.text import Tokenizer\n",
        "from keras.preprocessing.sequence import pad_sequences\n",
        "from keras.layers import Dense, Input, LSTM, Embedding, Dropout, Activation\n",
        "from keras.layers import Bidirectional, GlobalMaxPool1D\n",
        "from keras.models import Model, Sequential\n",
        "from keras.optimizers import RMSprop\n",
        "from keras import initializers, regularizers, constraints, optimizers, layers"
      ],
      "execution_count": 4,
      "outputs": [
        {
          "output_type": "stream",
          "text": [
            "Using TensorFlow backend.\n"
          ],
          "name": "stderr"
        }
      ]
    },
    {
      "metadata": {
        "id": "eUJxhFqJM8Qf",
        "colab_type": "code",
        "colab": {}
      },
      "cell_type": "code",
      "source": [
        "# Assigning the project name and creating the BigQuery client\n",
        "# https://cloud.google.com/resource-manager/docs/creating-managing-projects\n",
        "project_id = 'ontario-2018'\n",
        "client = bigquery.Client(project=project_id)"
      ],
      "execution_count": 0,
      "outputs": []
    },
    {
      "metadata": {
        "id": "xcwbeBIKNLVk",
        "colab_type": "text"
      },
      "cell_type": "markdown",
      "source": [
        "# Data Query\n",
        "BigQuery is used to get the data from the github_repos dataset."
      ]
    },
    {
      "metadata": {
        "id": "91Qswcs-Racr",
        "colab_type": "text"
      },
      "cell_type": "markdown",
      "source": [
        "## Extracting packages"
      ]
    },
    {
      "metadata": {
        "id": "sFJRNRdPRgit",
        "colab_type": "code",
        "colab": {
          "base_uri": "https://localhost:8080/",
          "height": 34
        },
        "outputId": "a9ebb1bf-722a-4c78-9a40-75232bc687a6"
      },
      "cell_type": "code",
      "source": [
        "### Get packages from BigQuery\n",
        "# Original query costs $15\n",
        "query = r'''\n",
        "SELECT repo_name, content\n",
        "FROM `bigquery-public-data:github_repos.contents` contents\n",
        "INNER JOIN `bigquery-public-data:github_repos.files` files\n",
        "  ON contents.id = files.id\n",
        "WHERE files.path = 'package.json'\n",
        "LIMIT 1000\n",
        "'''\n",
        "# Using the saved results\n",
        "query = r'SELECT * FROM `ontario-2018.github.package`'\n",
        "# Query the dataset\n",
        "query_job = client.query(query)\n",
        "package_df = query_job.to_dataframe()\n",
        "package_df.shape"
      ],
      "execution_count": 6,
      "outputs": [
        {
          "output_type": "execute_result",
          "data": {
            "text/plain": [
              "(1000, 2)"
            ]
          },
          "metadata": {
            "tags": []
          },
          "execution_count": 6
        }
      ]
    },
    {
      "metadata": {
        "id": "UGhBx2LAlDED",
        "colab_type": "code",
        "colab": {
          "base_uri": "https://localhost:8080/",
          "height": 204
        },
        "outputId": "158d19a7-39be-40b8-bb03-7aabb69b434c"
      },
      "cell_type": "code",
      "source": [
        "package_df.head()"
      ],
      "execution_count": 7,
      "outputs": [
        {
          "output_type": "execute_result",
          "data": {
            "text/html": [
              "<div>\n",
              "<style scoped>\n",
              "    .dataframe tbody tr th:only-of-type {\n",
              "        vertical-align: middle;\n",
              "    }\n",
              "\n",
              "    .dataframe tbody tr th {\n",
              "        vertical-align: top;\n",
              "    }\n",
              "\n",
              "    .dataframe thead th {\n",
              "        text-align: right;\n",
              "    }\n",
              "</style>\n",
              "<table border=\"1\" class=\"dataframe\">\n",
              "  <thead>\n",
              "    <tr style=\"text-align: right;\">\n",
              "      <th></th>\n",
              "      <th>repo_name</th>\n",
              "      <th>content</th>\n",
              "    </tr>\n",
              "  </thead>\n",
              "  <tbody>\n",
              "    <tr>\n",
              "      <th>0</th>\n",
              "      <td>gaccob/diep.io-clone</td>\n",
              "      <td>{\\n    \"name\": \"diep.io-clone\",\\n\\n    \"versio...</td>\n",
              "    </tr>\n",
              "    <tr>\n",
              "      <th>1</th>\n",
              "      <td>dglzs/directiveDemo</td>\n",
              "      <td>{\\n  \"name\": \"directive-demo\",\\n  \"version\": \"...</td>\n",
              "    </tr>\n",
              "    <tr>\n",
              "      <th>2</th>\n",
              "      <td>botic/validator</td>\n",
              "      <td>{\\n   \"name\": \"validator\",\\n   \"version\": \"2.1...</td>\n",
              "    </tr>\n",
              "    <tr>\n",
              "      <th>3</th>\n",
              "      <td>Manveer695/susi_viberbot</td>\n",
              "      <td>{\\n  \"name\": \"Susi Viber bot\",\\n  \"version\": \"...</td>\n",
              "    </tr>\n",
              "    <tr>\n",
              "      <th>4</th>\n",
              "      <td>keidrip/keidrip.github.io</td>\n",
              "      <td>{\\n  \"devDependencies\": {\\n    \"textlint\": \"^7...</td>\n",
              "    </tr>\n",
              "  </tbody>\n",
              "</table>\n",
              "</div>"
            ],
            "text/plain": [
              "                   repo_name  \\\n",
              "0       gaccob/diep.io-clone   \n",
              "1        dglzs/directiveDemo   \n",
              "2            botic/validator   \n",
              "3   Manveer695/susi_viberbot   \n",
              "4  keidrip/keidrip.github.io   \n",
              "\n",
              "                                             content  \n",
              "0  {\\n    \"name\": \"diep.io-clone\",\\n\\n    \"versio...  \n",
              "1  {\\n  \"name\": \"directive-demo\",\\n  \"version\": \"...  \n",
              "2  {\\n   \"name\": \"validator\",\\n   \"version\": \"2.1...  \n",
              "3  {\\n  \"name\": \"Susi Viber bot\",\\n  \"version\": \"...  \n",
              "4  {\\n  \"devDependencies\": {\\n    \"textlint\": \"^7...  "
            ]
          },
          "metadata": {
            "tags": []
          },
          "execution_count": 7
        }
      ]
    },
    {
      "metadata": {
        "id": "w-e_fgfjBL5x",
        "colab_type": "code",
        "colab": {}
      },
      "cell_type": "code",
      "source": [
        "# A function to extract name, devDependencies, dependencies and keywords from content\n",
        "def get_pkg(package_json):\n",
        "    package_record = {}\n",
        "    try:\n",
        "      repo_obj = json.loads(package_json)\n",
        "      if 'name' in repo_obj:\n",
        "        package_record['name'] = repo_obj['name']\n",
        "      if 'devDependencies' in repo_obj:\n",
        "        dev_dependencies = repo_obj['devDependencies']\n",
        "        if (len(dev_dependencies) > 0):\n",
        "          package_record['devDependencies'] = dev_dependencies\n",
        "      if 'dependencies' in repo_obj:\n",
        "        dependencies = repo_obj['dependencies']\n",
        "        if (len(dependencies) > 0):\n",
        "          package_record['dependencies'] = dependencies\n",
        "      if 'keywords' in repo_obj:\n",
        "        keywords = repo_obj['keywords']\n",
        "        if (len(keywords) > 0):\n",
        "          package_record['keywords'] = keywords\n",
        "    finally:\n",
        "      return package_record"
      ],
      "execution_count": 0,
      "outputs": []
    },
    {
      "metadata": {
        "id": "49c_HgemDkuk",
        "colab_type": "code",
        "colab": {
          "base_uri": "https://localhost:8080/",
          "height": 204
        },
        "outputId": "59c890d0-dedf-41b4-b740-8f72a199bee8"
      },
      "cell_type": "code",
      "source": [
        "# Extracting devDependencies, dependencies and keywords from package.json\n",
        "package_df.columns = ['repo_name','package_info']\n",
        "package_df['package_info']=package_df['package_info'].apply(get_pkg)\n",
        "package_df.head()"
      ],
      "execution_count": 9,
      "outputs": [
        {
          "output_type": "execute_result",
          "data": {
            "text/html": [
              "<div>\n",
              "<style scoped>\n",
              "    .dataframe tbody tr th:only-of-type {\n",
              "        vertical-align: middle;\n",
              "    }\n",
              "\n",
              "    .dataframe tbody tr th {\n",
              "        vertical-align: top;\n",
              "    }\n",
              "\n",
              "    .dataframe thead th {\n",
              "        text-align: right;\n",
              "    }\n",
              "</style>\n",
              "<table border=\"1\" class=\"dataframe\">\n",
              "  <thead>\n",
              "    <tr style=\"text-align: right;\">\n",
              "      <th></th>\n",
              "      <th>repo_name</th>\n",
              "      <th>package_info</th>\n",
              "    </tr>\n",
              "  </thead>\n",
              "  <tbody>\n",
              "    <tr>\n",
              "      <th>0</th>\n",
              "      <td>gaccob/diep.io-clone</td>\n",
              "      <td>{'name': 'diep.io-clone', 'devDependencies': {...</td>\n",
              "    </tr>\n",
              "    <tr>\n",
              "      <th>1</th>\n",
              "      <td>dglzs/directiveDemo</td>\n",
              "      <td>{'name': 'directive-demo', 'devDependencies': ...</td>\n",
              "    </tr>\n",
              "    <tr>\n",
              "      <th>2</th>\n",
              "      <td>botic/validator</td>\n",
              "      <td>{'name': 'validator', 'dependencies': {'stick'...</td>\n",
              "    </tr>\n",
              "    <tr>\n",
              "      <th>3</th>\n",
              "      <td>Manveer695/susi_viberbot</td>\n",
              "      <td>{'name': 'Susi Viber bot', 'dependencies': {'b...</td>\n",
              "    </tr>\n",
              "    <tr>\n",
              "      <th>4</th>\n",
              "      <td>keidrip/keidrip.github.io</td>\n",
              "      <td>{'devDependencies': {'textlint': '^7.2.1', 'te...</td>\n",
              "    </tr>\n",
              "  </tbody>\n",
              "</table>\n",
              "</div>"
            ],
            "text/plain": [
              "                   repo_name  \\\n",
              "0       gaccob/diep.io-clone   \n",
              "1        dglzs/directiveDemo   \n",
              "2            botic/validator   \n",
              "3   Manveer695/susi_viberbot   \n",
              "4  keidrip/keidrip.github.io   \n",
              "\n",
              "                                        package_info  \n",
              "0  {'name': 'diep.io-clone', 'devDependencies': {...  \n",
              "1  {'name': 'directive-demo', 'devDependencies': ...  \n",
              "2  {'name': 'validator', 'dependencies': {'stick'...  \n",
              "3  {'name': 'Susi Viber bot', 'dependencies': {'b...  \n",
              "4  {'devDependencies': {'textlint': '^7.2.1', 'te...  "
            ]
          },
          "metadata": {
            "tags": []
          },
          "execution_count": 9
        }
      ]
    },
    {
      "metadata": {
        "id": "YLscgV61RK_L",
        "colab_type": "text"
      },
      "cell_type": "markdown",
      "source": [
        "## Extracting Readme Files"
      ]
    },
    {
      "metadata": {
        "id": "23hOpMn0EOvJ",
        "colab_type": "code",
        "colab": {
          "base_uri": "https://localhost:8080/",
          "height": 204
        },
        "outputId": "08c5f8e7-e733-4317-b239-e4fbcab4811a"
      },
      "cell_type": "code",
      "source": [
        "# Get README.md files from dataset\n",
        "# Original query costs $15\n",
        "query = r'''\n",
        "SELECT\n",
        "  files.repo_name,\n",
        "  contents.content\n",
        "FROM\n",
        "  `bigquery-public-data.github_repos.contents` contents\n",
        "INNER JOIN\n",
        "  `bigquery-public-data.github_repos.files` files\n",
        "ON\n",
        "  contents.id = files.id\n",
        "JOIN\n",
        "  `ontario-2018.github.package100k` packages\n",
        "ON\n",
        "  packages.repo_name = files.repo_name\n",
        "WHERE\n",
        "  files.path IN ('readme.md',\n",
        "    'Readme.md',\n",
        "    'README.md',\n",
        "    'README.MD')\n",
        "'''\n",
        "# Using the saved results\n",
        "query = r'SELECT * FROM `ontario-2018.github.readme`'\n",
        "query_job = client.query(query)\n",
        "readme_df = query_job.to_dataframe()\n",
        "readme_df.columns = ['repo_name','readme']\n",
        "readme_df.head()"
      ],
      "execution_count": 10,
      "outputs": [
        {
          "output_type": "execute_result",
          "data": {
            "text/html": [
              "<div>\n",
              "<style scoped>\n",
              "    .dataframe tbody tr th:only-of-type {\n",
              "        vertical-align: middle;\n",
              "    }\n",
              "\n",
              "    .dataframe tbody tr th {\n",
              "        vertical-align: top;\n",
              "    }\n",
              "\n",
              "    .dataframe thead th {\n",
              "        text-align: right;\n",
              "    }\n",
              "</style>\n",
              "<table border=\"1\" class=\"dataframe\">\n",
              "  <thead>\n",
              "    <tr style=\"text-align: right;\">\n",
              "      <th></th>\n",
              "      <th>repo_name</th>\n",
              "      <th>readme</th>\n",
              "    </tr>\n",
              "  </thead>\n",
              "  <tbody>\n",
              "    <tr>\n",
              "      <th>0</th>\n",
              "      <td>RotatingFans/rotatingfans.github.io</td>\n",
              "      <td># Jalpc. [![Analytics](https://ga-beacon.appsp...</td>\n",
              "    </tr>\n",
              "    <tr>\n",
              "      <th>1</th>\n",
              "      <td>Icenium/node-fibers</td>\n",
              "      <td>fibers(1) -- Fiber support for v8 and Node\\n==...</td>\n",
              "    </tr>\n",
              "    <tr>\n",
              "      <th>2</th>\n",
              "      <td>tsypa/sms-reg</td>\n",
              "      <td># sms-reg\\n[SMS-REG.com API 2.0](https://sms-r...</td>\n",
              "    </tr>\n",
              "    <tr>\n",
              "      <th>3</th>\n",
              "      <td>codenameyau/mean-phonebook</td>\n",
              "      <td>mean-phonebook\\n==============\\n\\nMEAN-Phonebo...</td>\n",
              "    </tr>\n",
              "    <tr>\n",
              "      <th>4</th>\n",
              "      <td>request/digest</td>\n",
              "      <td>\\n# @request/digest\\n\\n&gt; See [@request/core][r...</td>\n",
              "    </tr>\n",
              "  </tbody>\n",
              "</table>\n",
              "</div>"
            ],
            "text/plain": [
              "                             repo_name  \\\n",
              "0  RotatingFans/rotatingfans.github.io   \n",
              "1                  Icenium/node-fibers   \n",
              "2                        tsypa/sms-reg   \n",
              "3           codenameyau/mean-phonebook   \n",
              "4                       request/digest   \n",
              "\n",
              "                                              readme  \n",
              "0  # Jalpc. [![Analytics](https://ga-beacon.appsp...  \n",
              "1  fibers(1) -- Fiber support for v8 and Node\\n==...  \n",
              "2  # sms-reg\\n[SMS-REG.com API 2.0](https://sms-r...  \n",
              "3  mean-phonebook\\n==============\\n\\nMEAN-Phonebo...  \n",
              "4  \\n# @request/digest\\n\\n> See [@request/core][r...  "
            ]
          },
          "metadata": {
            "tags": []
          },
          "execution_count": 10
        }
      ]
    },
    {
      "metadata": {
        "id": "4BZ1hliSgcXP",
        "colab_type": "code",
        "colab": {
          "base_uri": "https://localhost:8080/",
          "height": 34
        },
        "outputId": "168df148-a50e-486f-bdbf-c845b0e70a37"
      },
      "cell_type": "code",
      "source": [
        "repos = readme_df[\"repo_name\"]\n",
        "# Number of repositories\n",
        "len(repos)"
      ],
      "execution_count": 11,
      "outputs": [
        {
          "output_type": "execute_result",
          "data": {
            "text/plain": [
              "948"
            ]
          },
          "metadata": {
            "tags": []
          },
          "execution_count": 11
        }
      ]
    },
    {
      "metadata": {
        "id": "Ux9Oa0WtO_Vu",
        "colab_type": "text"
      },
      "cell_type": "markdown",
      "source": [
        "## Joining the data frames of packages and README files"
      ]
    },
    {
      "metadata": {
        "id": "T6eLQLgeRkdN",
        "colab_type": "code",
        "colab": {
          "base_uri": "https://localhost:8080/",
          "height": 204
        },
        "outputId": "0f0d34ef-cb83-43e0-a1b3-e213cb64c1c1"
      },
      "cell_type": "code",
      "source": [
        "data=pandas.merge(readme_df,package_df,how='inner')\n",
        "data.head()"
      ],
      "execution_count": 12,
      "outputs": [
        {
          "output_type": "execute_result",
          "data": {
            "text/html": [
              "<div>\n",
              "<style scoped>\n",
              "    .dataframe tbody tr th:only-of-type {\n",
              "        vertical-align: middle;\n",
              "    }\n",
              "\n",
              "    .dataframe tbody tr th {\n",
              "        vertical-align: top;\n",
              "    }\n",
              "\n",
              "    .dataframe thead th {\n",
              "        text-align: right;\n",
              "    }\n",
              "</style>\n",
              "<table border=\"1\" class=\"dataframe\">\n",
              "  <thead>\n",
              "    <tr style=\"text-align: right;\">\n",
              "      <th></th>\n",
              "      <th>repo_name</th>\n",
              "      <th>readme</th>\n",
              "      <th>package_info</th>\n",
              "    </tr>\n",
              "  </thead>\n",
              "  <tbody>\n",
              "    <tr>\n",
              "      <th>0</th>\n",
              "      <td>RotatingFans/rotatingfans.github.io</td>\n",
              "      <td># Jalpc. [![Analytics](https://ga-beacon.appsp...</td>\n",
              "      <td>{'name': 'Jalpc', 'devDependencies': {'clean-c...</td>\n",
              "    </tr>\n",
              "    <tr>\n",
              "      <th>1</th>\n",
              "      <td>Icenium/node-fibers</td>\n",
              "      <td>fibers(1) -- Fiber support for v8 and Node\\n==...</td>\n",
              "      <td>{'name': 'fibers', 'keywords': ['fiber', 'fibe...</td>\n",
              "    </tr>\n",
              "    <tr>\n",
              "      <th>2</th>\n",
              "      <td>tsypa/sms-reg</td>\n",
              "      <td># sms-reg\\n[SMS-REG.com API 2.0](https://sms-r...</td>\n",
              "      <td>{'name': 'sms-reg', 'keywords': ['activation',...</td>\n",
              "    </tr>\n",
              "    <tr>\n",
              "      <th>3</th>\n",
              "      <td>codenameyau/mean-phonebook</td>\n",
              "      <td>mean-phonebook\\n==============\\n\\nMEAN-Phonebo...</td>\n",
              "      <td>{'name': 'meanphonebook', 'devDependencies': {...</td>\n",
              "    </tr>\n",
              "    <tr>\n",
              "      <th>4</th>\n",
              "      <td>request/digest</td>\n",
              "      <td>\\n# @request/digest\\n\\n&gt; See [@request/core][r...</td>\n",
              "      <td>{'name': '@request/digest', 'dependencies': {'...</td>\n",
              "    </tr>\n",
              "  </tbody>\n",
              "</table>\n",
              "</div>"
            ],
            "text/plain": [
              "                             repo_name  \\\n",
              "0  RotatingFans/rotatingfans.github.io   \n",
              "1                  Icenium/node-fibers   \n",
              "2                        tsypa/sms-reg   \n",
              "3           codenameyau/mean-phonebook   \n",
              "4                       request/digest   \n",
              "\n",
              "                                              readme  \\\n",
              "0  # Jalpc. [![Analytics](https://ga-beacon.appsp...   \n",
              "1  fibers(1) -- Fiber support for v8 and Node\\n==...   \n",
              "2  # sms-reg\\n[SMS-REG.com API 2.0](https://sms-r...   \n",
              "3  mean-phonebook\\n==============\\n\\nMEAN-Phonebo...   \n",
              "4  \\n# @request/digest\\n\\n> See [@request/core][r...   \n",
              "\n",
              "                                        package_info  \n",
              "0  {'name': 'Jalpc', 'devDependencies': {'clean-c...  \n",
              "1  {'name': 'fibers', 'keywords': ['fiber', 'fibe...  \n",
              "2  {'name': 'sms-reg', 'keywords': ['activation',...  \n",
              "3  {'name': 'meanphonebook', 'devDependencies': {...  \n",
              "4  {'name': '@request/digest', 'dependencies': {'...  "
            ]
          },
          "metadata": {
            "tags": []
          },
          "execution_count": 12
        }
      ]
    },
    {
      "metadata": {
        "id": "tUsCd-KOTM4J",
        "colab_type": "code",
        "colab": {
          "base_uri": "https://localhost:8080/",
          "height": 34
        },
        "outputId": "e1366011-9b0a-4ddb-fe39-c0c1eb399789"
      },
      "cell_type": "code",
      "source": [
        "data.shape"
      ],
      "execution_count": 13,
      "outputs": [
        {
          "output_type": "execute_result",
          "data": {
            "text/plain": [
              "(948, 3)"
            ]
          },
          "metadata": {
            "tags": []
          },
          "execution_count": 13
        }
      ]
    },
    {
      "metadata": {
        "id": "rzDljjA5htlz",
        "colab_type": "text"
      },
      "cell_type": "markdown",
      "source": [
        "## Listing the packages in all the repositories"
      ]
    },
    {
      "metadata": {
        "id": "XePRy6gUT4Uc",
        "colab_type": "code",
        "colab": {}
      },
      "cell_type": "code",
      "source": [
        "def collect_pkg(pckg_info):\n",
        "  packages_dic = list([])\n",
        "  if 'devDependencies' in pckg_info:\n",
        "    packages_dic = packages_dic+list(pckg_info['devDependencies'])\n",
        "  if 'dependencies' in pckg_info:\n",
        "    packages_dic = packages_dic+list(pckg_info['dependencies'])\n",
        "  return packages_dic"
      ],
      "execution_count": 0,
      "outputs": []
    },
    {
      "metadata": {
        "id": "ZRWKzwUJUp6T",
        "colab_type": "code",
        "colab": {
          "base_uri": "https://localhost:8080/",
          "height": 204
        },
        "outputId": "31e07f5a-58e5-477c-f5d3-50f0f4abe904"
      },
      "cell_type": "code",
      "source": [
        "data['package_info']=data['package_info'].apply(collect_pkg)\n",
        "data.head()"
      ],
      "execution_count": 15,
      "outputs": [
        {
          "output_type": "execute_result",
          "data": {
            "text/html": [
              "<div>\n",
              "<style scoped>\n",
              "    .dataframe tbody tr th:only-of-type {\n",
              "        vertical-align: middle;\n",
              "    }\n",
              "\n",
              "    .dataframe tbody tr th {\n",
              "        vertical-align: top;\n",
              "    }\n",
              "\n",
              "    .dataframe thead th {\n",
              "        text-align: right;\n",
              "    }\n",
              "</style>\n",
              "<table border=\"1\" class=\"dataframe\">\n",
              "  <thead>\n",
              "    <tr style=\"text-align: right;\">\n",
              "      <th></th>\n",
              "      <th>repo_name</th>\n",
              "      <th>readme</th>\n",
              "      <th>package_info</th>\n",
              "    </tr>\n",
              "  </thead>\n",
              "  <tbody>\n",
              "    <tr>\n",
              "      <th>0</th>\n",
              "      <td>RotatingFans/rotatingfans.github.io</td>\n",
              "      <td># Jalpc. [![Analytics](https://ga-beacon.appsp...</td>\n",
              "      <td>[clean-css, shelljs, uglify-js, animate.css, b...</td>\n",
              "    </tr>\n",
              "    <tr>\n",
              "      <th>1</th>\n",
              "      <td>Icenium/node-fibers</td>\n",
              "      <td>fibers(1) -- Fiber support for v8 and Node\\n==...</td>\n",
              "      <td>[]</td>\n",
              "    </tr>\n",
              "    <tr>\n",
              "      <th>2</th>\n",
              "      <td>tsypa/sms-reg</td>\n",
              "      <td># sms-reg\\n[SMS-REG.com API 2.0](https://sms-r...</td>\n",
              "      <td>[]</td>\n",
              "    </tr>\n",
              "    <tr>\n",
              "      <th>3</th>\n",
              "      <td>codenameyau/mean-phonebook</td>\n",
              "      <td>mean-phonebook\\n==============\\n\\nMEAN-Phonebo...</td>\n",
              "      <td>[grunt, grunt-autoprefixer, grunt-bower-instal...</td>\n",
              "    </tr>\n",
              "    <tr>\n",
              "      <th>4</th>\n",
              "      <td>request/digest</td>\n",
              "      <td>\\n# @request/digest\\n\\n&gt; See [@request/core][r...</td>\n",
              "      <td>[node-uuid]</td>\n",
              "    </tr>\n",
              "  </tbody>\n",
              "</table>\n",
              "</div>"
            ],
            "text/plain": [
              "                             repo_name  \\\n",
              "0  RotatingFans/rotatingfans.github.io   \n",
              "1                  Icenium/node-fibers   \n",
              "2                        tsypa/sms-reg   \n",
              "3           codenameyau/mean-phonebook   \n",
              "4                       request/digest   \n",
              "\n",
              "                                              readme  \\\n",
              "0  # Jalpc. [![Analytics](https://ga-beacon.appsp...   \n",
              "1  fibers(1) -- Fiber support for v8 and Node\\n==...   \n",
              "2  # sms-reg\\n[SMS-REG.com API 2.0](https://sms-r...   \n",
              "3  mean-phonebook\\n==============\\n\\nMEAN-Phonebo...   \n",
              "4  \\n# @request/digest\\n\\n> See [@request/core][r...   \n",
              "\n",
              "                                        package_info  \n",
              "0  [clean-css, shelljs, uglify-js, animate.css, b...  \n",
              "1                                                 []  \n",
              "2                                                 []  \n",
              "3  [grunt, grunt-autoprefixer, grunt-bower-instal...  \n",
              "4                                        [node-uuid]  "
            ]
          },
          "metadata": {
            "tags": []
          },
          "execution_count": 15
        }
      ]
    },
    {
      "metadata": {
        "id": "DHs11nWJiIBo",
        "colab_type": "code",
        "colab": {
          "base_uri": "https://localhost:8080/",
          "height": 34
        },
        "outputId": "3d7f5d12-3511-46cc-a98e-7a9ddd114196"
      },
      "cell_type": "code",
      "source": [
        "# find all the packages\n",
        "# list of packages \n",
        "pkg_list = [package for pkglist in data['package_info'] for package in pkglist]\n",
        "# set of packages (no duplicates)\n",
        "pkg_set = list(set(pkg_list))\n",
        "count = [pkg_list.count(p) for p in pkg_set]\n",
        "len(pkg_set)"
      ],
      "execution_count": 16,
      "outputs": [
        {
          "output_type": "execute_result",
          "data": {
            "text/plain": [
              "2880"
            ]
          },
          "metadata": {
            "tags": []
          },
          "execution_count": 16
        }
      ]
    },
    {
      "metadata": {
        "id": "-9XgYwhcl8mj",
        "colab_type": "code",
        "colab": {
          "base_uri": "https://localhost:8080/",
          "height": 204
        },
        "outputId": "0b314057-4d59-4bff-98ac-01d963dfde46"
      },
      "cell_type": "code",
      "source": [
        "# find most commonly used packages\n",
        "pkg_data = {}\n",
        "pkg_data['count']=count\n",
        "pkg_data['package']=pkg_set\n",
        "pkg_df=pandas.DataFrame(data=pkg_data)[['package','count']]\n",
        "pkg_df=pkg_df.sort_values(by=['count'],ascending=False)\n",
        "pkg_df.head()"
      ],
      "execution_count": 17,
      "outputs": [
        {
          "output_type": "execute_result",
          "data": {
            "text/html": [
              "<div>\n",
              "<style scoped>\n",
              "    .dataframe tbody tr th:only-of-type {\n",
              "        vertical-align: middle;\n",
              "    }\n",
              "\n",
              "    .dataframe tbody tr th {\n",
              "        vertical-align: top;\n",
              "    }\n",
              "\n",
              "    .dataframe thead th {\n",
              "        text-align: right;\n",
              "    }\n",
              "</style>\n",
              "<table border=\"1\" class=\"dataframe\">\n",
              "  <thead>\n",
              "    <tr style=\"text-align: right;\">\n",
              "      <th></th>\n",
              "      <th>package</th>\n",
              "      <th>count</th>\n",
              "    </tr>\n",
              "  </thead>\n",
              "  <tbody>\n",
              "    <tr>\n",
              "      <th>2853</th>\n",
              "      <td>mocha</td>\n",
              "      <td>203</td>\n",
              "    </tr>\n",
              "    <tr>\n",
              "      <th>2573</th>\n",
              "      <td>grunt</td>\n",
              "      <td>145</td>\n",
              "    </tr>\n",
              "    <tr>\n",
              "      <th>502</th>\n",
              "      <td>express</td>\n",
              "      <td>144</td>\n",
              "    </tr>\n",
              "    <tr>\n",
              "      <th>734</th>\n",
              "      <td>gulp</td>\n",
              "      <td>133</td>\n",
              "    </tr>\n",
              "    <tr>\n",
              "      <th>1025</th>\n",
              "      <td>chai</td>\n",
              "      <td>122</td>\n",
              "    </tr>\n",
              "  </tbody>\n",
              "</table>\n",
              "</div>"
            ],
            "text/plain": [
              "      package  count\n",
              "2853    mocha    203\n",
              "2573    grunt    145\n",
              "502   express    144\n",
              "734      gulp    133\n",
              "1025     chai    122"
            ]
          },
          "metadata": {
            "tags": []
          },
          "execution_count": 17
        }
      ]
    },
    {
      "metadata": {
        "id": "wiqCMU1tOt-S",
        "colab_type": "code",
        "colab": {
          "base_uri": "https://localhost:8080/",
          "height": 34
        },
        "outputId": "32a21be8-ab5f-4c39-93b0-f3e2dc017e8c"
      },
      "cell_type": "code",
      "source": [
        "pkg_df.shape"
      ],
      "execution_count": 18,
      "outputs": [
        {
          "output_type": "execute_result",
          "data": {
            "text/plain": [
              "(2880, 2)"
            ]
          },
          "metadata": {
            "tags": []
          },
          "execution_count": 18
        }
      ]
    },
    {
      "metadata": {
        "id": "0Jn8AUmbqkqh",
        "colab_type": "code",
        "colab": {
          "base_uri": "https://localhost:8080/",
          "height": 1010
        },
        "outputId": "fbd7646b-aedd-40b3-f696-715d662bb32e"
      },
      "cell_type": "code",
      "source": [
        "# Select the target packages\n",
        "target_pkg_df=pkg_df.loc[(pkg_df['count'] > 40) & (pkg_df['count'] < 80)]\n",
        "target_pkg_df"
      ],
      "execution_count": 19,
      "outputs": [
        {
          "output_type": "execute_result",
          "data": {
            "text/html": [
              "<div>\n",
              "<style scoped>\n",
              "    .dataframe tbody tr th:only-of-type {\n",
              "        vertical-align: middle;\n",
              "    }\n",
              "\n",
              "    .dataframe tbody tr th {\n",
              "        vertical-align: top;\n",
              "    }\n",
              "\n",
              "    .dataframe thead th {\n",
              "        text-align: right;\n",
              "    }\n",
              "</style>\n",
              "<table border=\"1\" class=\"dataframe\">\n",
              "  <thead>\n",
              "    <tr style=\"text-align: right;\">\n",
              "      <th></th>\n",
              "      <th>package</th>\n",
              "      <th>count</th>\n",
              "    </tr>\n",
              "  </thead>\n",
              "  <tbody>\n",
              "    <tr>\n",
              "      <th>1081</th>\n",
              "      <td>babel-loader</td>\n",
              "      <td>79</td>\n",
              "    </tr>\n",
              "    <tr>\n",
              "      <th>1456</th>\n",
              "      <td>karma</td>\n",
              "      <td>78</td>\n",
              "    </tr>\n",
              "    <tr>\n",
              "      <th>2231</th>\n",
              "      <td>grunt-contrib-clean</td>\n",
              "      <td>76</td>\n",
              "    </tr>\n",
              "    <tr>\n",
              "      <th>1731</th>\n",
              "      <td>react-dom</td>\n",
              "      <td>70</td>\n",
              "    </tr>\n",
              "    <tr>\n",
              "      <th>1634</th>\n",
              "      <td>gulp-uglify</td>\n",
              "      <td>66</td>\n",
              "    </tr>\n",
              "    <tr>\n",
              "      <th>1635</th>\n",
              "      <td>babel-eslint</td>\n",
              "      <td>64</td>\n",
              "    </tr>\n",
              "    <tr>\n",
              "      <th>2788</th>\n",
              "      <td>gulp-rename</td>\n",
              "      <td>61</td>\n",
              "    </tr>\n",
              "    <tr>\n",
              "      <th>650</th>\n",
              "      <td>bower</td>\n",
              "      <td>61</td>\n",
              "    </tr>\n",
              "    <tr>\n",
              "      <th>378</th>\n",
              "      <td>sinon</td>\n",
              "      <td>60</td>\n",
              "    </tr>\n",
              "    <tr>\n",
              "      <th>2666</th>\n",
              "      <td>rimraf</td>\n",
              "      <td>60</td>\n",
              "    </tr>\n",
              "    <tr>\n",
              "      <th>525</th>\n",
              "      <td>karma-chrome-launcher</td>\n",
              "      <td>59</td>\n",
              "    </tr>\n",
              "    <tr>\n",
              "      <th>2596</th>\n",
              "      <td>css-loader</td>\n",
              "      <td>59</td>\n",
              "    </tr>\n",
              "    <tr>\n",
              "      <th>807</th>\n",
              "      <td>style-loader</td>\n",
              "      <td>58</td>\n",
              "    </tr>\n",
              "    <tr>\n",
              "      <th>1842</th>\n",
              "      <td>karma-jasmine</td>\n",
              "      <td>57</td>\n",
              "    </tr>\n",
              "    <tr>\n",
              "      <th>1495</th>\n",
              "      <td>webpack-dev-server</td>\n",
              "      <td>57</td>\n",
              "    </tr>\n",
              "    <tr>\n",
              "      <th>2330</th>\n",
              "      <td>morgan</td>\n",
              "      <td>52</td>\n",
              "    </tr>\n",
              "    <tr>\n",
              "      <th>907</th>\n",
              "      <td>babel-preset-react</td>\n",
              "      <td>52</td>\n",
              "    </tr>\n",
              "    <tr>\n",
              "      <th>401</th>\n",
              "      <td>istanbul</td>\n",
              "      <td>51</td>\n",
              "    </tr>\n",
              "    <tr>\n",
              "      <th>511</th>\n",
              "      <td>load-grunt-tasks</td>\n",
              "      <td>51</td>\n",
              "    </tr>\n",
              "    <tr>\n",
              "      <th>959</th>\n",
              "      <td>request</td>\n",
              "      <td>50</td>\n",
              "    </tr>\n",
              "    <tr>\n",
              "      <th>1360</th>\n",
              "      <td>eslint-plugin-react</td>\n",
              "      <td>48</td>\n",
              "    </tr>\n",
              "    <tr>\n",
              "      <th>1333</th>\n",
              "      <td>grunt-contrib-copy</td>\n",
              "      <td>47</td>\n",
              "    </tr>\n",
              "    <tr>\n",
              "      <th>658</th>\n",
              "      <td>typescript</td>\n",
              "      <td>46</td>\n",
              "    </tr>\n",
              "    <tr>\n",
              "      <th>1639</th>\n",
              "      <td>gulp-util</td>\n",
              "      <td>46</td>\n",
              "    </tr>\n",
              "    <tr>\n",
              "      <th>318</th>\n",
              "      <td>async</td>\n",
              "      <td>46</td>\n",
              "    </tr>\n",
              "    <tr>\n",
              "      <th>53</th>\n",
              "      <td>grunt-contrib-concat</td>\n",
              "      <td>45</td>\n",
              "    </tr>\n",
              "    <tr>\n",
              "      <th>1109</th>\n",
              "      <td>grunt-contrib-cssmin</td>\n",
              "      <td>45</td>\n",
              "    </tr>\n",
              "    <tr>\n",
              "      <th>1715</th>\n",
              "      <td>gulp-concat</td>\n",
              "      <td>44</td>\n",
              "    </tr>\n",
              "    <tr>\n",
              "      <th>1454</th>\n",
              "      <td>del</td>\n",
              "      <td>44</td>\n",
              "    </tr>\n",
              "    <tr>\n",
              "      <th>1820</th>\n",
              "      <td>babel-cli</td>\n",
              "      <td>42</td>\n",
              "    </tr>\n",
              "    <tr>\n",
              "      <th>2095</th>\n",
              "      <td>should</td>\n",
              "      <td>41</td>\n",
              "    </tr>\n",
              "  </tbody>\n",
              "</table>\n",
              "</div>"
            ],
            "text/plain": [
              "                    package  count\n",
              "1081           babel-loader     79\n",
              "1456                  karma     78\n",
              "2231    grunt-contrib-clean     76\n",
              "1731              react-dom     70\n",
              "1634            gulp-uglify     66\n",
              "1635           babel-eslint     64\n",
              "2788            gulp-rename     61\n",
              "650                   bower     61\n",
              "378                   sinon     60\n",
              "2666                 rimraf     60\n",
              "525   karma-chrome-launcher     59\n",
              "2596             css-loader     59\n",
              "807            style-loader     58\n",
              "1842          karma-jasmine     57\n",
              "1495     webpack-dev-server     57\n",
              "2330                 morgan     52\n",
              "907      babel-preset-react     52\n",
              "401                istanbul     51\n",
              "511        load-grunt-tasks     51\n",
              "959                 request     50\n",
              "1360    eslint-plugin-react     48\n",
              "1333     grunt-contrib-copy     47\n",
              "658              typescript     46\n",
              "1639              gulp-util     46\n",
              "318                   async     46\n",
              "53     grunt-contrib-concat     45\n",
              "1109   grunt-contrib-cssmin     45\n",
              "1715            gulp-concat     44\n",
              "1454                    del     44\n",
              "1820              babel-cli     42\n",
              "2095                 should     41"
            ]
          },
          "metadata": {
            "tags": []
          },
          "execution_count": 19
        }
      ]
    },
    {
      "metadata": {
        "id": "xr3vY6NMsNME",
        "colab_type": "code",
        "colab": {}
      },
      "cell_type": "code",
      "source": [
        "# Target packages\n",
        "packages = list(target_pkg_df['package'])\n",
        "n_packages=len(packages)"
      ],
      "execution_count": 0,
      "outputs": []
    },
    {
      "metadata": {
        "id": "zwta08i1Mne1",
        "colab_type": "code",
        "colab": {}
      },
      "cell_type": "code",
      "source": [
        "def filter_pkg(pkg_info):\n",
        "  return [pkg for pkg in pkg_info if pkg in packages]"
      ],
      "execution_count": 0,
      "outputs": []
    },
    {
      "metadata": {
        "id": "AtkNaTNdLpaZ",
        "colab_type": "code",
        "colab": {
          "base_uri": "https://localhost:8080/",
          "height": 204
        },
        "outputId": "edb1fd14-cfcb-429d-f5c7-053201c625d6"
      },
      "cell_type": "code",
      "source": [
        "# Remove other packages\n",
        "data['package_info'] = data['package_info'].apply(filter_pkg)\n",
        "data.head()\n",
        "  "
      ],
      "execution_count": 22,
      "outputs": [
        {
          "output_type": "execute_result",
          "data": {
            "text/html": [
              "<div>\n",
              "<style scoped>\n",
              "    .dataframe tbody tr th:only-of-type {\n",
              "        vertical-align: middle;\n",
              "    }\n",
              "\n",
              "    .dataframe tbody tr th {\n",
              "        vertical-align: top;\n",
              "    }\n",
              "\n",
              "    .dataframe thead th {\n",
              "        text-align: right;\n",
              "    }\n",
              "</style>\n",
              "<table border=\"1\" class=\"dataframe\">\n",
              "  <thead>\n",
              "    <tr style=\"text-align: right;\">\n",
              "      <th></th>\n",
              "      <th>repo_name</th>\n",
              "      <th>readme</th>\n",
              "      <th>package_info</th>\n",
              "    </tr>\n",
              "  </thead>\n",
              "  <tbody>\n",
              "    <tr>\n",
              "      <th>0</th>\n",
              "      <td>RotatingFans/rotatingfans.github.io</td>\n",
              "      <td># Jalpc. [![Analytics](https://ga-beacon.appsp...</td>\n",
              "      <td>[]</td>\n",
              "    </tr>\n",
              "    <tr>\n",
              "      <th>1</th>\n",
              "      <td>Icenium/node-fibers</td>\n",
              "      <td>fibers(1) -- Fiber support for v8 and Node\\n==...</td>\n",
              "      <td>[]</td>\n",
              "    </tr>\n",
              "    <tr>\n",
              "      <th>2</th>\n",
              "      <td>tsypa/sms-reg</td>\n",
              "      <td># sms-reg\\n[SMS-REG.com API 2.0](https://sms-r...</td>\n",
              "      <td>[]</td>\n",
              "    </tr>\n",
              "    <tr>\n",
              "      <th>3</th>\n",
              "      <td>codenameyau/mean-phonebook</td>\n",
              "      <td>mean-phonebook\\n==============\\n\\nMEAN-Phonebo...</td>\n",
              "      <td>[grunt-contrib-clean, grunt-contrib-concat, gr...</td>\n",
              "    </tr>\n",
              "    <tr>\n",
              "      <th>4</th>\n",
              "      <td>request/digest</td>\n",
              "      <td>\\n# @request/digest\\n\\n&gt; See [@request/core][r...</td>\n",
              "      <td>[]</td>\n",
              "    </tr>\n",
              "  </tbody>\n",
              "</table>\n",
              "</div>"
            ],
            "text/plain": [
              "                             repo_name  \\\n",
              "0  RotatingFans/rotatingfans.github.io   \n",
              "1                  Icenium/node-fibers   \n",
              "2                        tsypa/sms-reg   \n",
              "3           codenameyau/mean-phonebook   \n",
              "4                       request/digest   \n",
              "\n",
              "                                              readme  \\\n",
              "0  # Jalpc. [![Analytics](https://ga-beacon.appsp...   \n",
              "1  fibers(1) -- Fiber support for v8 and Node\\n==...   \n",
              "2  # sms-reg\\n[SMS-REG.com API 2.0](https://sms-r...   \n",
              "3  mean-phonebook\\n==============\\n\\nMEAN-Phonebo...   \n",
              "4  \\n# @request/digest\\n\\n> See [@request/core][r...   \n",
              "\n",
              "                                        package_info  \n",
              "0                                                 []  \n",
              "1                                                 []  \n",
              "2                                                 []  \n",
              "3  [grunt-contrib-clean, grunt-contrib-concat, gr...  \n",
              "4                                                 []  "
            ]
          },
          "metadata": {
            "tags": []
          },
          "execution_count": 22
        }
      ]
    },
    {
      "metadata": {
        "id": "wOLYq57MfE6C",
        "colab_type": "code",
        "colab": {
          "base_uri": "https://localhost:8080/",
          "height": 204
        },
        "outputId": "dd53d831-34c0-42da-8fd9-ba79677b5c31"
      },
      "cell_type": "code",
      "source": [
        "# Remove repos with empty packages\n",
        "data = data.drop([i for i in data.index if len(data['package_info'][i])==0])\n",
        "data.head()"
      ],
      "execution_count": 23,
      "outputs": [
        {
          "output_type": "execute_result",
          "data": {
            "text/html": [
              "<div>\n",
              "<style scoped>\n",
              "    .dataframe tbody tr th:only-of-type {\n",
              "        vertical-align: middle;\n",
              "    }\n",
              "\n",
              "    .dataframe tbody tr th {\n",
              "        vertical-align: top;\n",
              "    }\n",
              "\n",
              "    .dataframe thead th {\n",
              "        text-align: right;\n",
              "    }\n",
              "</style>\n",
              "<table border=\"1\" class=\"dataframe\">\n",
              "  <thead>\n",
              "    <tr style=\"text-align: right;\">\n",
              "      <th></th>\n",
              "      <th>repo_name</th>\n",
              "      <th>readme</th>\n",
              "      <th>package_info</th>\n",
              "    </tr>\n",
              "  </thead>\n",
              "  <tbody>\n",
              "    <tr>\n",
              "      <th>3</th>\n",
              "      <td>codenameyau/mean-phonebook</td>\n",
              "      <td>mean-phonebook\\n==============\\n\\nMEAN-Phonebo...</td>\n",
              "      <td>[grunt-contrib-clean, grunt-contrib-concat, gr...</td>\n",
              "    </tr>\n",
              "    <tr>\n",
              "      <th>5</th>\n",
              "      <td>gnandretta/babel-plugin-transform-css-import-t...</td>\n",
              "      <td># babel-plugin-transform-css-import-to-string\\...</td>\n",
              "      <td>[babel-cli]</td>\n",
              "    </tr>\n",
              "    <tr>\n",
              "      <th>6</th>\n",
              "      <td>james-logan/compendium</td>\n",
              "      <td># compendium\\n\\n\\nA book tracking app geared t...</td>\n",
              "      <td>[grunt-contrib-clean, grunt-contrib-copy, grun...</td>\n",
              "    </tr>\n",
              "    <tr>\n",
              "      <th>7</th>\n",
              "      <td>james-logan/thematica</td>\n",
              "      <td># compendium\\n\\n\\nA book tracking app geared t...</td>\n",
              "      <td>[grunt-contrib-clean, grunt-contrib-copy, grun...</td>\n",
              "    </tr>\n",
              "    <tr>\n",
              "      <th>17</th>\n",
              "      <td>davidknoll/mongofuse</td>\n",
              "      <td># mongofuse\\nA FUSE filesystem, powered by Mon...</td>\n",
              "      <td>[async]</td>\n",
              "    </tr>\n",
              "  </tbody>\n",
              "</table>\n",
              "</div>"
            ],
            "text/plain": [
              "                                            repo_name  \\\n",
              "3                          codenameyau/mean-phonebook   \n",
              "5   gnandretta/babel-plugin-transform-css-import-t...   \n",
              "6                              james-logan/compendium   \n",
              "7                               james-logan/thematica   \n",
              "17                               davidknoll/mongofuse   \n",
              "\n",
              "                                               readme  \\\n",
              "3   mean-phonebook\\n==============\\n\\nMEAN-Phonebo...   \n",
              "5   # babel-plugin-transform-css-import-to-string\\...   \n",
              "6   # compendium\\n\\n\\nA book tracking app geared t...   \n",
              "7   # compendium\\n\\n\\nA book tracking app geared t...   \n",
              "17  # mongofuse\\nA FUSE filesystem, powered by Mon...   \n",
              "\n",
              "                                         package_info  \n",
              "3   [grunt-contrib-clean, grunt-contrib-concat, gr...  \n",
              "5                                         [babel-cli]  \n",
              "6   [grunt-contrib-clean, grunt-contrib-copy, grun...  \n",
              "7   [grunt-contrib-clean, grunt-contrib-copy, grun...  \n",
              "17                                            [async]  "
            ]
          },
          "metadata": {
            "tags": []
          },
          "execution_count": 23
        }
      ]
    },
    {
      "metadata": {
        "id": "VSG-Oc6kZPuj",
        "colab_type": "text"
      },
      "cell_type": "markdown",
      "source": [
        "# Training data"
      ]
    },
    {
      "metadata": {
        "id": "ug3hlruehFex",
        "colab_type": "code",
        "colab": {}
      },
      "cell_type": "code",
      "source": [
        "# One-hot encoding of packages in repos\n",
        "n_repos=data.shape[0]\n",
        "n_pkgs=len(packages)\n",
        "y = np.zeros((n_repos,n_pkgs))\n",
        "for n_repo, i in zip(range(len(data.index)),data.index):\n",
        "  for n_pkg, pkg in zip(range(len(packages)),packages):\n",
        "    if pkg in data['package_info'][i]:\n",
        "      y[n_repo,n_pkg] = 1"
      ],
      "execution_count": 0,
      "outputs": []
    },
    {
      "metadata": {
        "id": "so6DHBjQaeGl",
        "colab_type": "code",
        "colab": {}
      },
      "cell_type": "code",
      "source": [
        "readme_train=data[\"readme\"]\n",
        "max_features = 1000\n",
        "tokenizer = Tokenizer(num_words=max_features)\n",
        "tokenizer.fit_on_texts(list(readme_train))\n",
        "readme_tokenized_train = tokenizer.texts_to_sequences(readme_train)"
      ],
      "execution_count": 0,
      "outputs": []
    },
    {
      "metadata": {
        "id": "GuRY7yvTl3Yu",
        "colab_type": "code",
        "colab": {
          "base_uri": "https://localhost:8080/",
          "height": 54
        },
        "outputId": "c83ef22c-fd53-4c5e-f44b-cbf231360331"
      },
      "cell_type": "code",
      "source": [
        "dir(tokenizer)\n",
        "print(tokenizer.word_counts)"
      ],
      "execution_count": 26,
      "outputs": [
        {
          "output_type": "stream",
          "text": [
            "OrderedDict([('mean', 384), ('phonebook', 3), ('is', 2548), ('a', 4301), ('minimal', 14), ('crud', 8), ('application', 383), ('built', 98), ('using', 519), ('the', 9468), ('angular', 554), ('fullstack', 6), ('click', 103), ('here', 237), ('https', 3142), ('bitbucket', 2), ('org', 1017), ('accountname', 2), ('blog', 62), ('to', 5951), ('view', 76), ('project', 558), ('that', 1137), ('uses', 138), ('flask', 5), ('and', 3565), ('sqlalchemy', 1), ('for', 2553), ('back', 74), ('end', 207), ('front', 31), ('live', 52), ('demo', 153), ('deployed', 15), ('on', 1330), ('heroku', 135), ('herokuapp', 19), ('com', 2657), ('file', 748), ('structure', 72), ('files', 474), ('in', 2524), ('app', 999), ('scripts', 160), ('express', 164), ('api', 615), ('lib', 66), ('development', 346), ('setup', 116), ('1', 919), ('clone', 203), ('this', 1961), ('repository', 152), ('2', 569), ('run', 947), ('npm', 1499), ('install', 1130), ('bower', 413), ('3', 373), ('serve', 70), ('grunt', 478), ('deploying', 27), ('create', 523), ('an', 923), ('account', 89), ('with', 1764), ('sandbox', 16), ('database', 156), ('mongohq', 12), ('http', 1797), ('www', 433), ('pricing', 1), ('after', 192), ('you', 2556), ('mongodb', 161), ('user', 315), ('admin', 68), ('overview', 42), ('users', 110), (\"you'll\", 65), ('need', 298), ('mongo', 23), ('uri', 56), ('connection', 84), ('strings', 32), ('later', 37), ('4', 252), ('your', 1537), ('root', 88), ('directory', 211), ('yo', 8), ('deploy', 115), ('5', 170), ('command', 219), ('will', 1043), ('generate', 92), ('dist', 112), ('folder', 222), ('production', 190), ('then', 379), ('cd', 98), ('6', 108), ('open', 184), ('config', 332), ('env', 248), ('js', 2065), ('7', 88), ('change', 160), ('line', 115), (\"'mongodb\", 11), ('localhost', 168), (\"dev'\", 4), ('from', 874), ('step', 91), ('8', 85), ('make', 249), ('sure', 130), ('password', 101), ('9', 71), ('commit', 63), ('push', 77), ('changes', 150), ('git', 411), ('add', 465), ('all', 647), ('m', 27), ('master', 472), ('10', 142), ('terminal', 36), ('there', 190), ('should', 291), ('be', 1370), ('prompt', 7), ('saying', 1), ('url', 506), ('babel', 132), ('plugin', 195), ('transform', 72), ('css', 429), ('import', 240), ('string', 460), ('turn', 31), ('imports', 11), ('into', 284), ('example', 582), ('given', 51), ('following', 309), ('style', 348), ('body', 100), ('background', 43), ('color', 55), ('red', 26), (\"'\", 698), (\"css'\", 11), ('out', 244), ('var', 619), (\"'body\", 1), ('installation', 168), ('sh', 206), ('usage', 230), ('via', 172), ('babelrc', 3), ('recommended', 38), ('json', 459), ('plugins', 93), ('cli', 165), ('script', 331), ('node', 779), ('javascript', 650), ('require', 300), ('core', 123), ('code', 626), ('compendium', 2), ('book', 31), ('tracking', 8), ('geared', 2), ('towards', 3), ('scifi', 2), ('genre', 2), ('can', 1260), ('keep', 72), ('track', 14), ('of', 2756), ('their', 80), ('progress', 25), ('through', 122), ('books', 18), ('record', 11), ('date', 121), ('which', 391), ('they', 104), ('finish', 10), ('them', 179), ('appear', 14), ('timeline', 10), (\"they've\", 2), ('read', 136), ('upon', 25), ('finishing', 3), ('readers', 3), ('are', 895), ('asked', 8), ('tags', 101), ('several', 39), ('categories', 7), ('hope', 13), ('encourage', 7), ('thoughtful', 3), ('accurate', 3), ('something', 108), ('has', 276), ('proven', 2), ('difficult', 9), ('even', 74), ('large', 17), ('companies', 2), ('gamified', 3), ('so', 318), ('rewarded', 2), ('experience', 30), ('points', 25), ('completing', 3), ('adding', 109), ('check', 175), ('site', 81), ('at', 404), ('scificompendium', 4), ('mongofuse', 6), ('fuse', 6), ('filesystem', 8), ('powered', 11), ('by', 804), ('written', 54), ('mostly', 6), ('exercise', 2), ('me', 98), ('learn', 49), ('it', 1295), ('aims', 10), ('posix', 1), ('functionality', 61), ('use', 1081), ('as', 991), ('regular', 29), ('starting', 70), ('if', 1105), ('cloned', 7), ('github', 1764), ('any', 424), ('start', 485), ('mountpoint', 5), ('o', 44), ('option', 174), ('index', 294), ('also', 319), ('globally', 39), ('g', 253), ('case', 86), ('where', 171), ('docs', 337), ('manual', 39), ('reference', 74), ('maybe', 20), ('just', 245), ('called', 137), ('instance', 222), ('running', 273), ('standard', 77), ('port', 125), ('existing', 79), ('mounted', 1), ('mount', 16), ('options', 581), ('some', 230), ('these', 216), ('woralelandia', 1), ('2012', 22), ('07', 15), ('16', 27), ('linked', 11), ('bindings', 5), ('npmjs', 141), ('package', 503), ('readme', 63), ('macos', 20), ('os', 43), ('x', 208), ('osxfuse', 4), ('io', 976), ('pkg', 8), ('homebrew', 2), ('do', 324), ('brew', 9), ('cask', 1), ('authorise', 1), ('kext', 1), ('system', 132), ('preferences', 3), ('within', 82), ('docker', 92), ('container', 46), ('params', 30), ('cap', 18), ('mknod', 2), ('sys', 1), ('device', 121), ('dev', 154), ('things', 69), ('work', 132), ('now', 238), ('created', 124), ('automatically', 123), ('when', 527), ('empty', 36), ('means', 52), ('actually', 15), ('try', 75), ('without', 209), ('manually', 50), ('inserting', 4), ('stuff', 39), ('first', 231), ('usual', 2), ('reading', 32), ('writing', 30), ('creating', 91), ('deleting', 9), ('renaming', 4), ('etc', 88), ('directories', 29), ('chmod', 2), ('chown', 2), ('chgrp', 2), ('including', 96), ('updating', 37), ('ctime', 3), ('special', 30), ('but', 340), (\"can't\", 21), ('used', 350), ('nodev', 1), ('effect', 25), ('see', 445), ('below', 126), ('mtime', 2), ('update', 188), ('write', 92), ('atime', 3), ('list', 258), ('symlink', 1), ('resolution', 1), ('relatime', 1), ('noatime', 1), ('symlinks', 1), ('hardlinks', 1), (\"won't\", 24), ('hardlink', 1), ('permissions', 17), ('enforced', 7), ('truncate', 2), ('ftruncate', 2), ('opendir', 1), ('access', 141), ('function', 1004), ('implemented', 30), ('fd', 1), ('opened', 6), ('wronly', 1), ('vice', 3), ('versa', 3), (\"shouldn't\", 8), ('allowed', 30), ('accepts', 24), ('basic', 73), ('eg', 25), ('allow', 74), ('other', 279), ('size', 51), ('stored', 29), ('explicitly', 13), ('inode', 2), ('avoiding', 1), ('looking', 43), ('up', 224), ('data', 674), (\"it's\", 129), ('only', 255), ('attributes', 66), (\"we're\", 25), ('interested', 17), ('extended', 14), ('works', 71), ('well', 79), ('linux', 62), (\"don't\", 129), (\"aren't\", 16), ('present', 19), ('yet', 59), ('partially', 1), ('not', 551), ('fully', 29), ('traverse', 1), ('delete', 71), ('although', 8), ('listing', 2), ('mounting', 2), ('default', 662), ('possible', 66), ('solution', 48), ('mtimes', 1), ('ctimes', 1), ('updated', 55), ('i', 456), ('repeatedly', 1), ('touch', 13), ('specifying', 18), ('time', 194), ('passed', 97), ('my', 166), ('utimens', 1), ('jump', 23), ('about', 182), ('non', 43), ('monotonically', 1), ('over', 79), ('number', 244), ('minutes', 12), ('away', 11), ('what', 143), ('gets', 28), ('set', 447), ('think', 15), ('blame', 2), ('larger', 4), ('than', 81), ('under', 167), ('16mb', 1), ('due', 28), ('maximum', 21), ('document', 104), ('return', 285), ('efbig', 1), ('gridfs', 2), ('tested', 24), ('windows', 88), ('may', 181), ('dokany', 2), ('dokan', 1), ('performance', 36), ('probably', 28), ('pants', 1), ('like', 373), ('lack', 6), ('caching', 24), ('storing', 7), ('itself', 19), ('exemplo', 4), ('de', 48), ('chatbot', 10), ('watson', 24), ('conversation', 59), ('em', 34), ('este', 3), ('aplicação', 7), ('é', 3), ('um', 6), ('cliente', 3), ('objetivo', 2), ('comemorativo', 2), ('dos', 2), ('100', 71), ('anos', 4), ('ibm', 34), ('no', 270), ('brasil', 2), ('basta', 3), ('criar', 3), ('colocar', 3), ('credenciais', 7), ('neste', 3), ('e', 201), ('fazer', 3), ('bluemix', 57), ('net', 141), ('button', 191), ('png', 337), ('sergiogama', 4), ('bot', 22), ('para', 21), ('executar', 4), ('localmente', 4), ('instalar', 10), (\"diret'roio\", 4), ('raiz', 4), ('projeto', 4), ('execute', 85), ('dependências', 4), ('altere', 4), ('aquivo', 4), ('coloque', 4), ('workspace', 28), ('id', 405), ('nas', 4), ('lilnhas', 4), ('à', 4), ('seguir', 4), ('\\xa0', 9), ('username', 87), ('conversationworkspace', 4), ('iniciar', 4), ('acesse', 4), ('browser', 216), ('link', 96), ('6001', 4), ('instale', 15), ('nodejs', 155), ('en', 111), ('download', 194), ('melonjs', 2), ('custom', 212), ('modifications', 7), ('bunch', 12), ('tries', 10), ('framework', 119), ('catalogue', 12), ('crawler', 12), ('simple', 172), ('vnd', 2), ('tsbiot', 2), ('iot', 21), ('format', 92), ('supplied', 16), ('build', 697), ('knowledge', 15), ('graph', 24), ('discovered', 3), ('facts', 2), ('links', 53), ('catalogues', 2), ('wherever', 8), ('found', 98), ('completion', 6), ('stdout', 8), ('graphviz', 2), ('dot', 28), ('nquads', 4), ('instead', 125), ('output', 155), ('n', 37), ('quads', 8), ('sw', 8), ('deri', 3), ('2008', 6), ('converted', 11), ('rdf', 5), ('turtle', 2), ('ntriples', 2), ('formats', 8), ('any23', 2), ('apache', 23), ('toby', 4), ('jaffey', 2), ('1248', 2), ('render', 92), ('tpng', 2), ('nq', 2), ('crawl', 2), ('must', 136), ('exposed', 15), ('web', 347), ('server', 611), ('crawling', 2), ('hierarchical', 2), ('examples', 221), ('tree', 64), ('produce', 8), ('similar', 46), ('license', 459), ('provided', 112), ('mit', 195), ('formate', 9), ('concept', 11), ('draft', 4), ('img', 570), ('shields', 239), ('badge', 268), ('20style', 8), ('brightgreen', 11), ('svg', 602), ('standardjs', 6), ('modular', 12), ('form', 115), ('handling', 26), ('react', 831), ('made', 41), ('easy', 73), ('lot', 30), ('cool', 12), ('features', 144), ('loosely', 2), ('coupled', 1), ('middleware', 73), ('proptypes', 38), (\"'react'\", 19), (\"'formate'\", 3), ('const', 184), ('field', 120), ('object', 572), ('isrequired', 8), ('myform', 10), ('formdata', 3), ('setformdata', 5), ('provide', 97), ('getter', 16), ('setter', 2), ('based', 181), ('name', 1140), ('prop', 25), ('component', 241), (\"'input'\", 13), (\"'firstname'\", 2), ('shortcuts', 4), ('frequently', 8), ('components', 240), ('input', 213), (\"'lastname'\", 2), ('submit', 19), ('could', 65), ('submitbutton', 1), ('type', 829), (\"'submit'\", 2), ('export', 113), ('middleware1', 1), ('middleware2', 1), ('or', 1320), ('middlewares', 21), ('pre', 65), ('configure', 68), ('createpreset', 2), ('preset1', 2), ('preset2', 2), ('concat', 30), ('moremiddlewares', 1), ('optionallyevenmoremiddlewares', 1), ('provides', 103), ('fancy', 6), ('validation', 27), ('error', 442), ('automatic', 25), ('getters', 5), ('setters', 5), ('save', 171), ('depending', 32), ('frontend', 21), ('dependency', 86), ('philosophy', 5), ('how', 304), ('mymiddleware', 2), ('hook', 47), ('adds', 38), ('new', 541), ('every', 80), (\"'isempty'\", 1), ('boolean', 160), (\"'formfield'\", 1), ('props', 64), ('statics', 8), ('newprops', 3), ('isempty', 1), ('isfieldempty', 3), ('returning', 7), ('would', 140), ('too', 30), (\"'containsemptyfields'\", 1), (\"'userform\", 1), (\"props'\", 1), ('formnames', 2), ('keys', 90), ('getformdata', 5), ('containsemptyfields', 2), ('findindex', 1), ('formname', 3), (\"''\", 37), ('parameter', 53), ('get', 407), ('additional', 56), ('userformprops', 1), ('containing', 43), (\"form's\", 1), ('alter', 13), ('those', 52), (\"fields'\", 3), ('value', 439), ('getstatedata', 2), ('setstatedata', 2), ('methods', 102), ('stateful', 7), ('errors', 100), ('such', 97), ('hooks', 36), ('userform', 1), ('method', 199), (\"element's\", 3), ('class', 190), ('another', 76), ('decorates', 1), ('formfield', 2), ('override', 33), ('implementations', 13), ('gives', 14), ('ability', 9), ('decorate', 4), ('according', 18), ('current', 151), ('fast', 32), ('pure', 12), ('call', 123), ('low', 9), ('level', 82), ('vs', 21), ('nice', 20), ('rather', 24), ('might', 49), ('since', 77), ('cannot', 19), ('decorated', 2), (\"'title'\", 9), ('title', 119), ('onchange', 6), ('evt', 5), ('target', 96), ('credits', 18), ('initial', 33), ('idea', 25), ('grew', 2), ('enduring', 1), ('brain', 3), ('storming', 1), ('jhohlfeld', 2), ('who', 38), ('wrote', 6), ('prototype', 27), ('influence', 1), ('was', 121), ('reformed', 2), ('davezuko', 1), ('showed', 1), ('better', 60), ('way', 141), ('managing', 16), ('decorating', 2), ('whole', 15), (\"component's\", 3), ('state', 200), ('details', 116), ('status', 342), ('travis', 469), ('tomekwi', 7), ('flat', 113), ('square', 95), ('ci', 395), ('\\u2002', 6), ('coveralls', 113), ('r', 47), ('david', 137), ('dm', 125), ('array', 216), ('convert', 34), ('easily', 43), ('forth', 2), ('brings', 6), ('functional', 18), ('goodness', 2), ('arrays', 14), ('objects', 88), ('flexibility', 5), ('great', 52), ('liners', 5), ('101', 6), ('programming', 13), ('libraries', 61), ('tjmehta', 2), ('stoeffel', 2), ('asarray', 2), ('asobject', 2), ('b', 102), ('key', 336), ('©', 15), ('tomek', 2), ('wiszniewski', 2), ('md', 169), ('goinstant', 23), ('gortc', 21), ('branch', 195), ('library', 187), ('developers', 79), ('v1', 47), ('widgets', 14), ('audio', 41), ('video', 37), ('html', 817), ('glues', 1), ('together', 27), ('webrtc', 13), ('henrikjoreteg', 1), ('offer', 5), ('conferencing', 2), ('deployment', 55), ('configuration', 237), ('we', 426), ('base', 46), ('our', 124), ('widget', 32), ('sign', 39), ('free', 140), ('signup', 13), ('documentation', 221), ('leveraging', 2), ('have', 460), ('questions', 55), ('contact', 34), ('us', 119), ('chat', 48), ('irc', 30), ('freenode', 15), ('packaging', 8), ('convenience', 15), (\"we've\", 13), ('packaged', 5), ('ways', 24), ('cdn', 84), ('host', 87), ('copy', 156), ('look', 85), ('initialize', 38), ('myself', 5), ('own', 155), ('process', 164), ('tried', 6), ('include', 158), ('contributing', 125), ('dependencies', 269), ('0', 743), ('installed', 160), ('gruntjs', 92), ('getting', 183), ('started', 224), ('assumes', 11), ('already', 66), ('above', 100), ('building', 68), ('feel', 30), ('tool', 64), ('included', 94), ('installing', 44), ('runs', 34), ('succesfully', 1), ('repo', 106), ('tests', 398), ('mocha', 111), ('visionmedia', 10), (\"they're\", 2), ('reporter', 81), ('test', 596), ('mac', 13), ('runner', 62), ('top', 121), ('integrating', 10), ('realtime', 21), ('multi', 16), ('2013', 36), ('inc', 15), ('salesforce', 1), ('company', 11), ('licensed', 53), ('bsd', 6), ('clause', 7), ('jsxg', 1), ('极速星光博客', 1), ('p', 196), ('align', 77), ('center', 57), ('src', 532), ('imgur', 23), ('9rnozhx', 1), ('gif', 56), ('width', 193), ('800', 5), ('24px', 5), ('alt', 106), ('google', 172), ('chrome', 75), ('rawgit', 5), ('alrra', 4), ('logos', 16), ('2109c114', 4), ('48x48', 4), ('firefox', 41), ('safari', 22), ('💩', 2), ('microsoft', 28), ('edge', 20), ('downloads', 64), ('ikonograph', 13), ('npmcharts', 1), ('compare', 8), ('true', 508), ('official', 48), ('contactlab', 4), ('icons', 36), ('everywhere', 5), ('available', 163), ('ux', 7), ('iconography', 2), ('quick', 74), ('sprite', 14), ('external', 42), ('resource', 32), ('inclusion', 3), ('old', 27), ('iconset', 3), ('module', 301), ('branching', 3), ('policies', 3), ('zip', 54), ('manager', 63), ('yarn', 69), ('shell', 94), ('choose', 31), ('version', 386), ('symbols', 2), ('inside', 93), ('icon', 98), ('fonts', 18), ('tricks', 6), ('content', 247), ('page', 279), ('source', 250), ('tag', 86), ('24', 19), ('height', 108), ('xlink', 2), ('href', 175), ('path', 196), ('agenda', 2), ('grab', 4), ('put', 52), ('main', 116), ('div', 168), ('display', 58), ('none', 44), ('xmlns', 2), ('w3', 2), ('2000', 3), ('rest', 48), ('note', 222), ('hidden', 26), ('avoid', 24), ('blank', 48), ('space', 34), ('ikn', 3), ('element', 180), ('browsers', 53), ('support', 254), ('shadow', 2), ('dom', 78), ('polyfill', 14), (\"isn't\", 14), ('attribute', 85), ('values', 118), ('\\u200b\\u200bdynamically', 1), ('reload', 27), ('bundler', 9), ('importing', 14), (\"'ikonograph\", 1), (\"ikonograph'\", 1), ('detailed', 18), ('instruction', 19), ('refer', 26), ('pattern', 62), ('design', 53), ('feature', 88), ('bug', 32), ('fixing', 6), ('refactor', 7), ('developed', 16), ('derived', 3), ('develop', 45), ('integrate', 22), ('pull', 92), ('request', 214), ('review', 7), ('released', 18), ('distributed', 8), ('animetwist', 3), ('desktop', 20), ('beta', 11), ('anime', 4), ('twist', 5), ('moe', 2), ('go', 107), ('more', 382), ('info', 80), ('jf908', 2), ('bugs', 16), ('requests', 93), ('issues', 190), ('section', 104), ('screenshot', 33), ('mixtape', 1), ('alxbtp', 1), ('watch', 81), ('others', 10), ('sync', 15), ('internet', 21), ('themes', 36), ('come', 22), ('loaded', 39), ('appdata', 1), ('same', 122), ('specified', 89), ('chromatic', 1), ('theme', 117), ('colour', 1), ('required', 125), ('gulp', 232), ('init', 53), ('bat', 1), ('show', 77), ('hide', 23), ('developer', 114), ('console', 418), ('startup', 4), ('showdev', 1), ('hidedev', 1), ('executable', 6), ('installer', 16), ('gulpfile', 9), ('sassとjadeのコンパイルと圧縮、javascriptの圧縮とファイルの結合ができます。またbrowser', 1), ('syncによるライブリロードにも対応しています。', 1), ('エラーが出た場合は処理を停止させず、デスクトップ通知されます。コンパイル元のファイルは', 1), ('ディレクトリに置いてください。コンパイル先のファイルは', 1), ('ディレクトリに出力されます。', 1), ('使い方', 1), ('使い方は簡単で', 1), ('を実行するだけです。', 1), ('bash', 257), ('cssとjsを圧縮する場合は', 1), ('minify', 14), ('を実行します。', 1), ('cssでできることは以下の通りです。', 1), ('scssからcssにコンパイル', 1), ('mapの出力', 2), ('ベンダープレフィックスの自動付与', 1), ('csscombで整形と宣言の順番を変更', 1), ('cssファイルの圧縮', 1), ('htmlでできることは以下の通りです。', 1), ('jadeからhtmlにコンパイル', 1), ('javascriptでできることは以下の通りです。', 1), ('jsディレクトリ内の', 2), ('jsファイルを圧縮', 1), ('jsファイルを結合', 1), ('helper', 7), ('コンパイルと圧縮以外のタスク。', 1), ('syncによるライブリロード', 1), ('stylestatsでcssファイルの解析（', 1), ('として出力）', 1), ('please', 139), ('steps', 73), ('catalog', 13), ('service', 337), ('guidance', 2), ('continuous', 18), ('delivery', 13), ('follwoing', 1), ('credentials', 40), ('lines', 23), ('26', 8), ('27', 9), ('32', 12), ('xxxx', 4), ('xxxxxx', 1), ('xxxxxxxx', 1), ('\\xa0conversationworkspace', 1), ('xxx', 3), ('xxxxx', 3), ('priscillaparodi', 1), ('youtube', 21), ('medusae', 25), ('image', 221), ('soft', 1), ('jellyfish', 3), ('simulation', 1), ('physics', 15), ('graphics', 5), ('hood', 15), ('shader', 4), ('bulb', 3), ('frag', 5), ('glsl', 19), ('point', 72), ('repulsor', 1), ('pointrepulsorforce', 2), ('force', 48), ('ambient', 1), ('dust', 11), ('animation', 39), ('vert', 4), ('interpolated', 18), ('rendering', 47), ('looper', 4), ('lerp', 4), ('pos', 3), ('vertex', 2), ('webaudio', 2), ('player', 6), ('audiocontroller', 2), ('canvas', 20), ('graphcomponent', 2), ('lens', 3), ('dirt', 3), ('post', 98), ('lensdirtpass', 2), ('album', 4), ('flickr', 5), ('release', 124), ('builds', 24), ('releases', 45), ('procedural', 2), ('texture', 7), ('sketch', 3), ('canvas2d', 1), ('water', 6), ('drop', 24), ('resources', 38), ('photography', 1), ('alexander', 1), ('semenov', 4), ('paper', 2), ('advanced', 31), ('character', 9), ('thomas', 2), ('jakobsen', 1), ('article', 30), ('andrew', 1), ('petersen', 1), ('jay', 1), ('weeks', 1), ('portfolio', 5), ('jp', 1), ('arsenault', 1), ('particulate', 16), ('three', 43), ('artistic', 1), ('developing', 31), ('jayweeks', 2), ('farm2', 1), ('staticflickr', 1), ('1628', 1), ('23884999242', 1), ('457d932c7a', 1), ('h', 11), ('jpg', 45), ('jpweeks', 14), ('blob', 173), ('static', 130), ('items', 93), ('shaders', 2), ('forces', 2), ('utils', 46), ('chunks', 6), ('controllers', 55), ('processing', 20), ('photos', 5), ('sets', 49), ('72157646887502644', 1), ('glslsandbox', 1), ('20575', 1), ('jsbin', 8), ('guqodi', 1), ('11', 38), ('edit', 63), ('yoteko', 1), ('7570746886', 1), ('archive', 58), ('20080410171619', 1), ('teknikus', 1), ('dk', 1), ('tj', 3), ('gdc2001', 1), ('htm', 4), ('kirbysayshi', 1), ('09', 10), ('threejs', 1), ('particulatejs', 1), ('xkit', 69), ('small', 51), ('extension', 38), ('powers', 2), ('tweaks', 3), ('tumblr', 11), ('currently', 88), ('addons', 19), ('mozilla', 33), ('addon', 13), ('webstore', 4), ('detail', 13), ('inobiceghmpkaklcknpniboilbjmlald', 1), ('officially', 2), ('opera', 13), ('unofficially', 1), ('join', 76), ('gitter', 98), ('im', 84), ('badges', 49), ('20chat', 15), ('utm', 107), ('medium', 56), ('campaign', 28), ('pr', 55), (\"there's\", 23), ('looks', 25), ('problem', 32), (\"you're\", 93), ('having', 33), ('otherwise', 68), ('issue', 92), ('bite', 1), ('contribute', 42), ('needs', 63), ('help', 138), ('want', 302), ('finding', 3), ('going', 45), ('wrong', 24), ('long', 30), ('known', 26), ('original', 31), ('atesh', 2), ('next', 133), ('fix', 39), ('wiki', 76), ('stuck', 4), ('advice', 7), ('normally', 18), ('few', 51), ('people', 23), ('lurking', 1), ('day', 19), ('prerequisites', 45), ('quickstart', 11), ('tasks', 65), ('veeraraghavsanthosh', 4), ('sharepointconnector', 4), ('bithound', 3), ('score', 10), ('sharepoint', 51), ('client', 292), ('inherited', 2), ('sharepointer', 3), ('cian', 1), ('clarke', 1), (\"'sharepointconnector'\", 2), (\"'someusername'\", 2), (\"'somepassword'\", 2), ('authentication', 66), ('valid', 29), ('ntlm', 4), ('online', 26), ('onlinesaml', 3), (\"'ntlm'\", 2), (\"'https\", 12), ('sharepointhostname', 2), (\"com'\", 25), ('login', 123), ('err', 182), ('once', 110), ('logged', 8), ('lists', 45), ('listres', 11), ('alist', 8), ('pick', 10), ('particular', 50), (\"list's\", 1), ('fields', 60), ('listread', 1), ('log', 377), ('singleresult', 1), ('parameters', 113), ('initialising', 1), ('optional', 182), ('defaults', 145), ('descriptions', 4), ('context', 48), (\"'mycustomersite'\", 1), ('outside', 22), ('verbose', 12), ('false', 393), ('stop', 29), ('filtering', 10), ('responses', 9), ('everything', 59), ('proxy', 48), ('undefined', 48), ('hostname', 16), ('one', 224), ('strictssl', 1), ('connecting', 7), ('sp', 8), ('self', 29), ('signed', 9), ('cert', 7), ('federatedauthurl', 1), (\"'http\", 27), ('mysamlloginservice', 1), ('auth', 81), (\"'onlinesaml'\", 1), ('saml', 3), ('assertions', 10), ('forward', 12), ('rtfa', 2), ('token', 169), ('fedauth', 2), ('listitems', 12), ('fieldvaluesastext', 1), ('lookup', 20), ('text', 240), ('filterfields', 1), (\"'field1'\", 3), (\"'value1'\", 5), ('filter', 106), ('s', 133), ('selectfields', 1), (\"'field2'\", 2), ('item', 116), ('select', 128), ('expandfields', 1), ('expand', 11), ('oroperator', 1), ('enable', 61), (\"'or'\", 1), ('operation', 20), ('andoroperator', 1), (\"'andor'\", 1), ('1000', 23), (\"top'\", 1), ('response', 115), ('5000', 10), ('primer', 1), ('skip', 19), ('know', 43), ('enough', 20), ('br', 246), (\"here's\", 19), ('basics', 8), ('wanted', 19), ('product', 7), ('before', 207), ('began', 1), ('products', 19), ('premise', 1), (\"i've\", 6), ('seen', 9), ('most', 82), ('often', 32), ('365', 3), ('discussion', 9), ('board', 6), ('got', 17), ('pages', 100), ('turns', 6), ('reuses', 1), ('mentioned', 4), ('driven', 11), ('allows', 97), ('crudl', 1), (\"doesn't\", 44), ('separate', 37), ('operations', 6), ('retrieve', 16), ('confusing', 3), ('bear', 1), ('sharepoints', 1), ('remember', 23), ('almost', 8), ('nexturl', 3), (\"'1a2b3c'\", 1), (\"'2b3c4d'\", 1), (\"'5d6e7f'\", 1), ('functions', 71), ('operate', 1), ('each', 202), ('operates', 1), ('documented', 12), ('result', 160), ('requires', 62), ('description', 80), (\"'my\", 20), (\"list'\", 4), (\"'some\", 18), (\"description'\", 1), ('createres', 2), ('newly', 12), (\"'list\", 16), (\"name'\", 24), ('take', 71), ('param', 48), ('either', 70), ('guid', 1), ('tells', 7), ('quite', 15), ('bit', 33), ('returns', 162), ('different', 105), ('behaves', 3), ('offered', 1), ('find', 139), (\"'id'\", 3), ('property', 77), ('listreadresult', 13), (\"'somelisttitle'\", 1), ('returned', 38), ('alistreadresult', 1), ('optionally', 31), ('specify', 101), ('separately', 8), (\"'mynewtitle'\", 2), ('updateresult', 3), ('full', 102), ('subsequent', 6), ('needed', 55), ('deletion', 1), ('del', 15), (\"'somelistid'\", 1), ('indicate', 17), ('somethign', 1), ('went', 11), ('second', 58), ('collection', 49), ('usually', 18), ('discussed', 1), ('earlier', 16), ('retrieves', 6), ('performing', 4), ('contained', 5), ('itemsunderthislist', 1), ('represent', 7), ('paginated', 1), ('complete', 42), ('irrespective', 1), ('pagination', 8), ('takecare', 1), ('internally', 5), ('listall', 1), ('currentuser', 1), ('binary', 14), ('stream', 54), ('bytestream', 1), ('floder', 1), ('filename', 32), ('servicereqobj', 4), ('invoked', 27), ('piped', 3), (\"'request'\", 5), (\"'response'\", 4), ('pipe', 32), ('res', 66), ('bytestreambyfilepath', 1), ('ease', 13), ('course', 22), ('perform', 8), ('listitem', 9), ('responsibility', 2), ('ensure', 37), ('prior', 5), ('extraneous', 1), ('throws', 8), ('meaningful', 1), ('useful', 91), ('incorrect', 1), ('debug', 51), (\"item'\", 4), (\"'to\", 1), ('listcreateresult', 1), ('createitem', 1), ('part', 32), ('exists', 23), ('helpful', 9), ('because', 77), ('many', 71), ('attachment', 2), ('simply', 55), (\"'somelistitemid'\", 2), ('singlelistitem', 1), ('aniteminthislist', 4), ('why', 36), ('coverage', 134), ('cofeescript', 1), ('supports', 58), ('multiple', 79), ('schemas', 8), ('flow', 58), ('sso', 2), ('federated', 1), ('unit', 107), ('integration', 62), ('nock', 1), ('thus', 15), ('reducing', 1), ('amount', 39), ('includes', 45), ('jshint', 12), ('suite', 17), ('environment', 211), ('variables', 115), ('creds', 1), ('karma', 122), ('coffee', 83), ('preprocessor', 22), ('v', 108), ('devdependency', 18), ('devdependencies', 26), ('compile', 23), ('coffeescript', 14), ('fly', 9), ('easiest', 15), ('shows', 39), ('conf', 34), ('exports', 86), ('preprocessors', 3), (\"coffee'\", 3), (\"'coffee'\", 2), ('coffeepreprocessor', 1), ('compiler', 9), ('bare', 2), ('sourcemap', 20), ('transforming', 1), ('filenames', 7), ('transformpath', 1), ('replace', 105), (\"js'\", 88), ('compiled', 37), ('generated', 86), ('map', 96), ('inlined', 2), ('paths', 34), ('match', 108), ('traversing', 1), ('basepath', 1), ('goes', 29), ('information', 158), ('homepage', 19), ('tintup', 6), ('platform', 67), ('wrapped', 12), ('reactjs', 15), ('hosted', 26), ('positiveignition', 1), ('family', 5), ('tint', 4), ('sahakian', 2), ('feeds', 9), ('facebook', 121), ('purpose', 42), ('effort', 6), ('focusing', 4), ('creation', 23), ('scratch', 4), ('implementation', 57), ('3rd', 7), ('party', 19), ('template', 196), ('tailored', 1), ('modified', 12), ('leverages', 2), ('authored', 1), ('removing', 7), ('extra', 24), ('unused', 3), ('elements', 91), ('integrated', 16), ('designed', 31), ('rendered', 17), ('displayed', 27), ('along', 27), ('associated', 39), ('router', 56), ('smooth', 2), ('single', 77), ('minimum', 18), ('load', 80), ('times', 22), ('between', 73), ('navigation', 15), ('frameworks', 27), ('jquery', 124), ('ui', 272), ('boilerplate', 183), ('bootstrap', 254), ('font', 42), ('awesome', 72), ('mixitup', 1), ('edster9', 1), ('local', 118), ('todo', 82), ('search', 106), ('flux', 9), ('buildstatus', 8), ('experimental', 13), ('stability', 8), ('nodei', 24), ('uglify', 43), ('comment', 34), ('squash', 2), ('uglifycss', 4), ('v0', 13), ('promise', 54), ('es6', 68), ('guide', 74), ('its', 131), ('uglifyinstruction', 8), ('aggregateinstruction', 3), ('compress', 10), ('really', 26), ('callback', 290), ('generic', 9), ('addition', 22), ('typical', 10), ('apps', 99), ('doctype', 10), ('head', 59), ('meta', 27), ('equiv', 2), ('ua', 14), ('compatible', 28), ('ie', 28), ('sample', 73), ('viewport', 17), ('scale', 5), ('controller', 69), ('surrounded', 1), ('sources', 12), ('referencing', 7), ('commentprocessing', 3), (\"'comment\", 1), (\"processing'\", 1), (\"'uglify\", 2), (\"instruction'\", 1), ('addinstruction', 1), (\"'uglify'\", 7), ('factory', 29), (\"'src'\", 6), (\"'dist\", 8), (\"public'\", 1), ('transformfile', 1), (\"'src\", 43), (\"html'\", 40), ('public', 177), ('basically', 6), ('registry', 6), ('configured', 48), ('hand', 13), ('instances', 25), ('two', 115), ('mandatory', 11), ('locate', 3), ('transformation', 8), ('uglified', 2), ('additionally', 5), ('third', 28), ('handed', 2), ('comes', 31), ('again', 26), ('cases', 34), ('sourcedirectory', 1), ('targetdirectory', 1), ('uglifyconfig', 1), ('pmentz', 8), ('repos', 33), ('20', 44), ('20experimental', 1), ('orange', 5), ('round', 17), ('iojs', 7), ('co', 48), ('compact', 2), ('cordova', 11), ('ekonstantinidis', 2), ('images', 196), ('gulpjs', 10), ('rackt', 1), ('rachet', 1), ('goratchet', 1), ('less', 58), ('lesscss', 2), ('fontawesome', 11), ('8000', 30), ('order', 76), ('remove', 109), ('removes', 10), ('installs', 6), ('re', 46), ('setupinterview', 6), ('docpad', 11), ('markup', 13), ('interview', 1), ('split', 21), ('sections', 14), ('answers', 2), ('workflows', 3), ('almirfilho', 1), ('requirements', 50), ('incredibly', 2), ('permissive', 4), ('loopinfinito', 1), ('wikipedia', 21), ('software', 282), ('licence', 10), ('creativecommons', 15), ('licenses', 37), ('socket', 144), ('picture', 16), ('prepare', 11), (\"'gulp'\", 4), ('starts', 18), ('continous', 1), ('leave', 15), ('while', 75), ('detect', 12), ('trigger', 55), ('does', 94), ('likely', 11), (\"'sudo\", 1), (\"gulp'\", 3), ('owner', 18), ('shown', 21), (\"'gulp\", 10), (\"server'\", 1), ('8080', 29), ('systemd', 2), ('workingdirectory', 1), ('picturce', 1), ('systemctl', 1), ('rebooting', 1), ('machine', 35), ('jasmine', 38), ('study', 2), ('testing', 152), ('inedit', 1), ('camphor', 6), ('latest', 155), ('stable', 22), ('endpoints', 10), ('camera', 2), ('写真を撮影して', 1), ('形式でレスポンスを返す', 1), ('要認証', 2), ('uploads', 14), ('撮影した写真を提供する', 1), ('用', 1), ('material', 46), ('angularjs', 146), ('directive', 49), ('automated', 9), ('forms', 21), ('generation', 16), ('metadata', 21), ('gwavesolutions', 1), ('greg', 2), ('scope', 60), ('samplemetadata', 2), ('textfield', 5), ('label', 106), ('left', 76), ('isgeek', 2), ('checkbox', 19), ('geek', 1), ('valueobj', 3), ('corresponding', 26), ('gkc', 2), ('model', 90), ('yield', 10), ('simpleform', 1), ('representing', 22), ('types', 48), (\"'greg'\", 1), ('clicks', 6), ('follows', 20), ('motivation', 10), ('had', 15), ('occasions', 1), ('professional', 3), ('career', 1), ('approach', 31), ('generating', 25), ('views', 91), ('were', 29), ('typically', 8), ('settings', 83), ('k', 6), ('sheets', 1), ('conjunction', 6), ('auto', 45), ('db', 91), ('calls', 27), ('manipulating', 4), ('especially', 6), ('handy', 6), ('extensive', 7), ('numerous', 2), ('quickly', 22), ('stab', 2), ('tools', 126), ('cloning', 15), (\"'ui\", 8), (\"builder'\", 1), ('builder', 15), ('allowing', 13), ('definition', 31), ('switch', 30), ('datepicker', 19), ('heading', 1), ('separator', 18), ('describing', 2), ('filed', 1), ('tooltip', 67), ('spec', 64), ('fa', 11), ('eye', 6), ('lg', 7), ('besides', 6), ('exist', 21), ('specific', 126), ('placed', 13), ('side', 87), ('300px', 2), ('give', 35), ('good', 45), ('subheader', 1), ('general', 37), ('texfield1', 1), ('divider', 14), ('textfield2', 1), ('textfield3', 1), ('checkbox1', 1), ('box', 35), ('switch1', 1), ('star', 4), ('select1', 1), ('150px', 1), ('down', 58), ('choice', 19), ('datepicker1', 1), ('picker', 40), ('select2', 2), ('c', 100), ('d', 37), ('optimized', 30), ('browsersync', 4), ('mode', 109), ('protractor', 86), ('launch', 30), ('e2e', 38), ('clean', 42), ('todos', 34), ('still', 69), ('toy', 1), ('am', 21), ('planing', 1), ('grow', 5), ('supporting', 7), ('regex', 15), ('area', 14), ('populated', 2), ('flexible', 13), ('layout', 81), ('standalone', 18), ('elaborate', 1), ('comments', 16), ('tech', 2), ('technologies', 12), ('enhanced', 2), ('modern', 19), ('generator', 61), ('starter', 149), ('ace', 1), ('editor', 67), ('streaming', 4), ('nanhmean', 21), ('computes', 2), ('harmonic', 10), ('ignoring', 2), ('numeric', 5), ('compute', 16), ('browserify', 29), ('substack', 2), (\"'compute\", 2), (\"nanhmean'\", 2), ('arr', 1), ('nan', 6), ('mu', 1), ('7088', 1), ('calculate', 3), ('positive', 7), ('real', 24), ('numbers', 16), ('contains', 99), ('negative', 10), ('nonsensical', 1), ('consider', 9), ('12', 34), ('arithmetic', 2), ('33333', 1), ('never', 22), ('greater', 3), ('similarly', 8), ('zero', 17), ('infinity', 3), ('10000', 11), ('textbook', 1), ('sense', 17), ('equal', 45), ('length', 33), ('else', 51), ('math', 13), ('random', 25), ('notes', 31), ('equivalent', 8), ('hence', 4), ('d1', 2), ('d2', 2), ('mochajs', 8), ('chai', 24), ('chaijs', 8), ('validate', 10), ('correct', 20), ('istanbul', 27), ('gotwarlost', 7), ('report', 24), ('cov', 5), ('creates', 42), ('reports', 12), ('opensource', 17), ('copyright', 121), ('2014', 58), ('athan', 1), ('reines', 1), ('ng', 81), ('synaps', 7), ('pics', 8), ('ctrl', 7), ('imageurl', 3), ('300', 20), ('200', 38), ('crop', 4), ('fit', 15), ('retina', 2), ('hero', 2), ('400', 6), ('lazy', 10), ('loading', 89), ('global', 102), ('configurations', 15), (\"'mymodule'\", 1), (\"'synaps\", 1), (\"pics'\", 1), ('synapspicsconfigprovider', 3), ('sethttpsdisabled', 1), ('setserviceurl', 1), ('alias', 17), ('mysite', 1), ('website', 134), ('introduction', 20), ('projects', 82), ('worked', 5), ('posts', 20), ('videos', 15), ('lil', 1), ('hobby', 1), ('utilizes', 6), ('amazon', 14), ('services', 114), ('ec2', 3), ('hosting', 29), ('s3', 59), ('balancer', 1), ('scaling', 4), ('manage', 32), ('traffic', 6), ('aws', 97), ('added', 105), ('\\r', 136), ('\\rto', 1), ('tidy', 2), ('\\rserver', 1), ('\\rtwo', 1), ('cfg', 2), ('secret', 134), ('ports\\r\\rupdate', 1), ('imf', 1), ('data\\r\\r', 1), ('\\rsudo', 1), ('apt', 21), ('essential', 5), ('mongodb\\r\\rsudo', 1), ('artillery', 1), ('forever', 5), ('14', 25), ('1\\r', 2), ('nb', 1), ('\\r\\rnpm', 1), ('install\\rbower', 1), ('install\\rgulp\\r\\r', 1), ('\\rnode', 1), ('js\\r\\r', 1), ('contents', 52), ('\\r3', 1), ('programs', 5), ('\\rpython', 1), ('csvtojson', 1), ('converts', 9), ('csv', 9), ('json\\rpython', 1), ('converter', 12), ('position\\rboth', 1), ('gulp\\r\\rgulpfile', 1), ('describes', 3), ('all\\r\\rserver', 1), ('app\\rcan', 1), ('\\rforever', 1), ('list\\rforever', 1), ('\\r\\rthere', 1), ('bson', 2), ('removed', 44), ('stackoverflow', 35), ('21656420', 1), ('failed', 14), ('regarding', 8), ('happen', 12), ('portable', 3), ('\\r\\r', 2), ('updates\\r', 1), ('updates', 25), ('u\\r', 1), ('install\\r\\r', 1), ('restore', 4), ('\\rmongorestore', 1), ('backuped', 1), ('databases', 10), ('taken', 10), ('located', 11), ('mongodbdump\\r\\r', 1), ('certificates', 5), ('\\rcurrently', 1), ('renew', 1), ('ssl', 23), ('periodically', 1), ('restarted', 2), ('friendlist', 1), ('3000', 82), ('lint', 56), ('webpack', 154), ('wifi', 1), ('network', 37), ('enabled', 43), ('reported', 7), ('cause', 16), ('problems', 37), ('vm', 12), ('missing', 27), ('purposefully', 1), ('hot', 33), ('loader', 51), ('reloading', 12), ('disabled', 40), ('minification', 7), ('styles', 81), ('combine', 4), ('kits', 2), ('gaearon', 15), ('vimeo', 2), ('100010922', 1), ('jchapron', 1), ('2015', 54), ('08', 9), ('redux', 129), ('secure', 36), ('atomantic', 25), ('bespoke', 20), ('markdalgleish', 2), ('mdash', 4), ('min', 152), ('max', 49), ('managers', 13), ('raw', 68), ('shipped', 3), ('umd', 11), ('umdjs', 2), ('meaning', 8), ('commonjs', 21), ('amd', 18), ('modules', 155), (\"'bespoke'\", 1), (\"'bespoke\", 1), (\"atomantic'\", 1), (\"presentation'\", 3), ('globals', 7), ('control', 92), ('gifs', 2), ('speed', 6), ('iterations', 9), ('ping', 53), ('pong', 1), ('wait', 20), ('deck', 4), ('task', 114), (\"'x\", 2), (\"gif'\", 2), (\"'node\", 4), ('dest', 56), ('repeating', 2), ('filling', 3), ('jade', 64), ('fullscreen', 5), ('perfect', 9), ('beardscratch', 2), ('fill', 25), ('h2', 6), ('waits', 1), ('stopped', 10), ('bespoketheme', 2), ('author', 45), ('adam', 2), ('eivy', 1), ('architect', 3), ('drawing', 2), ('dad', 1), ('night', 1), ('his', 15), ('beetle', 1), ('royale', 1), ('beetleroyale', 1), ('follow', 88), ('him', 1), ('interwebs', 1), ('adameivy', 1), ('gratipay', 3), ('antic', 3), ('twitter', 173), ('social', 31), ('beerpay', 7), ('hey', 3), ('dude', 1), ('couple', 6), ('beers', 1), ('beer', 3), ('wish', 19), ('focus', 22), ('lux', 7), ('html5', 36), ('presentation', 33), ('goals', 5), ('simplicity', 11), ('syntax', 77), ('highlighting', 7), ('remote', 61), ('popup', 6), ('window', 103), ('screen', 41), ('mobile', 41), ('implmented', 1), ('jamiemill', 1), ('23', 7), ('ie9', 2), ('skeleton', 11), ('warning', 27), ('overwrites', 1), ('visit', 41), ('computer', 14), ('clicking', 13), (\"'control\", 1), (\"window'\", 1), ('checked', 7), ('become', 15), ('h1', 14), ('eslint', 41), ('njakob', 6), ('personal', 24), ('airbnb', 22), ('styleguide', 16), ('conventionalcommits', 1), ('conventional', 2), ('commits', 10), ('20commits', 1), ('yellow', 11), ('es5', 22), ('flowtype', 7), ('sav', 2), ('eslintrc', 3), ('extends', 29), ('changelog', 34), ('podcast', 8), ('discovery', 23), ('podcasts', 8), ('episodes', 2), ('pd', 2), ('solely', 1), ('focused', 5), ('consuming', 2), ('subscribe', 26), (\"podcaster's\", 1), ('feed', 31), ('however', 64), ('discoverability', 1), ('addressed', 3), ('episode', 4), ('talks', 2), ('scala', 1), ('bob', 4), ('martin', 3), ('doing', 24), ('solve', 22), ('giving', 12), ('powerful', 22), ('across', 17), ('hundreds', 5), ('interface', 50), ('podcastdiscovery', 2), (\"discovery's\", 1), ('backend', 56), ('python', 41), ('analysis', 9), ('keyword', 7), ('itunes', 11), ('results', 82), ('rss', 11), ('both', 64), ('analyzed', 1), ('keywords', 3), ('datastore', 7), ('indexed', 36), ('elasticsearch', 1), ('recommendation', 1), ('engine', 93), ('recommend', 43), ('enhancements', 2), ('sharing', 7), ('expansion', 1), ('mediums', 1), ('channels', 9), ('blogs', 2), ('permission', 58), ('hereby', 28), ('granted', 29), ('charge', 30), ('person', 46), ('obtaining', 31), (\"'software'\", 6), ('deal', 31), ('restriction', 28), ('limitation', 29), ('rights', 30), ('modify', 64), ('merge', 40), ('publish', 63), ('distribute', 31), ('sublicense', 28), ('sell', 31), ('copies', 58), ('permit', 27), ('persons', 33), ('whom', 27), ('furnished', 28), ('subject', 43), ('conditions', 35), ('notice', 70), ('shall', 55), ('substantial', 27), ('portions', 30), (\"'as\", 6), (\"is'\", 7), ('warranty', 31), ('kind', 41), ('implied', 32), ('limited', 40), ('warranties', 29), ('merchantability', 30), ('fitness', 32), ('noninfringement', 27), ('event', 210), ('authors', 47), ('holders', 29), ('liable', 29), ('claim', 27), ('damages', 29), ('liability', 27), ('whether', 60), ('action', 218), ('contract', 31), ('tort', 27), ('arising', 28), ('dealings', 27), ('cloud', 85), ('circle', 13), ('circleci', 28), ('gh', 58), ('littlebits', 5), ('lightweight', 10), ('wrapper', 39), (\"'littlebits\", 1), (\"http'\", 1), (\"'askdjfldaksjfkdlsjfdkl234324'\", 1), (\"'foobar'\", 2), ('abstracting', 5), ('devices', 17), ('neat', 7), ('playing', 10), ('around', 23), (\"'foobar2'\", 4), ('argument', 111), ('overriding', 32), ('mutating', 1), ('payload', 23), ('percent', 4), ('50', 24), ('duration', 57), ('ms', 39), ('desired', 19), ('hm', 12), ('arguments', 123), ('repetitive', 1), ('lets', 30), ('always', 65), ('pass', 68), ('handle', 51), ('elliminates', 1), ('logging', 43), ('mutate', 6), ('entirely', 5), ('assert', 17), ('infinitly', 1), ('recrusive', 1), ('psychotic', 1), ('ad', 2), ('infinitum', 2), ('introspected', 1), ('passing', 49), ('stock', 3), ('instnace', 1), ('littlebitscloud', 2), (\"cc'\", 2), (\"'2'\", 3), ('fin', 1), (\"you've\", 30), ('signatures', 4), ('disposal', 1), ('fun', 9), ('abbreviated', 1), ('uniformly', 1), ('accepted', 3), ('snake', 1), ('camelcase', 4), ('names', 29), ('activate', 7), ('fyi', 2), ('associates', 1), ('attained', 1), ('deactivate', 1), ('dectivate', 1), ('send', 69), ('amplitude', 9), ('float', 13), ('integer', 21), ('light', 21), ('green', 23), ('blue', 17), ('purple', 1), ('white', 21), ('cyan', 1), ('clownbarf', 1), ('blink', 1), ('hold', 9), ('subscriptions', 8), ('sub', 32), ('pub', 12), ('subscriber', 11), ('matches', 27), ('publisher', 7), ('subscription', 14), ('unsubscribe', 13), ('events', 93), ('delta', 6), ('ignite', 2), ('sustain', 1), ('nap', 1), ('active', 37), ('idle', 1), ('subscribers', 6), ('except', 26), ('variadic', 1), ('polymorphic', 1), ('defintions', 1), ('arity', 5), ('f', 36), ('void', 25), (\"'foobar\", 6), (\"id'\", 12), ('500', 13), ('omit', 5), ('patched', 3), ('customize', 26), ('refers', 3), ('alternatively', 38), ('argued', 1), ('certain', 42), ('useless', 2), ('harmless', 1), ('argue', 3), ('rapid', 4), ('helps', 13), ('unhandled', 2), ('callbacks', 11), ('trivial', 2), ('noop', 8), ('mutated', 2), ('place', 48), ('against', 41), ('equals', 5), (\"'api\", 2), ('servers', 21), ('oauth', 46), ('authorize', 2), ('requsts', 1), ('respectively', 8), ('lipp', 9), ('stateless', 1), ('microservice', 6), ('reddit', 18), ('linkedin', 42), ('instagram', 33), ('mixer', 13), ('strava', 10), ('prs', 11), ('welcome', 54), ('zeit', 7), ('subdomain', 18), ('yours', 2), ('yourdomain', 26), ('success', 40), ('failure', 10), (\"url'\", 1), ('successful', 8), ('cookies', 7), ('jwt', 53), ('profile', 40), ('respective', 4), ('tokens', 27), ('sensitive', 7), ('accessible', 14), ('photo', 16), ('toplevel', 2), ('domain', 49), ('subdomains', 2), (\"cookie's\", 1), ('flag', 29), ('websites', 8), ('webservices', 3), ('supported', 62), (\"auth0's\", 1), ('sdks', 2), ('plan', 9), ('auth0', 15), ('ghsponsor', 2), ('media', 36), ('logo', 77), ('done', 127), ('lw', 82), ('session', 47), ('cookie', 20), ('maxage', 11), ('age', 7), ('store', 89), ('days', 9), ('cookiename', 2), (\"profile's\", 1), (\"token's\", 1), ('dynamic', 25), ('scopes', 5), ('off', 49), ('explicit', 1), ('foo', 129), ('derive', 3), ('ok', 30), ('unless', 31), ('guessed', 2), ('authorization', 32), ('clientid', 27), ('clientsecret', 27), ('redirects', 3), ('appid', 9), ('appsecret', 2), ('oauth2', 10), ('consumerkey', 5), ('consumer', 22), ('consumersecret', 5), (\"mixer's\", 1), ('logout', 2), ('clears', 6), ('expect', 62), ('query', 61), ('redirect', 21), ('encodeuricomponent', 3), ('proper', 10), ('escaping', 4), ('forget', 15), ('say', 15), ('properly', 20), ('served', 11), ('visiting', 1), ('strategy', 12), ('finally', 20), ('redirected', 6), ('nextjs', 1), ('prevent', 19), ('wildcard', 2), ('secrets', 10), ('80', 4), ('bleno', 103), ('sandeepmistry', 15), ('implementing', 11), ('ble', 12), ('bluetooth', 30), ('energy', 3), ('peripherals', 3), ('central', 7), ('noble', 6), ('oses', 4), ('xcode', 12), ('apple', 14), ('ca', 8), ('id497799835', 4), ('mt', 4), ('ubuntu', 10), ('kernel', 3), ('libbluetooth', 6), ('bluetoothd', 3), ('bluez', 21), ('debian', 3), ('raspbian', 3), ('sudo', 62), ('libudev', 1), ('fedora', 4), ('rpm', 4), ('yum', 6), ('libs', 12), ('devel', 4), ('intel', 9), ('edison', 9), ('le', 7), ('smart', 25), ('rexstjohn', 3), ('gyp', 24), ('tootallnate', 7), ('visual', 44), ('studio', 41), ('visualstudio', 15), ('aspx', 10), ('hci', 12), ('usb', 6), ('adapter', 62), ('winusb', 3), ('msdn', 3), ('hardware', 6), ('ff540196', 3), ('85', 3), ('driver', 9), ('zadig', 6), ('akeo', 3), (\"'bleno'\", 3), ('actions', 84), ('advertising', 37), ('poweredon', 5), (\"'statechange'\", 5), ('register', 40), (\"'name'\", 12), ('serviceuuids', 6), (\"'fffffffffffffffffffffffffffffff0'\", 6), ('startadvertising', 3), ('limits', 5), (\"uuid's\", 9), ('bytes', 20), ('128', 11), ('uuid', 32), ('ibeacon', 6), (\"'e2c56db5dffb48d2b060d0f5a71096e0'\", 3), ('major', 20), ('0x0000', 12), ('0xffff', 12), ('minor', 21), ('measuredpower', 6), ('59', 6), ('127', 18), ('startadvertisingibeacon', 3), ('peripheral', 3), ('connectable', 3), ('eir', 6), ('scandata', 6), ('buffer', 32), ('31', 10), ('advertisementdata', 6), ('startadvertisingwitheirdata', 3), ('specification', 13), ('docman', 3), ('handlers', 6), ('downloaddoc', 3), ('ashx', 3), ('doc', 77), ('229737', 3), ('18', 12), ('stopadvertising', 3), ('primaryservice', 15), ('setservices', 3), ('disconnect', 15), ('rssi', 12), ('updaterssi', 3), ('primary', 23), (\"'fff0'\", 3), ('characteristics', 4), ('characteristic', 52), (\"'fffffffffffffffffffffffffffffff1'\", 3), (\"'fff1'\", 3), ('properties', 64), ('combination', 11), (\"'read'\", 6), (\"'write'\", 6), (\"'writewithoutresponse'\", 6), (\"'notify'\", 6), (\"'indicate'\", 6), ('security', 25), ('null', 149), ('descriptors', 3), ('descriptor', 19), ('onreadrequest', 6), ('handler', 61), ('offset', 25), ('onwriterequest', 6), ('withoutresponse', 6), ('onsubscribe', 6), ('notify', 38), ('maxvaluesize', 6), ('updatevaluecallback', 9), ('onunsubscribe', 6), ('onnotify', 6), ('sent', 20), ('onindicate', 3), ('confirmation', 4), ('received', 21), ('codes', 12), ('invalid', 19), ('unlikely', 3), ('constructor', 55), ('extending', 24), ('async', 105), ('changed', 42), ('subcribe', 3), (\"'2901'\", 3), (\"'value'\", 21), ('unknown', 7), ('resetting', 8), ('unsupported', 4), ('unauthorized', 3), ('poweredoff', 3), ('advertisement', 7), (\"'advertisingstart'\", 3), (\"'advertisingstarterror'\", 3), (\"'advertisingstop'\", 3), (\"'servicesset'\", 3), (\"'servicesseterror'\", 3), ('accept', 14), (\"'accept'\", 4), ('clientaddress', 6), (\"'disconnect'\", 5), (\"'rssiupdate'\", 3), ('setcap', 6), ('eip', 3), ('eval', 10), ('readlink', 3), ('grants', 4), ('privileges', 4), ('libcap2', 6), ('bin', 34), ('su', 4), (\"'yum\", 3), ('adapters', 10), ('hci0', 3), ('variable', 77), ('hci1', 3), (\"'os'\", 3), ('0x2a00', 3), ('characterisic', 3), ('behaviour', 4), ('setting', 57), ('enviroment', 6), ('interval', 27), ('milliseconds', 13), ('intervals', 3), ('000', 16), ('lightblue', 9), ('ios', 15), ('id557428110', 3), ('id639944780', 3), ('nrf', 3), ('panel', 16), ('play', 31), ('nordicsemi', 3), ('android', 27), ('mcp', 3), ('hl', 3), ('hcitool', 6), ('die', 11), ('man', 9), ('gatttool', 3), ('sandeep', 6), ('mistry', 6), ('gmail', 33), ('analytics', 14), ('ga', 9), ('beacon', 6), ('appspot', 5), ('56089547', 3), ('pixel', 4), ('igrigorik', 3), ('requirement', 6), ('targeted', 1), ('ignore', 14), ('viber', 12), ('susi', 4), ('ai', 1), ('messenger', 14), (\"susi's\", 1), ('accounts', 12), ('bots', 1), ('messages', 62), ('receives', 23), ('figure', 8), ('fork', 32), ('customer', 6), ('emails', 9), ('interaction', 11), ('newea', 1), ('getpermissionforpa', 1), ('instructions', 50), ('verification', 12), ('indicated', 1), ('right', 98), ('discover', 2), ('publicaccoutstartscreen', 1), (\"'480'\", 9), ('270', 10), ('bottom', 20), ('publicaccountsecondscreen', 1), ('joining', 2), ('20account', 1), ('continue', 10), ('infopublicaccount', 1), ('editaccountdetails', 1), ('choosechatsoln', 1), ('publicaccountkey', 1), (\"token'\", 6), ('enclose', 3), ('forked', 5), ('dashboard', 35), ('createherokuapp', 1), ('webhook', 3), ('33', 3), ('enclosed', 1), ('connect', 73), ('herokugithubconnect', 1), ('intend', 4), ('deploys', 2), ('branchselection', 1), ('herokudeployment', 1), ('message', 140), ('successfully', 14), ('statusmessageforwebhook', 1), ('symbol', 6), ('indicating', 4), ('topright', 1), ('enjoy', 14), ('chatting', 1), ('susichat', 1), ('boxen', 1), ('grid', 29), ('tsauvajon', 2), ('tutor', 3), ('tutoring', 1), ('schools', 1), ('tutorapp', 1), ('bdaa7', 1), ('firebaseapp', 3), ('firebase', 36), ('monterey', 48), ('appveyor', 20), ('cc265tb7drdf9wh6', 2), ('jeroenvinke', 8), ('extensible', 9), ('graphical', 4), ('simplify', 5), ('maintenance', 8), ('aurelia', 19), ('applications', 59), ('githubusercontent', 54), ('assets', 147), ('2712405', 2), ('18616102', 2), ('e62fe9b2', 2), ('7d83', 2), ('11e6', 6), ('8a6d', 2), ('5fec2da95fed', 2), ('buttons', 23), ('nuts', 6), ('nl', 12), ('win32', 4), ('decoration', 8), ('f8bivof', 2), ('darwin', 2), ('8mvzdvo', 2), ('9qnkhas', 2), ('toolkits', 8), ('gitbooks', 8), ('technical', 14), ('gitbook', 2), ('chapter', 3), ('explains', 17), ('stats', 20), ('que', 1), ('utiliza', 1), ('criação', 1), ('arquivo', 1), ('tutorial', 72), ('20chatbot', 1), ('pdf', 27), ('ou', 1), ('rpg', 4), ('utilities', 20), ('role', 37), ('games', 3), ('submodule', 1), ('individually', 2), ('depends', 22), ('seek', 9), ('rot', 1), ('pixi', 11), ('zounds', 1), ('int', 8), (\"1's\", 1), (\"0's\", 1), ('omitted', 6), ('considered', 10), ('upper', 4), ('border', 11), ('lower', 14), ('objectorarray', 2), ('numerical', 3), ('dice', 5), ('representation', 13), ('understands', 3), ('notations', 1), ('3d6', 1), ('sided', 4), ('2d', 5), ('rolls', 4), ('highest', 1), ('roll', 12), ('l', 16), ('previous', 38), ('lowest', 3), ('2d4', 1), ('constant', 96), (\"'d'\", 11), ('met', 11), ('wearer', 2), ('primitive', 2), ('pathkey', 1), ('nested', 24), (\"property'\", 1), ('slingrequirements', 4), ('race', 4), (\"'elf'\", 2), (\"'halfling'\", 2), ('str', 14), ('dex', 4), ('goodhobbit', 2), ('nobleelf', 2), ('dirtyork', 1), (\"'human'\", 1), ('istrue', 3), (\"'good\", 1), (\"hobbit'\", 1), (\"'noble\", 1), (\"elf'\", 1), ('isfalse', 2), ('dirtyhuman', 1), (\"'dirty\", 1), (\"ork'\", 1), ('staffrequirements', 3), ('subclass', 4), (\"'elementalist'\", 2), (\"'necromancer'\", 1), ('archmage', 2), (\"'manauser'\", 2), ('apprentice', 2), ('young', 2), ('modifiers', 5), ('apply', 31), ('num', 3), ('modifier', 10), ('applies', 11), ('percentage', 24), ('prototree', 3), ('implements', 9), ('modelling', 1), ('gameprogrammingpatterns', 1), ('prototypes', 6), ('modeling', 3), ('game', 14), ('designer', 8), ('friendly', 23), ('yaml', 9), ('ini', 4), ('wants', 7), ('inherit', 11), ('proto', 7), ('weapontree', 2), (\"weapon'\", 3), ('weapon', 1), (\"'if\", 1), (\"'weapon'\", 1), (\"'generic\", 3), (\"sword'\", 7), ('sword', 3), ('slot', 3), (\"'righthand'\", 1), ('twohandedsword', 1), ('istwohanded', 2), (\"'two\", 1), (\"'very\", 1), ('heavy', 4), (\"'class'\", 4), (\"'warrior'\", 2), ('ar', 4), ('15', 30), ('flamberg', 1), (\"'twohandedsword'\", 1), (\"'flamberg'\", 2), (\"'flamberg\", 1), ('flaming', 1), ('wavy', 1), ('blade', 1), ('espada', 1), (\"'espada'\", 3), (\"'scout'\", 2), (\"espada'\", 1), ('rapier', 1), (\"'rapier'\", 3), (\"'rapier\", 1), ('gladius', 1), (\"'gladius'\", 1), (\"'short\", 1), ('close', 30), ('quarters', 1), (\"'bard'\", 1), ('weapons', 7), ('inventory', 9), ('manipulation', 5), ('consists', 10), ('least', 17), ('equipped', 4), ('maps', 7), ('carried', 2), ('slots', 3), ('throw', 41), ('exceptions', 9), ('unequip', 2), ('slotname', 6), ('takes', 46), ('puts', 4), ('equipfrominventory', 1), ('wear', 1), ('ommited', 1), (\"item's\", 1), ('ped', 1), ('iswearable', 1), ('laying', 1), ('weared', 1), ('suitable', 4), ('submodules', 1), ('loaders', 7), ('define', 62), (\"'rpg\", 2), (\"inventory'\", 2), ('rpgtoolsinventory', 2), ('handled', 16), ('rpgtools', 2), ('es2015', 17), ('folders', 30), ('adapt', 4), ('mjsarfatti', 2), ('svn', 1), ('trunk', 1), ('peerdependencies', 1), ('sed', 1), (\"'s\", 16), (\"g'\", 1), ('xargs', 1), ('ps', 4), ('personalize', 1), ('though', 11), ('jsx', 39), ('concatenate', 3), ('scss', 15), ('autoprefix', 1), ('inject', 18), ('rules', 54), ('php', 95), ('192', 2), ('168', 1), ('ip', 13), ('polyfills', 13), ('fetch', 43), ('more…', 1), ('commands', 58), ('explained', 7), ('quicker', 4), (\"'dirty'\", 2), ('txt', 19), ('tab', 35), ('watching', 5), ('utility', 11), ('sometimes', 20), (\"let's\", 26), ('assume', 7), ('receive', 31), ('implement', 29), ('block', 76), ('encounters', 1), ('word', 8), ('forgotten', 1), ('committing', 2), ('pushing', 1), ('diff', 32), ('z', 4), ('oldrev', 2), ('newrev', 3), ('echo', 9), ('cat', 2), ('dirty', 1), ('nerror', 1), ('forgot', 5), ('exit', 6), ('fi', 4), ('ref', 18), ('refs', 7), ('heads', 8), ('staging', 7), ('esac', 1), ('tusk', 7), ('share', 25), ('sass', 72), ('lang', 14), ('compass', 5), ('fortawesome', 5), ('templates', 141), ('lingual', 1), ('i18n', 51), ('fnando', 2), ('packages', 148), ('sinon', 12), ('he', 18), ('ignored', 15), ('layouts', 7), ('partials', 19), ('stylesheets', 14), ('accessable', 1), ('jst', 1), ('vendor', 29), ('combined', 6), ('gruntfile', 62), (\"'grunt\", 14), (\"tusk'\", 1), (\"'components\", 24), ('underscore', 21), ('backbone', 40), ('javascripts', 2), ('marionette', 3), ('affix', 1), ('alert', 31), ('carousel', 8), ('collapse', 19), ('dropdown', 18), ('modal', 23), ('popover', 7), ('scrollspy', 1), ('transition', 13), ('typeahead', 1), (\"img'\", 14), (\"'images'\", 2), (\"font'\", 1), (\"'fonts'\", 1), (\"bower's\", 2), ('domenic', 1), ('rc5', 1), ('elentok', 1), ('faster', 17), ('hebdomad', 7), ('retunable', 1), ('instrument', 1), ('experiment', 4), ('microtuning', 1), ('explore', 7), ('xenharmonic', 1), ('music', 4), ('brianginsburg', 2), ('bundled', 14), ('foundation', 42), ('sites', 11), ('favorite', 10), ('gnu', 13), ('affero', 7), ('thuselem', 1), ('published', 20), ('🚀', 1), ('natural', 25), ('language', 51), ('classifier', 25), ('h3', 5), ('demonstrates', 4), ('semantic', 63), ('f0', 4), ('9f', 4), ('93', 7), ('a6', 2), ('9a', 2), ('e10079', 2), ('trade', 2), ('deep', 14), ('learning', 14), ('techniques', 3), ('predictions', 1), ('best', 43), ('predefined', 14), ('classes', 26), ('short', 24), ('sentences', 1), ('phrases', 1), ('directing', 1), ('location', 45), ('answering', 1), ('question', 4), ('training', 11), ('texts', 1), (\"hasn't\", 4), ('confidence', 4), ('registration', 17), ('apikey', 12), ('configuring', 20), ('trained', 2), ('weather', 19), ('train', 9), ('curl', 11), ('u', 29), ('tutorialclassifier', 1), ('classifiers', 1), ('cp', 4), ('obtained', 1), ('configures', 2), ('east', 5), ('region', 18), ('iam', 2), ('x4rbi8vwzmkpxfowas3gasa7vdy17qh7km5d6ezklhl2', 1), ('gateway', 8), ('watsonplatform', 3), ('sydney', 1), ('522be', 2), ('7b41', 2), ('ab44', 2), ('dec3', 2), ('g1eab2ha73c6', 2), ('a4z5bdgenrwu8', 1), ('syd', 1), ('locally', 36), ('foundry', 18), ('ibmcloud', 3), ('organization', 4), ('cf', 27), ('manifest', 30), ('yml', 37), ('unique', 27), ('mybluemix', 3), ('├──', 146), ('routes', 61), ('│\\xa0\\xa0', 18), ('└──', 75), ('entry', 39), ('practice', 10), ('mmm', 9), ('fhem', 17), ('magicmirror', 7), ('michmich', 2), ('temperature', 2), ('humidity', 4), ('magic', 7), ('mirror', 4), ('benroe', 3), ('screenshot1', 1), ('screenshot2', 4), ('sup', 2), ('navigate', 40), (\"magicmirror's\", 1), (\"haven't\", 19), ('reset', 37), ('hard', 13), (\"'mmm\", 1), (\"fhem'\", 1), ('position', 52), (\"'bottom\", 1), (\"bar'\", 5), (\"'localhost'\", 7), (\"'8083'\", 1), ('devicename', 4), (\"'fhemdevicename1'\", 2), ('devicereadings', 4), (\"'temperature'\", 3), (\"'wi\", 5), ('wi', 5), (\"thermometer'\", 3), ('suffix', 25), ('deg', 3), (\"'humidity'\", 2), (\"humidity'\", 2), (\"'fhemdevicename2'\", 1), (\"'battery'\", 1), (\"'fa\", 1), ('battery', 2), (\"half'\", 1), ('table', 296), ('thead', 18), ('tr', 76), ('th', 45), ('tbody', 22), ('td', 102), ('necessary', 28), ('raspberry', 4), ('pi', 4), ('8083', 1), ('unsorted', 1), ('room', 12), ('internals', 1), ('readings', 2), ('erikflowers', 1), ('initialloaddelay', 1), ('delay', 6), ('updateinterval', 1), ('86400000', 1), ('hours', 6), ('60000', 1), ('minute', 6), ('relo', 12), ('reruns', 1), ('reloads', 1), ('occur', 4), ('followed', 10), ('dir1', 3), ('file1', 2), ('hello', 24), ('detected', 3), ('printed', 3), ('somewhat', 2), ('unusual', 2), ('separates', 3), ('clearly', 2), ('flags', 7), ('intended', 15), ('sigint', 3), ('subprocess', 2), ('restart', 24), ('runserver', 1), ('program', 12), ('manages', 3), ('w', 11), ('interrupt', 2), ('signal', 7), ('let', 63), ('parallel', 11), ('immediately', 7), ('waiting', 5), ('independent', 3), ('group', 59), ('launched', 3), ('sighup', 1), ('sigterm', 1), ('sigkill', 1), ('teamcity', 24), ('integartion', 1), ('conomic', 6), ('smell', 9), ('clux', 6), ('smelly', 1), ('logs', 39), ('emitted', 12), ('warn', 10), ('bubbles', 1), ('uncaughterror', 1), ('rely', 3), ('decision', 3), ('emission', 3), ('expose', 4), ('someone', 10), ('deals', 1), ('emit', 22), ('somehow', 2), (\"'smell'\", 1), (\"work'\", 2), (\"'this\", 4), ('failobject', 1), (\"module'\", 4), (\"'info'\", 9), (\"'warn'\", 5), (\"'err'\", 1), ('ludicrum', 2), ('micro', 1), ('haggerston', 13), ('alongside', 2), ('construction', 8), ('ideas', 11), ('behind', 8), ('webroo', 1), ('articles', 49), ('familiar', 28), ('been', 104), ('loadnpmtasks', 13), (\"haggerston'\", 1), (\"project's\", 17), ('named', 32), ('initconfig', 47), ('plain', 37), ('relative', 43), (\"'out'\", 1), ('destination', 17), ('contentpath', 2), (\"'content'\", 8), ('generally', 13), ('favour', 3), ('templatespath', 1), (\"'templates'\", 1), ('swig', 14), ('swigfilters', 1), ('filters', 29), ('paularmstrong', 3), ('swigtags', 1), ('swigextensions', 1), ('extensions', 18), ('satisfactory', 1), (\"'source'\", 1), ('templatepath', 1), (\"'source\", 1), (\"templates'\", 3), (\"'deploy'\", 1), ('tagged', 13), ('drafts', 2), ('isdraft', 2), ('templatedata', 1), ('generatedrafts', 1), ('ommitted', 4), ('lieu', 10), ('formal', 10), ('care', 27), ('maintain', 23), ('coding', 36), ('history', 34), ('nothing', 20), ('engineering', 8), ('routable', 22), ('bigpipe', 2), ('expression', 27), ('inspired', 19), ('route', 48), ('parser', 14), ('goal', 14), ('parse', 12), (\"url's\", 5), (\"'use\", 7), (\"strict'\", 7), (\"'routable'\", 1), ('construct', 3), (\"foo'\", 8), ('patterns', 57), ('expressions', 14), ('xregexp', 1), ('regularexpression', 2), (\"fooo'\", 1), ('capturing', 5), ('exec', 11), ('normal', 15), ('foobar', 3), ('bar', 76), (\"'foo'\", 18), ('baz', 16), ('solver', 1), ('cross', 34), ('authenticating', 2), ('clients', 26), ('signin', 9), ('compliant', 11), ('identity', 15), ('protocols', 4), ('crossclientauth', 2), ('standards', 10), ('serial', 10), ('whitelist', 12), ('email', 142), ('bertrandmartel', 2), ('jedireza', 2), ('drywall', 4), ('tokeninfo', 2), ('endpoint', 17), ('entries', 9), ('authorized', 8), ('4747', 6), ('mongolab', 10), ('27017', 24), (\"gcrossclient'\", 2), ('logformat', 2), ('addr', 3), ('iso', 4), ('agent', 6), ('companyname', 2), ('projectname', 4), (\"'google\", 2), (\"client'\", 4), ('systememail', 2), (\"'yourmail\", 8), ('cryptokey', 2), (\"'k3yb0ardc4t'\", 2), ('loginattempts', 2), ('forip', 2), ('foripanduser', 2), ('logexpiration', 2), (\"'20m'\", 2), ('requireaccountverification', 2), ('disablesignup', 2), ('smtp', 28), (\"website'\", 2), ('address', 130), (\"'password'\", 17), (\"'smtp\", 2), ('redirecturi', 2), ('postmessage', 2), ('private', 36), ('pem', 2), ('thirdpart', 2), ('webservice', 27), ('cors', 12), ('gcrossclient', 2), ('admingroups', 2), ('insert', 15), (\"'root'\", 14), ('admins', 10), ('last', 56), (\"'admin'\", 4), (\"'root\", 2), (\"admin'\", 2), ('groups', 16), ('rootadmin', 8), ('findone', 8), ('isactive', 2), (\"'yes'\", 7), ('roles', 7), ('rootuser', 6), ('1234', 18), ('begin', 11), ('contain', 43), ('much', 41), ('apis', 28), ('signout', 4), ('tokensignin', 2), ('refresh', 31), ('grant', 6), ('additionnal', 4), ('protected', 4), ('header', 76), ('bearer', 7), ('defined', 68), ('decoded', 3), ('ext', 10), ('authstatus', 4), ('deviceid', 7), ('61c8e927a533e30b4785aebcecd5a031b3a06f73', 2), ('akofsdro2323232323', 2), ('accesstoken', 2), ('encode', 7), ('decode', 6), ('jsonwebtoken', 4), ('cert2', 4), ('fs', 19), ('readfilesync', 4), ('algorithm', 10), (\"'hs512'\", 2), ('compose', 36), ('vars', 10), ('envsubst', 4), ('home', 62), ('bobby', 2), ('stackfile', 10), ('revise', 2), ('stack', 68), ('redeploy', 4), ('2016', 32), ('2018', 3), ('bertrand', 3), ('martel', 2), ('c3', 46), ('masayuki0812', 14), ('d3', 14), ('reusable', 11), ('chart', 61), ('enables', 14), ('deeper', 6), ('charts', 16), ('c3js', 27), ('gettingstarted', 1), ('samples', 23), ('htdocs', 3), ('simplehttpserver', 1), ('related', 24), ('forum', 19), ('queue', 4), ('reporting', 13), ('defects', 1), ('catch', 34), ('enquiries', 1), ('involving', 1), ('interplay', 1), ('posted', 5), ('posting', 3), ('duplicate', 3), ('jsfiddle', 3), ('plunkr', 1), ('unnecessary', 8), ('isolate', 2), ('fact', 6), ('advised', 3), ('descriptive', 4), ('hash', 37), ('—', 16), ('relevant', 9), ('\\xa0pull', 1), ('desirable', 1), ('bump', 23), ('playground', 4), ('fiddle', 2), ('7kyju', 2), ('flattr', 8), ('category', 8), ('phosphor', 9), ('domutil', 9), ('phosphorjs', 6), ('working', 47), ('scm', 19), ('rebuild', 12), ('runtimes', 1), ('runtime', 22), ('versions', 56), ('listed', 15), ('guarantees', 1), ('38', 3), ('declarations', 5), ('typescript', 34), ('quorra', 13), ('interactive', 7), ('visualization', 4), ('visualizations', 1), ('rel', 16), ('stylesheet', 42), ('mbostock', 3), ('jashkenas', 3), ('coming', 15), ('soon', 27), ('wil', 2), ('interactivity', 1), ('fundamental', 6), ('investigation', 1), ('languages', 10), ('commonly', 9), ('being', 51), ('popular', 29), ('statistical', 1), ('analyses', 1), ('bprinty', 5), ('feedback', 21), ('tracker', 24), ('versioning', 6), ('mark', 18), ('appropriately', 2), ('improvement', 2), ('rst', 1), ('contibuting', 1), ('promo', 2), ('cider', 1), ('toner', 29), ('summary', 14), ('wrap', 23), ('effects', 10), ('tone', 22), ('getelementbyid', 21), (\"'logo'\", 3), ('sepia', 4), ('70', 5), ('brightness', 4), ('patrickreynolds', 16), ('getelementsbyclassname', 3), (\"'photo'\", 2), ('invert', 1), ('contrast', 2), ('140', 1), ('tones', 2), ('grayscaletone', 2), ('createtone', 1), ('grayscale', 1), (\"'grayscale'\", 1), ('applied', 17), ('addfilters', 3), (\"'logo2'\", 4), ('previously', 15), ('removefilters', 2), ('opacity', 8), (\"'logo3'\", 1), ('saturate', 2), ('removetone', 1), ('bounds', 4), ('checking', 12), ('per', 32), ('increase', 4), ('requestanimationframe', 2), ('incrementation', 1), ('decrementation', 1), ('fortune', 4), ('ninja', 165), ('interfaces', 8), ('initialise', 1), ('fixturetemplates', 1), ('fixture', 2), ('fortuneclient', 2), ('baseurl', 2), ('thin', 4), ('configurable', 10), ('requesto', 2), ('fixturefactory', 2), ('mechanism', 17), ('efficiently', 3), ('prepopulating', 1), ('segregate', 1), ('move', 32), ('swagger2typescript', 3), ('definitions', 18), ('ts', 31), ('swagger', 5), ('audiogram', 25), ('🔊', 1), ('🎥', 1), ('shareable', 2), ('clips', 3), ('audiograms', 2), ('wnyc', 4), ('707576942837374976', 1), ('notetoselfpodcast', 1), ('597741940383645', 1), ('751089421026402304', 1), ('brianlehrerwnyc', 1), ('1045228085513942', 1), ('unlike', 9), ('citizen', 1), ('embed', 11), ('autoplay', 4), ('improve', 22), ('experiences', 1), ('further', 15), ('piece', 14), ('accompanying', 4), ('visuals', 1), ('waveform', 2), ('caption', 9), ('backstory', 1), ('e648e8a5f2e9', 1), ('8888', 4), ('supply', 6), ('9999', 4), ('2120446', 1), ('17450988', 1), ('7e6c4ea2', 1), ('5b31', 1), ('8f90', 1), ('b32fec6864c3', 1), ('mp3', 1), ('wav', 1), ('promises', 18), ('preview', 29), ('menu', 48), ('onto', 4), ('break', 18), ('consecutive', 1), ('spaces', 7), ('assign', 15), ('captions', 3), ('nypublicradio', 12), ('tiny', 5), ('thing', 56), ('drag', 12), ('portion', 4), ('hear', 2), ('selected', 47), ('controls', 20), ('pause', 7), ('reason', 13), ('ready', 64), ('customizing', 8), ('defines', 16), ('dimensions', 3), ('colors', 32), ('spacing', 1), ('meant', 15), (\"what's\", 18), ('vertical', 7), ('comfortable', 1), ('substantially', 1), ('suit', 4), ('pointers', 1), ('shape', 10), ('animations', 20), ('wavebarsbricks', 1), ('ffmpeg', 1), ('encoders', 1), ('gradients', 1), ('extend', 34), ('wishlist', 1), ('captioning', 1), ('high', 13), ('priority', 15), ('future', 32), ('improvements', 11), ('emoji', 5), ('direct', 8), ('estimate', 2), ('lifting', 1), ('lambda', 3), ('17', 22), ('ultimately', 3), ('priorities', 2), ('knowing', 3), ('variety', 4), ('nypr', 1), ('brands', 1), ('strongly', 3), ('implies', 3), ('unmute', 2), ('enhancement', 4), ('frames', 1), ('peakiest', 1), ('frame', 3), ('entire', 15), ('little', 12), ('obvious', 5), ('thumbnail', 9), ('dots', 2), ('dancing', 1), ('direction', 12), ('wavebars', 1), ('veltman', 2), ('contributors', 43), ('noah', 1), ('matt', 9), ('oberle', 1), ('sahar', 1), ('baharloo', 1), ('delaney', 1), ('simmons', 1), ('york', 3), ('radio', 11), ('flipturn', 1), ('wiring', 1), ('reducers', 7), ('communications', 3), ('fury', 51), ('showpad', 4), ('2fangular', 2), ('q', 50), ('spread', 23), ('bo', 6), ('replacement', 34), ('resolved', 8), ('resolve', 22), ('chained', 20), ('compatibility', 12), (\"'test'\", 8), (\"spread'\", 1), ('testctrl', 3), ('myservice', 3), ('firstcallback', 2), ('firstname', 9), ('lastname', 7), ('anothercallback', 2), ('fullname', 3), ('failurecallback', 2), (\"'could\", 1), ('getfirstname', 1), ('getlastname', 1), (\"scope'\", 1), (\"q'\", 1), (\"'myservice'\", 1), (\"'testctrl'\", 1), ('overlays', 24), ('robust', 11), ('overlay', 17), ('demos', 26), ('abstracted', 4), ('blockings', 4), ('polished', 4), ('bring', 6), ('modals', 5), ('tooltips', 8), ('boostrap', 4), (\"api's\", 6), ('until', 30), ('cleanly', 4), ('breaking', 16), ('patches', 5), ('accompany', 4), ('patch', 14), ('sidewinder', 1), ('cheminfo', 4), ('disclaimer', 7), ('very', 48), ('stay', 6), ('tuned', 2), ('mimoto', 50), ('ultra', 3), ('fluid', 4), ('management', 40), ('microframework', 2), ('composer', 27), ('gearman', 6), ('memcached', 2), ('worker', 34), ('aimless', 12), ('cms', 14), ('workers', 15), ('userinterface', 2), ('instalation', 2), ('broadcasting', 4), ('fire', 11), ('keeps', 4), ('entity', 7), ('oriented', 3), ('protocol', 9), ('presenting', 3), ('typecasted', 2), ('debugging', 36), ('notifications', 27), ('notification', 19), ('silent', 9), (\"'log'\", 16), (\"'a\", 5), (\"notification'\", 2), ('aware', 11), ('rush', 2), (\"'silent\", 2), (\"notice'\", 2), ('paramater', 2), (\"we'll\", 12), (\"'another\", 5), (\"test'\", 3), (\"warning'\", 6), ('attention', 2), (\"'uh\", 2), ('oh', 3), (\"error'\", 3), ('broken', 9), ('counters', 4), ('aesy', 2), ('notificatin', 2), ('closed', 7), ('counter', 28), ('hiding', 6), ('count', 38), ('hits', 6), ('toggleclasses', 2), ('onzero', 2), ('htmlelement', 13), ('dataset', 15), ('soemone', 2), ('miss', 5), ('enter', 43), (\"aimless's\", 2), ('rule', 19), ('delayed', 3), ('broadcast', 5), ('webevent', 2), ('platforms', 14), ('connected', 22), ('complex', 26), ('structures', 3), ('cheap', 3), ('price', 7), ('complexity', 3), ('decreases', 3), ('brianlmoon', 2), ('slug', 10), ('urls', 27), ('titles', 4), ('preg', 5), ('49', 4), ('weblap', 2), ('ro', 2), ('accent', 4), (\"'à'\", 4), (\"'á'\", 4), (\"'â'\", 4), (\"'ã'\", 4), (\"'ä'\", 4), (\"'å'\", 4), (\"'æ'\", 4), (\"'ç'\", 4), (\"'è'\", 4), (\"'é'\", 4), (\"'ê'\", 4), (\"'ë'\", 4), (\"'ì'\", 4), (\"'í'\", 4), (\"'î'\", 4), (\"'ï'\", 4), (\"'ð'\", 2), (\"'ñ'\", 4), (\"'ò'\", 4), (\"'ó'\", 4), (\"'ô'\", 4), (\"'õ'\", 4), (\"'ö'\", 4), (\"'ø'\", 4), (\"'ù'\", 4), (\"'ú'\", 4), (\"'û'\", 4), (\"'ü'\", 4), (\"'ý'\", 4), (\"'ß'\", 2), (\"'ÿ'\", 4), (\"'ā'\", 4), (\"'ă'\", 4), (\"'ą'\", 4), (\"'ć'\", 4), (\"'ĉ'\", 4), (\"'ċ'\", 4), (\"'č'\", 4), (\"'ď'\", 4), (\"'đ'\", 4), (\"'ē'\", 4), (\"'ĕ'\", 4), (\"'ė'\", 4), (\"'ę'\", 4), (\"'ě'\", 4), (\"'ĝ'\", 4), (\"'ğ'\", 4), (\"'ġ'\", 4), (\"'ģ'\", 4), (\"'ĥ'\", 4), (\"'ħ'\", 4), (\"'ĩ'\", 4), (\"'ī'\", 4), (\"'ĭ'\", 4), (\"'į'\", 4), (\"'i̇'\", 2), (\"'ı'\", 2), (\"'ĳ'\", 4), (\"'ĵ'\", 4), (\"'ķ'\", 4), (\"'ĺ'\", 4), (\"'ļ'\", 4), (\"'ľ'\", 4), (\"'ŀ'\", 4), (\"'ł'\", 4), (\"'ń'\", 4), (\"'ņ'\", 4), (\"'ň'\", 4), (\"'ŉ'\", 2), (\"'ō'\", 4), (\"'ŏ'\", 4), (\"'ő'\", 4), (\"'œ'\", 4), (\"'ŕ'\", 4), (\"'ŗ'\", 4), (\"'ř'\", 4), (\"'ś'\", 4), (\"'ŝ'\", 4), (\"'ş'\", 4), (\"'š'\", 4), (\"'ţ'\", 4), (\"'ť'\", 4), (\"'ŧ'\", 4), (\"'ũ'\", 4), (\"'ū'\", 4), (\"'ŭ'\", 4), (\"'ů'\", 4), (\"'ű'\", 4), (\"'ų'\", 4), (\"'ŵ'\", 4), (\"'ŷ'\", 4), (\"'ź'\", 4), (\"'ż'\", 4), (\"'ž'\", 4), (\"'ſ'\", 2), (\"'ƒ'\", 2), (\"'ơ'\", 4), (\"'ư'\", 4), (\"'ǎ'\", 4), (\"'ǐ'\", 4), (\"'ǒ'\", 4), (\"'ǔ'\", 4), (\"'ǖ'\", 4), (\"'ǘ'\", 4), (\"'ǚ'\", 4), (\"'ǜ'\", 4), (\"'ǻ'\", 4), (\"'ǽ'\", 4), (\"'ǿ'\", 4), (\"'a'\", 85), (\"'ae'\", 8), (\"'c'\", 26), (\"'e'\", 36), (\"'i'\", 40), (\"'n'\", 18), (\"'o'\", 48), (\"'u'\", 64), (\"'y'\", 12), (\"'s'\", 21), (\"'g'\", 16), (\"'h'\", 8), (\"'ij'\", 4), (\"'j'\", 4), (\"'k'\", 4), (\"'l'\", 20), (\"'oe'\", 4), (\"'r'\", 12), (\"'t'\", 12), (\"'w'\", 4), (\"'z'\", 12), (\"'f'\", 2), ('strtolower', 2), ('za', 5), ('z0', 7), ('lo', 2), ('rem', 2), ('ipsum', 4), ('dolor', 4), ('sit', 7), ('amet', 4), ('consectetur', 4), ('lorem', 2), ('seed', 95), ('specifically', 8), ('stackfull', 2), ('unchanged', 2), ('browse', 12), ('\\ufeff', 6), ('quantumui', 300), ('native', 48), ('life', 10), ('complately', 6), ('mvvm', 7), ('25', 18), ('lots', 15), ('css3', 13), ('sanitize', 15), ('animate', 29), ('momentjs', 21), ('moment', 53), ('documentations', 8), ('appdoc', 24), ('documents', 52), ('theni', 6), ('glyphicon', 6), ('ionicons', 11), ('ouantumui', 12), ('qunatumui', 6), ('bottons', 12), ('pageable', 42), ('checkboxgroup', 7), ('yes', 173), ('radiogroup', 6), ('toggle', 15), ('modalbox', 6), ('aside', 11), ('responsive', 22), ('accordion', 7), ('colorpicker', 7), ('scrollbar', 7), ('range', 49), ('slider', 10), ('providing', 21), ('minified', 34), ('variations', 6), ('│', 107), ('exclude', 42), ('nojq', 54), ('indexcontroller', 6), ('mixins', 15), (\"quantumui's\", 6), ('temporary', 28), ('plunker', 12), ('plnkr', 10), ('umkblkharfv0cwdjf5lh', 6), ('mehmet', 12), ('ötkün', 6), ('mehmetotkun', 6), ('contributecode', 6), ('community', 24), ('creative', 16), ('commons', 14), ('attribution', 14), ('unported', 7), ('cc', 11), ('anywhere', 15), ('we’ll', 7), ('highly', 17), ('appreciate', 7), ('plus', 13), ('communities', 7), ('113269892759760815339', 6), ('angularui', 6), ('linkedin2', 6), ('b6tk', 6), ('bcn', 6), ('92', 6), ('672', 6), ('17b', 6), ('getbootstrap', 10), ('customization', 13), ('smashingmagazine', 1), ('03', 14), ('ex', 6), ('hugueschabot', 1), ('occurence', 1), ('15157360', 1), ('distribution', 14), ('rinse', 1), ('repeat', 5), ('satisfied', 3), ('streamus™', 1), ('streamus', 3), ('alternative', 18), ('instructional', 1), ('brief', 1), ('donation', 2), ('requirejs', 12), ('backbonejs', 5), ('coinbase', 3), ('bitcoin', 10), ('unveil', 1), ('zopim', 1), ('streamuswebsite', 1), ('spitout', 1), ('anything', 28), ('touched', 1), ('contrib', 18), ('imagemin', 1), ('uploading', 3), ('pretty', 18), ('bulky', 1), ('v2', 19), ('meomix', 1), ('contributor', 1), ('prakhar1989', 6), ('tagging', 2), (\"gmail's\", 1), ('autocomplete', 47), ('suggestion', 12), ('keyboard', 15), ('mouse', 12), ('reorder', 3), ('excuse', 2), ('wild', 2), ('honest', 6), ('surveyman', 2), ('unable', 7), ('inventing', 1), ('wheel', 1), ('came', 3), ('prakhar', 2), ('preferred', 3), ('reacttags', 26), ('prefer', 10), ('reactdnd', 2), ('dnd', 6), ('dependancy', 1), ('initializes', 4), ('suggestions', 30), ('apart', 3), ('webpackbin', 2), ('41dvgmvv', 1), ('reactdom', 10), (\"'react\", 28), (\"dom'\", 4), ('withcontext', 2), (\"input'\", 7), ('createclass', 6), ('getinitialstate', 2), ('apples', 3), ('banana', 1), ('mango', 2), ('pear', 2), ('apricot', 1), ('handledelete', 5), ('splice', 4), ('setstate', 12), ('handleaddition', 5), ('handledrag', 6), ('currpos', 4), ('newpos', 4), (\"'app'\", 6), ('contexts', 3), ('draggable', 6), ('withoutcontext', 1), (\"i'd\", 5), ('love', 10), ('tagsoption', 2), ('suggestionsoption', 3), ('delimiters', 7), ('placeholder', 27), ('placeholderoption', 3), ('labelfield', 3), ('labelfieldoption', 2), ('handleadditionoption', 2), ('handledeleteoption', 2), ('handledragoption', 2), ('handlefiltersuggestions', 5), ('autofocus', 5), ('allowdeletefromemptyinput', 5), ('handleinputchange', 6), ('handleinputblur', 6), ('minquerylength', 4), ('removecomponent', 9), ('readonly', 4), ('basis', 12), ('showing', 19), ('pineapple', 1), ('specifies', 9), ('characters', 14), ('terminate', 4), ('country', 3), ('press', 14), ('carriage', 1), ('drags', 1), ('executed', 20), ('whenever', 14), ('filtered', 7), ('expected', 16), ('matched', 8), ('entered', 4), ('logic', 43), ('behavior', 23), ('textinputvalue', 2), ('possiblesuggestionsarray', 2), ('lowercasequery', 2), ('tolowercase', 2), ('ecmascript', 18), ('capabilities', 10), ('autofocused', 1), ('deleted', 5), (\"'delete'\", 1), ('pressed', 4), ('onblur', 1), (\"you'd\", 22), ('anchor', 4), ('child', 22), ('classname', 22), ('onclick', 10), ('illustrated', 1), ('enhancing', 1), ('ensuring', 2), ('matching', 27), ('delimiter', 12), ('delimeter', 3), ('autocompleted', 1), ('renders', 21), ('disables', 5), ('styling', 26), ('taginput', 2), ('taginputfield', 2), ('classnames', 2), (\"'tagsclass'\", 1), (\"'taginputclass'\", 1), (\"'taginputfieldclass'\", 1), (\"'selectedclass'\", 1), (\"'tagclass'\", 1), (\"'removeclass'\", 1), (\"'suggestionsclass'\", 1), ('8090', 1), ('thanks', 38), ('lea', 1), (\"verou's\", 1), ('awesomeplete', 1), ('leaverou', 1), ('awesomplete', 1), ('dan', 4), (\"abramov's\", 1), ('insanely', 1), (\"who've\", 1), ('far', 9), ('v4', 7), ('l83', 2), ('mathiasbynens', 2), ('mapper', 9), ('interact', 6), ('able', 49), ('generates', 16), ('rescue', 1), ('mapping', 11), ('accessing', 18), ('dispatch', 2), ('apireducer', 2), ('reducer', 19), ('making', 32), ('memoryapi', 1), ('memory', 23), ('apiprovider', 1), ('apiconnect', 1), ('provider', 19), ('fetchhttplayer', 1), ('layer', 7), ('xhrhttplayer', 1), ('xhr', 7), ('layers', 4), ('gugamm', 2), ('pager', 2), ('cache', 79), ('v3', 10), ('repositories', 3), (\"'repos'\", 1), (\"'getrepos'\", 1), (\"'users\", 1), (\"repos'\", 1), ('common', 40), ('parts', 13), ('fullfill', 1), ('createmapper', 2), (\"'redux\", 13), (\"mapper'\", 1), (\"yourstorefile'\", 1), ('getrepos', 1), (\"'gugamm'\", 1), ('advantage', 5), ('ianli', 1), ('sc', 4), ('موقع', 1), ('جمعية', 1), ('الإرادة', 1), ('للثقافة', 1), ('والتنمية', 1), ('sizes', 4), ('632', 1), ('107', 2), ('940', 2), ('150', 3), ('ratio', 6), ('205', 2), ('405', 1), ('kickoff', 4), ('koa', 31), ('seconds', 10), ('expermiment', 1), ('wiht', 1), ('elastic', 1), ('beanstalk', 8), ('nginx', 12), ('forwards', 1), ('bobbykostadinov', 4), ('alone', 5), ('withouth', 1), ('harmony', 3), ('bundle', 67), ('bunyan', 1), ('logger', 105), ('requst', 1), ('exposing', 5), ('tracked', 1), ('loads', 16), ('cover', 11), ('supplid', 1), ('sceleton', 1), ('health', 8), ('monitors', 3), ('holds', 7), ('fits', 1), ('forecast', 7), ('electron', 129), ('joshuakleveter', 1), (\"repo's\", 1), ('deps', 6), ('clear', 21), ('kit', 75), ('frustrations', 1), ('checkpoint', 1), ('understand', 23), ('practices', 11), ('scaleable', 1), ('shower', 60), ('pictures', 7), ('250', 6), (\"'ʃəuə\", 4), ('noun', 4), ('vanilla', 8), ('separated', 8), ('printable', 4), ('shwr', 8), ('ribbon', 12), ('unzip', 8), ('you’re', 23), ('shower’s', 4), ('l2oelk', 4), ('hiro', 4), ('installable', 6), ('pepelsbey', 36), ('pres', 28), ('sharp', 10), ('knife', 4), ('fixes', 23), ('curves', 9), ('explorer', 18), ('it’s', 14), ('historical', 9), ('jahson', 8), ('miripiruni', 8), ('kizu', 8), ('artpolikarpov', 8), ('tonyganch', 8), ('zloylos', 8), ('wp', 18), ('storefront', 1), ('la', 9), ('creación', 1), ('una', 2), ('tienda', 1), ('digital', 4), ('w20', 4), ('seedstack', 5), ('rich', 7), ('formly', 2), ('copyrighted', 2), ('terms', 8), ('mpl', 1), (\"mo'\", 1), ('nads', 7), ('drug', 1), ('algebraic', 1), ('datatypes', 1), ('curates', 1), ('readily', 3), ('applicable', 11), ('fantasy', 2), ('land', 2), ('fantasyland', 2), ('monad', 3), ('folktale', 9), ('applicative', 2), ('wraps', 3), ('computations', 1), ('fail', 23), ('outputs', 97), ('dgtable', 39), ('interactions', 4), ('sorting', 16), ('column', 147), ('moving', 7), ('columns', 40), ('resizing', 5), ('cell', 26), ('hovering', 2), ('rtl', 1), ('mix', 11), ('absolute', 18), ('widths', 2), ('virtual', 17), ('thousands', 16), ('rows', 31), ('giant', 1), ('amounts', 5), ('fixed', 42), ('scrollbars', 1), ('scroll', 56), ('automate', 7), ('validating', 2), ('closure', 8), ('uglifyjs', 6), ('jsdoc', 4), ('difference', 8), ('closue', 1), ('indentations', 1), ('validates', 1), ('hi', 2), ('daniel', 4), ('cohen', 2), ('gindi', 2), ('danielgindi', 2), (\"that's\", 29), ('invested', 1), ('investing', 4), ('donate', 9), ('paypalobjects', 2), ('btn', 7), ('paypal', 15), ('cgi', 3), ('webscr', 1), ('cmd', 22), ('xclick', 1), ('g22lplj79nbyq', 1), ('mytable', 5), ('datapath', 2), ('comparepath', 1), ('comparison', 2), ('30', 14), (\"'30\", 1), ('decimal', 11), (\"table's\", 3), (\"header's\", 1), ('resizable', 3), ('sortable', 3), ('movable', 3), ('visible', 18), ('cellclasses', 2), ('ignoremin', 1), ('suggested', 4), ('horizontal', 10), ('virtualtable', 1), ('resizablecolumns', 2), ('movablecolumns', 2), ('sortablecolumns', 3), ('sort', 47), ('adjustcolumnwidthforsortarrow', 1), ('accommodate', 2), ('arrow', 19), ('relativewidthgrowstofillwidth', 2), ('relativewidthshrinkstofillwidth', 1), ('shrink', 2), ('convertcolumnwidthstorelative', 1), ('relatives', 1), ('autofilltablewidth', 1), ('stretched', 1), ('proportionally', 1), ('supersede', 1), ('cells', 2), ('sortcolumn', 1), ('descending', 10), ('sorted', 11), ('cellformatter', 2), ('columnname', 7), ('rowdata', 1), ('formatter', 17), ('headercellformatter', 1), (\"cell's\", 3), ('rowsbuffersize', 1), ('mincolumnwidth', 3), ('35', 8), ('pixels', 1), ('resizeareawidth', 1), ('resize', 2), ('oncomparatorrequired', 1), ('comparator', 1), ('resizerclassname', 1), (\"'dgtable\", 3), (\"resize'\", 1), ('dragged', 1), ('tableclassname', 1), (\"'dgtable'\", 1), ('allowcellpreview', 2), ('truncated', 1), ('allowheadercellpreview', 1), ('toggling', 2), ('headers', 28), ('cellpreviewautobackground', 1), ('cellpreviewclassname', 1), (\"preview'\", 1), (\"wrapper'\", 6), ('el', 6), ('row', 81), ('args', 40), ('triggered', 27), ('renderskeleton', 1), ('finished', 10), ('cellpreview', 3), ('1st', 18), (\"preview's\", 2), ('2nd', 8), (\"row's\", 10), (\"column's\", 10), ('4th', 5), ('5th', 2), ('stage', 13), ('calling', 20), ('hidecellpreview', 2), ('cellpreviewdestroy', 1), ('destroyed', 2), ('headerrowcreate', 1), ('headerrowdestroy', 1), ('physical', 4), ('rowcreate', 1), ('3nd', 3), ('rowdestroy', 1), ('addrows', 2), ('addcolumn', 2), ('removecolumn', 2), ('movecolumn', 2), ('moved', 5), ('showcolumn', 1), ('hidecolumn', 1), ('columnwidth', 1), ('resized', 1), ('constructs', 3), ('headercontextmenu', 1), ('pagex', 1), ('pointer', 2), ('pagey', 1), ('outerwidth', 1), ('outerheight', 1), ('member', 10), ('eventname', 5), ('listener', 11), ('shot', 4), ('clearandrender', 1), ('setcolumns', 1), ('columndata', 2), ('manner', 10), ('initializing', 16), ('inserted', 4), ('chaining', 17), ('setfilter', 1), ('filterfunc', 2), ('passes', 18), ('setcellformatter', 1), ('setheadercellformatter', 1), ('casesensitive', 3), ('setcolumnlabel', 1), ('reverses', 1), ('resort', 5), ('specifiers', 1), ('setcolumnvisible', 1), ('visibility', 7), ('iscolumnvisible', 1), ('setmincolumnwidth', 1), ('getmincolumnwidth', 1), ('setsortablecolumns', 1), ('limit', 12), ('concurrent', 4), ('sortedh', 1), ('getsortablecolumns', 1), ('getheaderrowelement', 1), ('setmovablecolumns', 1), ('undocumented', 17), ('getmovablecolumns', 1), ('setresizablecolumns', 1), ('getresizablecolumns', 1), ('setcomparatorcallback', 1), ('comparatorcallback', 1), ('setcolumnwidth', 1), ('getcolumnwidth', 1), ('getcolumnconfig', 1), ('serialized', 3), ('getcolumnsconfig', 1), ('getsortedcolumns', 1), ('gethtmlforcell', 1), ('encoded', 4), ('getdataforrow', 1), ('getrowcount', 1), ('getindexforrow', 1), ('finds', 4), ('getfilteredrowcount', 1), ('getindexforfilteredrow', 1), ('getdataforfilteredrow', 1), ('getrowelement', 1), ('physicalrowindex', 5), ('getrowypos', 1), ('y', 24), ('tablewidthchanged', 1), ('tableheightchanged', 1), ('resorts', 2), ('removerow', 1), ('removerows', 1), ('refreshrow', 1), ('refreshes', 3), ('refreshallvirtualrows', 1), ('setrows', 1), ('rests', 1), ('geturlforelementcontent', 1), ('isworkersupported', 1), ('createwebworker', 1), ('unbindwebworker', 1), ('destroy', 11), ('virtually', 1), ('appropriate', 13), ('boxerjs', 8), ('lightbox', 21), ('teaches', 4), ('programmers', 2), ('tell', 28), ('lessons', 17), ('matter', 6), ('tweet', 4), ('happy', 7), ('“the', 1), ('formulation', 1), ('albert', 1), ('einstein', 1), ('mind', 19), ('roadmap', 14), ('previews', 2), ('limitations', 3), ('restrictions', 7), ('freedom', 2), ('proof', 1), ('thumbnails', 5), ('formatted', 6), ('thumb', 9), ('correspondingly', 1), ('agnostic', 7), ('compression', 5), ('anchors', 2), ('purposes', 9), ('accessibility', 1), ('iterate', 8), ('children', 21), ('blocks', 35), ('boxer', 14), ('dog1', 2), ('dog', 13), ('dog2', 2), ('pin', 5), ('nopin', 5), ('dog3', 2), ('attached', 22), ('parent', 30), ('optimize', 6), ('delegation', 5), ('makes', 54), ('prevents', 8), ('chrisbautista', 7), ('wget', 7), ('lt', 10), ('gt', 6), ('closing', 2), ('selector', 17), ('overlayname', 1), ('previewoverlay', 1), ('600', 4), ('indicator', 3), ('indicators', 1), ('chris', 3), ('bautista', 1), ('troubleshooting', 18), ('thought', 5), ('shoot', 1), ('codespud', 1), ('pluralsight', 2), ('coryhouse', 2), ('hall', 1), ('fame', 1), ('🎉', 1), ('fellow', 1), ('viewers', 1), ('mention', 3), ('toolbox', 2), ('blueprint', 4), ('blueprintjs', 2), ('ant', 16), ('office', 2), ('fabric', 2), ('mlaursen', 1), ('elemental', 2), ('rebass', 2), ('jxnblk', 1), ('pivital', 1), ('cfapps', 1), ('cloudflare', 3), ('grommet', 2), ('mulesoft', 2), ('belle', 2), ('nikgraf', 1), ('mui', 1), ('muicss', 1), ('reactdesktop', 1), ('photonkit', 2), ('touchstonejs', 2), ('onsen', 2), ('enaqx', 1), ('stampit', 35), ('320', 1), ('composable', 5), ('behaviors', 6), ('kinds', 13), ('prototypal', 7), ('oo', 7), ('ericleads', 2), ('02', 10), ('fluent', 2), ('classical', 4), (\"o'reilly\", 1), ('pjabook', 1), ('dive', 4), ('stamps', 12), ('pillars', 1), ('eric', 3), ('elliott', 3), ('ericelliottjs', 1), ('loves', 1), ('millions', 1), ('monthly', 1), ('unofficial', 3), ('gem', 10), ('brettimus', 1), ('stampitjs', 2), ('rails', 19), ('referenced', 11), ('cdnjs', 3), ('downloading', 16), ('stamp', 13), ('prescribed', 1), ('references', 22), ('privileged', 4), ('copied', 13), ('deeply', 2), ('merged', 10), ('accidentally', 5), ('shared', 8), ('initializers', 4), ('wide', 7), ('extensibility', 2), ('curious', 3), ('mixes', 2), ('differential', 2), ('inheritance', 18), ('aka', 4), ('concatenation', 6), ('exemplar', 1), ('privacy', 3), ('encapsulation', 3), ('ancestors', 1), ('composing', 4), ('closures', 1), ('traditional', 5), ('composed', 10), ('standardized', 4), ('composition', 7), (\"javascript's\", 3), ('concatenative', 1), ('initialization', 25), ('assigning', 1), ('dbauthstamp', 2), (\"'guest'\", 1), ('pwd', 6), ('dbauthorizer', 1), ('adminusercredentials', 1), ('couples', 1), ('callers', 1), ('instantiation', 3), ('hierarchies', 4), ('relationships', 3), ('brittle', 1), ('easier', 25), ('alternatives', 6), ('stumpers', 1), ('answer', 3), ('priv', 5), ('geta', 3), ('encapsulate', 1), ('brand', 5), ('threw', 1), (\"didn't\", 15), ('worry', 11), (\"'b'\", 12), ('getb', 2), ('typo', 4), ('demonstrate', 6), ('clash', 1), ('treat', 9), ('wat', 1), ('yeah', 3), ('boring', 1), ('tap', 9), ('availability', 6), ('isopen', 10), ('isopenmethod', 1), ('membership', 6), ('members', 5), ('getmember', 2), (\"'the\", 5), (\"saloon'\", 1), ('specials', 2), (\"'whisky\", 1), ('gin', 1), (\"tequila'\", 1), ('coupling', 1), ('reusability', 2), ('mybar', 2), (\"'moe\", 1), ('silly', 2), ('proves', 1), (\"'homer'\", 2), ('elibrarian', 4), ('frank', 2), ('nbsp', 70), ('keeping', 6), ('planned', 4), ('statistics', 5), ('serves', 5), ('operating', 13), ('blueprints', 1), ('webui', 1), ('consume', 7), ('reactide', 45), ('60', 14), ('dedicated', 3), ('ide', 9), ('offers', 22), ('simulator', 12), ('opening', 9), ('instantly', 4), ('achieve', 8), ('utilizing', 6), ('power', 9), ('contribution', 17), ('guidelines', 16), ('road', 5), ('west', 5), ('amazonaws', 16), ('eliminates', 4), ('evolve', 4), ('decisions', 4), ('biggest', 3), ('pain', 4), ('editing', 27), (\"today's\", 4), ('navigating', 4), ('architecture', 8), ('identify', 8), ('synchronized', 3), ('rarely', 6), ('ever', 15), ('resembles', 3), ('reactide’s', 3), ('edited', 5), ('straightforward', 3), ('gui', 5), ('immediate', 5), ('cumbersome', 3), ('transpile', 6), ('instant', 13), ('jin', 3), ('choi', 3), ('jinihendrix', 3), ('marcelo', 3), ('markmarcelo', 3), ('bita', 3), ('djaghouri', 3), ('bitadj', 3), ('githubtopcontributors', 6), ('stanleyta', 3), ('queries', 22), ('mod', 11), (\"'githubtopcontributors\", 1), ('voila', 2), ('unpack', 3), ('3001', 4), ('hemerajs', 6), ('websub', 16), ('hub', 28), ('camo', 5), ('48772c29d0514fc99d36e0a0d918c0d8298f9311', 1), ('68747470733a2f2f62616467652e667572792e696f2f6a732f7765627375622d6875622e737667', 1), ('canonical', 7), (\"master'\", 6), (\"'coverage\", 1), (\"status'\", 1), ('58fbab8bb63d069c1e4fb3fa37c2899c38ffcd18', 1), ('68747470733a2f2f696d672e736869656c64732e696f2f62616467652f636f64655f7374796c652d7374616e646172642d627269676874677265656e2e737667', 1), ('9df01034673d657d960eaced20b3c0b3241c2fc7', 2), ('68747470733a2f2f696d672e736869656c64732e696f2f62616467652f73746162696c6974792d6578706572696d656e74616c2d6f72616e67652e737667', 2), ('lead', 10), ('maintainer', 3), ('dustin', 1), ('deus', 1), ('starptech', 1), ('communication', 1), ('publishers', 2), ('relayed', 3), ('hubs', 2), ('verify', 15), ('becomes', 14), ('expectations', 2), ('performant', 4), ('scalable', 8), ('monogdb', 1), ('storage', 104), ('efficient', 6), ('computed', 3), ('auditing', 2), ('documenting', 1), ('sequence', 11), ('activities', 1), ('affected', 5), ('individual', 15), ('trying', 7), ('w3c', 3), ('discovering', 3), ('topic', 24), ('xml', 27), ('subscribing', 5), ('requesting', 6), ('lease', 3), ('authenticated', 17), ('deactivated', 1), ('sending', 23), ('acknowledges', 1), ('pending', 8), ('rejects', 5), ('2xx', 1), ('delivered', 2), ('verifies', 5), ('signature', 19), ('respects', 1), ('requested', 11), ('during', 52), ('sends', 4), ('websocket', 19), ('benchmarks', 1), ('superfeedr', 1), ('rocks', 8), ('28017', 4), ('tutum', 2), ('ws', 7), ('ondemand', 6), ('ago', 2), ('recently', 4), ('infinite', 17), ('nginfinitescroll', 2), ('somewhere', 9), ('reach', 7), ('realized', 2), ('extracted', 4), ('generalized', 1), ('wider', 1), ('slowly', 3), ('replicate', 1), ('jwfntsuomewtj9hulfd1', 2), ('xmncmy3ianwul6h3l1zz', 1), ('zkqjcvqwzgay5jemivkv', 1), ('princemaple', 15), ('reproduce', 2), ('scrolling', 12), ('beginning', 17), ('advance', 2), ('regardless', 10), ('conditionally', 4), ('scrolltrigger', 1), ('retreive', 2), ('sroze', 1), ('dosomething', 2), ('triggering', 4), ('enters', 4), ('persist', 5), ('listening', 4), ('listen', 44), ('identifier', 9), ('adjustable', 2), ('timing', 3), ('voting', 3), ('freecodecamp', 3), ('stories', 1), ('polls', 8), ('friends', 19), ('cumulative', 1), ('decide', 10), ('anymore', 7), ('poll', 3), ('unauthenticated', 2), ('vote', 3), (\"everyone's\", 1), ('ganjoor', 8), ('mysql', 9), ('dump', 3), ('4003', 5), ('checkout', 15), ('containers', 6), ('cancelling', 1), ('sponsors', 6), ('oss', 1), ('a0', 1), ('dark', 3), ('prangler', 10), ('sulmanen', 2), ('preloader', 1), ('reduce', 4), ('directives', 25), (\"prangler'\", 1), ('ngapp', 4), (\"'myapp'\", 5), ('strippathfortemplateid', 4), ('templcatecache', 1), ('stripfilenameextension', 2), ('templatecache', 6), ('filenamefortemplateid', 2), (\"'dest\", 6), ('uris', 5), ('partial', 15), ('mytemplate', 4), ('pack', 5), ('strip', 7), ('whitespace', 5), ('rename', 13), ('reverted', 2), ('actual', 30), ('improved', 8), ('stringify', 12), ('compressor', 1), ('stripping', 1), ('prettify', 1), ('ipsentry', 10), ('shapeshed', 2), ('addresses', 5), ('expects', 6), ('whitelisted', 1), ('403', 2), (\"'connect'\", 1), (\"'http'\", 10), (\"'ipsentry'\", 2), ('accessgranted', 2), ('req', 21), (\"'ipsentry\", 2), ('says', 2), (\"'127\", 13), (\"1'\", 23), (\"'express'\", 3), ('senchalabs', 1), ('expressjs', 30), ('majortom', 3), ('tom', 3), ('networked', 1), ('flair', 1), ('charitable', 1), (\"'spirit\", 1), (\"christmas'\", 1), ('spiritofchristmas', 1), ('uk', 3), ('aid', 1), ('animated', 4), ('transitions', 7), ('year', 8), ('december', 4), ('audience', 3), ('hundred', 1), ('nodejs\\r', 1), ('repo\\r', 1), ('bower\\r', 1), ('cli\\r', 1), ('install\\r', 3), ('start\\r', 2), ('1337', 5), ('viewing', 5), ('controlling', 2), ('staff', 2), ('receiving', 3), ('presentations', 3), (\"'presentations'\", 1), ('talk', 5), ('neil', 1), ('munro', 1), ('niadh', 1), ('neilmunro', 1), ('stolen', 2), ('l6qw35a', 1), ('dokipen', 2), ('jipe', 13), ('extract', 29), ('print', 44), ('abunchofjsonobjects', 1), ('incouraged', 1), ('streams', 15), ('inquery', 3), ('inquiry', 4), ('bigeasy', 2), ('jsonpath', 7), ('s3u', 2), ('pp', 1), ('printer', 1), ('indent', 4), ('docuntation', 1), ('enormous', 1), ('seperately', 1), ('ignores', 3), ('bracket', 13), ('faq', 14), ('spent', 1), ('parsing', 8), ('safe', 9), ('buffering', 1), ('explodes', 1), ('recover', 2), ('bad', 22), ('begins', 4), ('ends', 1), ('ending', 5), ('newlines', 2), ('span', 19), ('multple', 1), ('teds2', 1), ('19', 9), ('4200', 5), ('scaffolding', 7), ('artifacts', 2), ('prod', 13), ('protractortest', 7), ('serving', 23), ('navigationexperimental', 1), ('relay', 4), ('fetching', 12), ('interesting', 6), ('mockups', 1), ('thinkmill', 4), ('dropbox', 2), ('7spugbj4usjkmsy', 1), ('aac', 1), ('ikig2b0n8wgjsd57ngqua', 1), ('dl', 9), ('trello', 6), (\"who's\", 3), ('1aqe7xx3', 1), ('noted', 1), ('conference', 5), ('usable', 8), ('yourself', 20), ('card', 11), ('exponent', 7), ('xde', 6), ('exponentjs', 1), ('packager', 1), ('phone', 31), ('double', 6), ('swipe', 2), ('lpirola', 1), ('teaandpronouns', 1), ('kitchen', 1), ('warehouse', 1), ('london', 2), ('guests', 1), ('pronouns', 1), ('she', 1), ('tea', 2), ('dietary', 1), ('wireframes', 1), ('hjfantaskis', 2), ('robbie', 2), ('robbiecoomber', 1), ('asterisk', 17), ('ami', 29), ('connector', 14), ('belirafon', 6), ('climate', 10), ('codeclimate', 38), ('gpa', 9), (\"asterisk's\", 4), (\"'asterisk\", 2), (\"connector'\", 2), ('reconnect', 3), (\"'login'\", 3), ('5038', 2), ('amiconnection', 8), (\"'event'\", 3), (\"'close'\", 3), (\"'closed'\", 5), (\"'error'\", 17), ('synchronous', 13), (\"'co'\", 1), ('reconnection', 3), ('maxattemptscount', 1), ('attempts', 6), ('attemptsdelay', 1), ('asterisks', 2), ('reject', 3), ('amiautherror', 2), ('eventemitter', 7), ('isconnected', 1), ('established', 1), ('lastevent', 1), ('lastresponse', 1), ('lastwrotedata', 1), (\"client's\", 3), ('fires', 9), ('occurred', 17), ('establishment', 1), ('basicauth', 6), ('ee', 1), (\"'em\", 3), (\"basicauth'\", 1), ('ba', 7), ('dylan', 1), ('codecov', 21), ('simulating', 1), ('cognitive', 1), ('car', 3), ('3fcategory', 1), ('exisiting', 2), ('capture', 7), ('intents', 9), ('entities', 2), ('dialog', 4), ('mykey', 2), ('87it7aqpvu7l', 2), ('ca2905e6', 2), ('7b5d', 2), ('4408', 2), ('9192', 2), ('e4d54d83e604', 2), ('paste', 20), ('quotation', 2), ('marks', 1), ('imported', 7), ('corner', 2), ('tile', 3), ('clipboard', 4), ('responds', 6), ('interpreted', 1), ('amenity', 1), ('greetings', 1), ('goodbyes', 1), ('windshield', 1), ('wipers', 1), ('intent', 5), ('understood', 2), ('examining', 1), ('appliance', 1), ('modifying', 9), ('appearance', 2), ('landing', 4), ('declared', 8), ('test1', 1), ('256m', 1), ('encounter', 15), ('recent', 14), ('developercloud', 4), ('cloudfoundry', 3), ('ovw', 1), ('shtml', 3), ('banner', 2), ('metal', 1), ('strong', 30), ('offline', 23), ('dx', 2), ('backers', 5), ('opencollective', 78), ('au', 1), ('heart', 4), ('mxstbr', 2), ('54dc79dc7da6b76b17bc8013342da9b4266d993c', 1), ('68747470733a2f2f6261646765732e6769747465722e696d2f6d78737462722f72656163742d626f696c6572706c6174652e737667', 1), ('stoiber', 2), ('maintained', 8), ('❤️', 2), ('amazing', 4), ('orgs', 4), ('teams', 9), ('team', 26), ('dt', 35), ('dd', 35), ('selectors', 11), ('sagas', 1), ('saved', 25), ('reflected', 4), ('instantaneously', 1), ('refreshing', 3), ('preserve', 7), ('underlying', 14), ('predictable', 1), ('unidirectional', 2), ('travel', 1), ('destructuring', 1), ('today', 9), ('modularity', 1), ('specificity', 3), ('eliminating', 1), ('clashes', 1), ('ship', 2), ('industry', 2), ('routing', 43), ('internationalization', 2), ('intl', 1), ('frontier', 1), ('seo', 2), ('engines', 8), ('indexing', 1), ('guarantee', 1), ('quality', 7), ('99', 3), (\"app's\", 14), (\"users'\", 3), ('phones', 12), ('fastest', 1), ('goodbye', 1), ('vacant', 1), ('comfort', 2), ('travisci', 1), ('setups', 1), ('unix', 14), ('there’s', 4), ('168648012', 1), ('fantastic', 2), ('scalability', 1), ('rationale', 2), ('majority', 9), (\"boilerplate's\", 1), ('esnext', 1), ('serviceworker', 1), ('styled', 15), ('saga', 14), ('fontfaceobserver', 1), ('depth', 21), ('rumble', 1), ('beginners', 5), ('petehunt', 1), ('howto', 2), ('solid', 5), ('battle', 1), ('hitchhikers', 1), ('newcomers', 1), ('harness', 1), ('tooling', 6), ('supercharging', 1), ('asynchronicity', 1), ('helpers', 17), ('supporters', 1), ('folks', 4), ('sponsor', 34), ('engaged', 1), ('bronze', 20), ('avatar', 55), ('backer', 45), ('2017', 20), ('maximilian', 1), ('angular2multiplatformseed', 1), ('taco', 1), ('wikitree', 10), ('research', 2), ('companion', 8), ('wanderings', 2), ('16h2csy', 2), ('qix', 4), ('rating', 6), ('checks', 14), ('existence', 4), ('hasmodule', 2), (\"'has\", 1), ('gulpisinstalled', 1), ('🏞', 1), ('dylanvann', 4), ('dispatching', 2), ('createrequest', 2), (\"request'\", 5), (\"'fetch\", 1), (\"stuff'\", 7), ('fetchstuff', 3), ('unsplash', 1), ('mysaga', 2), ('stuffreducer', 1), ('spinner', 2), ('succeeded', 3), ('fetched', 10), ('cancelled', 1), ('errored', 2), ('attach', 23), ('fetchstuffarg', 1), ('fetchstuffmeta', 1), (\"'meta'\", 2), ('camen', 1), ('flocks', 33), ('radically', 1), ('simpler', 9), ('opinionated', 10), ('000000', 3), ('000055', 1), ('stonecypher', 2), ('stars', 28), ('hell', 1), ('extreme', 1), ('propaganda', 2), ('five', 2), ('big', 12), ('admirable', 1), ('leads', 8), ('simplifications', 1), ('impact', 3), ('eight', 1), ('flowchart', 1), ('felt', 1), ('gave', 1), ('transactionality', 1), ('atomicity', 1), ('reimplementing', 1), ('job', 8), ('shares', 1), ('snippet', 12), ('pulled', 1), ('charset', 4), ('utf', 8), ('helvetica', 1), ('neue', 1), ('sans', 1), ('serif', 1), ('margin', 4), ('2em', 1), ('defer', 6), ('fb', 3), ('jsxtransformer', 1), ('ajax', 30), ('fset', 2), ('fctx', 3), ('▲', 1), ('dec', 7), ('▼', 1), ('spinnerapp', 2), ('telling', 2), ('flocksconfig', 2), ('initialstate', 2), ('😄', 1), (\"there're\", 4), ('dispatchers', 1), ('stores', 7), ('conflicts', 6), ('atomic', 3), ('transactional', 5), ('machines', 5), ('purely', 2), ('declarative', 3), ('states', 34), ('unmatched', 1), ('yourcontrol', 1), ('dobbs', 2), ('upload', 16), ('wikimedia', 4), ('a3', 1), ('bobdobbs', 1), ('jr', 2), ('heirarchy', 2), ('fine', 11), ('cascade', 3), ('safely', 3), ('centralized', 3), ('races', 1), ('convenient', 8), ('surprisingly', 1), ('batch', 2), ('writes', 9), ('locking', 1), ('intermediate', 1), ('piecewise', 1), ('flash', 40), ('sql', 15), ('invalidates', 1), ('imagine', 3), ('😹', 1), ('explain', 6), ('supposed', 6), (\"application's\", 4), ('visibly', 1), ('shebang', 1), ('shoulders', 1), ('deregistration', 1), ('liberating', 1), ('plox', 1), ('endnotes', 1), (\"i'm\", 14), ('polemic', 1), ('neckbeard', 1), ('viral', 1), ('newspeak', 1), ('modification', 4), ('evil', 2), ('everyone', 6), ('katsu', 5), ('conjugation', 2), ('practise', 1), ('japanese', 3), ('verbs', 4), ('adjectives', 3), ('abbreviation', 2), ('活用', 1), ('katsuyō', 1), ('conjugations', 1), ('practised', 2), ('na', 3), ('informal', 1), ('past', 9), ('te', 1), ('volitional', 1), ('tai', 1), ('tari', 1), ('potential', 5), ('imperative', 1), ('prohibitive', 1), ('conditional', 9), ('passive', 1), ('causative', 1), ('arthurhoek', 1), ('ionic', 34), ('ahoek', 1), ('acknowledgements', 3), ('retrieved', 1), ('dictionary', 2), ('jisho', 2), ('dutch', 1), ('translation', 2), ('disable', 42), ('resume', 2), ('quiz', 1), ('dekiru', 1), ('kanji', 1), ('watchmen', 136), ('monitor', 17), ('iloire', 24), ('outages', 12), ('uptime', 10), ('warnings', 15), ('avg', 4), ('pluggable', 9), ('outpug', 2), ('54', 3), ('204', 10), ('149', 2), ('175', 2), ('3334', 2), ('screenshots', 24), ('01', 36), ('redis', 70), ('stopping', 3), ('processes', 10), ('pm2', 23), ('letsnode', 4), (\"'8080'\", 2), (\"'admin\", 2), (\"'your\", 12), ('passportjs', 7), ('dance', 2), ('negociated', 2), ('correctly', 24), ('accordingly', 5), ('embedded', 6), (\"'watchmen\", 2), (\"ping'\", 2), ('prefix', 39), ('pingservice', 8), ('starttime', 4), (\"'head'\", 2), ('getdefaultoptions', 2), ('confi', 2), ('selection', 14), ('\\xa0monitor', 2), ('ses', 9), (\"email'\", 5), (\"region'\", 2), (\"key'\", 3), (\"secret'\", 3), ('injected', 8), (\"'colors'\", 2), (\"'moment'\", 4), ('eventhandlers', 12), ('outage', 19), ('onnewoutage', 4), ('errormsg', 8), ('oncurrentoutage', 4), ('elapsedtime', 6), ('onlatencywarning', 4), ('msg', 31), ('latency', 14), ('took', 12), ('lastoutage', 6), ('onserviceback', 4), ('timestamp', 21), (\"'seconds'\", 2), (\"back'\", 4), ('gray', 4), ('humanize', 3), ('responding', 2), ('onserviceok', 4), ('serviceokmsg', 4), ('responded', 2), (\"'ok\", 2), ('responsetimemsg', 4), ('consoleplugin', 4), (\"'new\", 3), (\"outage'\", 4), (\"'current\", 2), (\"'latency\", 2), (\"'service\", 6), (\"ok'\", 2), ('providers', 22), ('schema', 149), (\"id's\", 3), ('latestoutages', 2), ('serviceid', 8), ('hashmap', 2), ('1216', 4), ('fake', 4), ('populate', 7), ('dummy', 6), ('120days', 2), ('120', 9), ('period', 5), ('30days', 2), ('lcov', 2), ('expiration', 9), ('contributions', 20), ('addressing', 3), ('refactored', 7), ('backwards', 6), ('persisted', 3), ('restricted', 7), ('rewrite', 6), ('postmark', 10), ('ones', 10), (\"'alwaysalertto'\", 2), ('important', 38), ('upgrading', 7), ('talking', 6), ('cancel', 14), ('timeout', 26), ('hammering', 2), ('revamp', 3), ('ngtable', 4), ('managed', 5), ('passport', 25), ('googlestrategy', 2), ('eventually', 5), ('upgrade', 6), ('bumping', 3), ('ejs', 6), ('localstorage', 18), ('responsiveness', 3), ('cleanup', 13), ('oldest', 2), ('older', 10), ('threshold', 6), ('handlebars', 31), ('alpha1', 2), ('storages', 4), ('couchdb', 2), ('tcp', 3), ('existent', 3), ('daemon', 4), ('inherits', 4), ('instanciate', 2), ('knockout', 2), ('knockoutjs', 6), ('avoids', 3), ('leacks', 2), ('dates', 19), ('mocked', 7), ('registered', 32), ('targets', 8), ('binding', 12), ('hosts', 8), ('tablesorter', 4), ('sorts', 5), ('orders', 5), ('records', 7), ('warns', 2), ('recipients', 2), ('retry', 3), ('smarter', 2), ('displays', 11), ('marak', 2), ('refactoring', 4), ('iván', 4), ('loire', 4), ('ivanloire', 2), ('oden', 2), ('odenius', 2), ('atkinson', 2), ('nibbler999', 2), ('bučko', 2), ('martinbucko', 2), ('ericelliott', 2), ('accesing', 2), ('dave', 2), ('gandy', 2), ('abaaso', 6), ('enterprise', 2), ('restful', 3), ('avoidwork', 3), ('deprecated', 17), (\"'complete'\", 1), ('flawed', 1), ('keigai', 2), ('toward', 1), ('desktops', 1), ('tablets', 1), ('smartphones', 1), ('tv', 3), ('iphone', 1), ('ipod', 1), ('ipad', 1), ('tvs', 1), ('cujo', 1), ('sugar', 3), ('evented', 1), ('observer', 2), ('persistent', 3), ('codersclan', 3), ('getsupport', 1), ('160', 3), ('jason', 3), ('mulligan', 1), ('tslint', 52), ('palantir', 20), ('readability', 4), ('maintainability', 4), ('widely', 1), ('editors', 7), ('systems', 15), ('customized', 6), ('formatters', 5), ('reporters', 13), ('inline', 14), ('disabling', 8), ('enabling', 4), ('presets', 9), ('formatting', 12), ('violations', 1), ('msbuild', 2), ('joshuakgoldberg', 1), ('panuhorsmalahti', 1), ('atom', 29), ('atomlinter', 1), ('linter', 9), ('eclipse', 3), ('emacs', 1), ('flycheck', 1), ('sublime', 6), ('packagecontrol', 1), ('sublimelinter', 1), ('vim', 11), ('scrooloose', 1), ('syntastic', 1), ('marketplace', 4), ('itemname', 4), ('madskristensen', 1), ('webanalyzer', 1), ('richnewman', 1), ('typescriptanalyzer', 1), ('eg2', 1), ('webstorm', 13), ('jetbrains', 9), ('enforce', 3), ('buzinas', 1), ('codelyzer', 2), ('mgechev', 1), ('vrsource', 3), ('immutable', 41), ('jonaskello', 1), ('mutation', 2), ('consistent', 11), ('codestyle', 2), ('ajafff', 1), ('v7', 1), ('autocrlf', 1), ('eol', 2), ('lf', 1), ('pixiv3', 1), ('technology', 15), ('webgl', 1), ('renderer', 6), ('fallback', 18), ('bringing', 3), ('looooads', 1), ('goodboydigital', 1), ('phaser', 5), ('expecting', 2), (\"'just\", 1), ('did', 5), ('favourite', 1), (\"babel's\", 1), ('babeljs', 18), ('replacing', 2), ('reindex', 1), ('packer', 4), ('trial', 2), ('anyone', 10), ('indexzero', 3), ('sheet', 2), ('tps', 1), ('codeandweb', 1), ('texturepacker', 1), ('straight', 4), ('tinypng', 2), ('splash', 1), ('pop', 7), ('throttle', 1), ('sounds', 3), ('howler', 32), ('goldfire', 4), ('linting', 6), ('jscs', 1), ('spiriting', 1), ('discuss', 5), ('nicer', 5), ('ran', 3), ('scene', 36), ('ezelia', 1), ('noderestapp', 1), ('john', 4), (\"papa's\", 1), ('towel', 1), ('tsd', 8), ('definitelytyped', 1), ('douglasduteil', 4), ('directly', 37), ('stringified', 3), (\"'json'\", 4), ('jsonreporter', 1), ('outputfile', 1), (\"'results\", 1), (\"json'\", 7), ('lastresult', 1), ('skipped', 4), ('total', 11), ('totaltime', 1), ('nettime', 1), ('disconnected', 4), ('launchid', 1), ('exitcode', 1), ('gist', 14), ('8039664', 1), ('meanjs', 81), ('daily', 7), ('assemble', 34), ('proceed', 8), ('nosql', 5), ('topics', 3), ('thread', 12), ('8144214', 3), (\"angular's\", 6), ('thinkster', 6), ('egghead', 11), ('2353818', 3), ('isaacs', 5), ('579814', 5), ('supplies', 3), ('generators', 32), ('cycles', 3), ('rm', 5), ('downloaded', 21), ('initiate', 5), ('fig', 9), ('orchardup', 2), ('t', 21), ('35729', 9), ('volumes', 3), ('mdl', 6), ('openssl', 6), ('commnad', 2), ('certs', 3), ('websense', 3), ('kbarticle', 3), ('certification', 4), ('authority', 3), ('certificate', 8), ('sslcert', 2), ('concepts', 10), ('covering', 3), ('aspects', 6), ('offical', 3), ('meanjsorg', 3), ('madhusudhan', 5), ('srinivasa', 5), ('madhums', 5), ('coined', 3), ('valeri', 5), ('karpov', 5), ('49262866911', 3), ('boco', 11), ('migrate', 32), ('bocodigitalmedia', 3), ('migrating', 6), ('rolling', 92), ('irreversible', 4), ('migrations', 24), ('migration', 38), ('bocomigrate', 9), ('lastmigration', 12), ('migrator', 36), ('storageadapter', 4), ('addmigration', 5), ('migration1', 4), ('migration2', 3), ('migration3', 2), ('toequal', 11), ('migrationid', 1), ('migrates', 1), ('rollback', 4), ('primarily', 3), ('testadapter', 4), ('setstorageadapter', 1), ('resetadapter', 2), ('testmigrate', 2), ('testreset', 2), ('series', 19), ('filestorageadapter', 2), ('migratorstorage', 1), ('redisstorageadapter', 2), ('redisclient', 3), ('createclient', 4), ('keyprefix', 1), ('keyjoinstring', 1), (\"repository's\", 2), ('raise', 4), ('irreversiblemigration', 3), ('migration4', 1), ('migrationnotfound', 2), ('dont', 2), ('migratorfactory', 2), ('asynchronous', 22), ('mydblib', 2), ('mydbadapter', 2), ('mydbmigrations', 2), ('foreach', 11), ('20adapter', 1), ('20for', 1), ('20mystoragetype', 1), ('labels', 10), ('christian', 1), ('bradley', 1), ('llc', 3), ('modulename', 1), ('keypress', 3), ('src0', 1), (\"keypress'\", 1), (\"event'\", 4), ('myappmodule', 1), (\"utils'\", 1), ('9876', 2), ('origin', 25), ('publishing', 8), ('radreveal', 37), ('joelarson4', 7), ('reveal', 24), ('lab', 13), ('hakim', 2), ('se', 4), ('slideshow', 7), ('everybody', 5), ('hacking', 4), ('seem', 1), ('evidenced', 1), ('seems', 6), ('personally', 2), ('hackable', 2), ('despite', 1), ('noticing', 1), ('consolidated', 1), ('benefits', 3), ('slides', 15), ('encourages', 1), (\"'rad\", 3), (\"reveal'\", 3), ('exampleinit', 2), ('radconfig', 5), ('len', 4), ('addclass', 3), (\"'example'\", 4), ('rad', 17), ('radname', 2), (\"'somepath\", 1), ('happens', 4), ('registers', 2), ('namestring', 1), ('initfunction', 1), ('initialized', 10), (\"radreveal's\", 1), (\"on's\", 1), ('allslides', 1), ('whatever', 23), ('appends', 2), ('slide', 50), ('beyond', 7), ('listeners', 5), ('fragments', 16), (\"'data\", 5), (\"example'\", 6), (\"'load'\", 7), ('somefunction', 2), ('fragment', 33), ('four', 1), ('attrval', 3), ('slideobj', 8), ('radeventname', 6), ('addtheclass', 2), ('totallyrad', 4), ('illustrates', 1), (\"'show'\", 1), ('anotherfunction', 2), (\"'hide'\", 1), ('andanotherfunction', 2), ('attributeeventlisteners', 1), ('fired', 9), ('nextslideobj', 1), ('prevslideobj', 1), ('lastslideobj', 1), ('ons', 5), ('belongs', 2), ('nextfragobj', 1), ('prevfragobj', 1), ('functionrunner', 11), ('triggers', 2), ('attr', 11), ('func', 8), (\"'hello\", 6), ('world', 32), ('createelement', 6), (\"'span'\", 10), ('innerhtml', 6), ('appendchild', 4), ('appended', 3), ('arg0', 2), (\"'functionrunneradded'\", 1), ('appending', 2), ('likewise', 1), ('leaving', 8), ('inner', 6), ('formalizing', 1), ('policy', 6), ('40', 79), ('phantomjs', 58), ('assumption', 2), ('devs', 1), ('fairly', 4), ('realize', 1), ('tradeoff', 1), ('worth', 9), ('figuring', 1), ('hopefully', 3), ('dream', 2), ('ecosystem', 3), ('meteor', 57), ('stefaniejs', 3), ('aodag', 2), ('shuoshubao', 4), ('安装依赖', 1), ('dll', 2), ('开发', 1), ('上线', 2), ('segments', 1), ('routeparams', 2), (\"'route\", 1), (\"params'\", 1), (\"123'\", 5), (\"'123'\", 1), ('d3js', 2), ('courses', 6), ('онлайн', 2), ('курсы', 2), ('в', 4), ('которых', 2), ('можно', 2), ('загрузить', 2), ('файлы', 2), ('для', 2), ('фреймворков', 2), ('курс', 2), (\"views'\", 4), ('punctuation', 5), ('123', 12), (\"options'\", 4), (\"testing'\", 4), ('webapp', 6), ('preconfigured', 20), ('gratification', 3), ('wire', 7), ('depend', 11), ('scenes', 9), ('bowerrc', 3), ('putting', 4), ('webserver', 11), ('simplest', 5), ('declaration', 5), ('interpolate', 10), ('interpolation', 4), ('view1', 17), ('view2', 15), ('asynchronously', 11), ('scenarios', 15), ('moreover', 3), ('ask', 20), ('simulates', 3), ('therefore', 6), ('webdriver', 18), ('stand', 3), ('ensured', 3), ('acquired', 3), ('ranges', 11), ('webapps', 1), ('varies', 3), ('scheme', 8), ('overall', 6), ('infrastructure', 5), ('accessed', 10), ('comply', 4), ('reverse', 9), ('proxying', 7), ('cloudbees', 4), ('grandcentral', 1), ('cb', 21), ('clickstart', 4), ('d3ko533tu1ozfq', 1), ('cloudfront', 13), ('deployinstantly', 1), ('jenkins', 8), ('nodeapps', 1), ('datas', 7), ('reliable', 6), ('integrates', 6), ('datasstore', 3), (\"'datas\", 1), (\"store'\", 3), ('mystore', 2), ('super', 10), ('addone', 5), ('getstate', 28), (\"now'\", 1), ('haschanged', 1), ('longer', 17), ('immutability', 2), ('362', 1), ('gzipped', 4), ('immutibility', 1), ('differences', 4), ('statement', 7), ('accepting', 1), ('lloydwatkin', 2), ('kicks', 1), ('selenium', 10), (\"'autocomplete'\", 1), ('serviceurl', 2), (\"ashx'\", 2), (\"autocomplete'\", 1), (\"query'\", 3), ('minchars', 1), ('appendchars', 3), ('maxheight', 1), ('zindex', 2), ('deferrequestby', 1), ('miliseconds', 1), ('nocache', 1), ('onselect', 1), (\"'you\", 2), (\"'january'\", 3), (\"'february'\", 1), (\"'march'\", 2), (\"'april'\", 2), (\"'may'\", 2), ('maxsuggestions', 1), ('searcheverywhere', 1), ('lookups', 3), ('autocompleting', 1), ('datakey', 10), (\"'data'\", 10), ('searchkey', 6), (\"'search'\", 3), ('disablemouseover', 1), ('mouseover', 1), (\"identifier'\", 1), ('autocompletion', 2), (\"'ba'\", 2), (\"'bahamas'\", 1), (\"'bahrain'\", 1), (\"'bangladesh'\", 1), (\"'barbados'\", 1), (\"'bhs'\", 1), (\"'bhr'\", 1), (\"'bgd'\", 1), (\"'brb'\", 1), ('comma', 1), ('programmatically', 3), ('ac', 7), ('setoptions', 8), ('1001', 1), (\"'john'\", 1), (\"'doe'\", 1), ('formatresult', 2), ('autosuggest', 1), ('attempting', 3), ('regexp', 16), (\"'gi'\", 1), ('january', 8), ('month', 6), ('cleaning', 9), ('autcompleted', 1), ('insertion', 5), ('achieved', 1), ('insertdomcontent', 1), ('val', 28), ('getvalue', 4), (\"'object'\", 7), ('typeof', 7), (\"'1st\", 2), (\"month'\", 6), (\"'feburary'\", 1), (\"'2nd\", 1), (\"'3rd\", 1), (\"'4th\", 1), (\"'5th\", 1), ('substituted', 2), ('marked', 3), ('w1', 2), ('299px', 1), ('1240430421731', 1), ('hamas', 1), ('hrain', 1), ('ngladesh', 1), ('rbados', 1), ('0px', 2), ('6px', 6), ('1px', 1), ('999', 1), ('fff', 1), ('cursor', 7), ('350px', 1), ('overflow', 10), ('f0f0f0', 1), ('padding', 14), ('2px', 1), ('5px', 1), ('nowrap', 1), ('weight', 9), ('3399ff', 1), ('adapted', 1), ('devbridge', 1), ('btr', 59), ('btrjson', 25), ('founded', 4), ('bh', 2), ('enb', 1), ('advantages', 4), ('compilation', 7), ('–\\xa0it', 1), ('conversion', 7), ('vdom', 2), ('egor', 1), ('trubnikov', 1), ('panov', 1), ('tmpl', 5), ('processbtrjson', 2), ('interim', 1), (\"'btr'\", 1), (\"'button'\", 21), ('ctx', 145), ('mods', 4), ('declare', 18), ('–', 11), ('–\\xa0link', 1), ('expression1', 2), ('expressionn', 2), ('actions1', 1), ('actionsn', 1), ('explanation', 14), ('pseudo', 7), ('acts', 4), (\"'button\", 11), (\"yes'\", 5), (\"'role'\", 2), ('brackets', 3), (\"'block\", 1), ('blockmodname', 1), ('blockmodval', 1), ('elemname', 1), ('elemmodname', 1), ('elemmodval', 1), ('jsattrname', 3), (\"bem'\", 1), ('bem', 12), (\"'return\", 1), ('jsattrscheme', 2), ('jscls', 2), ('nodes', 9), ('is\\xa0', 1), ('escapecontent', 3), ('turned', 2), (\"'popup'\", 1), (\"'state'\", 1), (\"'search\", 3), (\"form'\", 1), (\"'form'\", 1), (\"'page'\", 5), ('cls', 4), (\"'ua\", 1), (\"standard'\", 1), ('“as', 1), ('is”', 1), (\"'header'\", 6), (\"'header\", 2), ('elem', 10), ('elemtnet', 1), (\"'before'\", 2), (\"'after'\", 3), (\"'before\", 1), (\"button'\", 4), ('loop', 9), ('detection', 8), ('enableinfiniteloopdetection', 2), ('slows', 1), ('matcher', 5), ('bemjson', 1), ('processed', 15), ('tohtml', 1), (\"'control'\", 3), (\"'native'\", 2), (\"'disabled'\", 6), (\"'input\", 8), ('islands', 1), (\"'paranja'\", 1), (\"'normal'\", 1), ('nulled', 1), (\"'link'\", 3), (\"'href'\", 1), ('attrs', 3), (\"'off'\", 1), ('replaces', 19), (\"'text'\", 23), (\"'ajax'\", 1), (\"'field\", 1), (\"'validate'\", 1), ('wrapping', 2), ('brevity', 1), ('applybase', 3), ('breaks', 8), ('chain', 8), ('causes', 6), ('stops', 4), (\"'wrapper'\", 1), ('parental', 3), ('isfirst', 6), ('islast', 6), (\"'pos'\", 1), (\"'first'\", 4), (\"'last'\", 1), ('issimple', 2), (\"'div'\", 4), ('analogue', 1), (\"'under'\", 1), (\"'clear'\", 1), ('generateid', 1), ('correspondence', 1), (\"'action'\", 2), ('tparam', 3), (\"control'\", 6), ('hubot', 34), ('bofh', 8), ('arsenio', 2), ('danriti', 2), ('hipchat', 4), ('ntwitter', 1), ('shellwords', 1), ('bang', 1), ('cheerio', 5), ('三方lib仓库', 1), ('这是什么', 1), ('非kissy、非dpl', 1), ('商家前端', 1), ('sj', 11), ('应用所依赖的三方库文件cdn存放地。', 1), ('背景', 1), ('商家业务产品线非常广，每个应用都需要依赖一些', 1), ('公共库文件', 1), ('，以前的情况是各应用自己', 1), ('人肉引用', 1), ('需要的库，每个新应用都要重新搜索一次各个库文件并', 1), ('拷贝', 1), ('至应用目录下。', 1), ('脚手架及构建脚本大面积普及后，关于放在应用内的lib库文件，如何处理开发、上线态的库文件分歧也较多，有建议放src里，有建议放build里，也有建议划分grunt阶段任务处理。', 1), ('不同应用lib库的引用版本较为混乱，各个版本都有。', 1), ('这里做了什么', 1), ('建立lib库的单独仓库，利用', 1), ('管理lib的版本和依赖，利用', 1), ('处理bower最终文件并导出到build目录。', 1), ('关于线上调试需求，已将bower包生成目录指定为build，lib源码和map', 1), ('如果有', 1), ('都会发布到cdn。。', 1), ('结合', 1), ('惟明的建议，改造了各脚本和目录结构，以适应多版本lib需求', 1), ('小版本差异建议统一，统一的版本不会在路径中显示版本号，可在bower', 1), ('json中查看。', 1), ('大家自己添加lib库后请', 1), ('自行扩充', 1), ('下面列表，方便其他同学知晓、引用。', 1), ('tbcdn', 10), ('cn', 13), ('highcharts', 8), ('需要使用地图图表', 1), ('chnmap', 1), ('zeroclipboard', 5), ('swf', 1), ('应该说，大部分时候大家是不需要关心这个仓库的细节的，只需要在项目初始化时引用这里的lib文件，不过对于', 1), ('新起项目', 1), ('升级大版本号', 1), ('那么就需要修改仓库内容，可以看下面', 1), ('如何维护更新lib', 1), ('该库已设置为覆盖式发布，几个步骤：', 1), ('clone仓库，新建daily分支。', 1), ('安装全局命令', 1), ('。在package', 1), ('json目录执行安装依赖', 1), ('在bower', 1), ('json的dependencies字段添加lib库', 1), ('直接执行', 1), ('这里没有grunt，因为仅是简单的包管理需求，没有用任务堆积grunt的必要，权当大家了解gulp', 1), ('看到如下提示后', 1), ('之后走常规的tag、push发布流程，即可发布线上。', 1), ('以后需要添加，直接执行3、4步骤即可。', 1), ('一些例外', 1), ('如果希望引入一些lib派生文件，且文件体积太大不愿合并进lib文件', 1), ('因为lib文件较少，且多是一次性操作，以后便不用关心，故不使用自动化脚本，手工拷贝进build', 1), ('即可。', 1), ('angular1', 4), ('3不再支持ie8，所以要支持ie8的话只能用1', 1), ('的，千牛使用可以单独开一条规则', 1), ('注：', 1), ('如果是更新文件，一定要注意检查库文件更新后是否正确！以免意外造成多个应用js报错！', 1), ('json的键名', 1), ('不要带', 1), ('js后缀名', 1), ('，如果要自定义版本号，', 1), ('一定要', 1), ('是类似', 1), ('这种格式。', 1), ('对于lib文件版本升级，一定要注意新版本', 1), ('不向下兼容', 1), ('的部分对已有应用会不会有影响。', 1), ('避免上述问题，可以在发布前发一个', 1), ('复查一下。', 1), ('前端攻城狮的技术笔记和知识架构梳理', 1), ('前端部分', 1), ('html原生', 1), ('视频', 1), ('音频', 1), ('拖拽', 1), ('css原生', 1), ('position问题', 1), ('行内元素和块级元素', 1), ('清除浮动', 1), ('sizing', 1), ('原生js基础', 1), ('设计模式', 1), ('语言精粹', 1), ('框架', 1), ('vue', 7), ('开发工具', 1), ('shell脚本', 1), ('发布工具库', 1), ('网页优化', 1), ('性能优化', 1), ('可维护性', 1), ('网站建设', 1), ('http协议', 1), ('seo优化', 1), ('网站标准', 1), ('其他', 1), ('规范', 1), ('仓库规范', 1), ('readme规范', 1), ('代码规范', 1), ('常见问题总结', 1), ('移动端', 1), ('vuejs', 5), ('后端技术', 1), ('网络安全', 1), ('web安全', 1), ('python黑客', 1), ('kogosoftwarellc', 5), ('openapi', 11), ('jsonschema', 22), ('highlights', 9), ('extensively', 3), ('footprint', 3), (\"'openapi\", 1), (\"parameters'\", 1), (\"'body'\", 1), (\"'wow'\", 1), (\"somedefinition'\", 2), (\"'string'\", 15), (\"'path'\", 4), (\"'boo'\", 1), (\"'query'\", 4), ('boo', 2), ('kogo', 1), ('entom', 1), ('fuel', 2), ('meter', 1), ('dss', 12), ('darcyclarke', 3), ('stylus', 7), (\"dss'\", 1), ('mustache', 2), ('locations', 3), ('parsers', 16), ('filled', 2), ('pairs', 8), ('annotations', 2), (\"'css\", 1), ('styl', 4), ('exp', 3), ('ftp', 1), ('ig', 1), (\"sc8696's\", 1), ('sc8696', 1), ('ember', 156), ('shim', 3), ('emberjs', 6), ('packagist', 2), ('shippable', 3), ('newaeonweb', 2), ('5422e74e78826375c3f0e312', 2), ('branchname', 1), ('mdtestproject', 1), ('guard', 1), ('enum', 2), ('kindle', 7), ('v6', 2), ('thank', 8), ('purescript', 12), ('char', 1), ('pursuit', 2), ('jhipster', 4), ('showcase', 2), ('requisite', 1), ('ruby', 23), ('gradle', 7), ('bootrun', 1), ('网站快速开发模板', 1), ('开发环境', 1), ('以nodejs为基础，gulp搭建前端自动化模块，并采用bower进行包模块管理', 1), (\"'npm\", 10), (\"bower'\", 1), ('主要模块', 1), ('启动项目', 1), ('启动服务器', 1), ('监听修改', 1), ('scss翻译', 1), ('静态模板渲染', 1), ('js和css检查', 1), ('js校验', 1), ('css校验', 1), ('生成压缩包', 1), ('图片压缩', 1), ('js和css压缩及生成压缩包', 1), ('项目运行', 1), (\"install'\", 5), (\"start'\", 3), ('文件说明', 1), ('参考https', 1), ('marvin1023', 1), ('sandal', 1), ('和', 1), ('jimyuan', 1), ('雪碧图生成说明', 1), ('1、请修改gulp', 1), ('spriter', 3), ('文件的第48行开始替换为', 1), ('且判断url是否有', 2), ('spriter后缀', 2), ('transformeddeclaration', 11), (\"'background\", 1), (\"image'\", 3), (\"spriter'\", 2), ('declarationindex', 2), ('shorthand', 2), (\"'background'\", 1), ('hasimagevalue', 2), ('spriterutil', 1), ('backgroundurlregex', 1), ('symfony', 43), ('requisites', 2), ('aloneh', 2), ('sf', 3), ('pressing', 7), ('vintage', 2), ('catalogs', 3), ('wine', 6), ('qa', 6), ('ucdavis', 2), ('edu', 7), ('uc', 1), ('davis', 1), ('crowd', 1), ('sourcing', 1), ('mine', 5), ('bottle', 1), ('costs', 1), ('various', 30), ('changing', 23), ('tastes', 1), ('industries', 1), ('corpus', 1), ('197', 1), ('sherry', 1), ('lehmann', 1), ('prices', 1), ('gorgeous', 1), ('commericial', 1), ('art', 3), (\"50's\", 1), (\"70's\", 1), ('344953', 1), ('24127647', 1), ('92900918', 1), ('0d93', 1), ('11e7', 12), ('8382', 1), ('fc85b502b75c', 1), ('taking', 7), ('tutorials', 26), ('ractive', 2), ('ractivejs', 2), ('lesson', 17), ('numbered', 2), ('prose', 6), ('outline', 3), (\"step's\", 2), ('shift', 8), ('transformed', 8), ('pleasant', 3), ('proposals', 4), ('experimentally', 2), ('markdown', 23), ('daringfireball', 2), ('flavored', 4), ('tabs', 7), ('challenge', 3), ('toolbar', 5), ('exporting', 2), ('prompted', 3), ('exported', 7), ('acronym', 4), ('meanings', 2), ('acronyms', 4), ('cortana', 2), ('voice', 13), ('recognition', 4), ('suproj', 2), ('terry', 10), ('iona', 2), ('phrase', 2), ('defition', 2), ('mvp', 11), ('microsoftedge', 2), ('webappsdocs', 2), ('win10', 2), ('createhwa', 2), ('d0', 1), ('formated', 2), ('doppio', 3), ('java', 39), ('automates', 3), ('extracting', 3), ('massaging', 1), ('openjdk', 1), ('tar', 1), ('gz', 1), ('cloudformation', 2), (\"webpack's\", 1), ('watcher', 16), ('recognize', 2), ('clementine', 9), ('fcc', 6), ('johnstonbl01', 5), ('clementinejs', 11), ('errs', 1), ('transparency', 2), ('ideal', 2), ('beginner', 1), ('seasoned', 1), ('alike', 1), ('camp', 3), ('curriculum', 2), ('smallest', 2), ('intrusive', 1), ('slightly', 5), ('employs', 1), ('githubappsetup', 1), ('congrats', 2), ('c9', 4), ('iosetup', 1), ('ground', 3), ('mongoose', 66), ('openbadges', 2), ('validator', 16), ('imsglobal', 1), ('otto', 1), ('gmanio', 1), ('gman', 1), ('park', 1), ('golden', 2), ('displaying', 7), ('restclient', 9), ('described', 15), (\"generator'\", 3), ('final', 22), ('faostat', 2), ('reslt', 1), ('faostatclient', 1), (\"'test\", 19), ('registertask', 3), (\"'default'\", 3), (\"'jsonschema\", 1), ('teamspeak', 2), ('webinterface', 2), ('yatwi', 4), ('strives', 1), ('simplistic', 2), ('sleek', 1), ('early', 14), ('alpha', 9), ('phase', 2), ('completely', 19), ('comunication', 1), ('viewer', 4), ('channel', 13), ('backup', 2), ('virtualserver', 3), (\"ts'\", 2), (\"build'\", 5), ('serverqueryadmin', 1), ('serverinstance', 1), (\"'b\", 1), ('serverquery', 1), (\"login'\", 4), ('gitlab', 1), ('audron', 1), ('wikis', 1), ('gemnasium', 17), (\"'start'\", 1), (\"'start\", 8), (\"reporter'\", 1), (\"files'\", 1), (\"watch'\", 1), (\"clean'\", 1), (\"read'\", 1), (\"babel'\", 1), (\"write'\", 1), (\"'build\", 15), (\"'lib\", 3), ('sourcemaps', 2), ('relies', 4), ('ast', 3), ('appstorm', 15), ('featured', 3), ('unittest', 1), ('vendors', 4), ('lodash', 23), ('appstormjs', 5), ('mail', 62), ('todolist', 1), ('invoking', 4), ('licenced', 1), ('doku', 1), ('usemin', 42), ('wnd', 4), ('revved', 14), ('123456', 3), ('dir2', 1), ('abcdef', 8), ('transport', 25), ('assetsdirs', 5), (\"console'\", 1), ('gm', 1), (\"'replacing\", 2), ('seajs', 2), (\"parts'\", 1), ('extname', 1), ('cut', 3), (\"'usemin\", 1), ('yeoman', 14), ('20build', 2), ('addyosmani', 5), ('313', 1), ('developments', 1), ('tackle', 2), ('resolvesource', 1), ('regexps', 3), ('dynamically', 10), ('useminprepare', 18), ('optimization', 4), ('subtasks', 2), ('prepares', 1), ('scrutinized', 2), ('targeting', 2), ('revisioned', 1), ('disk', 10), ('modifies', 1), ('concatenates', 2), ('minifies', 4), ('cssmin', 5), ('filerev', 7), ('revisions', 1), ('subtask', 1), (\"'build'\", 6), (\"'useminprepare'\", 1), (\"'concat\", 1), (\"generated'\", 3), (\"'cssmin\", 1), (\"'filerev'\", 1), (\"'usemin'\", 1), ('expressed', 1), ('alternate', 6), ('endbuild', 7), ('blockreplacements', 3), ('treated', 3), ('completed', 12), ('models', 31), ('sequential', 2), ('performed', 6), ('postprocessors', 1), ('dir', 22), ('produced', 6), ('tmp', 20), (\"'app\", 10), ('parses', 2), ('concerned', 3), ('looked', 13), (\"'index\", 10), ('nil', 2), ('concatenated', 3), (\"'array'\", 2), (\"'concat'\", 3), (\"'cssmin'\", 1), ('workflow', 8), ('processors', 12), ('createconfig', 5), (\"'bar'\", 23), ('responsible', 2), ('processor', 6), ('potentially', 1), ('held', 1), ('indir', 1), ('infiles', 1), ('outdir', 1), ('outfiles', 1), ('parsed', 6), (\"'js'\", 7), (\"'scripts\", 1), (\"'foo\", 2), (\"'bar\", 1), (\"'baz\", 1), ('pointing', 2), ('revert', 1), ('revmap', 2), ('furnish', 1), ('asset', 15), ('suppose', 5), ('scattered', 2), (\"assets'\", 1), ('searched', 5), ('875487', 1), ('98090', 1), ('12345678', 3), ('words', 9), (\"'image\", 1), (\"png'\", 19), ('reached', 11), ('replaced', 10), ('holding', 6), ('kept', 1), ('transient', 1), ('pipeline', 8), ('whereas', 1), ('reflects', 1), ('cation', 1), ('examined', 2), ('overridden', 7), ('stated', 3), ('searchpath', 1), (\"'assets'\", 2), ('1223443', 1), ('preceding', 1), ('32323', 1), (\"'dist'\", 2), ('sibling', 2), (\"'html\", 1), ('dcare', 1), ('hybrid', 3), ('diabetes', 1), ('phonegap', 1), ('minifast', 2), ('delicious', 1), ('soup', 1), ('pivotal', 7), ('pui', 1), ('cjohansen', 1), ('clippings', 9), ('organizing', 5), (\"txt'\", 12), ('zen', 1), ('motorcycle', 1), ('entering', 1), ('highlight', 3), ('we’re', 2), ('hurry', 1), ('chance', 1), ('endless', 4), ('shallowness', 1), ('monotony', 1), ('leaves', 1), ('wondering', 2), ('years', 6), ('sorry', 2), ('gone', 3), ('207', 1), ('chautauqua—that’s', 1), ('it—like', 1), ('traveling', 1), ('tent', 1), ('chautauquas', 1), ('america', 1), ('211', 1), ('perhaps', 2), ('national', 1), ('consciousness', 2), ('moves', 1), ('broader', 2), ('213', 1), ('chautauqua', 1), ('dig', 1), ('silted', 1), ('debris', 1), ('thoughts', 2), ('grown', 2), ('stale', 18), ('platitudes', 1), ('repeated', 3), ('controll', 1), (\"'211\", 1), (\"12'\", 1), ('skipping', 2), ('situation', 4), ('fihishing', 1), ('coma', 1), ('determines', 4), ('22', 12), ('baniol', 1), ('data2image', 9), ('settotalinstances', 1), ('addelement', 17), (\"'negative\", 3), (\"integerx100'\", 1), (\"'number'\", 10), (\"integerx10'\", 1), (\"integer'\", 3), (\"'float'\", 2), (\"'integer'\", 1), (\"'integerx5'\", 1), (\"'integerx10'\", 1), (\"'integerx100'\", 1), ('geturl', 1), ('preloaded', 1), ('getimg', 1), ('streach', 1), ('imgs', 7), ('00', 9), ('vec2', 7), ('getcoord', 2), ('col', 14), ('st', 4), ('fract', 1), ('vec3', 4), ('getelements', 2), ('sampler2d', 2), ('tex', 4), ('coord', 4), ('vec4', 1), ('texture2d', 1), ('uint', 2), ('rgb', 2), ('255', 4), ('65025', 1), ('16581375', 1), ('floor', 4), ('256', 17), ('244', 1), ('abs', 19), ('getnumber', 1), ('pow', 8), ('positions', 1), ('posible', 1), ('unint', 1), ('ufloat', 1), (\"'unsigned\", 2), (\"'uint'\", 1), (\"'signed\", 2), (\"'int'\", 1), (\"float'\", 2), (\"'ufloat'\", 1), (\"'position'\", 2), ('sin', 1), ('1415', 2), ('cos', 1), (\"'red'\", 1), (\"'color'\", 4), (\"'green'\", 1), (\"'blue'\", 1), (\"'hue'\", 1), ('hsltorgb', 1), ('tangrams', 5), ('gpu', 1), ('joshua', 1), ('koo', 1), ('blurspline', 1), ('timeliner', 3), ('zz85', 1), ('presition', 1), ('patricio', 2), ('gonzalez', 1), ('vivo', 1), ('buenos', 2), ('aires', 2), ('1982', 1), ('artist', 3), ('engineer', 14), ('explores', 1), ('interstitial', 1), ('organic', 1), ('synthetic', 1), ('analog', 1), ('collective', 7), ('studied', 1), ('practiced', 1), ('psychotherapy', 1), ('expressive', 1), ('therapy', 1), ('mfa', 1), ('parsons', 1), ('school', 2), ('graphic', 3), ('mapzen', 1), ('jaume', 1), ('sanchez', 1), ('elias', 1), ('clicktorelease', 1), ('helping', 12), ('premultiply', 1), ('bei', 1), ('zhang', 1), ('twbs', 1), ('rasterjs', 2), ('bzhang', 1), ('messing', 1), ('setup\\r', 1), ('livereload', 4), ('gulp\\r', 1), ('test\\r', 1), ('tdd\\r', 1), ('usejsdoc', 1), ('docs\\r', 1), ('resources\\r', 1), ('vectors\\r', 1), ('vector', 3), ('sacredsoftware', 1), ('lwjgl', 5), ('vector3f', 4), ('util', 6), ('silvertiger', 2), ('lwjgl3', 1), ('ezwebpack', 4), ('configurators', 6), ('webpacking', 2), ('ez', 15), ('haserrors', 2), ('produces', 11), ('cwd', 21), ('tsx', 2), (\"'ts\", 1), (\"loader'\", 2), ('folling', 1), ('observable', 5), ('rx', 1), ('lifetime', 2), ('failures', 5), ('denoted', 1), ('tsconfig', 7), ('denoting', 1), ('tsoptions', 1), (\"'compiler\", 1), (\"flags'\", 1), ('effectively', 2), ('compileroptions', 1), ('differently', 1), ('subprojects', 4), ('subprojecta', 4), ('story', 4), ('stick', 4), ('increment', 44), ('incremented', 1), ('modelname', 7), ('fieldname', 8), ('resetafter', 3), ('hasversion', 4), ('startversion', 2), ('delimiterversion', 1), ('nextsequence', 2), ('fulfilled', 2), ('setted', 4), ('parsesequence', 5), ('nextversion', 1), ('resetsequence', 2), (\"'mongoose'\", 6), ('mongooseincrement', 12), (\"'mongoose\", 6), (\"increment'\", 18), ('testschema', 18), (\"'increment\", 6), (\"field'\", 6), ('testincrement', 17), (\"'label\", 10), (\"'1'\", 4), ('doc1', 10), ('doc2', 8), (\"2'\", 9), ('303', 2), ('doc3', 3), (\"3'\", 6), (\"'p'\", 3), (\"'true'\", 2), (\"'false'\", 2), (\"'p1true'\", 1), (\"'p1false'\", 1), ('chevex', 1), ('archived', 3), ('apella', 1), ('formation', 1), ('braitenberg', 7), ('vehicles', 5), ('valentino', 1), ('vehicle', 1), ('trails', 3), ('lamps', 3), ('servecusters', 3), ('braitenberg1', 1), ('braitenberg2', 1), ('sensors', 4), ('sensor', 13), ('braitenberg3', 1), ('exmple', 1), ('golang', 2), ('macaron', 2), ('unknwon', 1), ('codeskyblue', 1), ('suggest', 5), ('nvm', 3), ('creationix', 1), ('navgate', 1), ('helloworld', 3), ('luck', 2), ('segmentfault', 1), ('1190000002551952', 1), ('16073603', 1), ('fireplace', 1), ('outlines', 2), ('collaborating', 2), ('inspector', 8), ('bmdblncegkenkacieihfhpjfppoconhi', 1), ('icarus', 2), ('predominately', 1), ('gpl', 6), ('pymongo', 1), ('cherrypy', 1), ('jinja2', 2), ('jsdom', 120), ('whatwg', 4), ('contextify', 7), ('brian', 3), ('cloudbrowser', 1), ('respect', 12), (\"'window'\", 1), (\"'window\", 2), (\"this'\", 3), (\"wasn't\", 1), (\"'this'\", 1), ('assignable', 1), (\"a'\", 3), ('assignment', 3), ('recall', 1), ('settimeout', 5), ('absolutely', 2), ('godmar', 1), ('human', 6), ('mailing', 5), ('easymode', 1), ('tmpvar', 8), ('news', 9), ('hacker', 5), ('ycombinator', 2), ('hn', 2), ('resulting', 9), (\"window's\", 6), ('evaluated', 4), ('jar', 2), ('mikeal', 2), ('parsingmode', 1), ('xhtml', 2), ('attempt', 22), ('885', 1), ('referrer', 2), (\"'key\", 5), ('expires', 3), ('wed', 2), ('sep', 9), ('21', 7), ('2011', 3), ('gmt', 2), ('cookiedomain', 2), ('executing', 12), ('carefully', 5), ('resourceloader', 4), ('intercepts', 1), ('subresource', 3), ('outright', 1), ('lifecycle', 10), ('insight', 2), ('fails', 13), ('caused', 4), ('succeeds', 4), ('occured', 1), ('execution', 12), ('essentially', 2), ('smashed', 1), ('buggy', 3), ('behaving', 1), ('excellent', 9), ('sebmaster', 2), ('792', 3), ('dealing', 4), ('mechanisms', 3), ('parentwindow', 8), ('onmodulesloaded', 2), ('640', 3), ('matthewkastor', 2), ('insightful', 1), ('issuecomment', 4), ('22216965', 1), ('foolproof', 1), (\"dom's\", 1), ('jqueryify', 3), ('hardcore', 1), ('baked', 1), ('domimplementation', 1), ('tweaked', 2), ('fetchexternalresources', 4), ('affect', 8), ('defaultdocumentfeatures', 1), ('processexternalresources', 3), ('extremely', 7), ('iframe', 2), ('skipexternalresources', 2), ('disallow', 1), ('intercept', 4), ('semicolons', 2), ('defaultfetch', 3), ('strict', 14), ('pathname', 7), (\"n'\", 2), ('peer', 37), ('behave', 3), ('documentelement', 2), ('outerhtml', 2), ('innerwidth', 1), ('1024', 1), ('append', 5), ('myobject', 2), ('scriptel', 3), ('anotherscript', 2), ('originated', 3), ('serializing', 1), ('serializedocument', 3), ('getvirtualconsole', 2), ('sendto', 1), ('emitter', 3), ('virtualconsole', 2), ('exactly', 14), ('mission', 2), ('headless', 5), ('emphasis', 3), ('specs', 22), ('multipage', 1), ('subset', 7), ('covered', 6), ('outdated', 3), ('queryselector', 6), ('semantics', 2), ('cssom', 2), ('csswg', 1), ('largely', 1), ('chad3814', 2), ('cssstyle', 2), ('webpages', 1), ('headlessly', 1), ('incorporating', 1), ('isolated', 2), ('pretends', 1), ('unfortunately', 2), ('precisely', 3), (\"npm's\", 5), ('tricky', 3), ('python27', 1), ('msvs', 2), ('assuming', 10), ('setx', 1), ('slight', 1), ('toolchain', 1), ('distro', 2), ('islider', 79), ('sliding', 9), ('offering', 4), ('dozens', 1), ('fe', 17), ('english', 3), ('中文文档', 2), ('chinese', 2), ('演示', 1), ('outstanding', 1), ('rotate', 7), ('flip', 4), ('fade', 9), ('capability', 5), ('dampening', 1), ('cycle', 1), ('movements', 2), ('gestures', 3), ('plug', 16), ('ins', 2), ('facilitate', 2), ('demand', 4), ('capable', 6), ('delegated', 2), ('enriched', 1), ('qrcode', 2), ('consult', 5), ('preparing', 2), (\"'islider\", 5), ('animationtype', 1), ('isvertical', 2), ('islooping', 3), ('isdebug', 2), ('isautoplay', 6), ('animatetype', 5), (\"'rotate'\", 1), ('islide', 1), (\"'dot'\", 6), (\"'rgba\", 1), ('【notice】', 1), ('involve', 1), ('引入button插件', 1), ('switching', 4), ('zoompic', 1), ('fingers', 1), ('enlarge', 1), ('amplify', 1), ('reduced', 2), ('bizone', 1), ('joined', 3), ('mouseout', 1), ('touchcancel', 1), ('remains', 1), ('powerless', 1), ('initiative', 1), ('areas', 3), ('regions', 2), ('detachment', 1), ('wisely', 1), ('page1', 4), ('awsome', 1), (\"'element'\", 1), ('createdocumentfragment', 1), (\"'fragment'\", 1), (\"'node'\", 3), ('notices', 1), ('urlstring', 2), ('htmlstring', 2), ('htmlfragment', 2), ('overwritten', 3), ('rotation', 1), ('zoom', 8), ('zoomout', 1), ('precondition', 6), ('animatetime', 4), ('animateeasing', 1), ('curve', 11), ('linear', 1), ('cubic', 1), ('bezier', 1), ('suspending', 2), ('playback', 5), ('switches', 2), ('ended', 2), ('wakeupautoplaydazetime', 1), ('loses', 1), ('forced', 1), ('wake', 1), ('blocked', 1), ('lock', 3), ('dampingforce', 3), ('damping', 4), ('rebound', 3), ('distance', 3), ('increasing', 1), ('isoverspread', 1), ('backgrounds', 3), ('istouchable', 1), ('initindex', 1), ('fingerrecognitionrange', 1), ('bigger', 9), ('touchmove', 1), ('effective', 2), ('default：10', 1), ('px', 3), ('fixpage', 2), ('shield', 17), ('prevented', 2), ('jointly', 1), ('judgment', 1), ('textarea', 9), ('situations', 6), ('strategies：if', 1), ('string（rule，queryselector', 1), ('string）or', 1), ('mutiple', 1), ('regulations', 2), ('，this', 1), ('exlude', 1), ('composite', 2), ('fillseam', 1), ('gaps', 1), ('gap', 1), ('particularly', 6), ('evident', 1), ('incomming', 3), ('actived', 1), (\"'zoompic'\", 2), ('incoming', 13), ('zoomfactor', 1), ('camel', 6), ('lowercase', 4), ('discarded', 2), ('coexist', 1), ('living', 1), ('onslidechange', 1), ('onslidechanged', 2), ('abandoned', 2), ('camelcasing', 1), (\"'slidechanged'\", 1), ('plugininitialize', 1), ('plugininitialized', 1), ('rendercomplete', 1), ('outer', 4), ('loaddata', 7), ('slidestart', 1), ('finger', 4), ('touching', 2), ('slideend', 1), ('lifted', 1), ('slidechange', 1), ('slidechanged', 1), ('sliderestore', 1), ('sliderestored', 1), ('destruction', 2), ('easing', 9), ('effect（easing）regulation', 1), (\"'linear'\", 1), (\"'ease'\", 1), (\"'ease\", 3), (\"in'\", 3), (\"out'\", 4), ('bézier', 1), ('writting', 1), (\"animation's\", 2), ('hastouch', 1), ('startevt', 1), ('moveevt', 1), ('endevt', 1), ('cancelevt', 1), ('resizeevt', 1), ('divices', 1), (\"parameter's\", 2), ('regplugin', 3), ('slideto', 1), ('slideprev', 3), ('delegate', 4), ('queryselectorall', 4), ('incident', 2), ('bind', 13), ('undelegate', 2), ('unbundling', 1), ('unbind', 1), ('fisrt', 1), ('detecting', 3), ('registeration', 1), ('performs', 3), ('datasheets', 6), ('pushdata', 1), ('unshiftdata', 1), ('subjectto', 2), ('controlled', 4), ('synced', 1), ('prohibit', 1), ('gesture', 4), ('unhold', 1), ('unlocked', 1), ('sliceto', 1), ('slidenext', 1), ('prohibiting', 1), ('unlock', 2), ('freeing', 1), ('appreciated', 1), ('3a', 6), ('04', 16), ('geoffrey', 3), ('yip', 3), ('clarification', 1), ('swimmy', 14), ('drive', 3), ('confusion', 3), ('vision', 4), ('projcet', 1), ('volunteers', 2), ('volunteer', 2), ('dedicate', 1), ('weekend', 1), ('term', 10), ('constantly', 1), ('coder', 2), (\"weren't\", 1), ('slack', 32), ('leadership', 1), ('symbolically', 1), ('speaking', 6), ('mallon', 2), ('agreed', 2), ('progressive', 14), ('consensus', 5), ('clarity', 1), ('rallies', 1), ('meetings', 2), ('near', 5), ('motivate', 1), ('organizers', 1), ('believe', 5), ('stagnate', 1), ('resistance', 1), ('calendar', 19), ('i’ve', 3), ('decided', 7), ('mockup', 2), ('connects', 4), ('activists', 1), ('broadly', 1), ('confronting', 1), ('collectively', 2), ('organize', 1), ('coalitions', 1), ('intersection', 1), ('1bxptxf', 1), ('nos7lhodop', 1), ('wewsgkk7vjpxmzh8dkodzyodc', 1), ('bedi', 1), ('uemuemnh', 1), ('geoff', 1), (\"it'd\", 2), ('maintainers', 1), ('geoffreyyip', 2), ('inactive', 2), ('april', 8), ('mattmallon', 1), (\"swimmy's\", 1), ('contributed', 3), ('progcode', 1), (\"it'll\", 2), ('knows', 6), ('…', 5), ('dataattributes', 3), (\"'other\", 1), (\"value'\", 8), ('voorhoede', 4), ('finder', 3), ('originally', 7), ('pilgrim', 1), ('aaron', 4), ('swartz', 1), ('aaronsw', 1), ('2002', 1), ('feedfinder', 4), ('inspiration', 7), (\"feedfinder'\", 1), ('googleblog', 5), ('blogspot', 6), (\"default'\", 1), (\"rss'\", 3), ('rss1', 1), ('hatom', 1), ('microgear', 61), ('reactnative', 4), ('netpie', 9), (\"platform's\", 1), ('outgoing', 2), ('ther', 1), ('ports', 1), ('tls', 2), ('8081', 1), ('8883', 1), ('alway', 1), ('micrograr', 1), (\"'microgear\", 3), (\"reactnative'\", 1), ('appkey', 1), (\"'connected'\", 2), (\"'connected\", 1), ('setalias', 3), ('mygear', 1), ('setinterval', 2), (\"'mygear'\", 1), (\"'message'\", 7), (\"'incoming\", 1), (\"'closed\", 1), ('gearkey', 5), ('gearsecret', 2), ('pair', 3), ('integrity', 1), ('sxfqdcxhzbfxilk', 1), ('dnonzg2ivws8ceksykgntrfqjxbl98', 1), ('myplant', 1), ('happyfarm', 1), ('gearalias', 1), ('portal', 24), ('plant', 2), ('gearname', 2), ('valve', 1), ('retained', 2), ('unspecified', 1), ('receiver', 6), ('microgears', 2), ('retain', 3), ('outdoor', 4), ('temp', 7), ('28', 4), ('humid', 1), ('56', 5), ('belong', 3), ('everytime', 5), ('subscribes', 1), ('setcachepath', 2), (\"cache'\", 2), ('g1', 1), ('resettoken', 4), ('revoke', 1), ('applicatin', 1), ('disconnects', 1), ('occurs', 4), (\"'warning'\", 2), ('notified', 3), ('rejected', 3), ('mesage', 1), (\"'present'\", 1), ('appears', 7), ('friend', 5), (\"'absent'\", 1), ('absent', 1), ('lost', 5), ('announcement', 4), ('staffing', 1), ('shortage', 1), ('avatars1', 1), ('31987273', 1), ('110', 2), ('combining', 2), ('dep', 4), ('greenkeeper', 12), ('iterator', 8), ('sequences', 3), ('equality', 1), ('await', 7), ('typed', 4), (\"'async\", 6), (\"generators'\", 1), ('43694282', 1), ('1657476', 1), ('iteration', 6), ('directivedemo', 1), ('footer', 31), ('crear', 2), ('tu', 2), ('sitio', 2), ('informaticomanchay', 2), ('pagina', 2), ('mas', 1), ('tutoriales', 1), ('developersmanchay', 1), ('botlist', 2), ('013', 1), ('aprende', 1), ('esto', 1), ('completamente', 1), ('gratis', 1), ('descarga', 1), ('ngrok', 2), ('exe', 5), ('vez', 1), ('clonado', 1), ('repositorio', 3), ('todas', 1), ('sus', 1), ('dependecias', 1), ('usando', 1), ('los', 4), ('siguientes', 3), ('comandos', 1), ('joseph', 1), ('esteban', 1), ('carrasco', 1), ('freelance', 1), ('smushit', 27), ('heldr', 6), ('resmush', 5), ('yahoo', 19), ('smush', 2), ('march', 7), (\"smushit'\", 1), ('mygroup', 2), (\"'tests\", 55), (\"jpg'\", 12), (\"min'\", 7), ('compressing', 1), ('rate', 3), ('group1', 5), ('opt', 12), ('filetype', 4), ('group2', 5), ('group3', 4), ('recursive', 4), ('tellme', 1), ('recursively', 3), ('walk', 1), ('southpark', 4), (\"img1'\", 2), (\"img2'\", 2), ('img1', 2), ('img2', 2), (\"'tests'\", 2), (\"'img'\", 1), (\"'img1\", 1), (\"'img2\", 1), ('optimizer', 1), ('myimgopt', 1), (\"exec'\", 1), ('05', 6), ('deprecation', 5), ('bugfix', 2), ('29', 10), ('03\\u2003\\u2003\\u2003v1', 1), ('0\\u2003\\u2003\\u2003use', 1), ('15\\u2003\\u2003\\u2003v1', 2), ('0\\u2003\\u2003\\u2003support', 1), ('0\\u2003\\u2003\\u2003enable', 1), ('06', 4), ('16\\u2003\\u2003\\u2003v1', 1), ('0\\u2003\\u2003\\u2003rewrite', 1), ('gruntplugin', 4), ('26\\u2003\\u2003\\u2003v0', 2), ('2\\u2003\\u2003\\u2003add', 1), ('helder', 1), ('santana', 1), ('colorhook', 1), ('duereg', 6), ('extracts', 1), ('formerly', 2), (\"sourcemap'\", 1), (\"'public\", 3), ('output1', 2), ('output2', 2), ('removesourcescontent', 1), ('sourcescontent', 1), (\"'removesourcescontent'\", 1), ('fingerapp', 1), ('ng2', 14), ('midnight', 4), ('datducky', 1), ('christieman', 1), ('nighttime', 1), ('yarnpkg', 2), ('continual', 4), ('unpacked', 2), ('leisure', 1), ('reloaded', 5), ('tieman', 1), ('ultimate', 2), ('mapseries', 4), (\"'fs'\", 5), ('asynccontrol', 15), ('readfile', 3), (\"'package\", 1), (\"'utf8'\", 2), (\"'second'\", 2), ('stat', 2), (\"'not\", 4), (\"exist'\", 3), (\"'third'\", 2), ('settle', 5), (\"'err\", 1), ('thrown', 2), (\"'res\", 1), ('enoent', 7), ('l24', 1), ('l76', 1), ('beforeeach', 3), ('aftereach', 3), ('thunk', 5), ('l126', 1), ('700', 4), ('l164', 1), ('settleseries', 1), ('settleparallel', 1), (\"'series'\", 2), (\"'parallel'\", 1), ('internal', 4), ('456', 4), ('recieves', 1), ('opts', 24), ('j', 5), ('mp', 2), ('1qyzue9', 1), (\"'util'\", 1), (\"'iterator'\", 1), ('customiterator', 1), ('fn', 33), ('inspect', 6), ('tunnckocore', 26), ('charlike', 4), ('reagent', 1), ('1stw47c', 1), ('tk', 3), ('keybase', 7), ('caolan', 2), ('shallow', 14), ('jonschlinkert', 7), ('feross', 4), ('fe7d37', 1), ('8a7967', 1), ('cb3837', 1), ('55acee', 1), ('4183c4', 1), ('webchat', 2), ('23charlike', 1), ('5654a4', 1), ('ama', 1), ('20me', 1), ('okcoin', 16), ('exchange', 7), ('trouble', 1), ('principles', 4), ('programatically', 3), ('retries', 2), ('vary', 2), ('timeouts', 2), ('mutable', 2), ('addtrade', 5), ('cancelorder', 2), ('retying', 1), ('verror', 2), ('davepacheco', 1), ('diagnosed', 1), ('503', 1), ('10010', 1), ('funds', 3), (\"'okcoin'\", 1), ('publicclient', 4), ('btcusd', 3), ('ticker', 1), ('getticker', 1), (\"'btc\", 12), (\"usd'\", 12), ('getdepth', 1), ('trades', 1), ('defaulting', 6), ('gettrades', 1), ('privateclient', 12), ('getuserinfo', 1), ('buy', 3), ('btc', 3), ('usd', 4), (\"'buy'\", 1), (\"'0\", 6), (\"01'\", 6), (\"'100'\", 1), ('900', 1), (\"'sell'\", 1), (\"'900'\", 1), ('market', 3), (\"'buy\", 1), (\"market'\", 2), (\"'25'\", 1), (\"'sell\", 1), ('31234567', 1), ('getorderinfo', 1), ('unfilled', 1), ('getorderhistory', 2), ('deposits', 1), ('getaccountrecords', 2), ('withdrawals', 1), ('exmaples', 2), ('rotten', 6), ('tomatoes', 6), ('arvindr21', 5), ('rottentomatoesjqueryrestclient', 3), ('rtrestclient', 2), ('rtapi', 4), ('rtclient', 2), ('rottentomatoes', 8), ('searchmovies', 1), ('iron', 3), ('237', 1), ('movies', 6), ('714976247', 6), ('mpaa', 1), ('pg', 1), ('13', 15), ('126', 2), ('critics', 3), ('director', 1), ('jon', 3), ('favreau', 1), ('robert', 3), ('downey', 2), ('superhero', 1), ('movie', 8), ('comics', 1), ('fans', 1), ('theater', 1), ('dvd', 1), ('ratings', 1), ('certified', 1), ('fresh', 6), ('upright', 1), ('91', 2), ('synopsis', 5), ('posters', 1), ('content7', 4), ('flixster', 5), ('10933541', 4), ('mob', 1), ('pro', 6), ('det', 1), ('ori', 1), ('abridged', 1), ('cast', 7), ('162654529', 1), ('tony', 1), ('stark', 1), ('terrence', 1), ('howard', 1), ('162652991', 1), ('colonel', 1), ('james', 1), ('rhodes', 1), ('jeff', 1), ('bridges', 1), ('162655890', 1), ('obadiah', 1), ('stane', 1), ('gwyneth', 1), ('paltrow', 1), ('162653966', 1), ('virginia', 1), ('pepper', 1), ('potts', 1), ('leslie', 1), ('bibb', 1), ('563122407', 1), ('christine', 1), ('everhart', 1), ('ids', 3), ('imdb', 1), ('0371746', 1), ('reviews', 3), ('subdirectory', 2), ('indentation', 3), ('conventions', 11), ('substitute', 4), (\"grunt's\", 2), ('submitting', 6), ('failing', 2), ('reflect', 5), ('legal', 1), ('increased', 2), ('grabs', 2), ('informaton', 1), ('territory', 1), ('approved', 1), ('parties', 1), ('reserves', 2), ('180292', 1), ('jackal', 1), ('thejackalofjavascript', 1), ('privateer', 1), ('black', 8), ('beard', 1), ('pet', 1), ('parrot', 1), ('hackability', 1), ('rig', 1), ('quarterdeck', 1), ('materialize', 1), ('materializecss', 1), ('pug', 1), ('4x', 2), ('sequelize', 5), ('readthedocs', 4), ('cargo', 1), ('postgresql', 13), ('davidlinse', 5), ('2fgrunt', 2), ('statements', 22), ('verry', 1), ('compressed', 2), ('mini', 4), ('anyway', 4), ('afterwards', 2), ('escodegen', 4), (\"'noise'\", 1), (\"'remove\", 2), (\"logging'\", 2), (\"'npm'\", 1), ('loadtasks', 1), (\"tasks'\", 1), ('esprima', 1), ('estraverse', 1), ('esmangle', 2), ('involved', 6), ('linse', 1), ('thewarranties', 1), ('rivus', 19), ('riv', 2), ('aggregation', 10), ('jaredwray', 5), ('deduplication', 2), ('v5', 4), ('higher', 21), (\"'user'\", 7), (\"publication's\", 1), ('publication', 5), ('situated', 2), ('1270826243', 1), ('3574ed0', 1), ('d2925718be41442e877c9d496b6e1d2a', 1), ('dwo2ye2v4hvvg9npoukvjkzdn', 2), ('wabdbmxfkgbpdxiyzailse5i8x3uymp6n5otbpcpvbeurxqbw2', 2), ('1234567892', 1), ('q3ztvafxe9o9u0ywnkapcrawjeukw7jw67bu88k', 1), ('wqheraitcbj4nq2sqk5lnowgdkbasob5201smsox17asr', 1), ('userid', 3), (\"'host'\", 5), (\"'port'\", 7), (\"'riv\", 3), (\"us'\", 3), ('dirname', 8), ('synchronize', 6), ('getfeed', 1), ('synchronization', 4), ('periodic', 4), (\"'starting\", 1), ('scheduled', 2), (\"'scheduled\", 2), (\"completed'\", 1), ('manipulate', 1), (\"'dddd'\", 1), ('wednesday', 1), ('missed', 2), ('feeditem', 1), ('rolled', 1), ('interchangable', 1), (\"'providerid'\", 1), ('obj', 73), ('normalized', 5), ('jared', 1), ('wray', 1), ('rustils', 18), ('lodin', 8), ('rust', 8), ('abstractions', 2), ('std', 2), ('abstraction', 4), ('supplement', 1), ('exception', 10), ('accordance', 1), (\"'rustils'\", 2), ('unwrap', 2), ('havvy', 1), ('lacks', 3), ('straigt', 2), ('cetain', 2), ('international', 3), ('discord', 5), ('40reactiflux', 2), ('61dafb', 1), ('reactiflux', 3), ('rocket', 1), ('justingreenberg', 2), ('transforms', 4), ('hmr', 2), ('catches', 1), ('glenjamin', 4), ('’s', 3), ('abramov', 1), ('death', 1), ('765fa791d7c4', 1), ('1539088', 1), ('11611771', 1), ('ae1a6bd8', 1), ('9bac', 1), ('11e5', 3), ('9206', 1), ('42447e0fe064', 1), ('can’t', 3), ('—it', 1), ('throwing', 5), ('404', 10), ('coded', 4), ('don’t', 21), ('attaching', 7), ('caution', 3), ('cc0', 3), ('wdio', 22), ('junit', 18), ('webdriverio', 12), ('getstarted', 1), (\"'junit'\", 4), ('reporteroptions', 3), ('outputdir', 4), ('outputfileformat', 3), ('cid', 9), ('suites', 3), ('represents', 7), ('xunit', 4), (\"'mycustomfilename\", 1), (\"xml'\", 1), ('suitenameformat', 1), ('packagename', 11), (\"'packagename'\", 1), ('41', 1), ('administrator', 2), ('erroroptions', 3), ('combinations', 2), ('tobe', 1), (\"message'\", 6), ('matchername', 1), (\"'tobe'\", 1), (\"'expected\", 1), (\"'error\", 4), ('usercontext', 1), ('mcelotti', 1), ('webstormprojects', 1), ('forcebeatwio', 1), ('marco', 1), ('prova1', 1), ('stacktrace', 1), (\"'stack'\", 1), ('nead', 1), ('postjob', 1), ('cda', 3), ('featuring', 2), ('surfacing', 1), ('patient', 1), ('eliotk', 1), ('mininum', 1), ('rebase', 1), ('ipg', 8), ('citations', 8), ('imagemagick', 4), ('nps', 2), ('mojn', 2), ('meetingbooker\\r', 2), ('project\\r', 1), ('prepare\\r', 1), ('org\\r', 1), ('maxknu', 1), ('packages\\r', 1), ('files\\r', 1), ('sqlite3', 1), ('tests\\r', 1), ('chai\\r', 1), ('server\\r', 2), ('3333', 5), ('getallbookings\\r', 1), ('getfreeslots', 1), ('empid', 1), ('103222943108469712161093620402295866178', 1), ('01t07', 1), ('01t10', 1), ('30\\r', 1), ('wodore', 1), ('gae', 12), ('sdk', 24), ('pip', 4), ('virtualenv', 3), ('mkdir', 3), ('mynewapp', 2), ('madvas', 2), ('beautiful', 4), ('appcfg', 1), ('py', 2), ('appengine', 1), (\"command'\", 2), (\"'clean'\", 2), (\"'rm\", 1), ('rf', 1), (\"'babel\", 1), (\"'production'\", 4), ('sequentially', 2), ('stdin', 3), ('quiet', 1), ('stderr', 1), ('ignoreerrors', 1), ('overwriting', 4), ('loved', 1), (\"gulp's\", 2), ('hated', 1), ('cutting', 1), ('sun', 5), ('zheng', 2), ('sadly', 2), ('buffered', 2), ('tendency', 1), ('spawn', 2), (\"i'll\", 4), ('codumentation', 1), ('gregory', 1), ('benner', 1), ('klathmon', 1), ('opcua', 51), ('opc', 9), ('8sgtm3n15aii98oc', 1), ('erossignon', 1), ('repl', 4), ('opcfoundation', 1), ('gadz', 1), ('er', 2), ('carry', 2), ('ohloh', 2), ('713850', 1), ('encrypt', 8), ('compliance', 2), ('ctt', 1), ('ha', 1), ('historizing', 1), ('lambton', 1), ('college', 1), ('industrial', 1), ('convention', 7), ('bold', 2), ('usernames', 2), ('passwords', 5), ('italic', 1), ('ls', 3), ('pi2', 2), ('conform', 1), ('ultrasonic', 3), ('breadboard', 1), ('simulate', 1), ('labeled', 5), ('ns', 4), ('sonic', 1), ('cm', 1), ('pumpspeed', 1), ('simulated', 2), ('pump', 1), ('pressure', 3), ('psi', 1), ('gpio', 2), ('pins', 1), ('jcodling', 2), ('wsclient', 1), ('wsindex', 1), (\"'empty\", 1), (\"object'\", 1), (\"'smith'\", 1), ('haraka', 39), ('cope', 1), ('connections', 17), ('inbound', 1), ('anti', 2), ('spam', 3), ('protections', 1), ('outbound', 3), ('587', 1), ('authenticate', 8), ('vastly', 1), ('complicated', 2), ('imap', 1), ('mails', 3), ('delivers', 1), ('postfix', 2), ('dovecot', 1), ('courier', 1), ('relaying', 1), ('queued', 1), ('mailto', 5), ('harakamail', 1), ('screencast', 3), (\"haraka's\", 1), ('exim', 1), ('deliver', 2), ('qmail', 4), ('whereby', 1), ('anywordshere', 1), ('routed', 6), ('spamassassin', 2), ('helo', 1), ('dns', 3), ('blocklists', 1), ('violators', 1), ('talker', 1), ('furthermore', 1), ('tune', 2), ('firstly', 2), ('domains', 2), ('queueing', 1), ('baudehlo', 1), ('nature', 3), ('v8', 1), ('evaluations', 1), ('sergeant', 1), ('veteran', 1), ('leader', 21), ('qpsmtpd', 1), ('perl', 2), ('slower', 2), ('youtu', 1), ('6twkxmaspsw', 1), ('osdi', 4), ('ngp', 2), ('van', 3), ('acronymdemoapp', 1), ('princewck', 1), ('si', 10), ('thomwright', 4), ('unformat', 1), ('prefixes', 2), ('formatsi', 3), (\"'format\", 2), (\"prefix'\", 2), ('000111111', 1), ('111µ', 2), ('00111', 2), ('11m', 4), ('0111', 2), ('1m', 3), ('111', 6), ('111m', 2), ('1111', 3), ('11k', 2), ('11111', 1), ('1k', 2), ('111111', 1), ('111k', 2), ('1111111', 1), ('unformatsi', 3), ('000111', 1), ('1110', 1), ('11100', 1), ('111000', 1), ('1110000', 1), ('345m', 1), ('12345000', 1), ('345', 2), ('1234567', 2), ('123456m', 1), ('123456000000', 1), ('0001', 1), ('html5boilerplate', 11), ('adaptable', 2), ('iterative', 2), ('impose', 5), ('h5bp', 11), ('initializr', 4), ('ie6', 4), ('normalize', 6), ('necolas', 3), ('normalizations', 2), ('modernizr', 12), ('protection', 8), ('stray', 2), ('causing', 3), ('grade', 3), ('toc', 12), ('helped', 5), ('tiger8', 8), ('appcelerator', 4), ('titanium', 4), ('alloy', 2), ('sq', 1), ('avatars0', 1), ('9886051', 1), ('dragons', 1), ('builtwith', 7), ('mockolate', 6), ('mocking', 6), ('mocks', 1), ('flavor', 2), ('velvety', 1), ('introduces', 1), ('numtimescalled', 4), ('mockfunction', 45), ('callhistory', 7), ('invocation', 11), ('tour', 5), ('mock', 26), (\"'mockolate'\", 6), ('getarsenal', 123), (\"'ninja\", 29), (\"stars'\", 55), (\"'100\", 16), ('crazy', 16), ('ellisande', 1), ('stubbing', 5), (\"'no\", 28), ('forceerror', 10), ('differ', 1), ('invoke', 10), (\"weapons'\", 4), ('numcalled', 2), ('myfunc', 8), ('lastcalled', 5), ('invocations', 5), ('pairings', 1), ('act', 6), ('paired', 2), ('correspond', 3), ('describe', 8), (\"'swords'\", 3), (\"'1\", 19), (\"katana'\", 3), ('stub', 17), ('katana', 1), ('thens', 1), (\"'sword'\", 1), ('condition', 4), ('swords', 1), ('surprise', 2), (\"'balloons'\", 1), ('balloons', 1), ('matchers', 22), (\"'fuzzy'\", 1), ('anymatcher', 1), (\"star'\", 9), (\"'anything\", 3), (\"all'\", 1), ('exactmatcher', 3), ('exact', 8), (\"'2\", 7), (\"null'\", 2), ('anystringmatcher', 2), ('anystring', 2), (\"string'\", 2), (\"'any\", 1), ('deepequalsmatcher', 1), ('deepequals', 2), ('whens', 1), ('invokes', 2), ('instanceof', 8), ('wether', 1), ('resolves', 3), ('thenreturn', 1), ('thenerror', 1), ('thenthrow', 1), ('dbmock', 6), (\"'steve'\", 5), ('shouldbesteve', 4), ('myapi', 14), (\"would've\", 1), ('gotten', 1), ('upcoming', 2), ('proposed', 3), ('increments', 1), (\"'ryu'\", 2), ('killbadguys', 2), ('mockedninja', 5), ('oliver', 7), ('sir', 1), ('issuing', 1), ('breeze', 1), ('htmlpreview', 1), ('connoratherton', 1), (\"'it\", 1), (\"austin'\", 1), (\"'each\", 1), (\"separate'\", 1), ('overwrite', 5), (\"'notify\", 1), (\"baby'\", 1), ('austin', 1), (\"'clicked\", 1), (\"notificaton'\", 1), ('addeventlistener', 1), (\"'click'\", 2), (\"'also\", 1), ('clicked', 2), ('trakjs', 2), ('syncing', 2), ('spas', 12), ('pragmatic', 1), ('bundling', 3), ('webpage', 1), ('throttles', 1), ('caches', 2), ('dtex', 6), (\"stinkin'\", 1), ('bamboozle', 13), ('cafe', 1), ('hubots', 1), ('user1', 2), ('fried', 2), ('rice', 2), ('meats', 1), ('sektor', 17), ('slim', 2), (\"jquery's\", 2), ('sizzle', 17), ('smaller', 6), ('824b', 1), ('01kb', 1), ('dominus', 2), ('mirrors', 1), ('drawbacks', 3), ('compared', 1), ('popularized', 1), ('incompatibilities', 2), ('blown', 1), ('rooted', 1), ('glad', 2), ('bloat', 2), ('positional', 1), ('eq', 4), ('odd', 3), ('negations', 1), ('bevacqua', 3), ('5bc4454a18b859025cbb8480c70bd3b7ec623ac0', 1), ('l602', 1), ('l676', 1), ('ejohn', 1), ('otaniemi3d', 6), ('aaltoasia', 4), ('intuitive', 3), ('otaniemi', 2), ('k1', 6), ('otakaari', 2), ('9000', 6), ('hookz', 26), ('dadish', 4), ('hooking', 2), ('pw', 4), ('processwire', 5), ('bb', 2), ('coders', 1), (\"processwire's\", 1), (\"'hookz'\", 1), ('hooker', 9), ('hookev', 15), ('returnvalue', 5), (\"boo'\", 1), ('hookable', 29), (\"'baz'\", 1), ('addhook', 17), ('constructer', 1), ('prefixed', 5), ('determine', 11), ('underscores', 3), ('methodname', 2), ('attaches', 6), ('seperated', 1), (\"'name1\", 1), ('name2', 3), (\"name3'\", 1), ('name1', 2), (\"'somename'\", 1), ('somename', 1), ('removehook', 6), ('precise', 1), ('callback1', 2), ('callback2', 2), ('addhookonce', 5), (\"'counter\", 1), ('calback', 1), ('addhookbefore', 5), ('addhookafter', 5), (\"run'\", 1), ('syntactic', 2), ('hookevent', 11), (\"'callback1\", 1), (\"'callback2\", 1), ('arg', 2), (\"'obj\", 1), ('thorough', 3), ('ryan', 1), ('cramer', 3), ('jeremy', 1), ('ashkenas', 3), ('ryancramerdesign', 1), ('flora', 13), ('datasource', 2), ('godmodelabs', 5), ('prone', 3), ('datasources', 1), (\"'datasources'\", 3), (\"'mongodb'\", 3), (\"'constructor'\", 3), (\"'flora\", 3), (\"mongodb'\", 3), (\"'options'\", 3), (\"'server'\", 2), ('replica', 1), (\"'replicaset'\", 1), (\"'mycluster'\", 1), (\"'servers'\", 1), (\"'mongo\", 2), (\"'ssl'\", 1), (\"'authsource'\", 1), (\"'username'\", 4), (\"'dbuser'\", 1), (\"'dbpassword'\", 1), ('mydatabase', 2), ('mycollection', 2), ('encoding', 2), ('primarykey', 1), ('urn', 1), ('storedtype', 2), (\"'123456'\", 1), ('somekey', 3), (\"'somevalue'\", 1), ('someotherkey', 1), ('frontplate', 10), ('angular2', 8), ('dependence', 1), ('0以上', 1), ('準備', 1), ('cliをインストールします。', 1), ('全体をビルド', 1), ('すべてのファイルをビルドします。開発を始める前に必ず一度はビルドしましょう。', 1), ('ファイル監視の実行', 1), ('サーバー起動', 1), ('以下のコマンドを実行するとブラウザで開発中のページが開きます。この状態でcssやjsを修正するとユニットテストやlintも同時に実行され、ブラウザが自動的に更新されます。', 1), ('srcディレクトリを監視', 1), ('リリースファイル作成', 1), ('ひと通りの開発が完了した時点で、リリース用のファイルを作成します。', 1), ('productionタスクではjsとcssのソースマップが出力されなくなり、高度に圧縮されます。', 1), ('productionモードでサーバーを起動して確認するためには上のコマンド実行後に次のコマンドを実行します。', 1), ('依存関係の表示', 1), ('カバレッジを取る仕組み', 1), ('このテンプレートは', 1), ('frontainer', 2), ('がベースになっています。', 1), ('詳細なドキュメントはcliのドキュメントを参照してください。', 1), ('shiftonline', 1), ('כלי', 1), ('חדש', 2), ('להעברת', 1), ('משמרת', 1), ('כרגע', 1), ('עובד', 1), ('בחלון', 5), ('האיוונטים', 2), ('הוספת', 7), ('איוונט', 5), ('הצגת', 5), ('כול', 5), ('הכלפה', 1), ('בין', 1), ('תאריכים', 1), ('של', 3), ('מחיקת', 3), ('עריכת', 3), ('שם', 2), ('האיוונט', 1), ('שמירת', 1), ('התוכן', 2), ('כך', 1), ('שבמידה', 1), ('ועבר', 1), ('יום', 1), ('יווצר', 1), ('תוכן', 1), ('ובמידה', 1), ('ולא', 1), ('יערך', 1), ('הקיים', 1), ('ההנחיות', 2), ('הנחייה', 4), ('תאריך', 1), ('התחלה', 1), ('ותאריך', 1), ('סיום', 1), ('התקלות', 4), ('פתיחת', 1), ('חלונית', 1), ('להוספת', 1), ('תקלה', 6), ('לא', 1), ('מוסיף', 1), ('עדיין', 1), ('בפיתוח', 1), ('רשימה', 2), ('הבסיסים', 1), ('כשפותחים', 1), ('האתרים', 1), ('באותו', 1), ('בסיס', 1), ('שנבחר', 1), ('חשה', 1), ('לבסיס', 1), ('הנתונים', 1), ('בצורה', 1), ('דינאמית', 1), ('וההנחיות', 1), ('צביעת', 1), ('ההנחייה', 1), ('או', 1), ('הההודעה', 1), ('בצבע', 1), ('לפי', 1), ('בחירה', 1), ('כללי', 1), ('אנימציון', 1), ('ושפור', 1), ('העיצוב', 1), ('תמונות', 1), ('מהאתר', 1), ('חלון', 3), ('איוונטים', 1), ('18642444', 6), ('37240967', 1), ('fc9d7546', 1), ('245a', 1), ('11e8', 6), ('8b5e', 1), ('27fbdc29e5cc', 1), ('37241004', 1), ('4fcf559a', 1), ('245b', 5), ('9c8d', 1), ('91fa7ac4aa7d', 1), ('הנחיות', 1), ('37241018', 1), ('646c04ee', 1), ('8192', 1), ('2dd60b31c4f2', 1), ('37241024', 1), ('713f4cbc', 1), ('9fec', 1), ('b261576f65fb', 1), ('תקלות', 1), ('37241031', 1), ('7be6695c', 1), ('9c37', 1), ('3e085920e0c2', 1), ('37241036', 1), ('8aa8ebc2', 1), ('8c80', 1), ('876dfc5c1d9b', 1), ('התקנת', 1), ('השרת', 1), ('יש', 2), ('להתקין', 1), ('לאחר', 1), ('הורדת', 1), ('הקבצים', 1), ('לבצע', 1), ('את', 1), ('הפקודה', 1), ('todomvc', 41), ('mv', 15), ('tastejs', 18), ('spoiled', 3), ('selecting', 3), ('structuring', 3), ('solutions', 12), ('sea', 3), ('addy', 9), ('osmani', 6), ('founder', 3), ('gravatar', 23), ('96270e4c3e5e9806cf7245475c00b275', 3), ('oversees', 3), ('organizes', 3), ('planning', 3), ('efforts', 4), ('sindre', 12), ('sorhus', 6), ('sindresorhus', 6), ('d36a92237c75c5337c17b60d90686bf9', 3), ('consistency', 9), ('pascal', 9), ('hartig', 6), ('passy', 3), ('be451fcdbf0e5ff07f23ed16cb5c90a3', 3), ('passion', 3), ('watches', 5), ('stephen', 9), ('sawchuk', 6), ('stephenplusplus', 3), ('avatars3', 4), ('723048', 3), ('quicken', 3), ('loans', 3), ('cares', 3), ('improving', 6), ('colin', 6), ('eberhardt', 3), ('colineberhardt', 3), ('73bba00b41ff1c9ecc3ee29487bace7d', 3), ('consultant', 3), ('scott', 9), ('passionate', 6), ('objective', 3), ('sam', 6), ('saccone', 3), ('samccone', 3), ('userimage', 3), ('602125', 3), ('f2f1d93164ec62b527f0398c65b2d1f3', 3), ('desire', 4), (\"developers'\", 4), ('lives', 6), ('arthur', 6), ('verschaeve', 3), ('arthurvr', 3), ('e34daab0d2e344219adb5234198269c5', 3), ('fanboy', 3), ('belgium', 4), ('gianni', 6), ('chiappetta', 3), ('gf3', 3), ('4b0209ae3652cc5a7d53545e759fbe39', 3), ('programmer', 3), ('chief', 3), ('rigger', 3), ('metalab', 3), ('230', 6), (\"'speed\", 3), (\"dating'\", 3), (\"'rosetta\", 3), (\"stone'\", 3), ('whilst', 7), ('assistance', 3), ('deciding', 3), ('spending', 3), ('reviewing', 3), ('structured', 5), ('heavily', 6), ('researching', 3), ('opting', 6), ('intentionally', 5), ('unminified', 4), ('wishing', 3), ('spotify', 12), ('kiequoo', 2), ('lcd', 1), ('soundsystem', 1), ('066x20nz7iquqkkcw6jxy6', 1), ('webdriverjs', 2), ('seleniumhq', 3), ('interacting', 5), ('newer', 4), ('locators', 1), ('materials', 3), ('votes', 7), ('pagesize', 1), ('fromgroups', 1), ('mendel', 11), ('anylabs', 10), ('prettier', 22), ('ff69b4', 3), ('postgres', 11), ('unanswered', 1), ('unclear', 2), ('2010', 3), ('markthethomas', 7), ('favorites', 19), ('39', 5), ('bluebird', 6), ('commander', 4), ('npmfavorites', 1), ('petkaantonov', 1), ('exceptionally', 1), ('chalk', 3), ('mafintosh', 5), ('famous', 2), ('chriso', 1), ('sanitization', 1), ('ava', 2), ('futuristic', 1), ('readable', 10), ('checker', 3), ('zeke', 4), ('andela', 9), ('nrotimi', 8), ('inverted', 12), ('alice', 2), ('wonderland', 1), ('falls', 3), ('rabbit', 1), ('hole', 1), ('imagination', 1), ('lord', 1), ('rings', 1), ('fellowship', 1), ('ring', 2), ('alliance', 1), ('elf', 1), ('dwarf', 1), ('wizard', 7), ('hobbit', 1), ('uploaded', 7), ('searching', 2), (\"'inverted\", 1), (\"index'\", 1), ('hound', 1), ('materialise', 1), ('stash', 16), ('atlassian', 3), ('stashapimodule', 6), (\"'stash\", 2), (\"api'\", 13), ('stashapi', 6), ('pullrequest', 6), (\"'7990'\", 2), (\"title'\", 2), (\"'description'\", 3), ('reviewers', 5), (\"'reviewer1'\", 2), (\"'reviewer2'\", 2), ('fromref', 2), (\"'refs\", 4), (\"branch1'\", 2), (\"'repo1'\", 6), (\"'proj'\", 6), ('toref', 2), ('createpullrequest', 2), ('statuscode', 7), ('201', 2), (\"'successfully\", 2), (\"user's\", 22), (\"'boooooo\", 2), ('ingshtrom', 2), ('creview', 2), ('treadmillthoughts', 1), ('athletes', 1), ('astronomical', 1), ('gains', 2), ('screens', 3), ('f10', 2), ('presenter', 4), ('f9', 2), ('f11', 1), ('esc', 2), ('escape', 15), ('preddefined', 2), ('lile', 1), ('proptype', 7), ('codemirror', 2), ('monokai', 1), ('usebabel', 1), ('bool', 34), ('es', 14), ('clickable', 3), ('2x', 2), ('3x', 1), ('5x', 1), ('goto', 1), ('redirecting', 3), ('masks', 58), ('assisrafael', 14), ('downloadrank', 5), ('bountysource', 6), ('60791', 2), ('bounties', 6), ('inscricao', 2), ('estadual', 2), ('cnpj', 6), ('kangax', 2), ('compat', 2), ('obs', 2), (\"masks'\", 6), (\"'demo'\", 2), (\"'angular\", 9), ('mask', 65), ('decimals', 7), (\"sep'\", 2), ('separators', 2), ('internationalized', 6), ('modelvalue', 10), ('viewvalue', 10), ('money', 34), ('currency', 20), ('phonenumber', 2), ('cep', 6), ('cpf', 4), ('initializedcpf', 2), ('initializedcnpj', 2), ('cpfcnpj', 4), ('initializedcpfcnpj1', 2), ('ufs', 4), (\"'ac'\", 2), (\"'al'\", 2), (\"'am'\", 2), (\"'to'\", 2), ('selecteduf', 2), ('uf', 4), ('field19', 2), ('iefield', 2), (\"'selecteduf'\", 2), ('brazillian', 2), ('validations', 11), ('sintegra', 4), ('especification', 2), ('gov', 10), ('insc', 2), ('est', 2), ('nfe', 2), ('acces', 2), ('boleto', 2), ('bancario', 2), ('scientific', 2), ('notation', 2), (\"br'\", 2), ('darc', 2), ('annota', 10), ('kotlinslackin', 2), ('kotlin', 8), ('kotlinlang', 3), ('filing', 3), ('youtrack', 3), ('kt', 2), ('newissue', 1), ('cleardraft', 1), ('subsystems', 1), ('pocoo', 2), ('kramdown', 8), ('gettalong', 3), ('poor', 1), ('nav', 3), ('jinja', 3), ('converting', 2), ('unlimited', 2), ('jekyllrb', 2), ('frontmatter', 1), ('grammar', 7), ('additions', 1), ('fenced', 1), ('paragraph', 4), ('tables', 19), ('stretches', 1), ('occupy', 1), ('zebra', 2), ('interleaves', 1), ('translated', 1), ('universal', 5), ('rubyinstaller', 1), ('jekyll', 3), ('powershell', 11), ('iis', 4), ('iusr', 1), ('ups', 1), ('assumed', 2), ('tbd', 1), ('bucket', 12), ('route53', 1), ('stout', 4), (\"account's\", 1), ('reactive', 9), ('namespaces', 1), ('adjusting', 2), ('texttoresizeaccordingtocanbemodel', 1), (\"'42'\", 1), ('страничка', 1), ('тупичка', 1), ('afishadigital', 1), ('бе', 1), ('нет', 1), ('всё', 1), ('тлен', 1), ('k206i', 1), ('ru', 9), ('tupichok', 1), ('mandelbrot', 1), ('laboration', 1), ('introductory', 1), ('deconstructed', 1), ('divided', 2), ('exercises', 3), ('analyse', 2), ('4000', 5), ('nodemon', 10), ('sec', 4), ('sleep', 1), ('dumps', 15), ('shortcut', 9), ('autoscroll', 1), ('autoclear', 1), ('restarts', 2), ('ansi', 3), ('coloring', 1), ('collapsable', 1), ('insensitive', 1), ('fuzzy', 1), ('parag', 1), ('gupta', 1), ('paraggupta1993', 1), ('favicon', 9), ('morgan', 2), ('frontail', 2), ('mthenw', 1), ('cbuffer', 1), ('cards', 1), ('dragging', 1), ('untested', 1), ('cheerwejs', 1), ('cheerwejs是一款基于bootstrap2', 1), ('0风格的前端组件，力求让开发者使用最少的代码，完成预定义的功能需求，让开发者快速上手', 1), ('一、说明', 1), ('1、目录结构说明：', 1), ('存放组件的js源文件', 1), ('存放组件的样式源文件', 1), ('组件demo', 1), ('组件文档', 1), ('存放组件依赖的第三方组件库，例如jquery', 1), ('my97datepicker', 2), ('umeditor', 3), ('2等，后续考虑移除', 1), ('2、组件说明：', 1), ('本框架依赖一个核心的core，核心core可以单独使用，不依赖于任何其他的第三方库，核心core主题提供各类公共的帮助方法，提供所有组件的基类', 1), ('二、组件列表', 1), ('numbereditor', 1), ('pagebar', 1), ('三、使用方式', 1), ('1、第三方组件库依赖', 1), ('第三方依赖库', 2), ('日期组件依赖该第三方组件', 1), ('wdatepicker', 1), ('富文本编辑器组件依赖该第三方组件', 1), ('2、在需要使用本框架的页面中，添加以下引用即可', 1), ('ps：使用时，请将路径切换为您应用中的具体路径', 1), ('四、组件快速使用api', 1), ('wejs', 1), ('checkoutdate', 2), ('maxgear', 1), ('checkindate', 1), ('exposes', 6), ('unified', 1), ('inputval', 14), ('checkboxes', 13), (\"container'\", 6), ('inputs', 133), (\"select's\", 1), ('unchecked', 1), (\"'text\", 2), (\"'multiple\", 2), ('whose', 4), ('inputonchange', 8), ('binds', 4), ('keyup', 5), ('keydown', 2), ('firing', 1), (\"changed'\", 2), ('bound', 5), ('inputenable', 3), ('inputdisable', 4), ('analogous', 1), ('inputclear', 2), (\"input's\", 1), ('agiletimes', 2), ('aug', 2), ('agile', 1), ('primeng', 3), ('graphcool', 3), ('alexa', 1), ('fall', 2), ('lamda', 2), ('pwa', 3), ('responsibilities', 1), ('demonstration', 4), ('atul', 1), ('banwar', 1), ('trendicity', 2), ('bleeding', 1), ('initiated', 4), ('preinstall', 1), ('postinstall', 9), (\"'ios'\", 2), (\"'android'\", 1), ('pitch', 1), ('vi', 2), ('tqnhmkybqrk', 2), ('presidential', 1), ('candidate', 11), ('tracks', 2), (\"twitter's\", 4), ('tweets', 4), ('metrics', 1), ('sentiments', 1), ('abilities', 1), ('sockets', 10), ('protoype', 1), ('reactifying', 1), ('flexbox', 7), ('intentional', 3), ('throughout', 4), ('chartjs', 1), ('sentiment', 1), ('tweettracker', 1), ('plans', 4), ('workshop', 1), ('chione', 10), ('freezedev', 7), ('prototyping', 1), ('5kb', 2), ('taggable', 1), ('assetfromfile', 1), ('bitdeli', 9), ('d2weczhvl823v0', 3), ('trend', 3), ('prometheusresearch', 2), ('doctoc', 3), ('hover', 20), ('vbox', 10), ('hbox', 12), ('factories', 3), ('variants', 4), ('safety', 7), ('stying', 1), ('it—javascript', 1), ('reused', 1), ('linters', 1), ('checkers', 1), ('vjeux', 2), ('centric', 1), ('units', 1), ('typesafe', 1), ('typos', 4), ('compiles', 6), ('nationjs', 1), (\"stylesheet'\", 6), ('suffixes', 1), ('onhover', 1), ('onactive', 2), ('ondisabled', 1), ('backgroundonhover', 1), ('coloronhover', 2), ('wrappers', 2), ('corresponds', 2), ('flex', 16), ('justifycontent', 1), ('flexgrow', 1), ('stretch', 1), ('snippets', 3), ('fontweight', 4), (\"'bold'\", 3), ('fontsize', 4), (\"'12pt'\", 3), ('textdecoration', 2), (\"'underline'\", 2), ('underline', 5), ('variant', 3), ('specially', 1), ('constructed', 2), ('typings', 3), (\"'oops'\", 1), ('isplay', 2), (\"'block'\", 1), ('producing', 1), ('167', 1), ('snapshot', 16), ('serializers', 2), ('jest', 70), (\"renderer'\", 1), ('testutils', 5), (\"testutils'\", 1), ('addsnapshotserializer', 2), ('snapshotserializer', 1), (\"'rendering\", 1), ('tojson', 11), ('tomatchsnapshot', 1), ('stylejoin', 1), ('precompiledcss', 1), ('boxsizing', 1), ('dynamicallygeneratedcss', 1), ('snapshotserializers', 4), ('serializer', 2), ('festivals', 15), ('codeship', 9), ('0d2f22d0', 1), ('d89f', 1), ('0132', 2), ('0797', 1), ('56577b4e3777', 1), ('78888', 1), ('zenedith', 1), ('gamba', 5), ('dose', 1), ('climbing', 4), ('codebase', 4), ('gambaclimbing', 3), ('vulcan', 3), ('vulcanjs', 3), ('fuji', 4), ('dirs', 2), ('educational', 1), ('wanting', 2), ('reuse', 8), ('wupjs', 3), (\"'wupjs'\", 1), ('lenoble', 2), ('drone', 2), ('containership', 17), ('haproxy', 3), ('cluster', 18), ('follower', 10), ('listens', 7), ('loadbalancing', 1), ('backing', 2), ('cs', 3), ('encouraged', 2), ('nodemvc', 2), ('mvc', 5), ('secured', 3), ('ipfstestsite', 1), ('romainberger', 9), ('v15', 1), (\"tooltip'\", 1), ('mycomponent', 2), ('istooltipactive', 6), ('showtooltip', 4), ('hidetooltip', 4), ('onmouseenter', 3), ('onmouseleave', 3), ('sepecified', 1), ('alignment', 5), ('tooltiptimeout', 1), ('usehover', 1), ('hovered', 1), ('hoverme', 2), ('statefultooltip', 4), ('through2', 5), (\"through2'\", 1), ('timings', 2), ('errordetails', 2), ('webpackconfig', 3), ('statoptions', 1), ('配置不转换直接压缩的js文件', 1), ('包含', 1), ('mishoo', 3), ('uglifyjs2', 1), ('的配置', 1), ('不压缩只合并', 1), ('压缩合并', 1), ('wendor', 1), ('statsoptions', 1), ('shortening', 1), ('chunk', 4), ('chunkmodules', 1), ('cached', 13), ('reasons', 4), ('resolving', 4), ('chunkorigins', 1), ('origins', 8), ('merging', 2), ('modulessort', 1), ('chunkssort', 1), ('assetssort', 1), ('通过', 1), ('运行', 1), ('配置', 1), ('文件直接压缩不处理', 1), ('jetsly', 1), ('querystring', 4), ('qs', 14), ('koajs', 15), ('3e', 4), ('nesting', 4), (\"'koa'\", 2), (\"'koa\", 4), (\"qs'\", 4), (\"'extended'\", 1), (\"'strict'\", 1), (\"j'\", 4), ('95', 2), ('stupid', 1), ('typeerror', 1), ('wooyun', 2), ('086474', 1), ('hapijs', 1), ('pageobject', 9), ('codeinspire', 2), ('codepen', 2), ('cssdeck', 1), ('bourbon', 2), ('almond', 2), ('jrburke', 1), ('transpilers', 1), ('yql', 3), ('retreives', 1), ('bundlers', 2), ('postcss', 4), ('ndmitry', 1), ('autoprefixer', 4), ('scrapper', 1), ('norfali', 1), ('torrent', 27), ('peerflix', 4), ('torrentstream', 6), (\"'torrent\", 2), (\"stream'\", 2), (\"'magnet\", 2), ('magnet', 7), (\"link'\", 2), (\"'ready'\", 4), (\"'filename\", 2), ('createreadstream', 6), ('slice', 3), ('inclusive', 4), ('deselect', 4), ('dht', 6), ('pieces', 9), ('peers', 15), (\"tmp'\", 4), ('infohash', 2), (\"file'\", 2), ('overrides', 16), ('swarm', 8), ('trackers', 7), (\"'udp\", 4), ('openbittorrent', 2), (\"80'\", 4), ('ccc', 2), ('mystorage', 2), ('backed', 2), (\"'download'\", 2), ('verified', 5), (\"'upload'\", 2), ('destroys', 2), (\"6881'\", 6), ('blocklist', 2), ('preventing', 4), ('6881', 2), ('424242', 2), ('selects', 3), ('deselects', 2), ('prioritized', 2), ('startbyte', 2), ('endbyte', 2), ('quizbot', 2), ('cleardb', 2), ('rounds', 2), ('glance', 2), ('sidebar', 18), ('scores', 1), ('scoreboard', 1), ('quizzes', 1), ('difficulties', 1), ('scroller', 24), ('ngrepeat', 8), ('instantiates', 1), ('sides', 1), (\"'scroller'\", 2), ('myapp', 13), ('getdata', 3), ('scrollersettings', 1), ('500px', 1), ('scrindex', 3), ('scrdata', 3), ('measures', 1), ('scrloadingtop', 2), ('scrreachedtop', 2), ('scrloadingbottom', 1), ('scrreachedbottom', 1), ('boundary', 9), ('hit', 11), ('drops', 2), ('topboundarytimeout', 1), ('bottomboundarytimeout', 1), ('indefinitely', 6), ('arbitrary', 5), ('initialindex', 4), ('pgup', 3), ('pgdown', 1), ('presses', 2), ('slnpacifist', 1), ('django', 7), ('morfat', 2), ('environments', 24), ('seekers', 1), ('fleshed', 1), (\"wjw's\", 1), (\"design's\", 1), ('animakit', 3), ('crafted', 1), ('photoride', 15), ('innovative', 1), ('gallery', 9), ('sized', 5), ('600px', 1), ('mycaption', 2), ('mygallery', 1), ('backgroundsize', 4), ('backgroundcolor', 2), ('333', 1), ('scrollduration', 2), ('transfer', 5), ('hyphens', 1), ('showcount', 1), ('resizeevent', 1), ('onresize', 1), ('enabletouch', 1), ('enablearrowkeys', 1), ('shownav', 1), ('reaching', 2), ('gradientsize', 1), ('gradient', 3), ('maxfade', 1), ('75', 6), ('totally', 3), ('scrolled', 1), ('witch', 1), (\"meteor's\", 1), ('systemjs', 6), ('blazeadaptor', 2), ('informations', 2), ('reactiveproperty', 6), ('shure', 1), ('html4', 1), ('autoinject', 2), (\"'aurelia\", 3), (\"framework'\", 1), (\"meteor'\", 2), ('statusstring', 4), ('retrycount', 2), ('isclient', 2), ('iscordova', 2), ('isserver', 2), ('createdat', 4), (\"'meteor\", 1), (\"tracker'\", 1), ('sampleclass', 1), ('propertytobereactive', 1), ('autorun', 1), (\"'propertytobereactive'\", 1), ('dynamaestro', 8), ('dynamodb', 1), ('ideology', 1), ('putitem', 10), ('batchwriteitems', 7), ('getitem', 16), ('batchgetitems', 6), ('scan', 15), ('updateitem', 9), ('deleteitem', 9), ('createtable', 8), ('listtables', 7), ('describetable', 7), ('deletetable', 7), ('whentableexists', 7), ('whentabledoesntexist', 7), ('connnects', 1), ('accesskeyid', 3), ('xxxxxxxxxxxxxxxxx', 1), ('secretaccesskey', 3), ('xxxxxxxxxxxxxxxxxxxxxxxxxxxxxxxxxx', 1), ('ddb', 19), ('chains', 6), ('tablename', 28), ('allowoverwrite', 1), ('testitem', 5), ('gettime', 7), ('testing3', 10), ('batchwriteitem', 1), ('nexthash', 4), ('b34c', 1), ('998e', 1), ('tableone', 1), ('e313659e', 1), ('c8ce', 1), ('4e0c', 1), ('8fc7', 1), ('bf01fe514c05', 1), ('boudrd', 2), ('1fe8a751', 1), ('7324', 1), ('4642', 1), ('8df9', 1), ('d3a8a4595639', 1), ('tabletwo', 1), ('atrributes', 4), ('testing2', 3), ('592c7ec9', 2), ('4835', 2), ('4c88', 2), ('9b5f', 2), ('c09fe11ebf97', 2), ('batchgetitem', 1), ('table1', 1), ('018654bf', 1), ('2a10', 1), ('4b08', 1), ('918c', 1), ('f21b0ca3c204', 1), ('23bb7b66', 1), ('1801', 1), ('4164', 1), ('83c0', 1), ('2a8259261905', 1), ('table2', 1), ('1211f8fe', 1), ('2567', 1), ('44b6', 1), ('83f0', 1), ('f82650376a89', 1), ('globalindex', 3), ('indexname', 7), ('operator', 9), ('operators', 2), ('ne', 1), ('ge', 1), ('1422048000000', 1), ('1422049000000', 1), ('someid', 2), ('numberofthings', 2), ('uniqueid', 1), ('9d3063b8', 1), ('2822', 2), ('4bc7', 1), ('a3ca', 1), ('9af2ba8f1032', 1), ('provision', 5), ('keytype', 2), ('indextype', 4), ('readcapacity', 2), ('writecapacity', 2), ('provisioned', 3), ('throughput', 2), ('capacity', 2), ('reserve', 2), ('reads', 4), ('itemid', 1), ('byuserbydate', 3), ('byuserbycount', 2), ('gather', 1), ('resourcenotfoundexception', 1), ('currencies', 5), ('cbrunnkvist', 2), (\"'es\", 1), (\"money'\", 1), ('onedollar', 8), (\"'usd'\", 10), (\"00'\", 9), ('subtract', 1), ('multiply', 1), (\"10'\", 1), ('allocate', 2), (\"75'\", 1), (\"25'\", 1), ('onehundreddollars', 1), (\"'33\", 3), (\"34'\", 1), (\"33'\", 2), ('fromobject', 1), (\"'vnd'\", 2), (\"'1234'\", 2), ('currencymismatcherror', 1), ('oranges', 1), ('currencyunknownerror', 1), ('subuniterror', 1), ('fractional', 2), ('cents', 1), ('amounterror', 1), ('registering', 10), ('currencymap', 2), ('registercurrency', 1), (\"'xyz'\", 2), ('decimaldigits', 1), ('subunit', 1), ('leak', 1), ('precision', 2), ('ambiguities', 1), ('mistakes', 6), ('proliferating', 1), ('accessors', 1), ('rounding', 1), ('concern', 4), ('localization', 1), ('specialized', 2), ('financial', 1), ('risk', 3), ('mistakenly', 1), ('subtracting', 1), ('differing', 1), ('impossibly', 1), ('30000000000000004', 1), ('00000000000001', 1), ('caveats', 3), ('transpilation', 2), ('feasible', 1), ('localeplanet', 2), ('conny', 1), ('brunnkvist', 1), ('toasttheme', 1), ('turning', 2), ('wordpress', 16), ('tartare', 1), ('designing', 1), ('lean', 2), ('commented', 1), ('activated', 3), ('uncommenting', 1), ('duplication', 1), ('extras', 2), ('theming', 1), ('toggled', 1), ('artistry', 1), ('enqueued', 1), ('smartly', 1), ('organized', 6), ('gplv2', 1), ('awesomize', 1), ('megatherium', 5), (\"s'\", 2), ('quotations', 1), ('docblocks', 1), ('handles', 9), (\"'megatherium'\", 1), ('harder', 6), ('mypaycheckapplication', 1), ('pay', 5), ('hackeryoutodoapp\\r', 1), ('golamragib', 1), ('hackeryoutodoapp', 2), ('…\\r', 1), ('profit', 2), ('tapas', 17), ('mutewinter', 6), ('brunch', 33), ('bp7ltpnfkyu', 1), ('kxxqftp', 1), ('compiling', 5), ('cx', 6), ('powcx', 1), ('embervim', 1), ('cakefile', 4), (\"ember's\", 1), ('superfluous', 1), ('digest', 4), ('sha', 3), ('appname', 4), ('cake', 30), ('canary', 5), ('addd', 1), ('ships', 3), ('scaffolt', 16), ('arraycontroller', 1), ('→', 25), ('hbs', 20), ('initializer', 16), ('mixin', 5), ('hashed', 1), ('mina', 7), ('rb', 2), ('continiously', 3), ('testem', 6), ('airportyh', 1), ('ariya', 1), ('launchers', 2), ('portkey', 2), ('projections', 1), ('eadapter', 1), ('easset', 1), ('ecomponent', 1), ('econfig', 1), ('econtroller', 1), ('ehelper', 1), ('einitialize', 1), ('einitializer', 1), ('emixin', 1), ('emodel', 1), ('eroute', 1), ('estyle', 1), ('etemplate', 1), ('etest', 1), ('eutility', 1), ('eview', 1), ('overwites', 1), ('gcollazo', 3), ('cavneb', 3), ('learnboost', 4), ('dsawardekar', 1), ('ebryn', 1), ('paulmillr', 1), ('nadarei', 1), ('handlebarsjs', 1), ('sdsn', 1), ('korea', 1), ('미확정', 1), ('항목', 1), ('게시판', 1), ('답글달기', 1), ('사용자', 1), ('등록', 1), ('연구', 1), ('발간물', 1), ('업로드시', 1), ('캡쳐', 1), ('파일업로드', 1), ('완료', 1), ('이벤트', 2), ('후', 1), ('버튼', 1), ('차트', 3), ('기능', 2), ('문의', 1), ('표시', 2), ('유무', 2), ('위치', 2), ('legend', 7), ('등', 1), ('타입', 1), ('heatmap', 1), ('cusum', 1), ('결정', 1), ('방법', 2), ('변경', 2), ('추가', 2), ('resizechart', 1), ('이벤트에서', 1), ('동기화', 1), ('문제', 1), ('분리', 1), ('동작', 1), ('시', 1), ('카드', 1), ('제어', 1), ('개발', 1), ('편의를', 1), ('위한', 1), ('값', 1), ('motion', 49), ('사용을', 1), ('위해', 1), ('프로젝트에', 1), ('mobius', 1), ('sbwoo87', 2), ('lazily', 2), ('business', 1), ('urlencoded', 1), ('koala', 1), ('cooptilleuls', 8), ('backoffice', 3), ('hypermedia', 3), ('integrator', 1), ('weirdo', 1), ('invent', 1), ('huge', 3), ('discipline', 1), ('recommandations', 1), ('feeding', 1), ('troll', 1), ('war', 1), ('recommendations', 2), ('proofs', 1), ('ass', 1), ('leftpad', 1), ('heard', 3), ('captain', 1), ('himself', 1), ('hmm', 1), ('exemples', 1), ('stuffs', 1), ('hotfix', 2), ('monster', 1), ('archangel', 14), ('irk', 14), ('sauce', 7), ('saucelabs', 9), ('collections', 7), ('mongoosejs', 6), ('matrix', 4), ('discriminator', 7), ('saving', 8), ('defining', 8), ('userschema', 6), ('blogschema', 2), (\"'blog'\", 1), ('favs', 1), ('schematype', 3), ('assigned', 8), ('permitted', 1), ('schematypes', 1), ('mixed', 14), ('objectid', 5), ('casting', 2), ('createcollection', 12), (\"'users'\", 1), (\"'constantine'\", 2), ('constantine', 2), ('validationerror', 1), ('executes', 3), ('validators', 38), ('validatesync', 1), ('storageerror', 2), ('donecallback', 1), ('deferred', 6), ('plaindoc', 2), ('virtuals', 6), ('personschema', 9), (\"'person'\", 5), (\"'walter'\", 1), (\"'white'\", 1), ('walter', 2), ('mess', 1), (\"'name\", 3), (\"full'\", 2), (\"insane'\", 1), ('insane', 1), ('toobject', 11), (\"'breaking'\", 1), (\"'bad'\", 1), (\"'breaking\", 2), (\"bad'\", 2), ('minimize', 1), ('versionkey', 1), ('discriminatorkey', 2), ('assigns', 2), ('objectids', 1), ('hexstring', 1), (\"org'\", 8), (\"'50341373e894ad16347efe01'\", 2), ('assiged', 1), ('coincide', 1), ('mongodbs', 1), ('1512', 2), ('ensures', 6), ('thingschema', 7), (\"'thing'\", 4), ('iamnotintheschema', 8), ('affects', 1), (\"'iamnotintheschema'\", 1), ('dropping', 3), (\"'tojson'\", 1), (\"'max\", 6), (\"headroom'\", 3), ('504e0cd7dd992d9be2f20b6f', 4), ('headroom', 5), ('applying', 5), (\"'toobject'\", 1), ('bossschema', 3), (\"'boss'\", 2), ('department', 2), ('baseschema', 4), ('boss', 1), ('schemes', 1), ('acquire', 1), ('workstation', 1), ('fetches', 1), ('remaining', 5), ('incompletely', 1), ('preparediscriminatorcriteria', 1), ('eng', 1), ('iferror', 1), ('toolkit', 5), ('wet', 17), ('boew', 15), ('pushes', 1), ('upstream', 7), ('foso', 12), ('dishes', 1), ('unpkg', 5), ('mjackson', 1), ('wzrd', 2), ('jfhbrook', 1), ('brcdn', 2), ('forbeslindesay', 1), ('jsdelivr', 2), ('fosojs', 7), ('packageversion', 1), ('filepath', 3), ('dat', 4), ('sikelianos', 2), ('hands', 3), ('indexes', 6), ('bundleroute', 2), ('packageroutes', 1), ('rd', 3), ('pluck', 6), ('minifying', 1), ('zoltan', 1), ('kochan', 2), ('greenthumb', 3), ('indigo0086', 2), ('environmental', 5), ('seeds', 1), ('garden', 1), ('szwacz', 21), ('s9htc1k5ojkn08fr', 3), ('minimalistic', 2), ('comprehensive', 3), (\"'electron'\", 2), ('boom', 2), ('transpiled', 4), ('runnable', 3), ('halves', 3), ('drawback', 3), ('gitignore', 9), ('advise', 4), ('rollup', 32), ('l16', 3), ('distributable', 3), ('natively', 5), ('mystuff', 6), ('jprichardson', 3), ('assertion', 11), ('searches', 7), ('spectron', 6), ('plugged', 3), ('cis', 4), ('veyor', 3), ('outputted', 3), ('installers', 3), ('userland', 6), ('l2', 3), ('gelo592', 1), ('progressbar', 13), ('circular', 5), ('crisbeto', 6), ('roundprogress', 5), (\"'somemodule'\", 1), (\"progress'\", 2), ('roundprogressconfig', 1), (\"ff8080'\", 1), (\"45ccce'\", 1), ('radius', 7), ('45ccce', 2), ('hex', 2), ('bgcolor', 2), (\"circle's\", 2), ('eaeaea', 2), ('stroke', 3), ('thickness', 1), ('semi', 3), ('semicircle', 1), ('clockwise', 4), ('rounded', 3), ('animating', 2), ('easeoutcubic', 2), ('linearease', 1), ('easeinquad', 1), ('easeoutquad', 1), ('easeinoutquad', 1), ('easeincubic', 1), ('easeinoutcubic', 1), ('easeinquart', 1), ('easeoutquart', 1), ('easeinoutquart', 2), ('easeinquint', 1), ('easeoutquint', 1), ('easeinoutquint', 1), ('easeinsine', 1), ('easeoutsine', 1), ('easeinoutsine', 1), ('easeinexpo', 1), ('easeoutexpo', 1), ('easeinoutexpo', 1), ('easeincirc', 1), ('easeoutcirc', 1), ('easeinoutcirc', 1), ('easeinelastic', 1), ('easeoutelastic', 1), ('easeinoutelastic', 1), ('easeinback', 1), ('easeoutback', 1), ('easeinoutback', 1), ('easeinbounce', 1), ('easeoutbounce', 1), ('easeinoutbounce', 1), ('erik', 1), ('möller', 1), ('penner', 1), ('robertpenner', 1), ('opsb', 1), ('5736398', 1), ('arc', 1), ('konsumer', 2), ('webex', 16), (\"company's\", 1), ('gsingers', 2), ('slackbot', 6), (\"bot'\", 1), ('webexbot', 1), ('webexbo', 1), (\"'xxxx\", 2), ('xxxxxxxxxx', 6), (\"xxxxxx'\", 2), ('mypath', 4), ('meet', 1), ('jira', 1), ('restrict', 2), (\"config'd\", 1), ('gemspec', 1), ('concisely', 1), ('solves', 11), ('concise', 2), ('explanations', 1), ('elimination', 3), ('tournament', 3), ('gotbracket', 4), ('tournaments', 2), ('aropupu', 2), ('bye', 3), ('win', 2), ('skipgrandfinalcomeback', 1), ('nograndfinalcomeback', 1), ('3a4210c', 1), ('redundant', 3), ('streamline', 1), ('extent', 1), ('skipsecondaryfinal', 1), ('skips', 7), ('lb', 6), ('winner', 3), ('wins', 3), ('played', 2), ('ported', 2), ('refactorings', 1), ('onmatchhover', 1), ('onmatchclick', 1), ('skipconsolationround', 1), ('reversing', 1), ('messed', 1), ('ie8', 4), ('bubble', 1), ('finals', 1), ('practically', 1), ('perfectly', 4), ('winning', 1), ('unresolved', 1), ('losers', 2), ('wb', 2), ('participants', 1), ('opponents', 1), ('maximize', 1), ('twice', 5), ('finalist', 1), ('adjustments', 4), ('consolidation', 1), ('simplified', 5), ('publicgooglecalendar', 5), (\"calendar'\", 2), ('calendarid', 1), (\"'id\", 1), ('getevents', 2), ('earliestfirst', 1), ('expandrecurring', 1), ('recurring', 1), ('enddate', 2), ('epoch', 1), ('baseevent', 1), ('expanded', 1), ('backboneatmosphereboilerplate', 1), ('atmosphere', 1), ('typing', 8), ('tips', 9), ('elliptic', 10), ('algo', 8), ('polkajs', 8), ('cryptography', 2), ('maths', 1), ('secp256k1', 2), ('ec', 1), ('secg', 1), ('sec2', 1), ('coindesk', 1), ('ripemd', 2), ('isc', 4), ('2004', 1), ('consortium', 2), ('1995', 1), ('2003', 1), ('fee', 1), ('disclaims', 1), ('regard', 1), ('indirect', 1), ('consequential', 1), ('whatsoever', 1), ('loss', 1), ('profits', 1), ('negligence', 1), ('tortious', 1), ('biotea', 5), ('vis', 3), ('topicdistribution', 1), ('biojs', 1), ('visualize', 1), ('distributions', 3), ('biolinks', 2), ('ljgarcia', 3), ('biote', 1), ('annotation', 2), ('r3fuze', 2), ('fea36920', 1), ('043c', 1), ('0131', 1), ('69fd', 1), ('7291c7ac1ec9', 1), ('7196', 1), ('medicast', 3), ('saas', 1), ('externalized', 1), ('featuremanager', 9), (\"'feature\", 1), (\"manager'\", 1), ('blocking', 2), ('isenabledsync', 1), (\"'mainpage\", 2), (\"sidebar'\", 2), ('isenabled', 1), ('sourcetype', 4), (\"'local'\", 1), ('sourcepath', 5), ('ttl', 3), ('86400', 2), (\"'s3'\", 2), ('sourcebucket', 1), (\"'s3\", 1), (\"'path\", 2), (\"'amazon\", 1), (\"'secretaccesskey'\", 1), ('feature1', 1), ('feature2', 1), ('optiona', 2), ('optionb', 1), ('feature3', 1), ('feature4', 1), ('optionx', 1), ('presence', 3), ('indicates', 6), ('mainpage', 3), ('navbar', 10), ('workaround', 2), ('gift', 1), ('birthday', 2), ('ricardomallols', 1), ('slave', 27), ('gittip', 7), ('walkthrough', 5), (\"'slave\", 2), (\"slave'\", 1), ('slavepath', 2), ('forks', 1), ('thenables', 8), ('jonathanong', 2), ('edition', 9), ('symfony2', 4), ('getcomposer', 4), ('phar', 5), ('browsing', 1), ('congratulations', 1), ('bypass', 3), ('configurator', 1), ('fabien', 2), ('feeling', 1), ('acmedemobundle', 4), ('acme', 1), ('bundles', 13), ('appkernel', 1), ('acmedemo', 1), ('firewalls', 2), ('tweak', 7), ('twig', 8), ('doctrine', 3), ('orm', 7), ('dbal', 1), ('swiftmailer', 2), ('frameworkbundle', 1), ('sensioframeworkextrabundle', 2), ('doctrinebundle', 1), ('twigbundle', 1), ('templating', 4), ('securitybundle', 1), (\"symfony's\", 1), ('swiftmailerbundle', 1), ('monologbundle', 1), ('monolog', 2), ('asseticbundle', 1), ('assetic', 2), ('webprofilerbundle', 1), ('profiling', 1), ('sensiodistributionbundle', 1), ('sensiogeneratorbundle', 1), ('cookbook', 5), ('sensiogeneratorbundl', 1), ('proj', 4), ('schedule', 32), ('collaborators', 1), ('actively', 2), ('tejas', 5), ('manohar', 3), ('tejasmanohar', 2), ('interest', 1), ('cron', 3), ('scheduler', 1), ('jobs', 2), ('recurrence', 1), ('timer', 1), ('reevaluating', 1), (\"module's\", 2), ('wonderful', 4), ('patenaude', 3), (\"we'd\", 2), ('individuals', 1), ('significant', 1), ('valuable', 3), ('jumping', 1), ('unixhelp', 1), ('ed', 2), ('crontab', 1), ('mattpat', 1), ('graphs', 6), ('tildeio', 2), ('htmlbars', 9), (\"htmlbars'\", 1), ('unaware', 1), ('shortly', 1), ('emitting', 2), ('toast', 16), ('rotates', 2), ('nhnent', 48), ('tui', 74), ('20wanted', 3), ('hearth', 2), ('nhn', 6), ('entertainment', 4), ('3c', 2), ('2f', 5), ('20with', 2), ('e2', 2), ('a5', 2), ('20by', 4), ('20entertainment', 2), ('ff1414', 2), ('🚩', 2), ('🌏', 2), ('1215767', 10), ('34348387', 2), ('a2e64588', 2), ('ea4d', 8), ('8267', 2), ('a43365103afe', 2), ('16px', 20), ('34348590', 2), ('250b3ca2', 2), ('ea4f', 2), ('9efb', 2), ('da953359321f', 2), ('34348380', 2), ('93e77ae8', 2), ('8696', 2), ('9a989ddbbbf5', 2), ('34348394', 2), ('a981f892', 2), ('9156', 2), ('d128d58386b9', 2), ('34348383', 2), ('9e7ed492', 2), ('910c', 2), ('03b39d52f496', 2), ('🎨', 2), ('🐾', 2), ('example01', 4), ('example06', 2), ('💾', 2), ('conveniently', 4), ('ko', 4), ('uicdn', 2), ('├─', 10), ('🔨', 2), ('namespace', 31), (\"'tui\", 4), (\"rolling'\", 4), ('reader', 4), (\"'rolling'\", 2), ('🔧', 2), ('haveany', 2), ('lastly', 4), (\"pr's\", 3), ('📙', 2), ('💬', 2), ('conduct', 4), ('guideline', 4), ('🔩', 2), ('📜', 2), ('ivey', 4), ('scivey', 4), ('somedir', 1), ('copycomponents', 4), (\"components'\", 2), ('resolvecomponents', 2), ('throug', 1), ('componentdir', 2), ('copying', 3), ('mkdirs', 1), ('rewritten', 2), ('stex', 20), ('overkill', 1), ('microservices', 2), ('middle', 4), ('choices', 6), ('recurrent', 1), ('namely', 1), ('nconf', 2), ('laid', 1), ('envs', 2), ('overriden', 2), ('showstacktraces', 2), ('loglevel', 1), ('eh', 1), ('bristol', 2), ('logtarget', 1), ('humanizer', 1), ('scriptable', 1), ('syslog', 2), ('pertaining', 2), ('uncaught', 1), ('knex', 5), ('underbaked', 1), ('leverage', 2), ('fool', 1), ('sentry', 2), ('getsentry', 1), ('sentrydsn', 1), ('automically', 1), ('subcommands', 1), ('opens', 3), ('boot', 5), ('shutdown', 4), ('requiring', 2), (\"'init'\", 1), ('notably', 1), ('stance', 1), ('relying', 1), ('curated', 3), ('activation', 2), ('gracefully', 2), ('dangrossman', 1), ('daterangepicker', 2), ('licensing', 3), ('raymondcheung', 1), ('daterange', 3), (\"'bower\", 1), ('dropped', 2), ('parentel', 1), (\"'down'\", 2), (\"'up'\", 1), (\"'left'\", 2), (\"'right'\", 2), (\"'center'\", 2), ('aligned', 1), ('centered', 3), ('autoupdateinput', 2), ('alwaysshowcalendars', 1), ('calendars', 13), ('choosing', 4), ('autoapply', 1), ('applyclass', 1), ('cancelclass', 1), ('isinvaliddate', 1), ('iscustomdate', 1), (\"date's\", 1), ('datelimit', 1), ('months', 8), ('buttonclasses', 1), ('showcustomrangelabel', 1), ('highlighted', 1), ('showdropdowns', 1), ('boxes', 1), ('startdate', 1), ('initially', 3), ('mindate', 1), ('earliest', 1), ('maxdate', 1), ('locale', 45), ('localized', 2), ('week', 8), ('showweeknumbers', 1), ('showisoweeknumbers', 1), ('linkedcalendars', 1), ('february', 4), ('arrows', 1), ('timepicker', 6), ('timepickerincrement', 1), ('timepicker24hour', 1), ('hour', 3), ('pm', 2), ('timepickerseconds', 1), ('singledatepicker', 1), ('chosen', 1), ('gaurantee', 1), ('unintended', 1), ('breakage', 1), ('reviewed', 2), ('approvals', 2), ('sms', 3), ('2fa', 2), ('typer', 2), ('simplisitic', 1), ('tplpath', 6), (\"'handlebars'\", 1), (\"hbs'\", 7), (\"'handlebars\", 1), (\"'module\", 1), (\"exports'\", 1), ('noredeclare', 1), ('processname', 1), ('processnamebypath', 1), (\"'hbs\", 2), (\"'var\", 1), ('gutil', 2), (\"'typer\", 1), ('test2', 2), ('hbshierarchy', 2), ('admittedly', 1), ('flaws', 1), ('determining', 1), ('heroes', 1), ('dbmover', 29), ('monomelodies', 1), ('sqlite', 2), ('mssql', 2), ('oracle', 5), ('arises', 1), ('involves', 2), ('tedious', 3), ('remembering', 1), ('leading', 1), ('databasename', 1), ('dsn', 2), ('yourusername', 1), ('dbname', 1), (\"php's\", 2), ('pdo', 1), ('seldom', 1), ('throwaway', 3), ('stronger', 1), ('regexes', 2), ('verbatim', 4), ('procedures', 2), ('drivers', 1), ('altering', 1), ('retains', 2), ('alterations', 1), ('foreign', 9), ('constraints', 5), ('sees', 1), ('autoincrement', 1), ('constraint', 8), ('buzz', 4), (\"'innodb'\", 2), ('idx', 2), ('recreate', 1), ('surefire', 1), ('accomplish', 2), ('opposed', 1), ('analysing', 1), ('accounting', 1), ('recreating', 1), ('considerably', 1), ('slow', 6), (\"c'est\", 1), ('vie', 1), ('loose', 1), ('referring', 1), ('lastcomment', 1), ('isolation', 9), ('logically', 1), ('silently', 3), ('succeed', 2), ('procedure', 3), ('conditionals', 1), ('elsif', 1), ('dependent', 10), ('inserts', 1), ('value1', 5), ('value2', 4), ('valuen', 1), ('hoisted', 4), ('analysed', 1), ('routines', 2), ('presumably', 1), ('evaluate', 4), ('transferring', 1), ('abstract', 2), ('formed', 1), ('caps', 1), ('halt', 1), ('theoretically', 2), ('harm', 2), ('recognise', 1), (\"mysql's\", 1), ('reserved', 3), ('backticks', 1), ('strange', 1), ('regexed', 1), ('hoisting', 1), ('spelling', 1), ('collations', 1), ('risky', 1), ('rare', 1), ('closely', 4), ('mangle', 5), ('preferably', 1), ('maintainance', 1), ('suffer', 2), ('necessarily', 2), (\"postgresql's\", 1), ('aliases', 3), ('owned', 1), ('unrelated', 1), ('seq', 1), ('bigint', 1), ('nextval', 1), (\"'auth\", 1), (\"seq'\", 1), ('regclass', 1), ('bigserial', 1), (\"dbmover's\", 1), ('occasionally', 2), ('suited', 1), ('porting', 1), ('consitent', 1), ('timber', 22), ('dead', 4), ('runners', 3), ('bullets', 1), ('nicely', 1), ('jarednova', 4), ('acf', 2), ('svgs', 4), ('respond', 4), ('hierarchy', 3), ('laras126', 2), ('cheatsheet', 5), ('notlaura', 1), ('reignited', 2), ('yuling', 1), ('incomplete', 1), ('screencasts', 1), ('playlist', 1), ('pluilodxmvq6pkqwyr6mtq5gqz6brnufx', 1), ('complie', 1), ('krampstudio', 6), (\"'future\", 1), ('basement', 1), ('webcomponents', 13), ('customelements', 1), ('automatize', 1), ('qunit', 2), ('fwc', 2), (\"'fwc'\", 1), (\"'ooops'\", 1), ('elt', 10), (\"'target'\", 1), ('regsiter', 1), ('instantiate', 2), ('invade', 1), ('earth', 4), ('onboard', 1), ('killer', 1), ('spreading', 1), ('attributs', 1), ('mehtod', 1), ('udpate', 1), ('chevrier', 1), ('sedona', 5), ('sdn', 5), ('appfolder', 1), ('risks', 1), ('appfodler', 1), ('thereby', 1), ('isparta', 2), ('429', 1), ('remap', 3), ('sitepen', 1), ('emfile', 2), ('rolaveric', 1), ('workiva', 1), ('jspm', 7), ('97', 2), ('resolutions', 1), ('wd', 1), ('busting', 2), ('42', 14), ('fr', 2), ('swimlane', 3), ('imacss', 13), ('akoenig', 3), ('datauri', 1), ('transformer', 1), (\"imacss'\", 2), (\"'imacss'\", 2), (\"svg'\", 2), (\"'images\", 2), ('piping', 2), ('svg2png', 2), (\"svg2png'\", 1), ('andré', 1), ('könig', 1), ('andrekoenig', 1), ('andre', 1), ('koenig', 1), ('posteo', 1), ('bloombee', 2), ('clever', 1), ('face', 2), ('researchers', 1), ('bright', 1), ('perplexity', 1), ('gifts', 1), ('humans', 4), (\"'getting\", 1), (\"right'\", 3), ('kill', 5), ('creativity', 1), ('workings', 2), ('dramatically', 1), ('sweetspot', 1), ('jkat98', 1), ('benm', 1), ('artsy', 1), ('ezel', 1), ('compacted', 1), ('resides', 5), ('mirroring', 1), ('viewed', 4), ('facets', 1), ('labs', 4), ('adsabs', 1), ('harvard', 1), ('trac', 1), ('ads', 1), ('invenio', 1), ('backboneresources', 1), ('bbb', 1), ('stackoverflowrss', 3), (\"'stack\", 2), (\"'javascript'\", 1), (\"'update'\", 2), ('voted', 2), ('anotherconsumer', 2), (\"'votes'\", 2), (\"'new'\", 3), ('newquestions', 2), (\"'newest'\", 1), (\"'unanswered'\", 1), (\"'active'\", 1), (\"'faq'\", 1), ('pollinterval', 1), ('polling', 3), ('leat', 1), ('subschema', 62), ('declaring', 1), ('borrowed', 1), ('powmedia', 1), ('whats', 4), ('datetime', 7), ('lazytype', 4), (\"path'\", 1), (\"'post'\", 2), (\"'select'\", 3), (\"'mr'\", 1), (\"'mrs'\", 1), (\"'ms'\", 1), (\"'required'\", 4), (\"'email'\", 4), (\"'date'\", 1), (\"'street'\", 1), ('city', 9), (\"'list'\", 3), ('itemtype', 4), ('fieldsets', 9), (\"'address'\", 6), (\"'address\", 3), (\"street'\", 1), (\"city'\", 1), (\"zip'\", 1), ('addschema', 1), (\"'ca'\", 1), (\"'fl'\", 1), (\"'va'\", 1), (\"'il'\", 1), ('zipcode', 1), ('datatype', 3), (\"'toggleobject'\", 1), (\"'simpletemplate'\", 1), ('otheraddresses', 1), ('canedit', 3), ('canreorder', 3), ('candelete', 3), ('canadd', 3), ('labelkey', 2), (\"'primary'\", 1), (\"'otheraddresses'\", 1), ('valuemanager', 8), ('addlistener', 2), ('newvalue', 5), ('oldvalue', 5), (\"'singlepath'\", 1), ('sake', 4), ('adderrorlistener', 1), ('handlesubmit', 2), (\"'yourschema'\", 1), ('onsubmit', 1), ('decorator', 23), ('decorators', 12), ('listeningtype', 1), (\"'somepath'\", 1), ('handlesomepath', 1), ('dynamiclistenexample', 1), ('initing', 1), ('addtype', 1), (\"'yourtype'\", 1), ('yourtype', 1), ('loaderfactory', 1), ('defaultloader', 1), ('checkboxselect', 1), ('injection', 11), (\"'checkboxselect'\", 1), (\"'first\", 3), (\"third'\", 1), ('elsewhere', 4), ('autocompleter', 1), ('nest', 1), (\"'stuff\", 2), ('sophisticated', 2), (\"'h3'\", 1), (\"class'\", 1), ('itemtemplate', 2), ('grouptemplate', 1), ('barely', 2), ('oneday', 2), ('reordering', 2), ('collectioncreatetemplate', 1), ('questionaire', 1), ('wrapps', 1), ('said', 7), ('fieldset', 1), ('nestedforms', 1), ('barbaric', 2), ('uszip', 1), ('capitalize', 2), ('letter', 2), ('casing', 1), ('shortdate', 1), ('mm', 6), ('yy', 1), ('creditcard', 1), ('credit', 5), ('restirced', 1), ('carmake', 1), ('workhorse', 1), ('themself', 1), ('wizardtemplate', 1), ('dynanicness', 1), ('reactfactory', 2), ('evaluates', 2), ('showhide', 1), ('falsetemplate', 1), ('truthy', 2), (\"'truthy'\", 1), (\"'falsey'\", 1), ('gim', 2), ('regext', 1), (\"'something\", 2), ('registed', 1), ('slighty', 1), ('differntly', 1), ('dismiss', 2), ('dismissing', 1), ('recieve', 1), ('substituting', 1), ('prepended', 1), ('addvalidator', 1), (\"'super'\", 4), (\"'validateme'\", 2), (\"'superv'\", 2), (\"super'\", 1), ('places', 2), ('editortemplate', 2), ('addtemplate', 1), (\"'editortemplate'\", 1), ('yourtemplate', 1), (\"'myfield'\", 2), (\"'sometemplate'\", 1), (\"'myotherfield'\", 3), (\"'othertemplate'\", 1), (\"'stuff'\", 2), (\"'hello'\", 2), ('myotherfield', 1), (\"'is\", 6), (\"cool'\", 2), ('grouping', 3), ('fieldsettemplate', 2), ('grained', 2), (\"'firstname\", 1), (\"lastname'\", 1), ('defaultprops', 2), ('magical', 1), ('valueevent', 2), ('targetevent', 2), ('descriped', 1), ('substitution', 2), ('thier', 1), ('selectpage', 4), (\"'page1\", 1), ('page2', 1), (\"page3'\", 1), ('link1', 3), (\"'anchor'\", 1), (\"'go\", 1), (\"page'\", 5), ('expressionengine', 2), ('copyproptypes', 3), ('selectlisten', 1), ('mydefault', 3), (\"'selectlisten'\", 1), (\"'favorites'\", 1), (\"'label'\", 1), ('myfavorites', 1), ('hao', 1), ('wei', 1), ('jeng', 1), ('lockys', 1), ('reduxsimplestarter', 9), ('udemy', 3), ('stephengrider', 6), ('reactstarter', 3), ('cognito', 5), ('digitalxlabs', 2), ('aaas', 2), ('evolves', 1), ('encrypting', 1), ('kms', 3), ('developerguide', 1), ('pool', 5), ('encrypted', 3), ('encryption', 22), ('eu', 1), ('ireland', 1), ('arn', 2), ('plaintext', 1), ('ciphertextblob', 1), ('base64', 9), ('serverless', 7), ('proiject', 1), ('sls', 1), ('lunr', 8), ('editorconfig', 3), ('2013\\u2003\\u2003\\u2003v0', 1), ('0\\u2003\\u2003\\u2003first', 1), ('woodward', 2), ('doowb', 1), ('nov', 2), ('53', 2), ('angularclass', 18), ('1016365', 2), ('9864650', 1), ('93a5660a', 1), ('5b00', 1), ('8716', 1), ('a0d538d12913', 1), ('ng6', 12), ('480px', 1), ('cloudinary', 1), ('v1431802814', 1), ('vrmd60', 1), ('facto', 1), ('es6features', 3), ('preliminary', 1), ('ours', 1), ('concerns', 2), ('transpiling', 2), ('orchestrator', 1), ('rebuilding', 1), ('componentized', 1), ('eventual', 2), ('tasteful', 2), ('ripe', 1), ('strictly', 1), ('harnesses', 1), ('structural', 1), ('locality', 1), ('⋅⋅app', 1), ('⋅⋅⋅⋅app', 2), ('⋅⋅⋅⋅common', 1), ('pertinent', 1), ('propagate', 1), ('⋅⋅⋅⋅components', 1), ('⋅⋅⋅⋅⋅⋅components', 1), ('⋅⋅⋅⋅⋅⋅home', 1), ('⋅⋅⋅⋅⋅⋅⋅⋅home', 6), ('logistics', 1), ('rebuilds', 2), ('scaffolds', 1), ('faith', 1), ('continuing', 2), ('modularly', 1), ('certainty', 2), ('predictability', 1), ('⋅⋅⋅⋅⋅⋅componentname', 1), ('⋅⋅⋅⋅⋅⋅⋅⋅componentname', 6), ('scoped', 2), ('tedius', 1), ('componentname', 1), ('preexisting', 1), ('identically', 1), ('anytime', 2), ('9863770', 1), ('cb0620fc', 1), ('5af7', 1), ('89df', 1), ('d4b0b2cdfc43', 1), ('corporate', 1), ('consulting', 1), ('astrogif', 10), ('quivalent', 1), ('flavours', 1), ('taskbar', 1), ('interferes', 1), (\"gif's\", 1), ('surround', 1), ('hides', 1), ('mp4', 2), ('filesize', 3), ('altough', 1), ('chosing', 1), ('tends', 1), ('chose', 4), ('jamesmacfie', 1), ('spun', 1), ('dale', 1), ('humphries', 1), ('dalehumphries', 1), ('truckingsim', 4), ('2fajax', 2), ('croscon', 1), ('livesearch', 2), ('prerequisite', 4), ('ajaxresultsprehook', 1), ('preprocessdata', 3), ('optionspreprocessdata', 1), ('ajaxsearchurl', 1), ('optionsajax', 1), ('bindevent', 3), ('clearonempty', 1), ('clearonerror', 1), ('optionslog', 1), ('emptyrequest', 1), ('ignoredkeys', 1), ('37', 1), ('229', 1), ('langcode', 1), ('determined', 1), ('inconsistencies', 1), ('translations', 3), ('needing', 2), ('searchplaceholder', 2), ('drupal', 1), (\"'find\", 1), ('fatal', 1), ('functioning', 1), (\"'debug'\", 1), ('tracing', 1), ('mixwithcurrents', 1), ('preserveselected', 3), ('optionspreserveselected', 1), ('emptytitle', 3), ('localeemptytitle', 1), ('flagged', 2), ('ordinary', 1), ('happened', 7), ('optgroup', 1), ('preserveselectedposition', 1), ('processdata', 1), ('requestdelay', 1), ('optionsbindevent', 1), ('restoreonerror', 1), ('restores', 1), ('optionslocale', 1), ('currentlyselected', 1), (\"'currently\", 1), (\"selected'\", 2), ('preserved', 1), (\"'select\", 4), (\"typing'\", 1), ('errortext', 1), (\"''unable\", 1), (\"results'\", 3), ('statusinitialized', 1), ('statusnoresults', 1), ('statussearching', 1), (\"'searching\", 1), ('selectpicker', 2), ('subtext', 1), (\"'class\", 1), ('glass', 1), (\"picker'\", 1), ('ajaxselectpicker', 1), ('gmodel', 2), ('selectedgroup', 2), ('hasownproperty', 2), (\"'contactgroupid'\", 1), ('groupid', 1), ('contactgroupid', 1), ('contacts', 5), (\"'contacts'\", 1), ('curr', 4), ('contactid', 1), (\"'icon'\", 1), (\"'icon\", 1), (\"person'\", 1), (\"'subtext'\", 1), (\"'internal'\", 1), ('heim', 1), ('silviomoreto', 2), ('2048', 2), ('版本', 1), ('composes', 1), ('ndsm', 1), ('daedalus', 9), ('wooooo', 6), ('synchorizing', 1), ('tdd', 2), ('soution', 1), ('cucumber', 7), ('gherkin', 3), ('jamine', 1), (\"'describe'\", 1), (\"'it'\", 1), (\"'context'\", 1), (\"'when'\", 1), (\"'given'\", 1), (\"'then'\", 1), ('duplex', 5), ('returing', 1), (\"'readable'\", 1), ('requestduplex', 2), (\"'request\", 1), (\"duplex'\", 1), (\"'10\", 10), (\"827'\", 1), (\"endpoint'\", 1), (\"'get'\", 2), ('createserver', 5), ('transparencias', 2), ('correspondientes', 2), ('al', 5), ('tema', 2), ('administración', 4), ('avanzada', 2), ('dispositivos', 3), ('almacenamiento', 3), ('ajustando', 1), ('acceso', 1), ('impartido', 2), ('asignatura', 2), ('servidores', 2), ('grado', 2), ('ingeniería', 2), ('informática', 2), ('universidad', 2), ('huelva', 2), ('instalación', 2), ('instalarlo', 2), ('siguen', 2), ('pasos', 2), ('legacy', 3), ('ijfviana', 2), ('accedemos', 2), ('directorio', 2), ('las', 4), ('dependencias', 4), ('mediante', 2), ('proyecto', 2), ('ejecute', 2), ('presentacion', 2), ('lh4', 1), ('googleusercontent', 10), ('pvw', 1), ('zum9vv8', 1), ('uuweh51os0i', 1), ('aaaaaaaad6m', 1), ('0ikg7vijftq', 1), ('w1286', 1), ('h566', 1), ('hackathon', 38), ('sahat', 23), ('thinkful', 3), ('tf', 1), ('hackathonstarter', 1), ('attended', 1), ('hackathons', 2), ('spend', 1), ('worst', 1), ('h4', 14), ('lh6', 2), ('kqtmcfnk6mm', 1), ('u7ozpznjdui', 1), ('aaaaaaaaerc', 1), ('h3jr27uy1le', 1), ('w1366', 1), ('h1006', 1), ('flatly', 3), ('lh5', 4), ('oj', 1), ('7bsyisry', 1), ('u1a', 1), ('whk', 1), ('loi', 1), ('aaaaaaaaecm', 1), ('a04fvygefzw', 1), ('w1474', 1), ('h1098', 1), ('bjd2wk8cvc8', 1), ('vlodbsyl', 1), ('ni', 1), ('aaaaaaaaex0', 1), ('safe6o', 1), ('qq', 1), ('w1818', 1), ('h1186', 1), ('2b2015', 1), ('2b00', 1), ('guides', 15), ('0a', 2), ('clusters', 2), ('mailgun', 7), ('sendgrid', 5), ('mandrill', 4), ('strategies', 3), ('csrf', 13), ('foursquare', 7), ('fm', 3), ('stripe', 11), ('deluge', 1), ('dc942d419843af05523b', 2), ('ff74ae13537a01be6cfec5927837dcfe', 2), ('r14', 2), ('cf1', 2), ('rackcdn', 2), ('50x50', 2), ('2ys1cehwyys', 1), ('aaaaaaaaaai', 1), ('aaaaaaaaaac', 1), ('0lcb', 1), ('tstvmu', 1), ('s46', 1), ('3f', 1), ('mint', 2), ('i1', 1), ('softpedia', 1), ('slw218news1', 1), ('dnf', 1), ('groupinstall', 1), ('opensuse', 2), ('geeko', 1), ('zypper', 1), ('bn0jlmzctnu', 1), ('alex', 1), ('ford', 1), ('cwbuecheler', 1), ('myproject', 2), ('remy', 2), ('obtain', 4), ('1000px', 1), ('consent', 1), ('hr', 18), ('doit', 1), ('7131909', 1), ('fastly', 1), ('twimg', 1), ('homescreen', 3), ('90', 8), ('danpontefract', 1), ('basicprofile', 2), ('venmo', 6), ('apikeys', 1), ('yenniferallulli', 1), ('transparent', 1), ('ffaf0075be879b3ab0b87f0b8bcc6814', 1), ('n965bkoymr1qzxhga', 1), ('img4', 1), ('wikia', 1), ('nocookie', 1), ('cb20130520163346', 1), ('logopedia', 1), ('8d', 1), ('d5ikwpp', 1), ('✔register', 1), ('technologytell', 1), ('gaming', 1), ('steam', 4), ('steamcommunity', 1), ('iandouglas', 1), ('pyconca2012', 1), ('confirm', 1), ('bitgo', 5), (\"'account\", 4), (\"settings'\", 1), ('ahoy', 1), ('twilio', 8), ('wordmark', 1), (\"'show\", 1), (\"credentials'\", 1), ('sid', 1), ('preference', 1), ('bcrypt', 3), ('hashing', 1), ('salting', 1), ('sig', 1), ('wallet', 1), ('scrape', 2), ('clockwork', 3), ('dotenv', 6), ('errorhandler', 1), ('fbgraph', 1), ('lastfm', 1), ('lob', 3), ('lusca', 4), ('odm', 1), ('nodemailer', 17), ('elegant', 4), ('twit', 1), ('utlities', 1), ('bdd', 1), ('supertest', 2), ('yui', 2), ('javascripting', 2), ('recipes', 20), ('sahatyalkabov', 1), ('jsrecipes', 1), ('naltatis', 1), ('html2jade', 2), ('powell', 2), ('javascriptoo', 2), ('realfavicongenerator', 1), ('favicons', 1), ('pc', 3), ('codeguide', 1), ('durable', 1), ('sustainable', 1), ('bootsnipp', 3), ('uibox', 2), ('bootstrapzero', 1), ('todc', 2), ('clrs', 1), ('palette', 1), ('tympanus', 2), ('creativebuttons', 1), ('creativelinkeffects', 1), ('andreasstorm', 1), ('pen', 1), ('pyjeh', 1), ('geopattern', 2), ('btmills', 1), ('trianglify', 2), ('qrohlf', 1), ('poly', 1), ('geoip', 2), ('lite', 5), ('bluesmoon', 1), ('geolocation', 1), ('coordinates', 1), ('filesizejs', 1), ('265318', 1), ('265', 1), ('kb', 1), ('numeral', 1), ('numeraljs', 1), ('debugger', 8), ('taglib', 2), ('nikhilm', 1), ('lovell', 1), ('jpeg', 2), ('webp', 1), ('tiff', 1), ('framework7', 2), ('idangero', 1), ('ios7', 1), ('instantclick', 2), ('nprogress', 4), ('rstacruz', 1), ('bars', 2), ('ianlunn', 1), ('magnific', 2), ('dimsemenov', 1), ('raty', 2), ('wbotelhos', 1), ('wicky', 1), ('nillia', 1), ('editable', 3), ('vitalets', 1), ('hubspot', 21), ('alertify', 2), ('sweet', 3), ('alerts', 1), ('dialogs', 1), ('selectize', 2), ('brianreavis', 1), ('styleable', 1), ('dropdowns', 1), ('floating', 1), ('scrollreveal', 2), ('jlmakes', 1), ('scraped', 1), (\"'twitter'\", 1), ('forbidden', 1), (\"'hidden'\", 1), (\"csrf'\", 1), ('originalurl', 1), ('launching', 2), ('tip', 1), ('mlab', 9), ('chances', 2), ('openshift', 41), ('tier', 2), ('regrets', 1), ('picking', 1), ('secondly', 1), ('indispensable', 1), ('subjectively', 1), ('cleaner', 1), ('shorter', 2), ('haml', 1), ('outlined', 2), ('timstermatic', 1), ('grasp', 1), ('backward', 2), ('thinking', 2), ('solo', 1), ('sticky', 29), ('persona', 2), ('64', 32), ('63', 2), ('34898290', 1), ('sparkpost', 1), ('createtransport', 1), (\"'sendgrid'\", 1), ('wellknown', 1), ('confused', 1), ('html5up', 6), ('undesired', 1), ('velocity', 9), ('escapevelocity', 3), (\"'escape\", 1), (\"velocity'\", 2), (\"'landing\", 1), ('homecontroller', 1), ('lengthy', 1), ('beautifully', 2), ('themeforest', 2), ('explicity', 1), (\"'errors'\", 2), (\"here'\", 3), ('danger', 2), ('clarify', 1), ('sanitizing', 1), ('exceeded', 1), (\"usage'\", 1), ('thankfully', 1), ('dry', 1), ('door', 3), (\"account'\", 1), ('passportconf', 3), ('isauthenticated', 5), ('usercontroller', 1), ('getaccount', 2), ('visits', 3), ('visitor', 2), ('proceeds', 1), ('reaches', 2), (\"profile'\", 1), (\"management'\", 1), (\"books'\", 3), ('bookcontroller', 6), ('getbooks', 3), ('createbooks', 1), ('updatebooks', 1), ('deletebooks', 1), (\"twitter'\", 1), ('isauthorized', 1), ('apicontroller', 2), ('gettwitter', 1), ('posttwitter', 1), ('whichever', 2), ('acceptable', 2), ('bookschema', 2), (\"'book'\", 1), (\"'books'\", 2), (\"book'\", 2), ('ul', 1), ('li', 1), ('teammates', 1), ('loc', 1), ('querying', 3), ('websockets', 11), ('ctavan', 1), ('cheeriojs', 1), ('stroot', 1), ('dstroot', 2), ('submitted', 3), ('0a632def1ce8da446709d92812423d337c977d75', 1), ('violates', 1), ('importantly', 2), ('october', 4), ('yoursite', 1), ('rhcloud', 1), (\"8000'\", 7), ('velin', 1), ('georgiev', 1), ('socketio', 3), ('hat', 1), (\"wouldn't\", 1), ('paas', 3), ('aforementioned', 1), (\"'socket\", 20), (\"io'\", 19), ('configs', 6), (\"'connection'\", 8), (\"'greet'\", 3), (\"'hey\", 2), (\"'respond'\", 3), (\"disconnected'\", 1), ('admit', 1), ('understandable', 1), ('shit', 1), ('startupvitamins', 1), ('levie', 1), ('poster', 1), ('matters', 1), ('mr', 1), ('useremail', 2), (\"'example\", 2), ('inefficient', 1), ('accumulate', 1), ('aggregate', 1), ('sum', 4), (\"votes'\", 1), ('votescount', 2), ('picks', 1), ('crashes', 4), ('downtime', 1), ('deployments', 4), ('plenty', 1), ('exadel', 1), ('toolbelt', 12), ('7knca5a', 1), ('zap', 2), ('ds027479', 1), ('27479', 1), ('opencloudconf', 1), ('rhc', 3), ('ssh', 1), ('supervisor', 2), ('ff', 3), ('azure', 16), ('windowsazure', 1), ('datacenter', 1), ('presented', 3), ('comparethecloud', 1), ('030514', 1), ('codename', 2), ('512m', 1), ('associate', 3), ('68638358', 1), ('a3c6', 1), ('42a1', 1), ('bae9', 1), ('645b607d55e8', 1), ('46fb97e6', 1), ('5ce7', 1), ('4146', 1), ('9a5d', 1), ('d623c64ff1fe', 1), ('155', 2), ('243', 3), ('10123', 1), ('directions', 1), ('devops', 3), ('biz', 4), ('hackstart', 2), ('hackstart2', 2), ('twvyqrnutss', 1), ('renamed', 5), ('vanshady', 1), ('prashcr', 1), ('finance', 2), ('aviary', 2), ('pinterest', 1), ('getreset', 1), ('querysting', 1), ('outputstyle', 1), ('dontenv', 1), ('openid', 1), ('braces', 5), ('fullprofile', 1), ('bitcore', 3), ('intro', 1), ('247', 3), ('adunkman', 1), ('august', 4), ('multer', 1), ('ordrx', 1), ('josephahn', 1), ('rstormsf', 1), ('gensalt', 1), ('nodejitsu', 2), ('233', 2), (\"passport's\", 1), ('localstrategy', 1), ('ordr', 1), ('brought', 1), ('xframe', 1), ('xssprotection', 1), ('whitelisting', 1), ('dsiable', 1), ('excluding', 5), ('november', 2), ('helpercontext', 1), ('01e7bd5c09926911ca856fe4990e6067d9148694', 2), ('8ce48f767c0146062296685cc101acf3d5d224d9', 2), ('cdbb9d1888a96bbba92d4d14deec99a8acba2618', 2), ('afef373cd57b6a44bf856eb093e8f2801fc2dbe2', 2), ('c5def7b7b3b98462e9a2e7896dc11aaec1a48b3f', 2), ('e378fbbc24e269de69494d326bc20fcb641c0697', 2), ('78fac5489c596e8bcef0ab11a96e654335573bb4', 2), ('september', 2), ('july', 5), ('temporarily', 3), ('blessed', 2), ('chjj', 1), ('migrated', 1), ('bodyparser', 1), ('recess', 1), ('june', 7), ('occurrences', 1), ('findwhere', 1), ('deletes', 4), ('clarified', 1), ('cleaned', 1), ('redesigned', 1), ('returnto', 1), ('education', 1), ('linking', 3), ('relied', 1), ('11000', 1), ('dismissed', 1), ('�', 1), ('startegy', 1), ('krakenjs', 1), ('8x', 1), ('upgraded', 1), ('visited', 1), ('signing', 1), ('gzip', 2), ('switched', 1), ('yalkabov', 1), ('mgoadmin', 1), ('scrappy', 4), ('scrap', 3), ('j33f', 3), ('functionnalities', 1), ('jq2cheerio', 2), ('detects', 3), ('scrapping', 1), ('herokucdn', 1), ('reminder', 1), ('colspan', 3), ('rowspan', 1), ('spreadsheet', 1), ('aburchette', 2), (\"'result'\", 1), ('organisms', 5), ('organism', 1), ('adhering', 1), ('atoms', 4), ('molecules', 4), ('verb', 5), ('schlinkert', 2), ('heartnotes', 10), ('diary', 4), ('aes', 8), ('lunrjs', 2), ('\\xa0technology', 2), ('ingredients', 2), ('sjcl', 4), ('crypto', 2), ('stanford', 3), ('prng', 6), ('salts', 2), ('fortuna', 4), ('accelerometer', 4), ('salt', 12), ('pbkdf2', 10), ('sha512', 4), ('512', 4), ('macbook', 4), ('air', 4), ('bits', 7), ('csrng', 2), ('regenerate', 2), ('decrypt', 2), ('gcm', 4), ('iv', 5), ('checklist', 2), ('announce', 2), ('ramesh', 2), ('nair', 2), ('hiddentao', 2), ('redistribute', 3), ('thymeleaf', 19), ('dialect', 18), ('ultraq', 13), ('3600', 2), ('maven', 4), ('nz', 1), ('22nz', 1), ('20and', 1), ('20a', 2), ('22thymeleaf', 1), ('2592000', 8), ('sitemesh', 1), ('jsps', 1), ('facelets', 1), ('jsfs', 1), ('classic', 1), ('migrationguide', 1), ('tl', 1), ('dr', 1), (\"layout's\", 1), ('intrigued', 1), ('storagelru', 56), ('lru', 28), ('conforms', 1), ('asyncronous', 2), ('syncronous', 2), ('asyncify', 25), ('setitem', 12), ('removeitem', 3), (\"'null'\", 1), (\"'undefined'\", 5), (\"'storage\", 17), (\"lru'\", 17), ('myasyncstorage', 2), ('revalidate', 10), ('expire', 4), ('fetchable', 1), ('purged', 7), ('revalidatefn', 5), ('recorded', 3), ('revalidation', 1), ('somefunctiontorefetchfromsomewhere', 1), (\"'foojson'\", 4), ('cachecontrol', 2), (\"86400'\", 1), (\"'failed\", 5), ('critical', 3), ('purge', 18), ('purging', 5), ('precendence', 1), ('truly', 2), ('revaliate', 2), ('byte', 1), ('expired', 3), ('customizable', 1), ('purgecomparator', 3), ('largest', 1), ('meta1', 3), ('meta2', 3), ('factor', 1), ('purgefactor', 9), ('instantiating', 1), ('maxpurgeattempts', 3), ('purgeloadincrease', 3), ('successive', 1), ('purgedfn', 2), ('purgedkeys', 4), (\"'these\", 2), ('collects', 1), ('saves', 3), ('collected', 1), ('misses', 2), ('revalidatesuccess', 1), ('revalidating', 3), ('instantiated', 2), ('revalidatefailure', 1), ('numitems', 1), ('deserialize', 3), ('serialize', 2), ('modernizer', 1), ('pary', 1), ('apeman', 40), ('ape', 1), ('bd', 25), ('labo', 18), ('apfaicon', 3), (\"'apeman\", 1), (\"icon'\", 1), ('examplecomponent', 1), (\"'money'\", 1), ('apiconstyle', 1), ('apicon', 1), ('apionicon', 1), (\"google's\", 1), ('superpowers', 1), ('gistblog', 3), ('gists', 1), ('presents', 1), ('among', 1), ('jazzychad', 4), ('cedar', 1), ('496mg', 1), ('redistogo', 1), ('nano', 1), ('5mb', 1), ('foreman', 2), ('enterprising', 1), ('disclaimers', 1), ('plastic', 6), ('evgenyrodionov', 18), ('cgauhle', 3), ('logrocket', 15), ('yp5mux2', 3), ('replay', 6), ('guessing', 4), ('asking', 3), ('saw', 3), ('combinereducers', 21), ('batched', 9), ('applymiddleware', 17), ('createstore', 16), (\"'redux'\", 7), (\"logger'\", 9), ('createlogger', 27), ('predicate', 15), ('collapsed', 18), (\"'console'\", 4), (\"console's\", 3), ('colorsobject', 3), ('prev', 3), ('l12', 3), ('l18', 3), ('titleformatter', 6), ('statetransformer', 15), ('actiontransformer', 12), ('errortransformer', 6), ('loggerobject', 3), ('logerrors', 6), ('diffpredicate', 6), ('prevstate', 27), ('nextstate', 21), ('paint', 3), ('logentry', 9), ('prints', 5), ('tofixed', 3), ('iterable', 9), (\"'immutable'\", 3), ('isiterable', 6), ('tojs', 6), ('newstate', 12), ('smashercosmo', 6), (\"'batching\", 3), (\"batch'\", 3), (\"'function'\", 3), ('levelfn', 3), ('lastarg', 9), ('isarray', 3), (\"airbnb's\", 3), ('messy', 3), ('configuración', 1), ('raid', 1), ('aragon', 14), ('rsc', 1), ('exchanges', 2), ('fe13152c1b36', 1), ('presale', 3), ('allocation', 1), ('multisig', 4), ('sale', 9), ('9c2a4b910755', 1), ('blogpost', 13), ('abis', 1), ('capcommitment', 2), ('bytes32', 3), ('payable', 98), ('initialprice', 2), ('uint256', 91), ('finalblock', 2), ('emergencystopsale', 1), ('initialblock', 2), ('communitymultisig', 2), ('blocknumber', 4), ('stageforblock', 1), ('uint8', 6), ('getblocknumber', 1), ('salestopped', 1), ('ontransfer', 1), ('isactivated', 1), ('pricestages', 2), ('newmultisig', 2), ('setcommunitymultisig', 1), ('restartsale', 1), ('salewallet', 4), ('isvalidcap', 1), ('networkaddress', 1), ('deploynetwork', 1), ('salefinalized', 1), ('finalprice', 2), ('networkplaceholder', 2), ('setant', 1), ('cliffdate', 1), ('uint64', 16), ('vestingdate', 1), ('allocatepresaletokens', 1), ('computecap', 1), ('activatesale', 1), ('aragondevmultisig', 2), ('priceforstage', 1), ('finalizesale', 1), ('setaragondevmultisig', 1), ('spender', 5), ('onapprove', 1), ('totalcollected', 1), ('revealcap', 1), ('getprice', 1), ('proxypayment', 1), ('hardcap', 1), ('anonymous', 26), ('holder', 8), ('antamount', 2), ('newpresaleallocation', 1), ('etheramount', 1), ('newbuyer', 1), ('revealer', 1), ('caprevealed', 1), ('cliff', 4), ('vesting', 7), ('grantvestedtokens', 1), ('tokengrantscount', 1), ('approve', 1), ('spendablebalanceof', 1), ('creationblock', 1), ('totalsupply', 1), ('setcancreategrants', 1), ('transferfrom', 1), ('granter', 2), ('newcontroller', 1), ('changecontroller', 1), ('balanceofat', 1), ('grantid', 2), ('tokengrant', 1), ('vested', 1), ('clonetokenname', 1), ('clonedecimalunits', 1), ('clonetokensymbol', 1), ('snapshotblock', 2), ('transfersenabled', 3), ('createclonetoken', 1), ('lasttokenistransferabledate', 1), ('balanceof', 1), ('balance', 1), ('parenttoken', 1), ('generatetokens', 1), ('totalsupplyat', 1), ('parentsnapshotblock', 1), ('extradata', 1), ('approveandcall', 1), ('transferabletokens', 1), ('destroytokens', 1), ('allowance', 1), ('tokenfactory', 2), ('revoketokengrant', 1), ('enabletransfers', 1), ('newwhitelister', 1), ('changevestingwhitelister', 1), ('newtokengrant', 1), ('clonetoken', 1), ('newclonetoken', 1), ('approval', 1), ('owners', 2), ('removeowner', 1), ('transactionid', 12), ('revokeconfirmation', 1), ('isowner', 1), ('confirmations', 2), ('gettransactioncount', 1), ('addowner', 1), ('isconfirmed', 1), ('getconfirmationcount', 1), ('transactions', 3), ('getowners', 1), ('gettransactionids', 1), ('transactionids', 1), ('getconfirmations', 1), ('transactioncount', 1), ('changerequirement', 1), ('confirmtransaction', 1), ('submittransaction', 1), ('newowner', 1), ('replaceowner', 1), ('executetransaction', 1), ('sender', 3), ('revocation', 1), ('submission', 1), ('executionfailure', 1), ('deposit', 1), ('owneraddition', 1), ('ownerremoval', 1), ('requirementchange', 1), ('erc20', 2), ('minime', 3), ('giveth', 1), ('forking', 1), ('usecases', 1), ('limiting', 2), ('transferability', 1), ('founders', 1), ('advisors', 1), ('partners', 1), ('diverges', 1), ('contracts', 8), ('sol', 14), ('derives', 2), ('minimeirrevocablevestedtoken', 3), ('minimetoken', 4), ('aragontokensale', 2), ('anplaceholder', 2), ('multisigwallet', 2), ('gnosis', 1), ('multisigs', 1), ('audits', 1), ('jorge', 1), ('izquierdo', 1), ('jordi', 1), ('baylina', 1), ('audit', 4), ('jbaylina', 1), ('21cade332f1d', 1), ('piper', 1), ('merriam', 1), ('pyethereum', 1), ('pipermerriam', 1), ('7f36f9c9446d4fb8d0e6d842d7212177', 1), ('bounty', 1), ('loopback', 5), ('lblclient', 1), ('bbapp', 1), ('mimic', 2), ('findbyid', 5), ('hasmany', 1), ('relation', 4), (\"'todos'\", 1), (\"'t\", 1), (\"1234'\", 1), ('belongsto', 1), ('preferable', 1), ('todocollection', 2), (\"todos'\", 3), (\"'collection\", 1), ('par', 1), ('restapiurl', 1), ('mixinloopback', 2), ('seperate', 1), ('gms', 1), ('players', 1), ('automattic', 5), ('serveclient', 6), ('srv', 5), ('troygoode', 1), ('synonym', 1), ('onconnection', 1), ('nsp', 2), ('emits', 4), (\"'an\", 5), (\"clients'\", 2), ('closes', 1), ('3030', 1), ('identified', 4), (\"chat'\", 2), ('pzdomhjiu8pyfrikaaaf', 1), ('anw2latarvgvvxeiaaad', 2), (\"namespace's\", 1), (\"'general'\", 1), ('6em3d4tjp8et9emnaaaa', 1), ('g5p55dhhggunluctaaab', 1), (\"'authentication\", 1), ('packets', 1), ('communicate', 2), ('rooms', 6), ('identifying', 1), ('conn', 2), ('datastructures', 1), ('deserialized', 1), ('mechanics', 2), ('disconnection', 2), ('broadcasted', 1), (\"'others'\", 1), ('multiplexed', 1), (\"io's\", 1), ('mainly', 6), ('roberto', 2), ('der', 1), ('linden', 1), ('trifork', 2), ('jettro', 2), ('coenradie', 1), ('gridshore', 1), ('devserver', 2), ('introdcution', 1), ('focussus', 1), ('dsl', 1), ('directive1', 1), ('c3chart', 11), ('bindto', 6), ('chart1', 1), ('predifined', 1), ('legenda', 2), ('spline', 6), ('datapoints', 14), ('datacolumns', 8), ('graphapp', 6), (\"'graphapp'\", 3), (\"'gridshore\", 3), (\"chart'\", 3), (\"'graphctrl'\", 3), ('45', 4), ('datax', 7), ('axis', 35), ('redrawn', 1), ('directive2', 1), ('directive3', 2), ('timeseries', 3), ('tick', 7), ('trick', 2), ('redraw', 1), (\"'graphapp\", 2), (\"services'\", 2), ('dataservice', 5), (\"'dataservice'\", 1), ('maxnumber', 2), ('randomnumber', 3), ('focussing', 1), ('verticle', 1), ('y2', 3), ('placing', 3), ('axes', 1), ('data1', 1), ('data3', 1), ('data2', 1), ('subchart', 2), ('chart5', 1), ('1f77b4', 1), ('ffbb78', 1), ('2ca02c', 1), ('ff7f0e', 1), (\"electron's\", 1), ('boilerplates', 2), ('hokein', 2), ('aggregator', 1), ('nightscout', 9), (\"wiki's\", 1), ('clarifications', 1), ('faqs', 1), ('corrections', 1), ('9778', 2), ('publicdomain', 2), ('taipan', 6), ('tonylukasavage', 2), ('tiapp', 1), ('graphql', 13), ('graphqlresolveinfo', 1), ('flattens', 1), ('duplicated', 1), ('graphqlfields', 3), (\"'graphql\", 1), (\"'graphql'\", 1), ('usertype', 2), ('graphqlobjecttype', 3), (\"'profile'\", 1), ('graphqlstring', 4), ('middlename', 3), ('graphqlid', 1), ('graphqlschema', 1), ('toplevelfields', 2), ('paizaqa', 4), ('daftmonk', 1), ('paiza', 2), ('115345', 1), ('webサービスを作りたい人に最適、たった1時間でjsベースのqaサイトを作る方法', 1), ('meanスタック開発', 1), ('hatenablog', 1), ('meanstack', 1), ('mongod', 4), ('kube', 1), ('2kb', 1), ('embedding', 1), ('svgdatauri', 2), ('removeclass', 1), ('atob', 6), ('utf8', 2), ('decodeuricomponent', 1), ('decoding', 2), ('unavailability', 1), ('unfollow', 7), ('followers', 13), ('mud', 1), ('mikedigitize', 4), ('djjufm', 4), ('dyjufm1', 1), ('sociable', 1), ('guy', 1), ('surprised', 1), ('unfollowed', 1), ('happening', 3), (\"adeel's\", 1), ('dyjufm2', 1), ('adeel', 1), ('profiles', 2), ('dyjufm3', 1), ('dyjufm4', 1), (\"thing's\", 1), ('painless', 1), ('myfakewebsite', 1), ('agree', 3), ('perspective', 1), ('puzzle', 1), ('notepad', 1), ('quoted', 1), (\"everything's\", 1), ('exceeds', 1), ('distorted', 1), ('exceed', 2), ('withhold', 1), ('mins', 1), ('relax', 2), ('ngx', 18), ('phillipcurl', 12), ('stargazers', 1), ('typestyle', 1), ('ngmodule', 3), (\"core'\", 2), ('ngxthememodule', 2), (\"'ngx\", 1), (\"theme'\", 1), ('forroot', 1), ('mymodule', 1), ('ngxtheme', 1), ('typedoc', 1), ('continually', 1), ('facial', 2), ('faces', 1), ('ksloan', 1), ('linnovate', 38), ('joinchat', 2), ('meanlogo', 4), ('nodeschool', 6), ('workshoppers', 3), ('sl', 2), ('deb', 2), ('nodesource', 4), ('osx', 3), ('prerequiste', 2), ('solved', 4), ('weird', 6), ('troubles', 4), ('34673', 4), ('ongo', 2), ('xpress', 2), ('ngular', 2), ('ode', 2), ('codeschool', 4), ('shaping', 2), ('addrole', 4), ('removerole', 4), ('uninstalled', 3), ('uninstall', 4), ('misc', 2), ('meanio', 16), ('necceesary', 2), ('scaffolder', 2), ('aggregated', 15), ('aggregateasset', 12), ('externally', 2), ('mypackage', 58), ('someexamplefunction', 4), (\"parameter'\", 2), ('capitalized', 2), ('injects', 4), ('ngdragdrop', 2), ('angulardependencies', 2), (\"'ngdragdrop'\", 2), ('gdragdrop', 2), (\"'jquery\", 4), (\"'css'\", 2), (\"'default\", 9), ('persistance', 2), ('persistant', 2), (\"'somesetting'\", 2), (\"'anothersettings'\", 2), (\"anyone'\", 2), (\"'anyone\", 2), ('stateprovider', 4), (\"'mypackage\", 4), ('templateurl', 5), ('publically', 2), ('menus', 7), (\"render'\", 2), (\"'index'\", 3), (\"'mypackage'\", 2), ('layourts', 2), (\"'views'\", 2), (\"'mean\", 4), (\"mycustompackage'\", 2), (\"system'\", 2), (\"viewpathprovider'\", 2), ('viewpathprovider', 4), (\"'system\", 2), (\"'mycustompackage\", 2), ('myhomepage', 4), ('mycustompackage', 2), ('scaffold', 2), ('pkgname', 4), ('submiting', 2), ('assembling', 2), ('speak', 3), ('allready', 2), ('whoami', 2), ('orchestrated', 4), ('443', 2), ('replset', 2), ('mongos', 2), ('mongoclient', 4), ('callbackurl', 4), ('emailfrom', 2), ('mailer', 4), ('staying', 2), ('rolename', 2), ('emailaddress', 2), ('buildpack', 10), ('mbuchetics', 4), (\"linnovate's\", 2), (\"ninja's\", 4), ('zone', 4), ('meanleanstartupmachine', 4), ('vkarpov15', 2), ('coining', 2), ('movement', 3), ('amoshaviv', 2), ('amos', 2), ('haviv', 2), ('bootstrapped', 1), ('facebookincubator', 23), ('eject', 16), ('splitting', 10), ('injecting', 4), ('storybook', 18), ('styleguidist', 18), ('considerations', 5), ('analyzing', 3), ('netlify', 9), ('surge', 9), ('doesn’t', 16), ('doesnt', 1), ('hangs', 3), ('sierra', 3), ('exits', 3), ('locales', 9), ('ejecting', 6), ('delegates', 1), ('you’ll', 4), ('painlessly', 1), ('ico', 4), ('subdirectories', 2), ('won’t', 5), ('edits', 1), ('launches', 1), ('optimizes', 1), ('hashes', 5), ('aren’t', 2), ('transitive', 1), ('shouldn’t', 2), ('obligated', 1), ('wouldn’t', 2), ('couldn’t', 1), ('superset', 1), ('lukehoban', 1), ('exponentiation', 2), ('rwaldron', 1), ('es2016', 1), ('tc39', 4), ('asyncawait', 1), ('es2017', 1), ('sebmarkbage', 1), ('proposal', 9), ('introducing', 1), ('stages', 1), ('codemods', 2), ('cpojer', 1), ('5a6686bb46fb', 1), ('nonarrayvalue', 1), ('doubt', 1), ('jlongster', 1), ('msjsdiag', 1), ('vscode', 3), ('app’s', 3), ('webroot', 2), ('workspaceroot', 3), ('sourcemappathoverrides', 1), ('f5', 1), ('breakpoints', 1), ('code—all', 1), ('hmhgeddbohgjknpmjagkdomcpobmllji', 1), ('intellij', 2), ('phpstorm', 1), ('pycharm', 1), ('rubymine', 1), (\"prettier's\", 1), ('husky', 3), ('staged', 7), ('githooks', 1), ('okonetchnikov', 1), ('f3890e1ad6b8', 1), ('precommit', 1), (\"'lint\", 1), (\"staged'\", 1), ('quote', 6), ('“react', 1), ('app”', 1), ('helmet', 2), ('nfl', 1), ('exploringjs', 2), ('ch', 2), ('dangerbutton', 3), ('36795819', 2), ('curly', 4), ('36796281', 4), ('that’s', 4), ('exploring', 2), ('understanding', 4), ('leanpub', 2), ('understandinges6', 1), ('encapsulating', 2), ('2ality', 2), ('modulea', 6), ('handleclick', 5), (\"modulea'\", 1), ('chapters', 1), ('anomalyinnovations', 1), ('“extending”', 1), ('20px', 2), ('d7f99fcab52b', 1), ('expressing', 1), ('webkit', 5), ('orient', 1), ('autoprefixing', 1), ('acceptbutton', 2), ('rejectbutton', 2), ('let’s', 3), ('chokidar', 12), ('preprocessor’s', 1), ('regenerated', 1), (\"'styles\", 1), (\"scss'\", 1), (\"'nprogress\", 1), (\"nprogress'\", 1), ('1939', 2), ('1891', 2), ('bmp', 1), ('excluded', 3), ('1153', 2), ('84287d09', 1), ('hatch', 2), ('untouched', 1), ('intention', 1), ('sparingly', 1), ('“adding', 1), ('fonts”', 1), ('downsides', 1), ('webmanifest', 1), ('pace', 3), ('incompatible', 2), ('declares', 1), ('complain', 1), (\"'bootstrap\", 2), ('precedence', 1), ('jumbotron', 1), (\"bootstrap'\", 1), ('85d8c067f6af1e56277c82d19fd4da7b', 1), ('6158dd991b67284e9fc8d70b9d973efe87659d72', 1), ('redone', 1), ('tacomanator', 1), ('aa9ffb88165', 1), ('fewer', 1), ('preethikasireddy', 1), ('8382da1e0adb', 1), ('flowconfig', 1), ('nuclide', 2), ('prescribe', 2), ('reacttraining', 5), ('possibly', 1), ('placeholders', 5), ('865', 2), ('252199527', 2), (\"'development'\", 1), ('defaultvalue', 1), ('quotes', 5), ('trailing', 2), ('permanent', 1), ('exclusion', 1), ('motdotla', 2), ('devcenter', 3), ('expanding', 1), ('es7', 2), ('76ecb65fb841', 1), ('codemod', 1), ('threads', 1), ('214', 2), ('411', 2), ('advances', 1), ('axios', 4), ('worrying', 2), ('promisejs', 1), ('davidwalsh', 1), ('fullstackreact', 4), ('food', 3), ('21854516', 1), (\"'access\", 1), (\"origin'\", 1), (\"3000'\", 2), ('opaque', 2), (\"request's\", 1), (\"cors'\", 1), ('unrecognized', 1), ('here’s', 2), ('vulnerable', 2), ('rebinding', 1), ('attacks', 3), ('1489d950874a', 1), ('887', 1), ('remotely', 1), ('2271', 1), ('mypublicdevhost', 1), ('exotic', 1), ('dangerous', 2), ('malicious', 1), ('dangerously', 2), ('chimurai', 2), ('proxies', 2), ('pathrewrite', 1), ('abc', 2), ('def', 2), ('definitely', 3), ('og', 6), ('duplicating', 1), ('snap', 2), ('stereobooster', 1), ('seamlessly', 1), ('“hydrated”', 1), ('opportunities', 1), ('benefit', 1), ('payload—regardless', 1), ('increases', 1), ('likelihood', 1), ('picked', 2), ('snapshotting', 1), ('superhighfives', 1), ('6df0a2791319', 1), ('xss', 2), ('vulnerability', 1), ('2bdffbcc1fa0', 1), ('023', 1), ('030', 1), ('flakiness', 1), ('approximations', 1), ('quirks', 1), ('naming', 1), (\"app'\", 4), ('colocation', 1), ('recompiles', 1), ('“watch', 1), ('usage”', 1), ('mercurial', 1), ('logical', 1), ('neither', 2), ('nor', 2), (\"sum'\", 1), (\"'sums\", 1), (\"numbers'\", 1), ('tobecalled', 1), ('tohavebeencalled', 1), ('“spies”', 1), ('broad', 1), ('spectrum', 1), ('“smoke', 1), ('test”', 1), ('verifying', 1), ('tradeoffs', 1), ('haven’t', 4), ('smoke', 3), (\"'renders\", 3), (\"crashing'\", 2), ('mounts', 1), ('didn’t', 1), ('gain', 1), ('introduce', 2), ('asserting', 1), ('you’d', 3), ('enzyme', 27), ('setuptests', 7), (\"'enzyme'\", 3), (\"'enzyme\", 1), (\"16'\", 1), ('spies', 2), ('asserts', 1), ('nevertheless', 1), ('blainekasten', 1), ('tocontainreact', 1), (\"'jest\", 1), (\"enzyme'\", 1), ('printing', 2), ('1566', 1), ('sinonjs', 2), (\"'sinon'\", 1), (\"'chai'\", 1), ('localstoragemock', 2), ('setuptestframeworkscriptfile', 2), ('rootdir', 3), ('xit', 1), ('5bfhnts', 1), ('collectcoveragefrom', 3), ('coveragereporters', 3), ('coveragethreshold', 3), ('branches', 2), ('encountered', 2), ('knowbody', 1), ('zeits', 1), ('c9b7eebcd3c1', 1), ('renderintodocument', 2), ('34761cf9a252964abfaab6faf74d473ad95d1f21', 1), ('reacttestutils', 1), ('l91', 1), ('createrenderer', 1), ('snapshots', 1), ('orta', 1), ('49038', 1), ('20795349', 1), ('a032308a', 1), ('b7c8', 1), ('9b34', 1), ('7eeac781003f', 1), ('brk', 1), ('runinband', 3), ('breakpoint', 1), ('examine', 1), ('spawning', 1), ('parallelizes', 1), ('cra', 1), ('runtimeexecutable', 1), ('integratedterminal', 1), ('internalconsoleoptions', 1), ('neveropen', 1), ('storybooks', 3), ('7ciawpb', 1), ('interactively', 1), ('getstorybook', 1), ('storyshots', 1), ('storyshot', 1), ('combines', 1), ('nwb', 2), ('insin', 1), ('engaging', 1), ('connectivity', 1), ('2g', 1), ('3g', 1), ('feet', 1), ('subway', 1), ('engage', 2), ('precache', 6), ('goldhand', 1), ('fundamentals', 5), ('falling', 1), ('reliably', 3), ('unreliable', 1), ('registerserviceworker', 5), ('swap', 4), ('unregister', 3), (\"registerserviceworker'\", 1), ('invalidated', 1), ('primers', 2), ('34160509', 1), ('34161385', 2), ('remain', 1), ('jakearchibald', 1), ('isserviceworkerready', 1), ('attempted', 1), ('frustration', 1), ('incognito', 1), ('complications', 1), ('38843970', 1), ('frequency', 1), ('possible—', 1), ('lifetime—then', 1), ('revisit', 1), ('inform', 1), ('consumption', 1), ('populating', 1), ('scenario', 1), ('embeds', 1), ('runtimecaching', 2), ('googlechrome', 3), ('arrayobject', 1), ('swprecachewebpackplugin', 1), ('branding', 1), ('customizations', 1), ('analyzes', 1), ('analyze', 4), ('adjusted', 1), ('programmatic', 1), ('sendfile', 2), ('isn’t', 1), ('routers', 4), ('pushstate', 5), ('browserhistory', 2), ('amend', 1), ('httpd', 1), ('htaccess', 1), ('multiviews', 1), ('rewriteengine', 1), ('rewritecond', 1), ('rewriterule', 1), ('qsa', 1), ('tomcat', 2), ('41249464', 1), ('4878474', 1), ('ing', 1), ('navigatefallback', 2), ('navigatefallbackwhitelist', 2), ('arrayregexp', 1), ('swpreacheplugin', 1), ('mywebsite', 4), ('relativepath', 2), ('infer', 1), ('basename', 3), ('browserrouter', 2), ('pe', 1), ('c0f6686a4321', 1), ('strid', 1), ('986bc40d5bf2', 1), ('pycfnafbg', 1), ('ulrikaugustsson', 1), ('appservice', 1), ('project’s', 2), ('replying', 1), ('fd690', 4), ('✔', 7), (\"build's\", 1), ('firebaserc', 1), ('2440', 2), (\"fd690'\", 1), ('myusername', 4), ('cheat', 1), ('predeploy', 3), ('hujer9l', 1), ('cname', 1), ('hashhistory', 1), ('yknaj', 1), ('teach', 1), ('redirection', 1), ('technique', 2), ('rafrex', 1), ('spa', 2), ('tty', 2), ('follwing', 1), ('mars', 1), (\"'file'\", 2), (\"'directory'\", 2), ('mydirectory', 3), ('lettercase', 2), ('distinct', 1), ('remotes', 1), ('a2875fc163b209225122d68916f1d4df', 3), ('105', 1), ('argv', 1), ('netlify’s', 1), ('tpspyhtdtk', 1), ('omgwtfmarc', 1), ('48dae4ce0af', 1), ('adjust', 2), ('favoring', 1), ('opn', 1), (\"script's\", 1), (\"server's\", 1), ('subpath', 1), ('diamond', 1), ('treats', 1), ('trace', 9), ('2636', 1), ('editor’s', 1), ('usepolling', 2), ('oom', 1), ('emulating', 1), ('monorepo', 1), ('workarounds', 2), ('1164', 1), ('“safe', 1), ('write”', 1), ('“adjusting', 1), ('editor”', 1), ('parentheses', 1), ('watchpack', 1), ('watchers', 2), ('vagrant', 1), ('virtualbox', 1), ('659', 1), ('watchman', 11), ('713', 2), ('1767', 2), ('358', 2), ('6259', 2), ('reinstall', 1), ('launchctl', 1), ('unload', 1), ('launchagents', 1), ('plist', 1), ('uninstalling', 1), ('ram', 1), ('megabytes', 1), ('gb', 2), ('exited', 1), ('digitalocean', 1), (\"'moment\", 3), (\"fr'\", 2), (\"es'\", 1), (\"'fr'\", 1), (\"dependency's\", 1), ('precompile', 1), ('intends', 1), ('corrected', 1), ('daunting', 1), ('dives', 1), ('682', 1), ('“how', 1), ('to”', 1), ('expense', 2), ('xconfschedule', 1), ('xconf', 1), ('bangalore', 1), ('xmlhttprequest', 1), ('23football', 1), (\"'about\", 1), (\"blank'\", 1), ('disallowed', 2), ('preflight', 1), ('kruny1001', 1), ('theclean', 1), ('f3fc42a0', 1), ('bef3', 1), ('e08b', 1), ('621d0583fd1f', 1), ('72863', 1), ('비밀번호', 1), ('재확인\\r', 1), ('이름', 1), ('name\\r', 1), ('sidemenu', 1), ('rowcol', 1), ('주문리스트\\r', 1), ('cruds\\r', 1), ('관리자', 1), ('페이지\\r', 1), ('page\\r', 1), ('signup\\r', 1), ('login에', 1), ('주소', 1), ('적는', 1), ('란을', 1), ('적지', 1), ('않는다', 1), ('첫', 1), ('주문시', 1), ('주소를', 1), ('입력', 1), ('받도록', 1), ('한다', 1), ('quickest', 2), ('aborts', 3), ('maintaining', 2), ('networking', 2), ('dhariri', 4), (\"'articles\", 4), ('counterparts', 2), ('prepend', 2), (\"'authorization'\", 5), (\"'giraffes'\", 4), (\"'content\", 2), (\"type'\", 2), (\"'application\", 2), ('setheaders', 4), (\"'secrets\", 2), ('pandorajs', 4), ('viewpoint', 6), ('spm', 2), ('pandora', 1), (\"'pandora\", 1), (\"viewpoint'\", 1), (\"src'\", 1), ('semet', 11), ('segurança', 2), ('medicina', 2), ('trabalho', 2), ('semetpt', 6), ('pt', 8), ('lda', 2), ('derivative', 2), ('noncommercial', 1), ('sharealike', 1), ('nc', 4), ('sa', 3), ('legalcode', 1), ('commercial', 6), ('pexels', 2), ('8159', 1), ('fat', 6), ('bardiches', 4), ('scissors', 11), ('tcr', 2), ('pdftk', 8), ('boil', 1), ('mash', 1), ('stew', 1), (\"'scissors'\", 1), (\"'in\", 1), (\"pdf'\", 5), ('180', 2), ('360', 1), ('degrees', 1), ('pdfstream', 4), ('pdfa', 2), ('pdfb', 2), ('pdfc', 2), (\"'3\", 1), ('createwritestream', 4), (\"'out\", 2), (\"'finish'\", 1), (\"'stream\", 1), (\"promise'\", 1), ('pngstream', 1), ('dpi', 1), ('textstream', 1), ('propertystream', 1), ('contentstream', 1), ('1750', 1), ('594', 1), (\"'reinhold\", 1), (\"messner'\", 1), ('112', 1), ('116', 1), (\"'zsvugh\", 1), ('imago', 1), ('137', 1), (\"'image'\", 1), ('3049', 1), ('5680', 1), ('655', 1), ('810', 1), ('pdfimages', 2), ('linuxcommand', 1), ('pdfimages1', 1), ('extractimagestream', 2), (\"'firstimage\", 1), ('getpagesizes', 2), ('595', 1), ('842', 1), ('getnumpages', 1), ('pdflabs', 3), ('32505951', 1), ('ghostscript', 1), ('gs', 1), ('xpdf', 1), ('poppler', 1), ('tpl', 6), ('js模板', 1), (\"tpl'\", 1), ('lantern', 3), ('illuminating', 1), ('vanillajs', 1), ('strtrkt', 2), ('i’m', 3), ('vowels\\r', 1), ('interoperable', 3), ('‘marketing', 1), ('sites’', 1), ('isomorphic', 7), ('starterkit', 5), ('rickwong', 2), ('literally', 2), ('dem', 1), ('rick', 1), ('wong\\r', 1), ('smooches', 1), ('iest', 2), ('webpack’s', 1), ('fuckery', 1), ('stuff\\r', 1), ('riley', 1), ('features\\r', 1), ('rendering\\r', 1), ('babel\\r', 1), ('reload\\r', 1), ('namespaced', 3), ('css\\r', 1), ('separation', 1), ('‘marketing’', 1), ('box\\r', 1), ('site\\r', 1), ('sense\\r', 1), ('components\\r', 1), ('ik', 1), ('ur', 1), ('fuckin', 1), ('hate', 1), ('glen', 1), ('maddern’s', 1), ('glenmaddern', 1), ('x\\r', 1), ('m8', 1), ('mitigates', 1), ('‘global’', 1), ('you’ve', 2), ('set\\r', 1), ('combing', 1), ('‘just', 1), ('enough’', 1), ('component\\r', 1), ('namespacing', 1), ('yourself\\r', 1), ('‘sub’', 1), ('flashmessage', 1), ('installation\\r', 1), ('wanna', 1), ('fuck', 1), ('bash\\r', 3), ('watch\\r', 1), ('usage\\r', 1), ('lovely', 1), ('production\\r', 1), ('build\\r', 2), ('js\\r', 1), ('deployment\\r', 1), ('ilovescott', 2), ('soz', 1), ('scality', 11), ('badgepub', 2), ('badgepriv', 2), ('ironmann', 2), ('accesskey1', 6), ('verysecretkey1', 6), ('localmetadata', 1), ('localdata', 1), ('myfavoritedatapath', 2), ('myfavoritemetadatapath', 2), ('s3datapath', 1), ('s3metadatapath', 1), ('mem', 2), ('s3cmd', 7), ('s3tools', 2), ('localcache', 2), ('6379', 1), ('bucketwebsitetester', 1), ('ft', 1), ('localregion', 1), ('specifiedregion', 1), ('myhostname', 3), ('s3server', 1), ('mybucket', 3), ('s3forcepathstyle', 2), ('1f105b7518b53853b5b7cf72302a3f75d8c598ae', 1), ('cyberduck', 2), ('n2mct4ukug', 1), ('iyxhcu4uqgu', 1), ('toys', 1), ('945', 1), ('2hhtbtmbsxe', 1), ('s3curl', 4), ('rtdp', 1), ('pl', 1), ('buckets', 6), ('mb', 2), ('s3cfg', 2), ('rclone', 5), ('acl', 1), ('lsd', 1), ('awsjavascriptsdk', 1), (\"'aws\", 2), (\"sdk'\", 2), (\"'accesskey1'\", 6), (\"'verysecretkey1'\", 6), (\"'localhost\", 1), ('sslenabled', 1), ('awsjavasdk', 1), ('javadoc', 1), ('amazons3client', 3), ('awscredentials', 2), ('basicawscredentials', 2), ('amazons3', 2), ('s3clientoptions', 3), ('s3client', 8), ('setendpoint', 1), ('sets3clientoptions', 2), ('withpathstyleaccess', 1), ('setpathstyleaccess', 1), ('bucketname', 2), ('javabucket', 1), ('createbucket', 2), ('listbuckets', 1), ('println', 1), ('getname', 1), ('sdkforruby', 1), ('resp', 1), ('fog', 4), ('boto2', 1), ('boto', 3), ('cloudhackers', 1), ('s3connection', 2), ('ordinarycallingformat', 2), (\"'mybucket'\", 1), ('boto3', 4), (\"'region'\", 1), (\"'us\", 1), (\"'version'\", 2), (\"'latest'\", 1), (\"'endpoint'\", 1), (\"'credentials'\", 1), (\"'key'\", 2), (\"'secret'\", 1), (\"'bucket'\", 1), (\"'bucketphp'\", 1), ('opuscapita', 19), ('converters', 4), ('i18nmanager', 4), ('facade', 1), (\"i18n'\", 1), ('localeformattinginfo', 3), (\"'en'\", 13), ('datepattern', 1), (\"'dd\", 3), (\"yyyy'\", 2), ('datetimepattern', 1), ('yyyy', 1), ('hh', 1), (\"ss'\", 1), ('integerpattern', 1), (\"0'\", 1), ('numberpattern', 1), ('numberdecimalseparator', 1), ('numbergroupingseparator', 1), ('numbergroupingseparatoruse', 1), (\"'de\", 4), (\"de'\", 3), ('fallbacklocale', 1), ('obsolete', 1), (\"'register'\", 1), (\"'min\", 2), ('subcomponent', 1), ('hint', 5), (\"'nested\", 1), (\"hint'\", 1), ('prefferable', 1), (\"component'\", 3), (\"label'\", 7), (\"'save'\", 4), (\"'cancel'\", 3), (\"'de'\", 5), (\"'abbrechen'\", 3), (\"c'\", 3), (\"'hi'\", 2), ('retrieving', 1), ('getmessage', 5), (\"'format'\", 1), (\"100'\", 2), ('saveandnew', 2), ('formatdate', 1), ('2001', 6), (\"2001'\", 4), ('parsedate', 1), ('toisostring', 2), ('formatdatetime', 1), ('formatnumber', 1), (\"000'\", 2), ('parsenumber', 1), ('formatdecimalnumber', 1), ('parsedecimalnumber', 1), ('formatdecimalnumberwithpattern', 1), (\"000000'\", 1), ('dateformat', 1), ('striptonull', 1), ('valuetostring', 4), ('stringtovalue', 4), ('dateconverter', 2), (\"dateconverter'\", 1), ('dc', 3), (\"''mm\", 1), (\"yyyy''\", 1), (\"'01\", 2), ('numberconverter', 3), (\"java's\", 1), ('decimalformat', 2), ('javase', 3), (\"numberconverter'\", 1), ('groupsep', 1), ('decsep', 1), ('decsepusealways', 1), ('10000000', 1), ('striptonullconverter', 2), (\"striptonullconverter'\", 1), ('stnc', 2), ('avatars', 2), ('24733803', 1), ('100px', 3), ('dmitry', 1), ('divin', 1), ('ddivin', 1), ('24650360', 1), ('zhitomirsky', 1), ('dzhitomirsky', 1), ('24603787', 1), ('alexey', 1), ('sergeev', 1), ('asergeev', 1), ('smle', 5), ('ˈsmaɪli', 1), ('sensorml', 11), ('☺', 1), ('sos', 1), ('typescriptlang', 1), ('leaflet', 6), ('leafletjs', 2), ('52north', 1), ('3830314', 2), ('21933955', 1), ('d7e9d6d0', 1), ('d9a7', 2), ('9fc8', 1), ('96e78e500b44', 1), ('21933958', 1), ('d930e164', 1), ('8327', 1), ('5bfadd4646d0', 1), ('duple', 1), ('mrmrs', 1), ('kunstmaan', 8), (\"generate'\", 1), ('kg', 5), ('stepemailnotifier', 1), ('notifier', 1), ('barebones', 1), ('mvn', 1), ('5432', 1), ('haisamjab', 6), ('pietro909', 3), ('truth', 4), ('sitepoint', 3), ('ngrx', 3), ('inconsistency', 1), (\"state's\", 1), ('rxjs', 2), ('reactivex', 1), ('geo', 1), ('localize', 1), ('fixclient', 1), ('sonny', 1), ('webfont', 3), ('ttfautohint', 3), ('hinted', 1), ('fontforge', 1), ('iconfont', 1), ('tinper', 19), ('neouik', 1), ('neoui', 19), ('iuap', 8), ('efficiency', 1), ('mainstream', 1), ('（ie8', 1), ('、firefox、chrome、safari）', 1), ('request。', 1), ('participate', 1), ('clone：', 1), ('install：', 1), ('build：', 1), ('527124070', 1), ('版权', 1), ('hekigan', 7), ('isloading', 16), (\"loading'\", 4), ('modes', 1), ('targetelement', 2), ('➖', 2), ('domelement', 2), ('📝', 2), ('💡', 3), ('optionsdefault', 1), (\"'type'\", 2), (\"'switch'\", 2), (\"'loading'\", 1), (\"'disablesource'\", 2), (\"'disablelist'\", 2), (\"username'\", 2), (\"password'\", 2), (\"'login\", 1), ('jsnext', 1), ('precompiled', 1), ('chon', 1), ('alimenter', 1), ('et', 2), ('peser', 1), ('chons', 1), ('analyzer', 2), ('handstand', 4), ('handstandjs', 3), ('lobby', 6), ('season', 2), ('stubbify', 30), ('isibner', 6), (\"stubbify'\", 2), ('beginstub', 10), ('endstub', 22), (\"'stubs\", 10), ('stubbed', 4), (\"stub'\", 2), (\"endstub'\", 2), ('stubbified', 2), ('integers', 4), ('stubs', 4), ('oedoblacksmithrecipe', 1), ('大江戸ブラックスミスのレシピ確認ツール', 1), ('krishi', 17), ('sivakatru', 2), ('wireless', 1), ('agricultural', 1), ('playstore', 1), ('explaining', 1), ('firmware', 1), ('esp8266', 1), ('ti', 1), ('sensortags', 1), ('devicetype', 13), ('bird', 2), ('2123', 2), ('65', 2), ('73', 2), ('rainpresence', 2), ('rain', 4), ('273', 2), ('outlet', 1), ('motor', 1), ('moisture', 3), ('484', 1), ('moisturetext', 1), ('moderate', 1), ('imgurl', 1), ('imgtext', 1), ('farm', 1), ('videouri', 1), ('mosquitto', 1), (\"'mqtt\", 2), (\"broker'\", 1), (\"port'\", 1), (\"'krishiiot\", 1), ('telemetry', 1), (\"deviceid'\", 1), ('donatecc', 1), ('jpadilla', 4), ('emberobserver', 2), ('authenticator', 17), ('authorizer', 11), ('exchanged', 1), ('devise', 2), ('simplabs', 2), ('stefanpenner', 1), ('authenticators', 1), ('identification', 3), (\"'authenticate'\", 1), (\"'identification'\", 3), (\"'enter\", 2), (\"auth's\", 1), ('logincontrollermixin', 1), (\"'ember'\", 2), ('getproperties', 2), (\"'simple\", 8), (\"'session'\", 2), (\"jwt'\", 1), ('tokenexpirename', 4), ('calculates', 2), ('refreshleeway', 3), ('subtracted', 1), (\"auth'\", 2), ('refreshaccesstokens', 2), ('timefactor', 2), ('300s', 1), (\"'george'\", 1), (\"'george\", 1), ('castanza', 1), (\"'exp'\", 2), (\"'98343234'\", 1), ('8601', 1), ('utc', 1), ('regards', 1), ('leeway', 1), ('clock', 1), ('skew', 1), ('pyjwt', 2), ('progrium', 1), ('authorizes', 1), ('servertokenendpoint', 1), ('identificationfield', 1), ('passwordfield', 1), ('tokenpropertyname', 1), (\"'token'\", 1), ('authorizationprefix', 1), (\"'bearer\", 1), ('authorizationheadername', 1), ('servertokenrefreshendpoint', 1), ('inspirabbble', 5), ('inspire', 1), ('shots', 5), ('dribbble', 2), ('arranged', 1), ('rmariuzzo', 1), ('australian', 3), ('cities', 5), ('vue2leaflet', 2), ('vue2', 2), ('mapmain', 1), ('maparea', 3), ('mapcontrols', 5), ('mapdata', 4), ('lat', 5), ('ten', 2), ('wiinci', 2), ('aulatlong', 2), ('updatemaparea', 1), ('openstreetmap', 2), ('vmap', 1), ('vtilelayer', 1), ('vmarker', 1), ('centers', 1), ('reduces', 1), ('locationchange', 2), ('filteredcities', 1), ('mapheader', 1), ('csfd', 16), ('magnets', 14), ('bartholomej', 6), ('taylor', 2), ('swift', 1), ('20swift', 1), ('swiftonsecurity', 1), ('volkswagen', 3), ('auchenberg', 2), ('volkswargen', 1), ('čsfd', 1), ('czech', 1), ('slovak', 1), ('thousand', 1), ('shut', 2), ('kkoccljoocknljaljhpifcnkmillmilo', 1), ('robots', 1), ('cz', 2), ('film', 2), ('70049', 1), ('mestecko', 1), ('twin', 1), ('peaks', 1), ('bugfixes', 2), ('proudly', 1), ('curry', 1), ('️', 2), (\"mb'\", 3), ('itemheight', 1), ('36', 2), ('visibleitemcount', 2), ('showtoolbar', 1), ('rotateeffect', 1), ('3d', 1), ('pickerslots', 2), ('pickers', 1), ('pickerslot', 2), (\"'2015'\", 1), (\"'01'\", 1), (\"'02'\", 1), (\"picker's\", 1), ('defaultindex', 2), ('dividercontent', 3), ('textalign', 3), (\"'left\", 1), ('jessemao', 2), (\"'0'\", 4), (\"'3'\", 1), (\"'4'\", 1), (\"'slot1'\", 1), (\"'slot2'\", 1), (\"'2015\", 6), (\"02'\", 1), (\"03'\", 1), (\"04'\", 1), (\"05'\", 1), (\"06'\", 1), (\"'slot3'\", 1), ('kioskpocalypse', 1), ('charging', 1), ('kiosks', 1), ('beanstalkapp', 2), ('getrepositories', 1), ('jelle', 2), ('kralt', 1), ('jellekralt', 1), ('kails', 15), ('embbnux', 9), ('koa2', 2), ('middlelayer', 1), ('\\xa0\\xa0', 3), (\"'kails\", 8), (\"tester'\", 2), (\"'12345678'\", 2), ('passwordconfirmation', 1), ('ji', 1), ('volicon', 2), ('mapped', 1), ('relations', 1), ('improper', 1), ('guaranteed', 2), ('freaking', 1), ('superposition', 1), ('ordered', 1), ('ioendpoints', 1), ('unopinionated', 1), (\"'type\", 1), (\"r'\", 1), ('encapsulated', 1), ('indexof', 1), (\"'invalid\", 2), ('aggregating', 1), ('isvalid', 2), (\"'change'\", 2), (\"'change\", 2), ('transaction', 2), (\"'john\", 1), (\"dee'\", 1), (\"'dee\", 1), ('packed', 1), ('ie10', 1), ('darsain', 2), ('laravel', 10), ('ryxpkvc', 1), ('evaluators', 3), ('authorizers', 4), ('meebio', 7), ('autoload', 2), (\"php'\", 2), ('phpevalconsole', 3), ('evaluator', 5), ('evaluatorinterface', 2), ('evalevaluator', 2), ('authorizerinterface', 2), ('ipauthorizer', 2), ('evaluation', 2), ('phpsandboxevaluator', 1), ('fieryprophet', 3), ('nikic', 1), ('sandboxed', 1), ('unsafe', 2), ('ips', 3), (\"'time'\", 2), ('113', 1), ('231', 1), (\"'providers'\", 1), ('phpevalconsolelaravelserviceprovider', 2), ('artisan', 2), ('verifycsrftoken', 3), ('illuminate', 1), ('baseverifier', 2), ('pa11y', 16), ('10–6', 1), (\"'pa11y\", 1), (\"node'\", 1), (\"'nature\", 2), (\"'wcag2aa'\", 1), ('lastres', 2), (\"'2013\", 4), (\"31'\", 2), (\"'5231c687bbdf0f94fa000007'\", 10), (\"'523c0ee0ca452f0000000009'\", 2), ('2013–2017', 1), ('slimy', 1), ('pink', 1), ('adventure', 1), ('lollipop', 2), ('anwar', 1), (\"'lollipop\", 1), (\"fantastyland'\", 1), ('developersguild', 1), ('fantastyland', 1), ('zurb', 18), ('├──────', 2), ('consumers', 1), ('figured', 1), ('keystonejs', 4), ('keystone', 3), ('grappling', 6), ('bored', 1), ('attributions', 4), ('agentiasystems', 7), ('incorporate', 2), ('circumstances', 1), ('optionsapi', 23), (\"'options\", 11), (\"'option'\", 3), ('clazz', 6), (\"else'\", 1), ('yyy', 1), ('zzz', 1), ('defauts', 3), ('teh', 1), ('validated', 1), ('indication', 1), ('unset', 9), (\"option's\", 1), (\"options's\", 1), ('chainable', 2), ('option1', 16), (\"'option2'\", 10), (\"'option1'\", 14), (\"'option1\", 7), (\"'option2\", 6), ('option2', 8), (\"'value2'\", 2), ('opiion2', 4), (\"'file\", 1), ('invalidoption', 1), (\"value1'\", 4), (\"value2'\", 4), ('partly', 1), ('jedwatson', 4), ('crynders', 3), ('johnny', 1), ('estilles', 1), ('johnnyestilles', 1), ('agentia', 4), ('asia', 2), ('creynders', 1), ('wayback', 1), ('20131215082038', 1), ('teaching', 1), ('aspect', 1), ('familiarize', 1), ('phonelistctrl', 3), ('iterates', 1), ('clones', 1), ('shrinks', 1), ('grows', 1), ('prove', 1), ('repeater', 1), ('wired', 1), ('di', 4), ('end2end', 3), ('notch', 1), ('phonecatctrl', 1), ('governs', 1), ('ngroute', 4), ('ngview', 3), ('partails', 2), ('phonedetailctrl', 3), ('phonedetailsctrl', 1), ('checkmark', 2), ('mainimageurl', 2), ('setimage', 2), ('ngclick', 1), ('thumnail', 1), ('phonecat', 1), ('captured', 1), ('nganimate', 1), ('partial1', 1), ('partial2', 1), ('careful', 1), ('controllersspec', 1), ('directivesspec', 1), ('filtersspec', 1), ('servicesspec', 1), ('filterfilter', 1), ('ngresource', 1), ('seneca', 38), ('senecajs', 3), (\"plugin's\", 1), ('niftylettuce', 2), ('rjrodger', 9), ('fashion', 2), ('reminders', 1), (\"'seneca'\", 2), (\"'mail'\", 4), (\"'help\", 1), (\"'send'\", 1), (\"'welcome'\", 1), (\"'customer1\", 1), (\"'welcome\", 1), (\"'customer\", 1), (\"one'\", 1), ('identifies', 1), ('tradition', 1), ('repetition', 2), ('concrete', 1), ('activity', 1), (\"'generate'\", 1), (\"'howdy\", 1), (\"'smtp'\", 1), ('andris9', 2), ('transports', 7), ('dbtemplate', 2), ('mirceaalexandru', 1), ('transportpluginname', 1), (\"mail's\", 1), ('literal', 9), ('bcc', 3), ('replyto', 2), ('reply', 1), (\"'print'\", 1), ('sendconf', 1), ('crm', 3), ('organizations', 1), ('reacthowler', 5), ('thangngoc89', 7), (\"howler'\", 2), ('sound', 11), ('goldfirestudios', 4), ('howlerjs', 3), (\"ogg'\", 2), ('khoanguyen', 2), ('songs', 1), ('mute', 4), ('volume', 4), ('howl', 1), ('extraction', 1), ('soundcloud', 1), ('onplay', 1), ('resumes', 1), ('onpause', 1), ('paused', 1), ('onvolume', 1), ('onstop', 1), ('onload', 1), ('onloaderror', 1), ('onend', 1), ('finishes', 1), ('gethower', 1), ('getduration', 1), ('getseek', 1), ('setseek', 1), ('avaiable', 1), (\"howler's\", 1), ('104', 1), ('ogg', 2), ('opentok', 87), ('sessions', 6), ('tokbox', 9), ('archiving', 7), ('psr', 3), ('autoloading', 1), ('autoloader', 1), ('projectpath', 1), ('apisecret', 1), ('createsession', 10), ('archives', 6), ('getsessionid', 2), ('mediamode', 4), ('archivemode', 4), (\"'mediamode'\", 2), (\"'location'\", 1), (\"'12\", 1), ('34', 1), (\"78'\", 1), ('sessionoptions', 2), (\"'archivemode'\", 1), ('sessionid', 8), ('generatetoken', 6), ('moderator', 1), (\"'expiretime'\", 1), (\"johnny'\", 1), ('recording', 3), ('startarchive', 5), ('archiveoptions', 3), (\"'important\", 1), (\"'hasaudio'\", 1), (\"'hasvideo'\", 1), (\"'outputmode'\", 1), ('outputmode', 4), ('archiveid', 10), ('stoparchive', 2), ('getarchvie', 1), ('getarchive', 2), ('deletearchive', 2), ('listarchives', 2), ('paginate', 1), ('archivelist', 4), ('getitems', 1), ('totalcount', 2), ('walkthroughs', 1), ('firewall', 1), ('p2p', 2), ('recursos', 1), ('mistic100', 1), ('jqcloud', 1), ('jasondavies', 1), ('ejemplo', 1), ('como', 1), ('usarlo', 1), ('bl', 1), ('ocks', 1), ('ericcoopey', 1), ('6382449', 1), ('reactiveformsmodule', 2), (\"'ng2\", 3), (\"validators'\", 1), (\"dist'\", 2), ('defaultextension', 1), ('emailvalidator', 2), ('rfc', 3), (\"'customerro'\", 1), ('ngoninit', 1), ('preventdefault', 1), ('validationservice', 1), ('formisvalid', 1), (\"'success'\", 1), ('formgroup', 1), ('ngsubmit', 1), ('formcontrolname', 1), ('ngmodel', 1), ('comb', 11), ('apm', 3), ('d4rkr00t', 3), ('csscomb', 4), ('200119', 1), ('5740596', 1), ('e244b8f6', 1), ('9c15', 1), ('11e4', 1), ('8263', 1), ('a31909ddd47e', 1), ('onsave', 1), ('openweathermap', 4), ('musicrecon', 2), ('weatherforecast', 1), ('normalizingstateshape', 1), ('dbreducer', 1), ('upsert', 3), ('cascading', 2), ('optimizing', 1), ('5k', 1), ('normalizr', 2), ('lends', 1), ('consepts', 1), ('tablerecord', 1), ('recordset', 1), ('tablerecordset', 1), ('pk', 1), ('fk', 1), ('optimizations', 1), ('1dce73', 1), ('3aimage', 1), ('2fsvg', 1), ('2bxml', 1), ('3bbase64', 1), ('2cpd94bwwgdmvyc2lvbj0ims4wiiblbmnvzgluzz0ivvrgltgipz4ncjxzdmcgeg1sbnm9imh0dha6ly93d3cudzmub3jnlziwmdavc3znij48cmvjdcb4psiwiib5psi1iibmawxspsijzmzmiib3awr0ad0imsigagvpz2h0psi1ii8', 1), ('2bphjly3qged0imiiget0iniigzmlsbd0ii2zmziigd2lkdgg9ijeiighlawdodd0inyivpjxyzwn0ihg9ijqiihk9ijyiigzpbgw9iinmzmyiihdpzhropsixiibozwlnahq9ijcilz48cmvjdcb4psi2iib5psi2iibmawxspsijzmzmiib3awr0ad0imsigagvpz2h0psi0ii8', 1), ('2bpc9zdmc', 1), ('2b', 1), ('logowidth', 1), ('ttps', 1), ('stoplight', 1), ('edabit', 1), ('blackship', 1), ('brewhousesolutions', 1), ('lifebot', 1), ('opinion', 1), ('speech', 1), ('balloon', 1), ('weighing', 1), ('seeking', 1), ('parity', 1), (\"'semanticuireact\", 2), (\"dropdown'\", 1), ('✓', 46), ('breadcrumb', 1), ('dimmer', 1), ('statistic', 1), ('rail', 1), ('segment', 1), ('technologyadvice', 4), ('dogfooding', 1), ('guiding', 1), ('sui', 2), ('intricate', 1), ('releasing', 1), (\"'docs\", 1), ('ridiculous', 1), ('jamiehill', 1), ('jcarbo', 1), ('layershifter', 1), ('momentum', 1), ('milestone', 1), ('eating', 1), ('skywinder', 1), ('careers', 1), ('3aissue', 1), ('3aopen', 2), ('22new', 1), ('3arfc', 1), ('20first', 1), ('20contribution', 1), ('linkup', 13), ('broker', 11), ('deny', 1), ('messaging', 5), ('stun', 5), ('ice', 2), ('freely', 2), ('bandwidth', 1), ('viagénie', 1), ('numb', 1), ('viagenie', 1), ('createpeer', 2), (\"'peer1'\", 2), ('envelope', 6), (\"'received\", 2), (\"from'\", 2), (\"'peer2'\", 2), (\"'hi\", 2), ('peer2', 2), ('wrtc', 2), (\"'linkup'\", 1), ('enmasseio', 3), ('peerjs', 1), ('webtorrent', 1), ('instantwebp2p', 1), ('iwebpp', 1), ('cjb', 1), ('rediscloud', 2), ('5001', 1), ('letting', 1), ('firepack', 23), ('kickstart', 1), ('bulicmatko', 10), ('ii', 1), ('iii', 1), ('🙃', 1), ('matko', 1), ('bulic', 1), ('syncbot', 8), ('fntsrlike', 2), ('btw', 2), ('nick', 6), (\"'slackbot'\", 1), (\"'slackbot\", 1), ('incomeurl', 2), ('xxxxxxxxx', 2), (\"xxxxxxxxxxxxxxxxxxxxxxxx'\", 1), ('outgoingtoken', 2), (\"'xxxxxxxxxxxxxxxxxxxxxxxx'\", 1), (\"channel'\", 1), ('whois', 1), (\"slack's\", 2), (\"'irclogin\", 1), (\"'slackuser'\", 1), (\"ircbot's\", 1), (\"bot's\", 2), ('webhooks', 2), ('integrations', 2), ('chanel', 1), ('dislpay', 1), ('usesname', 1), ('iconurl', 3), ('48', 2), ('iconemoji', 1), ('serverport', 1), ('initializetimeoutlimit', 1), ('listupdatedperiod', 1), ('issilent', 1), ('issystemsilent', 1), ('isuserstracking', 1), ('isautotildeadded', 1), ('tilde', 1), ('nicks', 1), ('isshowslackchannel', 1), ('ismapname', 1), ('ismapavatar', 1), ('ircbot', 1), ('martynsmith', 1), ('stc', 4), (\"'stc\", 1), (\"uglify'\", 1), ('jscompress', 1), ('支持的配置', 1), ('详细文档参考', 1), ('部分配置需要参考代码', 1), ('squeeze', 1), ('seqs', 1), ('comps', 1), ('gen', 1), ('colon', 1), ('beautify', 1), ('ascii', 1), ('arrangement', 1), ('outlets', 1), ('configinitializer', 4), (\"decorator'\", 2), (\"'somelayoutenumvalue'\", 1), ('mainmenuitem', 3), (\"'somemainmenuenumvalue'\", 1), ('someotherdata', 1), (\"'someothervalue'\", 1), (\"root'\", 1), ('styleurls', 1), ('appcomponent', 2), ('oninit', 1), ('factoryprovider', 1), ('layoutmanagerservice', 8), ('mainmenuservice', 8), ('usefactory', 2), ('configinitializerdata', 8), ('setlayout', 2), ('setactive', 2), ('specialised', 1), ('statically', 1), ('efidiles', 7), ('eduard', 2), ('fidiles', 2), ('enyo', 4), ('sampler', 7), ('enyojs', 2), ('nightly', 2), (\"library's\", 1), ('factors', 1), (\"ajax's\", 1), (\"path's\", 1), ('consist', 2), ('buttonsample', 3), ('smaple', 1), ('un', 1), ('addsamples', 2), (\"collection's\", 1), ('browserscope', 1), ('paramameters', 1), ('benchmarking', 1), ('benchmark', 2), ('speedtest', 1), ('speedtestdebug', 1), ('trees', 1), ('electronics', 1), ('law', 1), ('governing', 1), ('insurance', 10), ('government', 4), ('subsidy', 6), ('eligible', 1), ('premiums', 1), ('heed', 1), ('securing', 1), (\"node's\", 4), ('opted', 1), ('exporing', 1), ('envvars', 7), ('leaked', 1), ('proceeding', 1), ('thats', 1), ('marketing', 2), ('proxied', 1), ('monitored', 1), ('unitech', 1), ('quoting', 6), (\"that'll\", 2), ('aplo', 4), ('federal', 2), ('healthcare', 8), ('limitto', 1), ('datasets', 2), ('qhp', 1), ('sufficient', 1), ('demographic', 1), ('affordable', 1), ('obamacare', 1), ('aca', 2), ('subsidies', 3), ('helpfulness', 1), ('healthinsurance', 1), ('od', 1), ('reform', 1), ('premium', 3), ('tax', 1), ('formula', 3), ('calculation', 1), ('penguin', 1), ('valuepenguin', 1), ('billpatrianakos', 1), ('suffice', 1), (\"else's\", 1), ('aploquote', 1), ('estimating', 1), ('aplqouote', 1), ('aheui', 5), ('4px', 2), ('8px', 1), ('rgba', 1), ('avis', 3), ('한글로', 1), ('쓰는', 1), ('난해한', 1), ('프로그래밍', 1), ('언어', 1), ('아희', 2), ('의', 2), ('코드', 1), ('편집기이자', 1), ('실행기입니다', 1), ('전통적인', 1), ('실행기', 1), ('jsaheui', 3), ('기능을', 1), ('전부', 1), ('포함하며', 1), ('다음과', 1), ('같은', 1), ('특징을', 1), ('가지고', 1), ('있습니다', 3), ('코드공간이', 1), ('엑셀처럼', 1), ('격자식으로', 1), ('되어있어', 1), ('세로방향으로', 1), ('진행하는', 1), ('코드를', 6), ('읽기', 1), ('편합니다', 1), ('작성한', 2), ('저장하고', 1), ('url로', 1), ('공유할', 2), ('수', 4), ('커서가', 2), ('지나간', 2), ('자취를', 2), ('이해하기', 1), ('쉽게', 1), ('보여줍니다', 1), ('잘', 2), ('만들었습니다', 1), ('지원', 1), ('브라우저', 1), ('크롬', 1), ('파이어폭스의', 1), ('최신', 1), ('안정버전만', 1), ('지원합니다', 1), ('정식', 1), ('지원은', 1), ('아니지만', 1), ('폰에서도', 1), ('도는거', 1), ('같아요', 1), ('disjukr', 1), ('917292484719288320', 1), ('미리보기', 1), ('중간부터', 3), ('작성할', 3), ('수도', 3), ('있고', 2), ('있어요', 3), ('우왕', 1), ('세로쓰기가', 1), ('가능하고', 1), ('세로로', 1), ('세로쓰기', 1), ('작성중인', 1), ('바로', 1), ('돌려볼', 1), ('화면에', 1), ('그려줘요', 1), ('실행경로', 1), ('gist로', 2), ('저장해서', 1), ('다른사람들과', 1), ('저장할', 1), ('저장하기', 1), ('개발에', 1), ('참여하기', 1), ('nodejs가', 1), ('설치돼있어야', 1), ('합니다', 1), ('개발서버', 1), ('띄우기', 1), ('웹브라우저를', 1), ('열어서', 1), ('4715', 1), ('로', 1), ('들어갑니다', 1), ('배포', 1), ('폴더를', 1), ('삭제합니다', 1), ('폴더가', 1), ('생긴', 1), ('것을', 1), ('확인합니다', 1), ('저장소의', 1), ('브랜치에', 1), ('pr을', 1), ('날립니다', 1), ('changesetjs', 6), ('theluk', 5), ('lukas', 1), ('klinzing', 1), ('b12', 10), ('polydox', 15), ('unstable', 2), ('yellowgreen', 1), ('milestones', 1), ('dox', 12), ('justin', 1), ('mezzell', 1), ('justinmezzell', 1), ('64773265522', 1), ('soundboard', 1), ('hacks', 1), ('…usual', 1), ('sourcefile', 2), ('934b22c', 1), ('doxie', 4), ('preprocess', 1), ('gmbh', 2), ('gradelog', 1), ('skills', 1), ('logrhythm', 1), ('student', 2), ('alphanumeric', 1), (\"student's\", 1), ('seeded', 1), ('8443', 1), ('sslcerts', 1), ('trials', 1), ('devguide', 1), ('installcf', 1), ('completes', 1), ('128m', 1), ('humbler', 1), ('frappa', 1), ('2fgithub', 1), ('2fmeanjs', 1), ('2fmean', 1), ('committed', 2), ('fscache', 6), ('serializable', 1), ('obviously', 1), ('infrequently', 1), ('expensive', 1), ('createsync', 1), ('stringifiable', 4), ('putsync', 1), ('observing', 1), ('scrolls', 1), ('overflows', 1), ('55', 2), ('47', 1), ('scrolltracker', 1), ('observe', 1), ('percentages', 2), ('measurements', 2), (\"header'\", 1), (\"footer'\", 1), ('somenewhandler', 1), ('luna', 1), ('lunametrics', 5), ('consultancy', 1), ('wilkerson', 1), ('notdanwilkerson', 1), ('marin', 1), ('liovic', 1), ('visualiser', 6), ('tyriar', 4), ('visualise', 1), ('algorithms', 1), ('gwtw', 1), ('observers', 1), ('swapping', 1), ('comparing', 1), ('growingwiththeweb', 1), ('datetimepicker', 13), (\"framework's\", 3), ('rajeshwarpatlolla', 2), ('datepickerforionicframework', 1), ('timepickerforionicframework', 1), ('katemihalikova', 6), (\"'mainmodulename'\", 1), (\"'ionic'\", 1), (\"'ionic\", 1), (\"datetimepicker'\", 1), (\"template's\", 1), ('datetimepickerobject', 4), ('titlelabel', 2), ('closelabel', 3), ('setlabel', 2), (\"'set'\", 1), ('setbuttontype', 2), (\"assertive'\", 2), ('closebuttontype', 2), ('inputdatetime', 2), ('mondayfirst', 2), ('disableddates', 4), ('weekdayslist', 5), ('monthlist', 4), ('datetimepickercallback', 2), ('decrement', 1), ('monday', 1), ('1437719836326', 1), ('10th', 1), (\"'wednesday\", 1), (\"2015'\", 1), ('1439676000000', 1), ('mon', 1), ('tue', 1), ('thu', 1), ('fri', 1), ('sat', 1), ('jan', 1), ('feb', 1), ('sept', 1), ('oct', 2), (\"'selected\", 1), ('inputdate', 1), (\"'medium'\", 1), ('vales', 1), ('lh3', 3), ('ienoa', 1), ('ummprhwcp4hl2cc4zo1yuwnad4vmkbyzsx2fy', 1), ('w434', 1), ('h678', 2), ('450', 5), ('igjqpsipj1', 1), ('92dtiw2ojcsvbtdp93pgoyek4vzqiabg', 1), ('w442', 1), ('ul18wuski', 1), ('vnhkgj8tdwi', 1), ('aaaaaaaaddu', 1), ('5tbbzcf6', 1), ('w328', 2), ('h494', 2), ('xgqgh2zrsua', 1), ('vnhkgq6r8ci', 1), ('aaaaaaaaddq', 1), ('5ggj1nuqma0', 1), ('tx9iyfn9w3gighnltcjcdsj1df5ojddqxpxmnr7oadq', 1), ('w423', 1), ('h634', 1), ('kate', 1), ('ionicdatepicker', 1), ('macosx', 1), ('psql', 1), ('sqs', 1), ('ahmed', 1), ('onawale', 1), ('d2l', 170), ('brightspaceui', 12), ('polymer', 32), ('acceptance', 8), ('brightspace', 6), ('webcomponentsjs', 2), ('polyfilled', 2), ('spans', 4), ('tspan', 8), ('unaffected', 2), ('ascending', 4), ('desc', 2), ('321', 2), ('654', 2), ('vertically', 2), ('galen', 22), ('galenconfig', 4), ('gspec', 4), ('galenspec', 4), ('chromedriver', 6), ('createprocess', 2), ('193', 2), ('galenframework', 6), ('20preview', 1), ('kriasoft', 22), (\"routing'\", 1), (\"homepage'\", 1), (\"product'\", 1), ('konstantin', 3), ('tarkus', 2), ('koistya', 8), ('groupvideocall', 1), ('kurento', 1), ('negotiation', 1), ('bsa2014', 3), ('underscorejs', 3), ('hometask', 1), ('lecture', 1), ('msemenistyi', 1), ('possibility', 3), ('films', 3), ('sits', 1), (\"'back\", 1), ('openning', 1), ('chenglou', 13), ('61daaa', 1), ('discordapp', 1), ('invite', 1), ('0zcbpkxt5byzmci0', 1), ('spring', 39), (\"motion'\", 2), ('defaultstyle', 8), ('1998', 1), ('reactmotion', 1), ('prerelease', 1), (\"native'\", 1), ('demo0', 1), ('demo1', 1), ('balls', 2), ('demo2', 1), ('demo3', 1), ('demo4', 1), ('chooser', 4), ('demo5', 2), ('ripples', 2), ('demo7', 1), ('demo8', 1), ('europe', 1), ('1tavdv5hxpo', 1), ('stiffness', 3), ('petty', 1), ('interrupted', 2), ('greatly', 1), ('simplifies', 1), (\"react's\", 2), ('transitiongroup', 2), ('staggeredmotion', 7), ('transitionmotion', 13), ('configurationobject', 1), ('pervasive', 1), (\"spring's\", 1), ('170', 1), ('asks', 1), ('reactelement', 3), ('interpolatedstyle', 2), ('certainly', 1), ('stagger', 1), ('defaultstyles', 5), ('prevstyles', 4), ('mousex', 1), (\"mouse's\", 1), ('staggering', 2), ('interpolatedstyles', 6), ('unmounting', 2), ('retaining', 1), ('disappear', 1), ('diffs', 1), ('mykey1', 10), ('mykey2', 6), ('willleave', 5), ('k2', 4), ('configreturnedfromwillleave', 1), ('moments', 1), ('kills', 1), ('willenter', 5), ('styleobject', 4), ('screws', 1), ('enumeration', 1), ('staggered', 1), ('keyfromstylesthatjustentered', 1), ('correspondingstyleofkey', 4), ('currentinterpolatedstyle', 2), ('currentspeed', 2), ('keythatjustleft', 1), ('killing', 1), (\"'i\", 3), (\"b'\", 1), ('getstyles', 2), ('gradually', 1), ('newblocks', 3), ('wobbly', 1), ('043231a84e420ba1cc7f5b0ceb1753a6406d38f1', 1), ('dictates', 1), (\"scenarios'\", 1), ('newkey', 2), ('myconfigforthiskey', 2), ('oldconfigs', 2), ('reorderkeys', 4), ('fortunately', 1), ('keysarray', 1), ('dictated', 1), ('andy', 1), ('matuschak', 1), ('566736015188963328', 1), ('mid', 1), ('unmount', 1), ('currentvalue', 1), ('souporserious', 1), ('bgryszko', 1), ('transitionspring', 1), ('kabuki', 2), ('bishopz', 1), ('animators', 1), ('gajus', 3), ('latter', 1), (\"function's\", 2), (\"baz'\", 1), ('ril', 1), ('4413963', 1), ('31209033', 1), ('78f60df0', 1), ('a9c3', 1), ('8f83', 1), ('69998d46973e', 1), ('preloading', 1), ('smoother', 2), ('pinch', 1), ('webcarrot', 2), (\"lightbox'\", 3), ('placekitten', 4), ('1500', 2), (\"500'\", 1), (\"1200'\", 1), (\"1500'\", 1), ('lightboxexample', 1), ('photoindex', 9), ('mainsrc', 7), ('nextsrc', 5), ('prevsrc', 5), ('oncloserequest', 2), ('onmoveprevrequest', 3), ('onmovenextrequest', 3), ('codesandbox', 2), ('l9n3vnz8yz', 1), ('mainsrcthumbnail', 1), ('prevsrcthumbnail', 1), ('nextsrcthumbnail', 1), ('onimageload', 1), ('imagesrc', 2), ('srctype', 2), ('onimageloaderror', 1), ('errorevent', 1), ('imageloaderrormessage', 1), ('onafteropen', 1), ('discouragedownloads', 1), ('discouragement', 1), ('animationdisabled', 1), ('animationonkeyinput', 1), ('animationduration', 1), ('keyrepeatlimit', 1), ('excessively', 1), ('keyrepeatkeyupbonus', 1), ('restored', 1), ('imagetitle', 1), ('imagecaption', 1), ('imagecrossorigin', 1), ('crossorigin', 2), ('mdn', 1), ('toolbarbuttons', 1), ('reactmodalstyle', 1), ('reactmodalprops', 1), ('imagepadding', 1), ('clickoutsidetoclose', 1), ('enablezoom', 1), ('wrapperclassname', 1), ('nextlabel', 1), ('aria', 5), (\"'next'\", 1), (\"'next\", 1), ('prevlabel', 1), (\"'previous'\", 1), (\"'previous\", 1), ('zoominlabel', 1), (\"'zoom\", 4), ('zoomoutlabel', 1), (\"'close\", 2), ('lints', 2), ('rpc', 8), (\"rpc'\", 1), ('prereq', 1), ('2222', 2), ('fez', 27), ('outatime', 8), ('applause', 8), (\"'fez'\", 7), (\"'fez\", 7), (\"replace'\", 7), ('flatten', 2), ('key–value', 1), ('patternsjson', 2), ('cson', 7), (\"'value\", 2), ('replacements', 2), ('useprefix', 2), ('preserveprefix', 1), ('preserveorder', 1), ('appcache', 2), (\"appcache'\", 3), (\"'timestamp'\", 3), ('ariel', 2), ('oscar', 1), ('falduto', 2), ('outa', 2), ('outa7ime', 1), ('afalduto', 1), ('argentina', 1), ('robotstxt', 1), ('humanstxt', 1), ('photoshop', 1), ('patsubst', 1), (\"'include'\", 1), ('smith', 4), ('09\\u2003\\u2003\\u2003v0', 1), ('0\\u2003\\u2003\\u2003improvements', 1), ('19\\u2003\\u2003\\u2003v0', 1), ('0\\u2003\\u2003\\u2003last', 1), ('06\\u2003\\u2003\\u2003v0', 1), ('3\\u2003\\u2003\\u2003fix', 1), ('nn', 1), ('07\\u2003\\u2003\\u2003v0', 1), ('1\\u2003\\u2003\\u2003fix', 1), ('regression', 1), ('01\\u2003\\u2003\\u2003v0', 1), ('0\\u2003\\u2003\\u2003update', 1), ('10\\u2003\\u2003\\u2003v0', 2), ('0\\u2003\\u2003\\u2003escape', 1), ('5\\u2003\\u2003\\u2003remove', 1), ('20\\u2003\\u2003\\u2003v0', 1), ('4\\u2003\\u2003\\u2003json', 1), ('milanlandaverde', 2), ('23\\u2003\\u2003\\u2003v0', 1), ('3\\u2003\\u2003\\u2003readme', 1), ('22\\u2003\\u2003\\u2003v0', 1), ('2\\u2003\\u2003\\u2003modular', 1), ('21\\u2003\\u2003\\u2003v0', 1), ('1\\u2003\\u2003\\u2003test', 1), ('17\\u2003\\u2003\\u2003v0', 1), ('0\\u2003\\u2003\\u2003new', 1), ('1\\u2003\\u2003\\u2003initial', 1), ('fritz', 1), ('ecma', 1), ('262', 1), ('lexer', 1), ('doxygen', 1), ('tether', 30), ('2ftether', 2), ('positioned', 2), ('problematic', 2), ('scrollable', 2), ('clipped', 1), ('disappears', 1), ('guided', 1), ('tours', 1), ('shepherd', 1), ('positioning', 1), ('tether’s', 2), ('negatively', 1), ('library’s', 1), (\"comments'\", 1), (\"picture'\", 1), (\"'top\", 2), ('targetattachment', 1), (\"left'\", 1), ('it’ll', 1), ('resizes', 2), ('tons', 1), ('“comment', 1), ('boxes”', 1), ('hints', 1), ('popups', 1), ('ycx8clr', 1), ('jvfloat', 33), ('ovv', 1), ('maman', 4), ('zepto', 2), ('emulate', 1), ('jvfloatlabeledtextfield', 2), ('jverdi', 1), ('1254439', 1), ('mahardi', 1), ('jvfloatjs', 1), ('accessbility', 2), ('thumbsup', 1), ('zeptojs', 2), ('avalaible', 2), ('googleapis', 1), (\"testbox'\", 1), (\"mustn't\", 3), ('aftermentioned', 1), ('uncomment', 1), ('wiredep', 1), ('ahmadalfy', 1), ('redefine', 1), ('multiline', 1), ('jackobyte', 1), ('mrsnowflake', 1), ('eskimoblood', 1), ('gabceb', 1), ('noticeably', 1), ('rethinkdb', 3), ('restangular', 1), ('blogtest', 1), ('growingfx', 1), (\"serve'\", 1), ('notetracker', 1), ('notetrackeronline', 1), ('devdays', 2), ('ticktock', 1), ('multiplayer', 1), ('versus', 1), ('stockget', 2), ('frankc60', 1), ('sharongrossman', 2), ('dispatches', 1), ('socketiomiddleware', 2), (\"sockets'\", 2), ('socketconnect', 1), ('itaylor', 1), ('captures', 1), ('sharon', 1), ('grossman', 1), ('frigorifico', 2), ('forceofslidingfriction', 1), ('滑动摩擦力动画演示', 1), ('gordonsmith', 6), ('hpcc', 8), ('comms', 7), ('jacobeanrnd', 5), ('expresscion', 9), ('scxml', 4), ('orchestration', 1), ('scxmld', 1), ('smaas', 3), ('8002', 2), ('scxmlworkshop', 1), ('eics2015', 1), ('submissions', 1), ('20machines', 1), ('20as', 1), ('20service', 1), ('linkeddatafragments', 9), ('dbpedia', 15), ('sparql', 8), ('2fdbpedia', 1), ('7b', 2), ('3fp', 2), ('owl', 3), ('3aartist', 2), ('7d', 2), ('0d', 1), ('0awhere', 1), ('2fturtle', 1), ('rates', 1), ('aidanh', 1), ('epmonitoriswc', 1), ('triple', 4), ('each\\xa0triple', 1), ('3atype', 2), ('3arestaurant', 1), ('approximate', 1), ('22john', 1), ('40en', 1), ('ldf', 7), ('a\\xa0file', 1), ('fragmentsclient', 5), ('sparqliterator', 2), (\"'ldf\", 1), (\"en'\", 1), ('\\xa00', 1), ('a\\xa0usage', 1), ('a\\xa0separate', 1), ('webclient', 1), ('artists', 1), ('ruben', 2), ('verborgh', 2), ('colleagues', 1), ('ghent', 1), ('university', 1), ('iminds', 1), ('mmlab', 1), ('impressive', 1), ('combo', 1), ('newline', 1), (\"phantomjs's\", 1), ('handful', 1), (\"mocha's\", 3), ('diverse', 1), ('mochaphantomjs', 3), ('useragent', 1), ('testserver', 1), ('qualified', 1), (\"file's\", 1), (\"'bdd'\", 1), (\"'html'\", 1), ('mycode', 1), ('stacks', 1), ('debounce', 1), ('loosing', 1), ('neatest', 1), ('metaskills', 10), ('customizeprocessstdout', 1), ('customizeconsole', 1), ('616', 6), ('testsuitestarted', 1), (\"'mocha\", 2), (\"suite'\", 2), ('teststarted', 3), ('testfinished', 6), ('testignored', 3), (\"'pending'\", 3), ('testsuitefinished', 1), (\"'133'\", 1), ('jsoncov', 1), ('jscoverage', 5), ('instrumentation', 1), ('sloc', 1), ('htmlcov', 1), ('testsuite', 1), ('testcase', 3), ('001', 1), ('bins', 1), ('openphantomscripts', 2), ('rushakoff', 1), ('backbonist', 1), ('ken', 1), ('collins', 1), ('liferaft', 72), ('unshift', 4), ('00ffcc', 1), ('browsenpm', 1), ('unshiftio', 18), ('23unshift', 1), ('00a8ff', 1), ('raft', 56), ('liferaftstates', 1), ('liferaftfollower', 1), ('liferafttypeof', 1), ('quorum', 6), ('liferaftquorumresponses', 1), ('liferaftmajority', 1), ('liferaftindefinitelyattempt', 2), ('packet', 11), ('liferaftpackettype', 1), ('liferaftmessagewho', 1), ('liferaftjoinaddress', 1), ('liferaftleaveaddress', 1), ('promote', 3), ('liferaftpromote', 1), ('liferaftend', 1), ('liferaftcommand', 1), ('replication', 5), ('logreplication', 1), (\"'liferaft'\", 1), ('dumb', 1), ('extendible', 1), ('sharedworkers', 1), ('heartbeat', 9), ('election', 13), ('consideration', 1), ('promoted', 1), (\"'tcp\", 6), (\"8089'\", 1), (\"'election\", 2), (\"'200\", 1), (\"millisecond'\", 1), (\"max'\", 1), (\"second'\", 1), ('noticed', 1), ('chatty', 1), ('elected', 1), (\"4'\", 2), ('attemp', 1), ('transfered', 2), (\"'vote'\", 1), ('constructing', 1), (\"8080'\", 2), (\"'join'\", 1), ('liferaftjoin', 1), (\"'leave'\", 1), ('promotes', 1), ('aliased', 1), ('signals', 1), (\"'end'\", 1), ('replicated', 2), (\"'jimi'\", 1), ('surname', 2), (\"'hendrix'\", 1), (\"'commit'\", 1), ('lifeboat', 4), ('levelup', 2), ('leveldown', 2), (\"'liferaft\", 1), (\"log'\", 1), (\"'leveldown'\", 1), (\"log1'\", 1), ('closer', 1), (\"'net'\", 2), ('resending', 1), ('retried', 1), (\"your's\", 1), ('customtransport', 1), (\"'one\", 1), (\"time'\", 1), (\"'listening'\", 1), ('timers', 1), ('ramcloud', 1), ('51', 1), ('52', 1), ('541', 1), ('542', 1), ('543', 1), ('compaction', 1), ('jdk', 16), ('technetwork', 2), ('h4g', 1), ('leftovers', 1), ('gentelella', 33), ('panels', 1), ('dashboards', 1), ('tweeting', 1), ('colorlib', 23), ('avada', 1), ('polygon', 1), ('manger', 1), ('iogbole', 1), ('israel', 1), ('ogbole', 1), ('mwlang', 1), ('michael', 1), ('smarty', 1), ('microvb', 2), ('otp', 1), ('qr', 1), ('krzysiekpiasecki', 1), ('krzysztof', 1), ('piasecki', 1), ('yii', 1), ('yiister', 1), ('yii2', 1), ('kmkatsma', 2), ('utilize', 2), ('labs64', 1), ('girib', 1), ('genetellela', 1), ('cakephp', 3), ('backstageel', 1), ('fullcalendar', 1), ('cropper', 1), ('datatables', 1), ('dropzone', 1), ('easypiechart', 1), ('echarts', 1), ('wysiwyg', 1), ('flot', 1), ('plotting', 1), ('gauge', 1), ('icheck', 1), ('inputmask', 1), ('ion', 1), ('rangeslider', 1), ('jvectormap', 1), ('morris', 1), ('pnotify', 1), ('parsley', 1), ('navigations', 1), ('skycons', 1), ('wather', 1), ('sparklines', 1), ('switchery', 1), ('autosize', 1), ('stunning', 1), ('aigars', 1), ('silkalns', 1), ('23babel', 1), ('authoring', 1), ('rollupjs', 1), ('easystatic', 2), (\"fb's\", 1), ('invariant', 2), ('fbjs', 1), ('alive', 1), ('donating', 1), ('expenses', 1), ('mortar', 1), ('wes', 1), ('bos', 1), ('amzn', 1), ('2bzvv51', 1), ('kyle', 1), ('simpson', 1), ('codementor', 2), ('♥', 1)])\n"
          ],
          "name": "stdout"
        }
      ]
    },
    {
      "metadata": {
        "id": "TJ38YQF1Xcm7",
        "colab_type": "code",
        "colab": {}
      },
      "cell_type": "code",
      "source": [
        "maxlen = 500\n",
        "X_t = pad_sequences(readme_tokenized_train, maxlen=maxlen)"
      ],
      "execution_count": 0,
      "outputs": []
    },
    {
      "metadata": {
        "id": "2xJ3AnaZXxX3",
        "colab_type": "code",
        "colab": {
          "base_uri": "https://localhost:8080/",
          "height": 347
        },
        "outputId": "d7d3c8c4-fba3-4393-f1e0-8641031a84f3"
      },
      "cell_type": "code",
      "source": [
        "totalNumWords = [len(readme) for readme in readme_tokenized_train]\n",
        "plt.hist(totalNumWords,bins = np.arange(0,410,10))\n",
        "plt.show()"
      ],
      "execution_count": 28,
      "outputs": [
        {
          "output_type": "display_data",
          "data": {
            "image/png": "[encoded data removed]",
            "text/plain": [
              "<matplotlib.figure.Figure at 0x7f3b96c72320>"
            ]
          },
          "metadata": {
            "tags": []
          }
        }
      ]
    },
    {
      "metadata": {
        "id": "hticX7mn_tbM",
        "colab_type": "text"
      },
      "cell_type": "markdown",
      "source": [
        "# Bag of Words Model"
      ]
    },
    {
      "metadata": {
        "id": "dZTD6JvOCHJs",
        "colab_type": "text"
      },
      "cell_type": "markdown",
      "source": [
        "## Building the model"
      ]
    },
    {
      "metadata": {
        "id": "1DktYnGACA1l",
        "colab_type": "code",
        "colab": {}
      },
      "cell_type": "code",
      "source": [
        "# Build the model\n",
        "model = Sequential()\n",
        "model.add(Dense(512, input_shape=(maxlen,)))\n",
        "model.add(Activation('relu'))\n",
        "model.add(Dropout(0.5))\n",
        "model.add(Dense(512, input_shape=(maxlen,)))\n",
        "model.add(Activation('relu'))\n",
        "model.add(Dropout(0.5))\n",
        "model.add(Dense(n_packages))\n",
        "model.add(Activation('sigmoid'))\n",
        "\n",
        "model.compile(loss='categorical_crossentropy',\n",
        "              optimizer='adam',\n",
        "              metrics=['accuracy'])"
      ],
      "execution_count": 0,
      "outputs": []
    },
    {
      "metadata": {
        "id": "P1T5S4cxEqvn",
        "colab_type": "code",
        "colab": {
          "base_uri": "https://localhost:8080/",
          "height": 408
        },
        "outputId": "b92e0138-26a1-461b-ec91-f72567cae12f"
      },
      "cell_type": "code",
      "source": [
        "model.summary()"
      ],
      "execution_count": 30,
      "outputs": [
        {
          "output_type": "stream",
          "text": [
            "_________________________________________________________________\n",
            "Layer (type)                 Output Shape              Param #   \n",
            "=================================================================\n",
            "dense_1 (Dense)              (None, 512)               256512    \n",
            "_________________________________________________________________\n",
            "activation_1 (Activation)    (None, 512)               0         \n",
            "_________________________________________________________________\n",
            "dropout_1 (Dropout)          (None, 512)               0         \n",
            "_________________________________________________________________\n",
            "dense_2 (Dense)              (None, 512)               262656    \n",
            "_________________________________________________________________\n",
            "activation_2 (Activation)    (None, 512)               0         \n",
            "_________________________________________________________________\n",
            "dropout_2 (Dropout)          (None, 512)               0         \n",
            "_________________________________________________________________\n",
            "dense_3 (Dense)              (None, 31)                15903     \n",
            "_________________________________________________________________\n",
            "activation_3 (Activation)    (None, 31)                0         \n",
            "=================================================================\n",
            "Total params: 535,071\n",
            "Trainable params: 535,071\n",
            "Non-trainable params: 0\n",
            "_________________________________________________________________\n"
          ],
          "name": "stdout"
        }
      ]
    },
    {
      "metadata": {
        "id": "yPJJF6G5D6uq",
        "colab_type": "text"
      },
      "cell_type": "markdown",
      "source": [
        "## Training"
      ]
    },
    {
      "metadata": {
        "id": "p_QqahN1CC5l",
        "colab_type": "code",
        "colab": {
          "base_uri": "https://localhost:8080/",
          "height": 4403
        },
        "outputId": "fafff5ee-49a7-46d1-9988-e5bafefdfe08"
      },
      "cell_type": "code",
      "source": [
        "batch_size = 32\n",
        "epochs = 128\n",
        "model.fit(X_t,y, batch_size=batch_size, epochs=epochs, validation_split=0.1)"
      ],
      "execution_count": 31,
      "outputs": [
        {
          "output_type": "stream",
          "text": [
            "Train on 494 samples, validate on 55 samples\n",
            "Epoch 1/128\n",
            "494/494 [==============================] - 1s 1ms/step - loss: 29.8843 - acc: 0.1215 - val_loss: 33.5308 - val_acc: 0.1818\n",
            "Epoch 2/128\n",
            "494/494 [==============================] - 0s 478us/step - loss: 28.7153 - acc: 0.1235 - val_loss: 30.6964 - val_acc: 0.1636\n",
            "Epoch 3/128\n",
            "494/494 [==============================] - 0s 448us/step - loss: 26.1006 - acc: 0.1377 - val_loss: 28.8670 - val_acc: 0.1636\n",
            "Epoch 4/128\n",
            "494/494 [==============================] - 0s 456us/step - loss: 24.0887 - acc: 0.1356 - val_loss: 28.3841 - val_acc: 0.1636\n",
            "Epoch 5/128\n",
            "494/494 [==============================] - 0s 449us/step - loss: 22.9934 - acc: 0.1377 - val_loss: 25.8304 - val_acc: 0.1636\n",
            "Epoch 6/128\n",
            "494/494 [==============================] - 0s 449us/step - loss: 21.5722 - acc: 0.1377 - val_loss: 21.7488 - val_acc: 0.1636\n",
            "Epoch 7/128\n",
            "494/494 [==============================] - 0s 454us/step - loss: 20.5059 - acc: 0.1316 - val_loss: 21.8086 - val_acc: 0.1636\n",
            "Epoch 8/128\n",
            "494/494 [==============================] - 0s 450us/step - loss: 20.2144 - acc: 0.1356 - val_loss: 20.8686 - val_acc: 0.1636\n",
            "Epoch 9/128\n",
            "494/494 [==============================] - 0s 446us/step - loss: 19.3124 - acc: 0.1377 - val_loss: 21.1394 - val_acc: 0.1636\n",
            "Epoch 10/128\n",
            "494/494 [==============================] - 0s 426us/step - loss: 19.2821 - acc: 0.1356 - val_loss: 19.9821 - val_acc: 0.1636\n",
            "Epoch 11/128\n",
            "494/494 [==============================] - 0s 456us/step - loss: 18.8128 - acc: 0.1417 - val_loss: 19.9828 - val_acc: 0.1636\n",
            "Epoch 12/128\n",
            "494/494 [==============================] - 0s 450us/step - loss: 19.1686 - acc: 0.1377 - val_loss: 21.0987 - val_acc: 0.1636\n",
            "Epoch 13/128\n",
            "494/494 [==============================] - 0s 462us/step - loss: 18.6711 - acc: 0.1377 - val_loss: 20.2210 - val_acc: 0.1636\n",
            "Epoch 14/128\n",
            "494/494 [==============================] - 0s 450us/step - loss: 18.2563 - acc: 0.1336 - val_loss: 20.2404 - val_acc: 0.1636\n",
            "Epoch 15/128\n",
            "494/494 [==============================] - 0s 435us/step - loss: 17.6813 - acc: 0.1397 - val_loss: 18.7502 - val_acc: 0.1636\n",
            "Epoch 16/128\n",
            "494/494 [==============================] - 0s 435us/step - loss: 17.7413 - acc: 0.1316 - val_loss: 18.7514 - val_acc: 0.1636\n",
            "Epoch 17/128\n",
            "494/494 [==============================] - 0s 452us/step - loss: 17.3455 - acc: 0.1316 - val_loss: 19.1954 - val_acc: 0.1636\n",
            "Epoch 18/128\n",
            "494/494 [==============================] - 0s 441us/step - loss: 17.2801 - acc: 0.1356 - val_loss: 19.8367 - val_acc: 0.1636\n",
            "Epoch 19/128\n",
            "494/494 [==============================] - 0s 440us/step - loss: 17.9776 - acc: 0.1437 - val_loss: 19.6207 - val_acc: 0.1636\n",
            "Epoch 20/128\n",
            "494/494 [==============================] - 0s 463us/step - loss: 18.1143 - acc: 0.1336 - val_loss: 19.6185 - val_acc: 0.1636\n",
            "Epoch 21/128\n",
            "494/494 [==============================] - 0s 457us/step - loss: 17.8702 - acc: 0.1316 - val_loss: 18.7387 - val_acc: 0.1636\n",
            "Epoch 22/128\n",
            "494/494 [==============================] - 0s 473us/step - loss: 17.3862 - acc: 0.1377 - val_loss: 19.8448 - val_acc: 0.1636\n",
            "Epoch 23/128\n",
            "494/494 [==============================] - 0s 458us/step - loss: 17.6909 - acc: 0.1356 - val_loss: 21.3124 - val_acc: 0.1636\n",
            "Epoch 24/128\n",
            "494/494 [==============================] - 0s 464us/step - loss: 17.5208 - acc: 0.1377 - val_loss: 21.4226 - val_acc: 0.1636\n",
            "Epoch 25/128\n",
            "494/494 [==============================] - 0s 477us/step - loss: 17.3059 - acc: 0.1498 - val_loss: 22.5230 - val_acc: 0.1636\n",
            "Epoch 26/128\n",
            "494/494 [==============================] - 0s 480us/step - loss: 17.7644 - acc: 0.1316 - val_loss: 23.0451 - val_acc: 0.1636\n",
            "Epoch 27/128\n",
            "494/494 [==============================] - 0s 489us/step - loss: 17.6005 - acc: 0.1397 - val_loss: 22.1047 - val_acc: 0.1636\n",
            "Epoch 28/128\n",
            "494/494 [==============================] - 0s 471us/step - loss: 17.8690 - acc: 0.1397 - val_loss: 22.4224 - val_acc: 0.1636\n",
            "Epoch 29/128\n",
            "494/494 [==============================] - 0s 471us/step - loss: 17.4128 - acc: 0.1397 - val_loss: 18.7093 - val_acc: 0.1636\n",
            "Epoch 30/128\n",
            "494/494 [==============================] - 0s 468us/step - loss: 16.4663 - acc: 0.1377 - val_loss: 16.7402 - val_acc: 0.1636\n",
            "Epoch 31/128\n",
            "494/494 [==============================] - 0s 471us/step - loss: 16.5213 - acc: 0.1457 - val_loss: 18.5344 - val_acc: 0.1636\n",
            "Epoch 32/128\n",
            "494/494 [==============================] - 0s 454us/step - loss: 16.3564 - acc: 0.1457 - val_loss: 18.5429 - val_acc: 0.1636\n",
            "Epoch 33/128\n",
            "494/494 [==============================] - 0s 455us/step - loss: 16.1436 - acc: 0.1417 - val_loss: 18.7551 - val_acc: 0.1636\n",
            "Epoch 34/128\n",
            "494/494 [==============================] - 0s 469us/step - loss: 16.3515 - acc: 0.1437 - val_loss: 18.7527 - val_acc: 0.1636\n",
            "Epoch 35/128\n",
            "494/494 [==============================] - 0s 457us/step - loss: 16.2775 - acc: 0.1437 - val_loss: 18.7519 - val_acc: 0.1636\n",
            "Epoch 36/128\n",
            "494/494 [==============================] - 0s 448us/step - loss: 16.4908 - acc: 0.1397 - val_loss: 18.9797 - val_acc: 0.1636\n",
            "Epoch 37/128\n",
            "494/494 [==============================] - 0s 460us/step - loss: 16.5622 - acc: 0.1377 - val_loss: 18.7488 - val_acc: 0.1636\n",
            "Epoch 38/128\n",
            "494/494 [==============================] - 0s 454us/step - loss: 16.4621 - acc: 0.1417 - val_loss: 18.7597 - val_acc: 0.1636\n",
            "Epoch 39/128\n",
            "494/494 [==============================] - 0s 493us/step - loss: 16.2830 - acc: 0.1397 - val_loss: 17.9667 - val_acc: 0.1636\n",
            "Epoch 40/128\n",
            "494/494 [==============================] - 0s 459us/step - loss: 15.5707 - acc: 0.1356 - val_loss: 17.9414 - val_acc: 0.1636\n",
            "Epoch 41/128\n",
            "494/494 [==============================] - 0s 476us/step - loss: 15.8099 - acc: 0.1397 - val_loss: 18.5054 - val_acc: 0.1636\n",
            "Epoch 42/128\n",
            "494/494 [==============================] - 0s 476us/step - loss: 15.6310 - acc: 0.1397 - val_loss: 18.6196 - val_acc: 0.1636\n",
            "Epoch 43/128\n",
            "494/494 [==============================] - 0s 479us/step - loss: 15.4056 - acc: 0.1377 - val_loss: 18.6155 - val_acc: 0.1636\n",
            "Epoch 44/128\n",
            "494/494 [==============================] - 0s 467us/step - loss: 15.7617 - acc: 0.1377 - val_loss: 18.6042 - val_acc: 0.1636\n",
            "Epoch 45/128\n",
            "494/494 [==============================] - 0s 452us/step - loss: 15.6148 - acc: 0.1377 - val_loss: 18.6042 - val_acc: 0.1636\n",
            "Epoch 46/128\n",
            "494/494 [==============================] - 0s 449us/step - loss: 15.6563 - acc: 0.1397 - val_loss: 18.6036 - val_acc: 0.1636\n",
            "Epoch 47/128\n",
            "494/494 [==============================] - 0s 440us/step - loss: 15.5668 - acc: 0.1397 - val_loss: 18.6032 - val_acc: 0.1636\n",
            "Epoch 48/128\n",
            "494/494 [==============================] - 0s 468us/step - loss: 15.6829 - acc: 0.1336 - val_loss: 18.6019 - val_acc: 0.1636\n",
            "Epoch 49/128\n",
            "494/494 [==============================] - 0s 461us/step - loss: 15.5197 - acc: 0.1336 - val_loss: 18.6002 - val_acc: 0.1636\n",
            "Epoch 50/128\n",
            "494/494 [==============================] - 0s 462us/step - loss: 15.5935 - acc: 0.1377 - val_loss: 19.5318 - val_acc: 0.1636\n",
            "Epoch 51/128\n",
            "494/494 [==============================] - 0s 453us/step - loss: 15.5981 - acc: 0.1397 - val_loss: 19.7180 - val_acc: 0.1636\n",
            "Epoch 52/128\n",
            "494/494 [==============================] - 0s 461us/step - loss: 15.6444 - acc: 0.1397 - val_loss: 19.9457 - val_acc: 0.1636\n",
            "Epoch 53/128\n",
            "494/494 [==============================] - 0s 446us/step - loss: 15.6068 - acc: 0.1397 - val_loss: 20.1702 - val_acc: 0.1636\n",
            "Epoch 54/128\n",
            "494/494 [==============================] - 0s 437us/step - loss: 15.9506 - acc: 0.1457 - val_loss: 20.6154 - val_acc: 0.1636\n",
            "Epoch 55/128\n",
            "494/494 [==============================] - 0s 454us/step - loss: 16.2353 - acc: 0.1377 - val_loss: 20.6040 - val_acc: 0.1636\n",
            "Epoch 56/128\n",
            "494/494 [==============================] - 0s 455us/step - loss: 16.2544 - acc: 0.1397 - val_loss: 20.6038 - val_acc: 0.1636\n",
            "Epoch 57/128\n",
            "494/494 [==============================] - 0s 450us/step - loss: 16.0567 - acc: 0.1377 - val_loss: 20.2659 - val_acc: 0.1636\n",
            "Epoch 58/128\n",
            "494/494 [==============================] - 0s 435us/step - loss: 15.8303 - acc: 0.1397 - val_loss: 20.1559 - val_acc: 0.1636\n",
            "Epoch 59/128\n",
            "494/494 [==============================] - 0s 446us/step - loss: 15.8227 - acc: 0.1437 - val_loss: 20.1713 - val_acc: 0.1636\n",
            "Epoch 60/128\n",
            "494/494 [==============================] - 0s 444us/step - loss: 15.7878 - acc: 0.1397 - val_loss: 20.1696 - val_acc: 0.1636\n",
            "Epoch 61/128\n",
            "494/494 [==============================] - 0s 461us/step - loss: 15.7830 - acc: 0.1397 - val_loss: 20.2272 - val_acc: 0.1636\n",
            "Epoch 62/128\n",
            "494/494 [==============================] - 0s 447us/step - loss: 15.8039 - acc: 0.1417 - val_loss: 20.3707 - val_acc: 0.1636\n",
            "Epoch 63/128\n",
            "494/494 [==============================] - 0s 461us/step - loss: 15.7004 - acc: 0.1397 - val_loss: 19.9460 - val_acc: 0.1636\n",
            "Epoch 64/128\n",
            "494/494 [==============================] - 0s 462us/step - loss: 15.5843 - acc: 0.1397 - val_loss: 19.7184 - val_acc: 0.1636\n",
            "Epoch 65/128\n",
            "494/494 [==============================] - 0s 467us/step - loss: 15.6398 - acc: 0.1377 - val_loss: 19.7178 - val_acc: 0.1636\n",
            "Epoch 66/128\n",
            "494/494 [==============================] - 0s 487us/step - loss: 15.6164 - acc: 0.1417 - val_loss: 19.7171 - val_acc: 0.1636\n",
            "Epoch 67/128\n",
            "494/494 [==============================] - 0s 479us/step - loss: 15.6904 - acc: 0.1356 - val_loss: 19.9472 - val_acc: 0.1636\n",
            "Epoch 68/128\n",
            "494/494 [==============================] - 0s 466us/step - loss: 15.7102 - acc: 0.1377 - val_loss: 19.9457 - val_acc: 0.1636\n",
            "Epoch 69/128\n",
            "494/494 [==============================] - 0s 453us/step - loss: 15.5787 - acc: 0.1397 - val_loss: 18.6167 - val_acc: 0.1636\n",
            "Epoch 70/128\n",
            "494/494 [==============================] - 0s 459us/step - loss: 15.5086 - acc: 0.1417 - val_loss: 18.1772 - val_acc: 0.1636\n",
            "Epoch 71/128\n",
            "494/494 [==============================] - 0s 450us/step - loss: 15.1894 - acc: 0.1377 - val_loss: 17.4922 - val_acc: 0.1636\n",
            "Epoch 72/128\n",
            "494/494 [==============================] - 0s 460us/step - loss: 15.2140 - acc: 0.1417 - val_loss: 17.5005 - val_acc: 0.1636\n",
            "Epoch 73/128\n",
            "494/494 [==============================] - 0s 462us/step - loss: 14.9938 - acc: 0.1397 - val_loss: 17.4995 - val_acc: 0.1636\n",
            "Epoch 74/128\n",
            "494/494 [==============================] - 0s 462us/step - loss: 14.9850 - acc: 0.1397 - val_loss: 17.4994 - val_acc: 0.1636\n",
            "Epoch 75/128\n",
            "494/494 [==============================] - 0s 458us/step - loss: 14.9879 - acc: 0.1397 - val_loss: 16.6057 - val_acc: 0.1636\n",
            "Epoch 76/128\n",
            "494/494 [==============================] - 0s 442us/step - loss: 14.9720 - acc: 0.1397 - val_loss: 16.6057 - val_acc: 0.1636\n",
            "Epoch 77/128\n",
            "494/494 [==============================] - 0s 447us/step - loss: 15.0213 - acc: 0.1397 - val_loss: 16.6053 - val_acc: 0.1636\n",
            "Epoch 78/128\n",
            "494/494 [==============================] - 0s 475us/step - loss: 14.9467 - acc: 0.1397 - val_loss: 16.6063 - val_acc: 0.1636\n",
            "Epoch 79/128\n",
            "494/494 [==============================] - 0s 443us/step - loss: 15.0736 - acc: 0.1437 - val_loss: 16.6061 - val_acc: 0.1636\n",
            "Epoch 80/128\n",
            "494/494 [==============================] - 0s 458us/step - loss: 15.1316 - acc: 0.1397 - val_loss: 16.6064 - val_acc: 0.1636\n",
            "Epoch 81/128\n",
            "494/494 [==============================] - 0s 458us/step - loss: 14.8804 - acc: 0.1397 - val_loss: 16.6067 - val_acc: 0.1636\n",
            "Epoch 82/128\n",
            "494/494 [==============================] - 0s 475us/step - loss: 15.0070 - acc: 0.1397 - val_loss: 16.6065 - val_acc: 0.1636\n",
            "Epoch 83/128\n",
            "494/494 [==============================] - 0s 461us/step - loss: 14.8881 - acc: 0.1437 - val_loss: 16.8357 - val_acc: 0.1636\n",
            "Epoch 84/128\n",
            "494/494 [==============================] - 0s 461us/step - loss: 14.8898 - acc: 0.1397 - val_loss: 17.2426 - val_acc: 0.1636\n",
            "Epoch 85/128\n",
            "494/494 [==============================] - 0s 460us/step - loss: 15.1408 - acc: 0.1397 - val_loss: 17.7040 - val_acc: 0.1636\n",
            "Epoch 86/128\n",
            "494/494 [==============================] - 0s 470us/step - loss: 14.9840 - acc: 0.1377 - val_loss: 17.7022 - val_acc: 0.1636\n",
            "Epoch 87/128\n",
            "494/494 [==============================] - 0s 476us/step - loss: 15.2161 - acc: 0.1397 - val_loss: 17.7041 - val_acc: 0.1636\n",
            "Epoch 88/128\n",
            "494/494 [==============================] - 0s 459us/step - loss: 15.1073 - acc: 0.1377 - val_loss: 17.7137 - val_acc: 0.1636\n",
            "Epoch 89/128\n",
            "494/494 [==============================] - 0s 577us/step - loss: 14.9343 - acc: 0.1377 - val_loss: 17.7141 - val_acc: 0.1636\n",
            "Epoch 90/128\n",
            "494/494 [==============================] - 0s 463us/step - loss: 15.0479 - acc: 0.1377 - val_loss: 17.6852 - val_acc: 0.1636\n",
            "Epoch 91/128\n",
            "494/494 [==============================] - 0s 459us/step - loss: 15.0708 - acc: 0.1397 - val_loss: 17.4851 - val_acc: 0.1636\n",
            "Epoch 92/128\n",
            "494/494 [==============================] - 0s 466us/step - loss: 15.2358 - acc: 0.1397 - val_loss: 17.7133 - val_acc: 0.1636\n",
            "Epoch 93/128\n",
            "494/494 [==============================] - 0s 474us/step - loss: 15.2509 - acc: 0.1417 - val_loss: 17.2572 - val_acc: 0.1636\n",
            "Epoch 94/128\n",
            "494/494 [==============================] - 0s 471us/step - loss: 14.9943 - acc: 0.1397 - val_loss: 17.2573 - val_acc: 0.1636\n",
            "Epoch 95/128\n",
            "494/494 [==============================] - 0s 465us/step - loss: 15.1814 - acc: 0.1397 - val_loss: 17.2572 - val_acc: 0.1636\n",
            "Epoch 96/128\n",
            "494/494 [==============================] - 0s 472us/step - loss: 15.1636 - acc: 0.1417 - val_loss: 17.7125 - val_acc: 0.1636\n",
            "Epoch 97/128\n",
            "494/494 [==============================] - 0s 468us/step - loss: 15.1608 - acc: 0.1417 - val_loss: 17.7106 - val_acc: 0.1636\n",
            "Epoch 98/128\n",
            "494/494 [==============================] - 0s 459us/step - loss: 15.6785 - acc: 0.1397 - val_loss: 17.7066 - val_acc: 0.1636\n",
            "Epoch 99/128\n",
            "494/494 [==============================] - 0s 441us/step - loss: 15.7192 - acc: 0.1397 - val_loss: 16.6109 - val_acc: 0.1636\n",
            "Epoch 100/128\n",
            "494/494 [==============================] - 0s 459us/step - loss: 15.5005 - acc: 0.1417 - val_loss: 16.6094 - val_acc: 0.1636\n",
            "Epoch 101/128\n",
            "494/494 [==============================] - 0s 450us/step - loss: 15.5224 - acc: 0.1417 - val_loss: 16.7550 - val_acc: 0.1636\n",
            "Epoch 102/128\n",
            "494/494 [==============================] - 0s 452us/step - loss: 15.2911 - acc: 0.1397 - val_loss: 16.6102 - val_acc: 0.1636\n",
            "Epoch 103/128\n",
            "494/494 [==============================] - 0s 439us/step - loss: 15.0314 - acc: 0.1417 - val_loss: 16.6106 - val_acc: 0.1636\n",
            "Epoch 104/128\n",
            "494/494 [==============================] - 0s 462us/step - loss: 14.9609 - acc: 0.1377 - val_loss: 16.6105 - val_acc: 0.1636\n",
            "Epoch 105/128\n",
            "494/494 [==============================] - 0s 452us/step - loss: 14.9288 - acc: 0.1417 - val_loss: 16.6102 - val_acc: 0.1636\n",
            "Epoch 106/128\n",
            "494/494 [==============================] - 0s 462us/step - loss: 14.7124 - acc: 0.1397 - val_loss: 16.6100 - val_acc: 0.1636\n",
            "Epoch 107/128\n",
            "494/494 [==============================] - 0s 454us/step - loss: 14.6887 - acc: 0.1417 - val_loss: 16.6095 - val_acc: 0.1636\n",
            "Epoch 108/128\n",
            "494/494 [==============================] - 0s 449us/step - loss: 14.6945 - acc: 0.1417 - val_loss: 16.6098 - val_acc: 0.1636\n",
            "Epoch 109/128\n",
            "494/494 [==============================] - 0s 471us/step - loss: 14.6880 - acc: 0.1377 - val_loss: 16.6089 - val_acc: 0.1636\n",
            "Epoch 110/128\n",
            "494/494 [==============================] - 0s 452us/step - loss: 14.7377 - acc: 0.1417 - val_loss: 16.6074 - val_acc: 0.1636\n",
            "Epoch 111/128\n",
            "494/494 [==============================] - 0s 462us/step - loss: 14.7551 - acc: 0.1417 - val_loss: 16.6072 - val_acc: 0.1636\n",
            "Epoch 112/128\n",
            "494/494 [==============================] - 0s 453us/step - loss: 14.7311 - acc: 0.1397 - val_loss: 16.6070 - val_acc: 0.1636\n",
            "Epoch 113/128\n",
            "494/494 [==============================] - 0s 463us/step - loss: 14.6835 - acc: 0.1417 - val_loss: 16.6073 - val_acc: 0.1636\n",
            "Epoch 114/128\n",
            "494/494 [==============================] - 0s 447us/step - loss: 14.7895 - acc: 0.1397 - val_loss: 16.6077 - val_acc: 0.1636\n",
            "Epoch 115/128\n",
            "494/494 [==============================] - 0s 449us/step - loss: 14.7642 - acc: 0.1417 - val_loss: 16.6065 - val_acc: 0.1636\n",
            "Epoch 116/128\n",
            "494/494 [==============================] - 0s 450us/step - loss: 14.8600 - acc: 0.1397 - val_loss: 16.6067 - val_acc: 0.1636\n",
            "Epoch 117/128\n",
            "494/494 [==============================] - 0s 433us/step - loss: 14.8562 - acc: 0.1397 - val_loss: 16.6075 - val_acc: 0.1636\n",
            "Epoch 118/128\n",
            "494/494 [==============================] - 0s 448us/step - loss: 14.7391 - acc: 0.1417 - val_loss: 16.6074 - val_acc: 0.1636\n",
            "Epoch 119/128\n",
            "494/494 [==============================] - 0s 448us/step - loss: 14.6447 - acc: 0.1417 - val_loss: 16.6078 - val_acc: 0.1636\n",
            "Epoch 120/128\n",
            "494/494 [==============================] - 0s 452us/step - loss: 14.6431 - acc: 0.1397 - val_loss: 16.6067 - val_acc: 0.1636\n",
            "Epoch 121/128\n",
            "494/494 [==============================] - 0s 436us/step - loss: 14.6156 - acc: 0.1397 - val_loss: 16.6066 - val_acc: 0.1636\n",
            "Epoch 122/128\n",
            "494/494 [==============================] - 0s 455us/step - loss: 14.6835 - acc: 0.1397 - val_loss: 16.6069 - val_acc: 0.1636\n",
            "Epoch 123/128\n",
            "494/494 [==============================] - 0s 467us/step - loss: 14.6896 - acc: 0.1377 - val_loss: 16.6074 - val_acc: 0.1636\n",
            "Epoch 124/128\n",
            "494/494 [==============================] - 0s 466us/step - loss: 14.6643 - acc: 0.1397 - val_loss: 16.6066 - val_acc: 0.1636\n",
            "Epoch 125/128\n",
            "494/494 [==============================] - 0s 445us/step - loss: 14.7647 - acc: 0.1417 - val_loss: 16.6063 - val_acc: 0.1636\n",
            "Epoch 126/128\n",
            "494/494 [==============================] - 0s 443us/step - loss: 14.8183 - acc: 0.1417 - val_loss: 16.6073 - val_acc: 0.1636\n",
            "Epoch 127/128\n",
            "494/494 [==============================] - 0s 461us/step - loss: 14.7187 - acc: 0.1397 - val_loss: 16.6078 - val_acc: 0.1636\n",
            "Epoch 128/128\n",
            "494/494 [==============================] - 0s 450us/step - loss: 14.7675 - acc: 0.1397 - val_loss: 16.6084 - val_acc: 0.1636\n"
          ],
          "name": "stdout"
        },
        {
          "output_type": "execute_result",
          "data": {
            "text/plain": [
              "<keras.callbacks.History at 0x7f3b96c695c0>"
            ]
          },
          "metadata": {
            "tags": []
          },
          "execution_count": 31
        }
      ]
    },
    {
      "metadata": {
        "id": "pI6xp1JLEUaO",
        "colab_type": "text"
      },
      "cell_type": "markdown",
      "source": [
        "## Prediction"
      ]
    },
    {
      "metadata": {
        "id": "cL43qNhrEVrD",
        "colab_type": "code",
        "colab": {
          "base_uri": "https://localhost:8080/",
          "height": 364
        },
        "outputId": "fab11fd4-2112-4431-e195-03cd5b5924e9"
      },
      "cell_type": "code",
      "source": [
        "n_t=10\n",
        "x_tst=np.reshape(X_t[n_t,:],(1,maxlen))\n",
        "plt.plot(y[n_t,:])"
      ],
      "execution_count": 32,
      "outputs": [
        {
          "output_type": "execute_result",
          "data": {
            "text/plain": [
              "[<matplotlib.lines.Line2D at 0x7f3b96d779e8>]"
            ]
          },
          "metadata": {
            "tags": []
          },
          "execution_count": 32
        },
        {
          "output_type": "display_data",
          "data": {
            "image/png": "[encoded data removed]",
            "text/plain": [
              "<matplotlib.figure.Figure at 0x7f3b96d74e80>"
            ]
          },
          "metadata": {
            "tags": []
          }
        }
      ]
    },
    {
      "metadata": {
        "id": "yutpTtvjEYBv",
        "colab_type": "code",
        "colab": {
          "base_uri": "https://localhost:8080/",
          "height": 364
        },
        "outputId": "4578bbd5-6909-4fe3-d295-ee56d23a7b4f"
      },
      "cell_type": "code",
      "source": [
        "y_p = model.predict(x_tst, verbose=0)[0]\n",
        "plt.plot(y_p)"
      ],
      "execution_count": 33,
      "outputs": [
        {
          "output_type": "execute_result",
          "data": {
            "text/plain": [
              "[<matplotlib.lines.Line2D at 0x7f3b96e3b6a0>]"
            ]
          },
          "metadata": {
            "tags": []
          },
          "execution_count": 33
        },
        {
          "output_type": "display_data",
          "data": {
            "image/png": "[encoded data removed]",
            "text/plain": [
              "<matplotlib.figure.Figure at 0x7f3b96dabd30>"
            ]
          },
          "metadata": {
            "tags": []
          }
        }
      ]
    },
    {
      "metadata": {
        "id": "wzuV40b0Bdo1",
        "colab_type": "text"
      },
      "cell_type": "markdown",
      "source": [
        "# LSTM model\n",
        "reference: [Tackling  \"Toxic Comment Classification Challenge\" with Keras](https://www.kaggle.com/sbongo/for-beginners-tackling-toxic-using-keras)"
      ]
    },
    {
      "metadata": {
        "id": "uHHjGYY3_XYu",
        "colab_type": "text"
      },
      "cell_type": "markdown",
      "source": [
        "## Building the model"
      ]
    },
    {
      "metadata": {
        "id": "Tdf-qb0SAWvJ",
        "colab_type": "code",
        "colab": {}
      },
      "cell_type": "code",
      "source": [
        "inp = Input(shape=(maxlen, ))\n",
        "embed_size = 128\n",
        "x = Embedding(max_features, embed_size)(inp)\n",
        "x = LSTM(60, return_sequences=True,name='lstm_layer')(x)\n",
        "x = GlobalMaxPool1D()(x)\n",
        "x = Dropout(0.1)(x)\n",
        "x = Dense(50, activation=\"relu\")(x)\n",
        "x = Dropout(0.1)(x)\n",
        "x = Dense(n_packages, activation=\"sigmoid\")(x)\n",
        "model = Model(inputs=inp, outputs=x)\n",
        "model.compile(loss='binary_crossentropy',\n",
        "                  optimizer='adam',\n",
        "                  metrics=['accuracy'])"
      ],
      "execution_count": 0,
      "outputs": []
    },
    {
      "metadata": {
        "id": "dsMsBTRCMLQ2",
        "colab_type": "code",
        "colab": {
          "base_uri": "https://localhost:8080/",
          "height": 408
        },
        "outputId": "fcf0365b-9b4a-44bb-9115-850901ba158b"
      },
      "cell_type": "code",
      "source": [
        "model.summary()"
      ],
      "execution_count": 35,
      "outputs": [
        {
          "output_type": "stream",
          "text": [
            "_________________________________________________________________\n",
            "Layer (type)                 Output Shape              Param #   \n",
            "=================================================================\n",
            "input_1 (InputLayer)         (None, 500)               0         \n",
            "_________________________________________________________________\n",
            "embedding_1 (Embedding)      (None, 500, 128)          128000    \n",
            "_________________________________________________________________\n",
            "lstm_layer (LSTM)            (None, 500, 60)           45360     \n",
            "_________________________________________________________________\n",
            "global_max_pooling1d_1 (Glob (None, 60)                0         \n",
            "_________________________________________________________________\n",
            "dropout_3 (Dropout)          (None, 60)                0         \n",
            "_________________________________________________________________\n",
            "dense_4 (Dense)              (None, 50)                3050      \n",
            "_________________________________________________________________\n",
            "dropout_4 (Dropout)          (None, 50)                0         \n",
            "_________________________________________________________________\n",
            "dense_5 (Dense)              (None, 31)                1581      \n",
            "=================================================================\n",
            "Total params: 177,991\n",
            "Trainable params: 177,991\n",
            "Non-trainable params: 0\n",
            "_________________________________________________________________\n"
          ],
          "name": "stdout"
        }
      ]
    },
    {
      "metadata": {
        "id": "fMHGgz8GE4eC",
        "colab_type": "text"
      },
      "cell_type": "markdown",
      "source": [
        "## Training"
      ]
    },
    {
      "metadata": {
        "id": "GL--1oleEzPh",
        "colab_type": "code",
        "colab": {
          "base_uri": "https://localhost:8080/",
          "height": 187
        },
        "outputId": "6de1561f-8522-4196-ba01-bb637364093b"
      },
      "cell_type": "code",
      "source": [
        "batch_size = 32\n",
        "epochs = 4\n",
        "model.fit(X_t,y, batch_size=batch_size, epochs=epochs, validation_split=0.1)"
      ],
      "execution_count": 36,
      "outputs": [
        {
          "output_type": "stream",
          "text": [
            "Train on 494 samples, validate on 55 samples\n",
            "Epoch 1/4\n",
            "494/494 [==============================] - 11s 22ms/step - loss: 0.6752 - acc: 0.6764 - val_loss: 0.6306 - val_acc: 0.7889\n",
            "Epoch 2/4\n",
            "494/494 [==============================] - 10s 20ms/step - loss: 0.5260 - acc: 0.8083 - val_loss: 0.4382 - val_acc: 0.8633\n",
            "Epoch 3/4\n",
            "494/494 [==============================] - 10s 20ms/step - loss: 0.3791 - acc: 0.8828 - val_loss: 0.3683 - val_acc: 0.8897\n",
            "Epoch 4/4\n",
            "494/494 [==============================] - 10s 20ms/step - loss: 0.3385 - acc: 0.9003 - val_loss: 0.3482 - val_acc: 0.8897\n"
          ],
          "name": "stdout"
        },
        {
          "output_type": "execute_result",
          "data": {
            "text/plain": [
              "<keras.callbacks.History at 0x7f3b96ddd5f8>"
            ]
          },
          "metadata": {
            "tags": []
          },
          "execution_count": 36
        }
      ]
    },
    {
      "metadata": {
        "id": "JUE1Wa8ESmh3",
        "colab_type": "text"
      },
      "cell_type": "markdown",
      "source": [
        "## Prediction"
      ]
    },
    {
      "metadata": {
        "id": "0DBuL6orZ1QJ",
        "colab_type": "code",
        "colab": {
          "base_uri": "https://localhost:8080/",
          "height": 364
        },
        "outputId": "f445e4a5-51a0-4855-d670-d34127e86433"
      },
      "cell_type": "code",
      "source": [
        "n_t=100\n",
        "x_tst=np.reshape(X_t[n_t,:],(1,maxlen))\n",
        "plt.plot(y[n_t,:])"
      ],
      "execution_count": 37,
      "outputs": [
        {
          "output_type": "execute_result",
          "data": {
            "text/plain": [
              "[<matplotlib.lines.Line2D at 0x7f3b8e75ae10>]"
            ]
          },
          "metadata": {
            "tags": []
          },
          "execution_count": 37
        },
        {
          "output_type": "display_data",
          "data": {
            "image/png": "[encoded data removed]",
            "text/plain": [
              "<matplotlib.figure.Figure at 0x7f3b8e79a6a0>"
            ]
          },
          "metadata": {
            "tags": []
          }
        }
      ]
    },
    {
      "metadata": {
        "id": "vZPJjC04aA9c",
        "colab_type": "code",
        "colab": {
          "base_uri": "https://localhost:8080/",
          "height": 364
        },
        "outputId": "246899b1-8a83-46e3-8d81-e32f0281a4ca"
      },
      "cell_type": "code",
      "source": [
        "y_p = model.predict(x_tst, verbose=0)[0]\n",
        "plt.plot(y_p)"
      ],
      "execution_count": 38,
      "outputs": [
        {
          "output_type": "execute_result",
          "data": {
            "text/plain": [
              "[<matplotlib.lines.Line2D at 0x7f3b8e73dcc0>]"
            ]
          },
          "metadata": {
            "tags": []
          },
          "execution_count": 38
        },
        {
          "output_type": "display_data",
          "data": {
            "image/png": "[encoded data removed]",
            "text/plain": [
              "<matplotlib.figure.Figure at 0x7f3b8e774748>"
            ]
          },
          "metadata": {
            "tags": []
          }
        }
      ]
    }
  ]
}