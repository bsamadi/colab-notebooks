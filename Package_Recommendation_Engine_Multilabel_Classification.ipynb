{
  "nbformat": 4,
  "nbformat_minor": 0,
  "metadata": {
    "colab": {
      "name": "Package Recommendation Engine - Multilabel Classification.ipynb",
      "version": "0.3.2",
      "provenance": [],
      "collapsed_sections": [],
      "include_colab_link": true
    },
    "kernelspec": {
      "name": "python3",
      "display_name": "Python 3"
    }
  },
  "cells": [
    {
      "cell_type": "markdown",
      "metadata": {
        "id": "view-in-github",
        "colab_type": "text"
      },
      "source": [
        "[View in Colaboratory](https://colab.research.google.com/github/connected-bsamadi/colab-notebooks/blob/master/Package_Recommendation_Engine_Multilabel_Classification.ipynb)"
      ]
    },
    {
      "metadata": {
        "id": "qVu3yEACC45f",
        "colab_type": "text"
      },
      "cell_type": "markdown",
      "source": [
        "# Setting up"
      ]
    },
    {
      "metadata": {
        "id": "0XeiWi7llE07",
        "colab_type": "code",
        "colab": {}
      },
      "cell_type": "code",
      "source": [
        "# Google Cloud authentication\n",
        "from google.colab import auth\n",
        "auth.authenticate_user()"
      ],
      "execution_count": 0,
      "outputs": []
    },
    {
      "metadata": {
        "id": "F7IOueubz7XD",
        "colab_type": "code",
        "colab": {}
      },
      "cell_type": "code",
      "source": [
        "from google.cloud import bigquery\n",
        "from google.colab import files\n",
        "import json\n",
        "import re\n",
        "import random\n",
        "import pandas as pd\n",
        "import pandas_gbq\n",
        "import sys\n",
        "import numpy as np\n",
        "import matplotlib.pyplot as plt\n",
        "from collections import Counter"
      ],
      "execution_count": 0,
      "outputs": []
    },
    {
      "metadata": {
        "id": "kn6Kq3UqccFT",
        "colab_type": "code",
        "colab": {
          "base_uri": "https://localhost:8080/",
          "height": 34
        },
        "outputId": "46e7d5ed-fe6f-40a0-8be2-1a717420cc6d"
      },
      "cell_type": "code",
      "source": [
        "from keras.preprocessing.text import Tokenizer\n",
        "from keras.preprocessing.sequence import pad_sequences\n",
        "from keras.layers import Dense, Input, LSTM, Embedding, Dropout, Activation\n",
        "from keras.layers import Bidirectional, GlobalMaxPool1D\n",
        "from keras.models import Model, Sequential\n",
        "from keras.optimizers import RMSprop\n",
        "from keras import initializers, regularizers, constraints, optimizers, layers"
      ],
      "execution_count": 3,
      "outputs": [
        {
          "output_type": "stream",
          "text": [
            "Using TensorFlow backend.\n"
          ],
          "name": "stderr"
        }
      ]
    },
    {
      "metadata": {
        "id": "eUJxhFqJM8Qf",
        "colab_type": "code",
        "colab": {}
      },
      "cell_type": "code",
      "source": [
        "# Assigning the project name and creating the BigQuery client\n",
        "# https://cloud.google.com/resource-manager/docs/creating-managing-projects\n",
        "project_id = 'ontario-2018'\n",
        "client = bigquery.Client(project=project_id)"
      ],
      "execution_count": 0,
      "outputs": []
    },
    {
      "metadata": {
        "id": "xcwbeBIKNLVk",
        "colab_type": "text"
      },
      "cell_type": "markdown",
      "source": [
        "# Data Query\n",
        "BigQuery is used to get the data from the github_repos dataset."
      ]
    },
    {
      "metadata": {
        "id": "91Qswcs-Racr",
        "colab_type": "text"
      },
      "cell_type": "markdown",
      "source": [
        "## Extracting packages"
      ]
    },
    {
      "metadata": {
        "id": "sFJRNRdPRgit",
        "colab_type": "code",
        "colab": {
          "base_uri": "https://localhost:8080/",
          "height": 34
        },
        "outputId": "46fb9e69-77e7-448e-a2ea-9cd205178313"
      },
      "cell_type": "code",
      "source": [
        "### Get packages from BigQuery\n",
        "# Original query costs $15\n",
        "query = r'''\n",
        "SELECT\n",
        "  files.repo_name,\n",
        "  contents.content\n",
        "FROM\n",
        "  `bigquery-public-data.github_repos.contents` contents\n",
        "JOIN\n",
        "  `bigquery-public-data.github_repos.files` files\n",
        "ON\n",
        "  contents.id = files.id\n",
        "JOIN\n",
        "  `bigquery-public-data.github_repos.sample_repos` most_watched\n",
        "ON\n",
        "  most_watched.repo_name = files.repo_name\n",
        "WHERE\n",
        "  files.path = 'package.json'\n",
        "LIMIT\n",
        "  100000\n",
        "'''\n",
        "# Using the saved results\n",
        "query = r'SELECT * FROM `ontario-2018.github.most_watched_packages_100k`'\n",
        "# Query the dataset\n",
        "query_job = client.query(query)\n",
        "package_df = query_job.to_dataframe()\n",
        "package_df.shape"
      ],
      "execution_count": 5,
      "outputs": [
        {
          "output_type": "execute_result",
          "data": {
            "text/plain": [
              "(37962, 2)"
            ]
          },
          "metadata": {
            "tags": []
          },
          "execution_count": 5
        }
      ]
    },
    {
      "metadata": {
        "id": "UGhBx2LAlDED",
        "colab_type": "code",
        "colab": {
          "base_uri": "https://localhost:8080/",
          "height": 204
        },
        "outputId": "e139f34c-592d-4d12-90c6-2c0492054f44"
      },
      "cell_type": "code",
      "source": [
        "package_df.head()"
      ],
      "execution_count": 6,
      "outputs": [
        {
          "output_type": "execute_result",
          "data": {
            "text/html": [
              "<div>\n",
              "<style scoped>\n",
              "    .dataframe tbody tr th:only-of-type {\n",
              "        vertical-align: middle;\n",
              "    }\n",
              "\n",
              "    .dataframe tbody tr th {\n",
              "        vertical-align: top;\n",
              "    }\n",
              "\n",
              "    .dataframe thead th {\n",
              "        text-align: right;\n",
              "    }\n",
              "</style>\n",
              "<table border=\"1\" class=\"dataframe\">\n",
              "  <thead>\n",
              "    <tr style=\"text-align: right;\">\n",
              "      <th></th>\n",
              "      <th>repo_name</th>\n",
              "      <th>content</th>\n",
              "    </tr>\n",
              "  </thead>\n",
              "  <tbody>\n",
              "    <tr>\n",
              "      <th>0</th>\n",
              "      <td>lsphillips/Crumble</td>\n",
              "      <td>{\\n\\t\"name\" : \"crumble\",\\n\\n\\t\"version\" : \"2.0...</td>\n",
              "    </tr>\n",
              "    <tr>\n",
              "      <th>1</th>\n",
              "      <td>DawidMyslak/corkdev-angular2-examples</td>\n",
              "      <td>{\\n  \"name\": \"corkdev-angular2-examples\",\\n  \"...</td>\n",
              "    </tr>\n",
              "    <tr>\n",
              "      <th>2</th>\n",
              "      <td>mstefaniuk/graph-viz-d3-js</td>\n",
              "      <td>{\\n  \"name\": \"graphviz-d3-renderer\",\\n  \"versi...</td>\n",
              "    </tr>\n",
              "    <tr>\n",
              "      <th>3</th>\n",
              "      <td>observing/balancerbattle</td>\n",
              "      <td>{\\n  \"name\": \"balancerbattle\",\\n  \"version\": \"...</td>\n",
              "    </tr>\n",
              "    <tr>\n",
              "      <th>4</th>\n",
              "      <td>veeracs/SniffAdBlock</td>\n",
              "      <td>{\\n    \"name\": \"SniffAdBlock\",\\n    \"version\":...</td>\n",
              "    </tr>\n",
              "  </tbody>\n",
              "</table>\n",
              "</div>"
            ],
            "text/plain": [
              "                               repo_name  \\\n",
              "0                     lsphillips/Crumble   \n",
              "1  DawidMyslak/corkdev-angular2-examples   \n",
              "2             mstefaniuk/graph-viz-d3-js   \n",
              "3               observing/balancerbattle   \n",
              "4                   veeracs/SniffAdBlock   \n",
              "\n",
              "                                             content  \n",
              "0  {\\n\\t\"name\" : \"crumble\",\\n\\n\\t\"version\" : \"2.0...  \n",
              "1  {\\n  \"name\": \"corkdev-angular2-examples\",\\n  \"...  \n",
              "2  {\\n  \"name\": \"graphviz-d3-renderer\",\\n  \"versi...  \n",
              "3  {\\n  \"name\": \"balancerbattle\",\\n  \"version\": \"...  \n",
              "4  {\\n    \"name\": \"SniffAdBlock\",\\n    \"version\":...  "
            ]
          },
          "metadata": {
            "tags": []
          },
          "execution_count": 6
        }
      ]
    },
    {
      "metadata": {
        "id": "w-e_fgfjBL5x",
        "colab_type": "code",
        "colab": {}
      },
      "cell_type": "code",
      "source": [
        "# A function to extract name, devDependencies, dependencies and keywords from content\n",
        "def get_pkg(package_json):\n",
        "    package_record = {}\n",
        "    try:\n",
        "      repo_obj = json.loads(package_json)\n",
        "      if 'name' in repo_obj:\n",
        "        package_record['name'] = repo_obj['name']\n",
        "      if 'devDependencies' in repo_obj:\n",
        "        dev_dependencies = repo_obj['devDependencies']\n",
        "        if (len(dev_dependencies) > 0):\n",
        "          package_record['devDependencies'] = dev_dependencies\n",
        "      if 'dependencies' in repo_obj:\n",
        "        dependencies = repo_obj['dependencies']\n",
        "        if (len(dependencies) > 0):\n",
        "          package_record['dependencies'] = dependencies\n",
        "      if 'keywords' in repo_obj:\n",
        "        keywords = repo_obj['keywords']\n",
        "        if (len(keywords) > 0):\n",
        "          package_record['keywords'] = keywords\n",
        "    finally:\n",
        "      return package_record"
      ],
      "execution_count": 0,
      "outputs": []
    },
    {
      "metadata": {
        "id": "49c_HgemDkuk",
        "colab_type": "code",
        "colab": {
          "base_uri": "https://localhost:8080/",
          "height": 204
        },
        "outputId": "1210a20d-e967-46d3-ef68-b7912d568cb1"
      },
      "cell_type": "code",
      "source": [
        "# Extracting devDependencies, dependencies and keywords from package.json\n",
        "package_df.columns = ['repo_name','package_info']\n",
        "package_df['package_info']=package_df['package_info'].apply(get_pkg)\n",
        "package_df.head()"
      ],
      "execution_count": 8,
      "outputs": [
        {
          "output_type": "execute_result",
          "data": {
            "text/html": [
              "<div>\n",
              "<style scoped>\n",
              "    .dataframe tbody tr th:only-of-type {\n",
              "        vertical-align: middle;\n",
              "    }\n",
              "\n",
              "    .dataframe tbody tr th {\n",
              "        vertical-align: top;\n",
              "    }\n",
              "\n",
              "    .dataframe thead th {\n",
              "        text-align: right;\n",
              "    }\n",
              "</style>\n",
              "<table border=\"1\" class=\"dataframe\">\n",
              "  <thead>\n",
              "    <tr style=\"text-align: right;\">\n",
              "      <th></th>\n",
              "      <th>repo_name</th>\n",
              "      <th>package_info</th>\n",
              "    </tr>\n",
              "  </thead>\n",
              "  <tbody>\n",
              "    <tr>\n",
              "      <th>0</th>\n",
              "      <td>lsphillips/Crumble</td>\n",
              "      <td>{'name': 'crumble', 'devDependencies': {'mocha...</td>\n",
              "    </tr>\n",
              "    <tr>\n",
              "      <th>1</th>\n",
              "      <td>DawidMyslak/corkdev-angular2-examples</td>\n",
              "      <td>{'name': 'corkdev-angular2-examples', 'devDepe...</td>\n",
              "    </tr>\n",
              "    <tr>\n",
              "      <th>2</th>\n",
              "      <td>mstefaniuk/graph-viz-d3-js</td>\n",
              "      <td>{'name': 'graphviz-d3-renderer', 'devDependenc...</td>\n",
              "    </tr>\n",
              "    <tr>\n",
              "      <th>3</th>\n",
              "      <td>observing/balancerbattle</td>\n",
              "      <td>{'name': 'balancerbattle', 'dependencies': {'w...</td>\n",
              "    </tr>\n",
              "    <tr>\n",
              "      <th>4</th>\n",
              "      <td>veeracs/SniffAdBlock</td>\n",
              "      <td>{'name': 'SniffAdBlock', 'keywords': ['ad', 'b...</td>\n",
              "    </tr>\n",
              "  </tbody>\n",
              "</table>\n",
              "</div>"
            ],
            "text/plain": [
              "                               repo_name  \\\n",
              "0                     lsphillips/Crumble   \n",
              "1  DawidMyslak/corkdev-angular2-examples   \n",
              "2             mstefaniuk/graph-viz-d3-js   \n",
              "3               observing/balancerbattle   \n",
              "4                   veeracs/SniffAdBlock   \n",
              "\n",
              "                                        package_info  \n",
              "0  {'name': 'crumble', 'devDependencies': {'mocha...  \n",
              "1  {'name': 'corkdev-angular2-examples', 'devDepe...  \n",
              "2  {'name': 'graphviz-d3-renderer', 'devDependenc...  \n",
              "3  {'name': 'balancerbattle', 'dependencies': {'w...  \n",
              "4  {'name': 'SniffAdBlock', 'keywords': ['ad', 'b...  "
            ]
          },
          "metadata": {
            "tags": []
          },
          "execution_count": 8
        }
      ]
    },
    {
      "metadata": {
        "id": "YLscgV61RK_L",
        "colab_type": "text"
      },
      "cell_type": "markdown",
      "source": [
        "## Extracting Readme Files"
      ]
    },
    {
      "metadata": {
        "id": "23hOpMn0EOvJ",
        "colab_type": "code",
        "colab": {
          "base_uri": "https://localhost:8080/",
          "height": 204
        },
        "outputId": "db6102b4-62a5-48a1-e38d-f35e5555ab07"
      },
      "cell_type": "code",
      "source": [
        "# Get README.md files from dataset\n",
        "# Original query costs $15\n",
        "query = r'''\n",
        "SELECT\n",
        "  files.repo_name,\n",
        "  contents.content\n",
        "FROM\n",
        "  `bigquery-public-data.github_repos.contents` contents\n",
        "INNER JOIN\n",
        "  `bigquery-public-data.github_repos.files` files\n",
        "ON\n",
        "  contents.id = files.id\n",
        "JOIN\n",
        "  `ontario-2018.github.most_watched_packages_100k` packages\n",
        "ON\n",
        "  packages.repo_name = files.repo_name\n",
        "WHERE\n",
        "  files.path IN ('readme.md',\n",
        "    'Readme.md',\n",
        "    'README.md',\n",
        "    'README.MD')\n",
        "'''\n",
        "# Using the saved results\n",
        "query = r'SELECT * FROM `ontario-2018.github.most_watched_readme_100k`'\n",
        "query_job = client.query(query)\n",
        "readme_df = query_job.to_dataframe()\n",
        "readme_df.columns = ['repo_name','readme']\n",
        "readme_df.head()"
      ],
      "execution_count": 9,
      "outputs": [
        {
          "output_type": "execute_result",
          "data": {
            "text/html": [
              "<div>\n",
              "<style scoped>\n",
              "    .dataframe tbody tr th:only-of-type {\n",
              "        vertical-align: middle;\n",
              "    }\n",
              "\n",
              "    .dataframe tbody tr th {\n",
              "        vertical-align: top;\n",
              "    }\n",
              "\n",
              "    .dataframe thead th {\n",
              "        text-align: right;\n",
              "    }\n",
              "</style>\n",
              "<table border=\"1\" class=\"dataframe\">\n",
              "  <thead>\n",
              "    <tr style=\"text-align: right;\">\n",
              "      <th></th>\n",
              "      <th>repo_name</th>\n",
              "      <th>readme</th>\n",
              "    </tr>\n",
              "  </thead>\n",
              "  <tbody>\n",
              "    <tr>\n",
              "      <th>0</th>\n",
              "      <td>williamngan/line</td>\n",
              "      <td># Taking a Line for a Walk\\n\\n![a drawing gif]...</td>\n",
              "    </tr>\n",
              "    <tr>\n",
              "      <th>1</th>\n",
              "      <td>nikkiii/backupd</td>\n",
              "      <td># BackupD\\n\\nA simple backup http server to st...</td>\n",
              "    </tr>\n",
              "    <tr>\n",
              "      <th>2</th>\n",
              "      <td>hitmands/angular-hitmands-auth</td>\n",
              "      <td># Angular Hitmands Auth\\n[![Build Status](http...</td>\n",
              "    </tr>\n",
              "    <tr>\n",
              "      <th>3</th>\n",
              "      <td>Knorcedger/generator-knr-generator</td>\n",
              "      <td># generator-knr-generator [![Build Status](htt...</td>\n",
              "    </tr>\n",
              "    <tr>\n",
              "      <th>4</th>\n",
              "      <td>JedWatson/keystone-forum</td>\n",
              "      <td>KeystoneJS Forums\\n===============\\n\\nAbandone...</td>\n",
              "    </tr>\n",
              "  </tbody>\n",
              "</table>\n",
              "</div>"
            ],
            "text/plain": [
              "                            repo_name  \\\n",
              "0                    williamngan/line   \n",
              "1                     nikkiii/backupd   \n",
              "2      hitmands/angular-hitmands-auth   \n",
              "3  Knorcedger/generator-knr-generator   \n",
              "4            JedWatson/keystone-forum   \n",
              "\n",
              "                                              readme  \n",
              "0  # Taking a Line for a Walk\\n\\n![a drawing gif]...  \n",
              "1  # BackupD\\n\\nA simple backup http server to st...  \n",
              "2  # Angular Hitmands Auth\\n[![Build Status](http...  \n",
              "3  # generator-knr-generator [![Build Status](htt...  \n",
              "4  KeystoneJS Forums\\n===============\\n\\nAbandone...  "
            ]
          },
          "metadata": {
            "tags": []
          },
          "execution_count": 9
        }
      ]
    },
    {
      "metadata": {
        "id": "4BZ1hliSgcXP",
        "colab_type": "code",
        "colab": {
          "base_uri": "https://localhost:8080/",
          "height": 34
        },
        "outputId": "48931166-6f5b-471e-ae5b-4804a59132b4"
      },
      "cell_type": "code",
      "source": [
        "repos = readme_df[\"repo_name\"]\n",
        "# Number of repositories\n",
        "len(repos)"
      ],
      "execution_count": 10,
      "outputs": [
        {
          "output_type": "execute_result",
          "data": {
            "text/plain": [
              "37226"
            ]
          },
          "metadata": {
            "tags": []
          },
          "execution_count": 10
        }
      ]
    },
    {
      "metadata": {
        "id": "Ux9Oa0WtO_Vu",
        "colab_type": "text"
      },
      "cell_type": "markdown",
      "source": [
        "## Joining the data frames of packages and README files"
      ]
    },
    {
      "metadata": {
        "id": "T6eLQLgeRkdN",
        "colab_type": "code",
        "colab": {
          "base_uri": "https://localhost:8080/",
          "height": 204
        },
        "outputId": "257c3831-dd34-4e0d-8f7e-c56904cd57ce"
      },
      "cell_type": "code",
      "source": [
        "data=pd.merge(readme_df,package_df,how='inner')\n",
        "data.head()"
      ],
      "execution_count": 11,
      "outputs": [
        {
          "output_type": "execute_result",
          "data": {
            "text/html": [
              "<div>\n",
              "<style scoped>\n",
              "    .dataframe tbody tr th:only-of-type {\n",
              "        vertical-align: middle;\n",
              "    }\n",
              "\n",
              "    .dataframe tbody tr th {\n",
              "        vertical-align: top;\n",
              "    }\n",
              "\n",
              "    .dataframe thead th {\n",
              "        text-align: right;\n",
              "    }\n",
              "</style>\n",
              "<table border=\"1\" class=\"dataframe\">\n",
              "  <thead>\n",
              "    <tr style=\"text-align: right;\">\n",
              "      <th></th>\n",
              "      <th>repo_name</th>\n",
              "      <th>readme</th>\n",
              "      <th>package_info</th>\n",
              "    </tr>\n",
              "  </thead>\n",
              "  <tbody>\n",
              "    <tr>\n",
              "      <th>0</th>\n",
              "      <td>williamngan/line</td>\n",
              "      <td># Taking a Line for a Walk\\n\\n![a drawing gif]...</td>\n",
              "      <td>{'name': 'psychogeometry', 'devDependencies': ...</td>\n",
              "    </tr>\n",
              "    <tr>\n",
              "      <th>1</th>\n",
              "      <td>nikkiii/backupd</td>\n",
              "      <td># BackupD\\n\\nA simple backup http server to st...</td>\n",
              "      <td>{'name': 'backupd', 'dependencies': {'basic-au...</td>\n",
              "    </tr>\n",
              "    <tr>\n",
              "      <th>2</th>\n",
              "      <td>hitmands/angular-hitmands-auth</td>\n",
              "      <td># Angular Hitmands Auth\\n[![Build Status](http...</td>\n",
              "      <td>{'name': 'angular-hitmands-auth', 'devDependen...</td>\n",
              "    </tr>\n",
              "    <tr>\n",
              "      <th>3</th>\n",
              "      <td>Knorcedger/generator-knr-generator</td>\n",
              "      <td># generator-knr-generator [![Build Status](htt...</td>\n",
              "      <td>{'name': 'generator-knr-generator', 'devDepend...</td>\n",
              "    </tr>\n",
              "    <tr>\n",
              "      <th>4</th>\n",
              "      <td>JedWatson/keystone-forum</td>\n",
              "      <td>KeystoneJS Forums\\n===============\\n\\nAbandone...</td>\n",
              "      <td>{'name': 'keystone-forum', 'dependencies': {'a...</td>\n",
              "    </tr>\n",
              "  </tbody>\n",
              "</table>\n",
              "</div>"
            ],
            "text/plain": [
              "                            repo_name  \\\n",
              "0                    williamngan/line   \n",
              "1                     nikkiii/backupd   \n",
              "2      hitmands/angular-hitmands-auth   \n",
              "3  Knorcedger/generator-knr-generator   \n",
              "4            JedWatson/keystone-forum   \n",
              "\n",
              "                                              readme  \\\n",
              "0  # Taking a Line for a Walk\\n\\n![a drawing gif]...   \n",
              "1  # BackupD\\n\\nA simple backup http server to st...   \n",
              "2  # Angular Hitmands Auth\\n[![Build Status](http...   \n",
              "3  # generator-knr-generator [![Build Status](htt...   \n",
              "4  KeystoneJS Forums\\n===============\\n\\nAbandone...   \n",
              "\n",
              "                                        package_info  \n",
              "0  {'name': 'psychogeometry', 'devDependencies': ...  \n",
              "1  {'name': 'backupd', 'dependencies': {'basic-au...  \n",
              "2  {'name': 'angular-hitmands-auth', 'devDependen...  \n",
              "3  {'name': 'generator-knr-generator', 'devDepend...  \n",
              "4  {'name': 'keystone-forum', 'dependencies': {'a...  "
            ]
          },
          "metadata": {
            "tags": []
          },
          "execution_count": 11
        }
      ]
    },
    {
      "metadata": {
        "id": "tUsCd-KOTM4J",
        "colab_type": "code",
        "colab": {
          "base_uri": "https://localhost:8080/",
          "height": 34
        },
        "outputId": "c8d4b28d-b8c4-4871-81f1-eea3651a2068"
      },
      "cell_type": "code",
      "source": [
        "data.shape"
      ],
      "execution_count": 12,
      "outputs": [
        {
          "output_type": "execute_result",
          "data": {
            "text/plain": [
              "(37226, 3)"
            ]
          },
          "metadata": {
            "tags": []
          },
          "execution_count": 12
        }
      ]
    },
    {
      "metadata": {
        "id": "rzDljjA5htlz",
        "colab_type": "text"
      },
      "cell_type": "markdown",
      "source": [
        "## Listing the packages in all the repositories"
      ]
    },
    {
      "metadata": {
        "id": "XePRy6gUT4Uc",
        "colab_type": "code",
        "colab": {}
      },
      "cell_type": "code",
      "source": [
        "def collect_pkg(pckg_info):\n",
        "  packages_dic = list([])\n",
        "  if 'devDependencies' in pckg_info:\n",
        "    packages_dic = packages_dic+list(pckg_info['devDependencies'])\n",
        "  if 'dependencies' in pckg_info:\n",
        "    packages_dic = packages_dic+list(pckg_info['dependencies'])\n",
        "  return packages_dic"
      ],
      "execution_count": 0,
      "outputs": []
    },
    {
      "metadata": {
        "id": "ZRWKzwUJUp6T",
        "colab_type": "code",
        "colab": {
          "base_uri": "https://localhost:8080/",
          "height": 204
        },
        "outputId": "d096fe45-6b65-462a-883c-3156a6084175"
      },
      "cell_type": "code",
      "source": [
        "data['package_info']=data['package_info'].apply(collect_pkg)\n",
        "data.head()"
      ],
      "execution_count": 14,
      "outputs": [
        {
          "output_type": "execute_result",
          "data": {
            "text/html": [
              "<div>\n",
              "<style scoped>\n",
              "    .dataframe tbody tr th:only-of-type {\n",
              "        vertical-align: middle;\n",
              "    }\n",
              "\n",
              "    .dataframe tbody tr th {\n",
              "        vertical-align: top;\n",
              "    }\n",
              "\n",
              "    .dataframe thead th {\n",
              "        text-align: right;\n",
              "    }\n",
              "</style>\n",
              "<table border=\"1\" class=\"dataframe\">\n",
              "  <thead>\n",
              "    <tr style=\"text-align: right;\">\n",
              "      <th></th>\n",
              "      <th>repo_name</th>\n",
              "      <th>readme</th>\n",
              "      <th>package_info</th>\n",
              "    </tr>\n",
              "  </thead>\n",
              "  <tbody>\n",
              "    <tr>\n",
              "      <th>0</th>\n",
              "      <td>williamngan/line</td>\n",
              "      <td># Taking a Line for a Walk\\n\\n![a drawing gif]...</td>\n",
              "      <td>[event-stream, gulp, gulp-util, gulp-concat, g...</td>\n",
              "    </tr>\n",
              "    <tr>\n",
              "      <th>1</th>\n",
              "      <td>nikkiii/backupd</td>\n",
              "      <td># BackupD\\n\\nA simple backup http server to st...</td>\n",
              "      <td>[basic-auth, clouddrive, events-intercept, exp...</td>\n",
              "    </tr>\n",
              "    <tr>\n",
              "      <th>2</th>\n",
              "      <td>hitmands/angular-hitmands-auth</td>\n",
              "      <td># Angular Hitmands Auth\\n[![Build Status](http...</td>\n",
              "      <td>[karma, karma-jasmine, codeclimate-test-report...</td>\n",
              "    </tr>\n",
              "    <tr>\n",
              "      <th>3</th>\n",
              "      <td>Knorcedger/generator-knr-generator</td>\n",
              "      <td># generator-knr-generator [![Build Status](htt...</td>\n",
              "      <td>[eslint, eslint-config-google, generator-angul...</td>\n",
              "    </tr>\n",
              "    <tr>\n",
              "      <th>4</th>\n",
              "      <td>JedWatson/keystone-forum</td>\n",
              "      <td>KeystoneJS Forums\\n===============\\n\\nAbandone...</td>\n",
              "      <td>[async, dotenv, keystone, moment, moment-timez...</td>\n",
              "    </tr>\n",
              "  </tbody>\n",
              "</table>\n",
              "</div>"
            ],
            "text/plain": [
              "                            repo_name  \\\n",
              "0                    williamngan/line   \n",
              "1                     nikkiii/backupd   \n",
              "2      hitmands/angular-hitmands-auth   \n",
              "3  Knorcedger/generator-knr-generator   \n",
              "4            JedWatson/keystone-forum   \n",
              "\n",
              "                                              readme  \\\n",
              "0  # Taking a Line for a Walk\\n\\n![a drawing gif]...   \n",
              "1  # BackupD\\n\\nA simple backup http server to st...   \n",
              "2  # Angular Hitmands Auth\\n[![Build Status](http...   \n",
              "3  # generator-knr-generator [![Build Status](htt...   \n",
              "4  KeystoneJS Forums\\n===============\\n\\nAbandone...   \n",
              "\n",
              "                                        package_info  \n",
              "0  [event-stream, gulp, gulp-util, gulp-concat, g...  \n",
              "1  [basic-auth, clouddrive, events-intercept, exp...  \n",
              "2  [karma, karma-jasmine, codeclimate-test-report...  \n",
              "3  [eslint, eslint-config-google, generator-angul...  \n",
              "4  [async, dotenv, keystone, moment, moment-timez...  "
            ]
          },
          "metadata": {
            "tags": []
          },
          "execution_count": 14
        }
      ]
    },
    {
      "metadata": {
        "id": "T4EHLxHJwS2t",
        "colab_type": "code",
        "colab": {}
      },
      "cell_type": "code",
      "source": [
        "# Function for counting the number of package usages\n",
        "def count_pkg(package_info):\n",
        "  c = Counter()\n",
        "  for pkglist in package_info:\n",
        "    for package in pkglist:\n",
        "      if isinstance(package, str):\n",
        "        c[package] += 1\n",
        "  return c"
      ],
      "execution_count": 0,
      "outputs": []
    },
    {
      "metadata": {
        "id": "-9XgYwhcl8mj",
        "colab_type": "code",
        "colab": {
          "base_uri": "https://localhost:8080/",
          "height": 204
        },
        "outputId": "72beb839-4093-45f6-b144-63c0000189c8"
      },
      "cell_type": "code",
      "source": [
        "# Make a dataframe for packages and their number of usages\n",
        "pkg_usage = count_pkg(data['package_info'])\n",
        "\n",
        "pkg_data = {}\n",
        "pkg_data['count']=list(pkg_usage.values())\n",
        "pkg_data['package']=list(pkg_usage.keys())\n",
        "\n",
        "pkg_df=pd.DataFrame(data=pkg_data)[['package','count']]\n",
        "pkg_df=pkg_df.sort_values(by=['count'],ascending=False)\n",
        "pkg_df.index=range(pkg_df.shape[0])\n",
        "pkg_df.head()"
      ],
      "execution_count": 16,
      "outputs": [
        {
          "output_type": "execute_result",
          "data": {
            "text/html": [
              "<div>\n",
              "<style scoped>\n",
              "    .dataframe tbody tr th:only-of-type {\n",
              "        vertical-align: middle;\n",
              "    }\n",
              "\n",
              "    .dataframe tbody tr th {\n",
              "        vertical-align: top;\n",
              "    }\n",
              "\n",
              "    .dataframe thead th {\n",
              "        text-align: right;\n",
              "    }\n",
              "</style>\n",
              "<table border=\"1\" class=\"dataframe\">\n",
              "  <thead>\n",
              "    <tr style=\"text-align: right;\">\n",
              "      <th></th>\n",
              "      <th>package</th>\n",
              "      <th>count</th>\n",
              "    </tr>\n",
              "  </thead>\n",
              "  <tbody>\n",
              "    <tr>\n",
              "      <th>0</th>\n",
              "      <td>mocha</td>\n",
              "      <td>9778</td>\n",
              "    </tr>\n",
              "    <tr>\n",
              "      <th>1</th>\n",
              "      <td>eslint</td>\n",
              "      <td>6183</td>\n",
              "    </tr>\n",
              "    <tr>\n",
              "      <th>2</th>\n",
              "      <td>gulp</td>\n",
              "      <td>5688</td>\n",
              "    </tr>\n",
              "    <tr>\n",
              "      <th>3</th>\n",
              "      <td>chai</td>\n",
              "      <td>5369</td>\n",
              "    </tr>\n",
              "    <tr>\n",
              "      <th>4</th>\n",
              "      <td>grunt</td>\n",
              "      <td>5305</td>\n",
              "    </tr>\n",
              "  </tbody>\n",
              "</table>\n",
              "</div>"
            ],
            "text/plain": [
              "  package  count\n",
              "0   mocha   9778\n",
              "1  eslint   6183\n",
              "2    gulp   5688\n",
              "3    chai   5369\n",
              "4   grunt   5305"
            ]
          },
          "metadata": {
            "tags": []
          },
          "execution_count": 16
        }
      ]
    },
    {
      "metadata": {
        "id": "UyoWibwNeaLt",
        "colab_type": "code",
        "colab": {
          "base_uri": "https://localhost:8080/",
          "height": 34
        },
        "outputId": "071a3660-2577-4e79-911c-72f467f3119c"
      },
      "cell_type": "code",
      "source": [
        "pkg_df.shape"
      ],
      "execution_count": 17,
      "outputs": [
        {
          "output_type": "execute_result",
          "data": {
            "text/plain": [
              "(38108, 2)"
            ]
          },
          "metadata": {
            "tags": []
          },
          "execution_count": 17
        }
      ]
    },
    {
      "metadata": {
        "id": "skG_YVKjxpmi",
        "colab_type": "text"
      },
      "cell_type": "markdown",
      "source": [
        "### Selecting specific packages"
      ]
    },
    {
      "metadata": {
        "id": "AlhgIrRXh2ZG",
        "colab_type": "code",
        "colab": {
          "base_uri": "https://localhost:8080/",
          "height": 34
        },
        "outputId": "d88b9304-a4c9-48fb-cce2-f05c2c501c88"
      },
      "cell_type": "code",
      "source": [
        "# Removing packages with fewer than 100 usages\n",
        "pkg_df=pkg_df.drop([i for i in pkg_df.index if pkg_df['count'][i]<100])\n",
        "pkg_df.shape"
      ],
      "execution_count": 18,
      "outputs": [
        {
          "output_type": "execute_result",
          "data": {
            "text/plain": [
              "(689, 2)"
            ]
          },
          "metadata": {
            "tags": []
          },
          "execution_count": 18
        }
      ]
    },
    {
      "metadata": {
        "id": "S6s9vOMu0FRf",
        "colab_type": "code",
        "colab": {}
      },
      "cell_type": "code",
      "source": [
        "all_packages = list(pkg_df['package'])"
      ],
      "execution_count": 0,
      "outputs": []
    },
    {
      "metadata": {
        "id": "kge9ck3Y3Uha",
        "colab_type": "code",
        "colab": {}
      },
      "cell_type": "code",
      "source": [
        "# Selecting \"interesting\" packages from the table in https://www.javascripting.com/\n",
        "packages = {p for p in all_packages if p.find('react') >= 0 or\n",
        "                                       p.find('vue') >= 0 or\n",
        "                                       p.find('angular') >= 0 or\n",
        "                                       p.find('axios') >= 0 or\n",
        "                                       p.find('three') >= 0 or\n",
        "                                       p.find('moment') >= 0 or \n",
        "                                       p.find('leaflet') >= 0 or\n",
        "                                       p.find('video') >= 0 or\n",
        "                                       p.find('jquery') >= 0 or\n",
        "                                       p.find('material') >= 0 or\n",
        "                                       p.find('express') >= 0 or\n",
        "                                       p.find('electron') >= 0 or\n",
        "                                       p.find('d3') >= 0\n",
        "           }"
      ],
      "execution_count": 0,
      "outputs": []
    },
    {
      "metadata": {
        "id": "xr3vY6NMsNME",
        "colab_type": "code",
        "colab": {
          "base_uri": "https://localhost:8080/",
          "height": 34
        },
        "outputId": "8cc8c196-3341-4128-c3ec-51f82c220112"
      },
      "cell_type": "code",
      "source": [
        "# Target packages\n",
        "n_packages=len(packages)\n",
        "n_packages"
      ],
      "execution_count": 21,
      "outputs": [
        {
          "output_type": "execute_result",
          "data": {
            "text/plain": [
              "60"
            ]
          },
          "metadata": {
            "tags": []
          },
          "execution_count": 21
        }
      ]
    },
    {
      "metadata": {
        "id": "zwta08i1Mne1",
        "colab_type": "code",
        "colab": {}
      },
      "cell_type": "code",
      "source": [
        "def filter_pkg(pkg_info):\n",
        "  return [pkg for pkg in pkg_info if pkg in packages]"
      ],
      "execution_count": 0,
      "outputs": []
    },
    {
      "metadata": {
        "id": "AtkNaTNdLpaZ",
        "colab_type": "code",
        "colab": {
          "base_uri": "https://localhost:8080/",
          "height": 204
        },
        "outputId": "ea1cad7b-3164-4097-e187-c5891032440b"
      },
      "cell_type": "code",
      "source": [
        "# Remove other packages\n",
        "data['package_info'] = data['package_info'].apply(filter_pkg)\n",
        "data.head()\n",
        "  "
      ],
      "execution_count": 23,
      "outputs": [
        {
          "output_type": "execute_result",
          "data": {
            "text/html": [
              "<div>\n",
              "<style scoped>\n",
              "    .dataframe tbody tr th:only-of-type {\n",
              "        vertical-align: middle;\n",
              "    }\n",
              "\n",
              "    .dataframe tbody tr th {\n",
              "        vertical-align: top;\n",
              "    }\n",
              "\n",
              "    .dataframe thead th {\n",
              "        text-align: right;\n",
              "    }\n",
              "</style>\n",
              "<table border=\"1\" class=\"dataframe\">\n",
              "  <thead>\n",
              "    <tr style=\"text-align: right;\">\n",
              "      <th></th>\n",
              "      <th>repo_name</th>\n",
              "      <th>readme</th>\n",
              "      <th>package_info</th>\n",
              "    </tr>\n",
              "  </thead>\n",
              "  <tbody>\n",
              "    <tr>\n",
              "      <th>0</th>\n",
              "      <td>williamngan/line</td>\n",
              "      <td># Taking a Line for a Walk\\n\\n![a drawing gif]...</td>\n",
              "      <td>[]</td>\n",
              "    </tr>\n",
              "    <tr>\n",
              "      <th>1</th>\n",
              "      <td>nikkiii/backupd</td>\n",
              "      <td># BackupD\\n\\nA simple backup http server to st...</td>\n",
              "      <td>[express, moment]</td>\n",
              "    </tr>\n",
              "    <tr>\n",
              "      <th>2</th>\n",
              "      <td>hitmands/angular-hitmands-auth</td>\n",
              "      <td># Angular Hitmands Auth\\n[![Build Status](http...</td>\n",
              "      <td>[express, grunt-angular-templates]</td>\n",
              "    </tr>\n",
              "    <tr>\n",
              "      <th>3</th>\n",
              "      <td>Knorcedger/generator-knr-generator</td>\n",
              "      <td># generator-knr-generator [![Build Status](htt...</td>\n",
              "      <td>[]</td>\n",
              "    </tr>\n",
              "    <tr>\n",
              "      <th>4</th>\n",
              "      <td>JedWatson/keystone-forum</td>\n",
              "      <td>KeystoneJS Forums\\n===============\\n\\nAbandone...</td>\n",
              "      <td>[moment, moment-timezone]</td>\n",
              "    </tr>\n",
              "  </tbody>\n",
              "</table>\n",
              "</div>"
            ],
            "text/plain": [
              "                            repo_name  \\\n",
              "0                    williamngan/line   \n",
              "1                     nikkiii/backupd   \n",
              "2      hitmands/angular-hitmands-auth   \n",
              "3  Knorcedger/generator-knr-generator   \n",
              "4            JedWatson/keystone-forum   \n",
              "\n",
              "                                              readme  \\\n",
              "0  # Taking a Line for a Walk\\n\\n![a drawing gif]...   \n",
              "1  # BackupD\\n\\nA simple backup http server to st...   \n",
              "2  # Angular Hitmands Auth\\n[![Build Status](http...   \n",
              "3  # generator-knr-generator [![Build Status](htt...   \n",
              "4  KeystoneJS Forums\\n===============\\n\\nAbandone...   \n",
              "\n",
              "                         package_info  \n",
              "0                                  []  \n",
              "1                   [express, moment]  \n",
              "2  [express, grunt-angular-templates]  \n",
              "3                                  []  \n",
              "4           [moment, moment-timezone]  "
            ]
          },
          "metadata": {
            "tags": []
          },
          "execution_count": 23
        }
      ]
    },
    {
      "metadata": {
        "id": "wOLYq57MfE6C",
        "colab_type": "code",
        "colab": {
          "base_uri": "https://localhost:8080/",
          "height": 204
        },
        "outputId": "8390ec61-7ed5-43ff-aa72-d2fdbb803d95"
      },
      "cell_type": "code",
      "source": [
        "# Remove repos with empty packages\n",
        "data = data.drop([i for i in data.index if len(data['package_info'][i])==0])\n",
        "data.head()"
      ],
      "execution_count": 24,
      "outputs": [
        {
          "output_type": "execute_result",
          "data": {
            "text/html": [
              "<div>\n",
              "<style scoped>\n",
              "    .dataframe tbody tr th:only-of-type {\n",
              "        vertical-align: middle;\n",
              "    }\n",
              "\n",
              "    .dataframe tbody tr th {\n",
              "        vertical-align: top;\n",
              "    }\n",
              "\n",
              "    .dataframe thead th {\n",
              "        text-align: right;\n",
              "    }\n",
              "</style>\n",
              "<table border=\"1\" class=\"dataframe\">\n",
              "  <thead>\n",
              "    <tr style=\"text-align: right;\">\n",
              "      <th></th>\n",
              "      <th>repo_name</th>\n",
              "      <th>readme</th>\n",
              "      <th>package_info</th>\n",
              "    </tr>\n",
              "  </thead>\n",
              "  <tbody>\n",
              "    <tr>\n",
              "      <th>1</th>\n",
              "      <td>nikkiii/backupd</td>\n",
              "      <td># BackupD\\n\\nA simple backup http server to st...</td>\n",
              "      <td>[express, moment]</td>\n",
              "    </tr>\n",
              "    <tr>\n",
              "      <th>2</th>\n",
              "      <td>hitmands/angular-hitmands-auth</td>\n",
              "      <td># Angular Hitmands Auth\\n[![Build Status](http...</td>\n",
              "      <td>[express, grunt-angular-templates]</td>\n",
              "    </tr>\n",
              "    <tr>\n",
              "      <th>4</th>\n",
              "      <td>JedWatson/keystone-forum</td>\n",
              "      <td>KeystoneJS Forums\\n===============\\n\\nAbandone...</td>\n",
              "      <td>[moment, moment-timezone]</td>\n",
              "    </tr>\n",
              "    <tr>\n",
              "      <th>5</th>\n",
              "      <td>MarkUsProject/Markus</td>\n",
              "      <td>![MarkUs logo](http://markusproject.org/img/ma...</td>\n",
              "      <td>[babel-preset-react, react, react-dom]</td>\n",
              "    </tr>\n",
              "    <tr>\n",
              "      <th>6</th>\n",
              "      <td>gre/bezier-easing-editor</td>\n",
              "      <td>bezier-easing-editor\\n====================\\nCu...</td>\n",
              "      <td>[babel-preset-react]</td>\n",
              "    </tr>\n",
              "  </tbody>\n",
              "</table>\n",
              "</div>"
            ],
            "text/plain": [
              "                        repo_name  \\\n",
              "1                 nikkiii/backupd   \n",
              "2  hitmands/angular-hitmands-auth   \n",
              "4        JedWatson/keystone-forum   \n",
              "5            MarkUsProject/Markus   \n",
              "6        gre/bezier-easing-editor   \n",
              "\n",
              "                                              readme  \\\n",
              "1  # BackupD\\n\\nA simple backup http server to st...   \n",
              "2  # Angular Hitmands Auth\\n[![Build Status](http...   \n",
              "4  KeystoneJS Forums\\n===============\\n\\nAbandone...   \n",
              "5  ![MarkUs logo](http://markusproject.org/img/ma...   \n",
              "6  bezier-easing-editor\\n====================\\nCu...   \n",
              "\n",
              "                             package_info  \n",
              "1                       [express, moment]  \n",
              "2      [express, grunt-angular-templates]  \n",
              "4               [moment, moment-timezone]  \n",
              "5  [babel-preset-react, react, react-dom]  \n",
              "6                    [babel-preset-react]  "
            ]
          },
          "metadata": {
            "tags": []
          },
          "execution_count": 24
        }
      ]
    },
    {
      "metadata": {
        "id": "yFBIJh-_x6ZW",
        "colab_type": "text"
      },
      "cell_type": "markdown",
      "source": [
        "### Removing empty readme files"
      ]
    },
    {
      "metadata": {
        "id": "q9xipl8dkPpC",
        "colab_type": "code",
        "colab": {
          "base_uri": "https://localhost:8080/",
          "height": 204
        },
        "outputId": "4a888e1f-05fc-4b9a-c61f-a0a3334d6af0"
      },
      "cell_type": "code",
      "source": [
        "# Remove repos with empty readme files\n",
        "data['readme']=data['readme'].fillna('')\n",
        "data = data.drop([i for i in data.index if data['readme'][i] == ''])\n",
        "data.head()"
      ],
      "execution_count": 25,
      "outputs": [
        {
          "output_type": "execute_result",
          "data": {
            "text/html": [
              "<div>\n",
              "<style scoped>\n",
              "    .dataframe tbody tr th:only-of-type {\n",
              "        vertical-align: middle;\n",
              "    }\n",
              "\n",
              "    .dataframe tbody tr th {\n",
              "        vertical-align: top;\n",
              "    }\n",
              "\n",
              "    .dataframe thead th {\n",
              "        text-align: right;\n",
              "    }\n",
              "</style>\n",
              "<table border=\"1\" class=\"dataframe\">\n",
              "  <thead>\n",
              "    <tr style=\"text-align: right;\">\n",
              "      <th></th>\n",
              "      <th>repo_name</th>\n",
              "      <th>readme</th>\n",
              "      <th>package_info</th>\n",
              "    </tr>\n",
              "  </thead>\n",
              "  <tbody>\n",
              "    <tr>\n",
              "      <th>1</th>\n",
              "      <td>nikkiii/backupd</td>\n",
              "      <td># BackupD\\n\\nA simple backup http server to st...</td>\n",
              "      <td>[express, moment]</td>\n",
              "    </tr>\n",
              "    <tr>\n",
              "      <th>2</th>\n",
              "      <td>hitmands/angular-hitmands-auth</td>\n",
              "      <td># Angular Hitmands Auth\\n[![Build Status](http...</td>\n",
              "      <td>[express, grunt-angular-templates]</td>\n",
              "    </tr>\n",
              "    <tr>\n",
              "      <th>4</th>\n",
              "      <td>JedWatson/keystone-forum</td>\n",
              "      <td>KeystoneJS Forums\\n===============\\n\\nAbandone...</td>\n",
              "      <td>[moment, moment-timezone]</td>\n",
              "    </tr>\n",
              "    <tr>\n",
              "      <th>5</th>\n",
              "      <td>MarkUsProject/Markus</td>\n",
              "      <td>![MarkUs logo](http://markusproject.org/img/ma...</td>\n",
              "      <td>[babel-preset-react, react, react-dom]</td>\n",
              "    </tr>\n",
              "    <tr>\n",
              "      <th>6</th>\n",
              "      <td>gre/bezier-easing-editor</td>\n",
              "      <td>bezier-easing-editor\\n====================\\nCu...</td>\n",
              "      <td>[babel-preset-react]</td>\n",
              "    </tr>\n",
              "  </tbody>\n",
              "</table>\n",
              "</div>"
            ],
            "text/plain": [
              "                        repo_name  \\\n",
              "1                 nikkiii/backupd   \n",
              "2  hitmands/angular-hitmands-auth   \n",
              "4        JedWatson/keystone-forum   \n",
              "5            MarkUsProject/Markus   \n",
              "6        gre/bezier-easing-editor   \n",
              "\n",
              "                                              readme  \\\n",
              "1  # BackupD\\n\\nA simple backup http server to st...   \n",
              "2  # Angular Hitmands Auth\\n[![Build Status](http...   \n",
              "4  KeystoneJS Forums\\n===============\\n\\nAbandone...   \n",
              "5  ![MarkUs logo](http://markusproject.org/img/ma...   \n",
              "6  bezier-easing-editor\\n====================\\nCu...   \n",
              "\n",
              "                             package_info  \n",
              "1                       [express, moment]  \n",
              "2      [express, grunt-angular-templates]  \n",
              "4               [moment, moment-timezone]  \n",
              "5  [babel-preset-react, react, react-dom]  \n",
              "6                    [babel-preset-react]  "
            ]
          },
          "metadata": {
            "tags": []
          },
          "execution_count": 25
        }
      ]
    },
    {
      "metadata": {
        "id": "ZvWG9rBdm0yh",
        "colab_type": "code",
        "colab": {
          "base_uri": "https://localhost:8080/",
          "height": 34
        },
        "outputId": "6fc3769b-a8b9-4dd2-f0ad-82397dcf0b4b"
      },
      "cell_type": "code",
      "source": [
        "data.shape"
      ],
      "execution_count": 26,
      "outputs": [
        {
          "output_type": "execute_result",
          "data": {
            "text/plain": [
              "(10989, 3)"
            ]
          },
          "metadata": {
            "tags": []
          },
          "execution_count": 26
        }
      ]
    },
    {
      "metadata": {
        "id": "Bh8__Oquzf-T",
        "colab_type": "text"
      },
      "cell_type": "markdown",
      "source": [
        "### Export to CSV"
      ]
    },
    {
      "metadata": {
        "id": "NIED3vXvzfHs",
        "colab_type": "code",
        "colab": {
          "base_uri": "https://localhost:8080/",
          "height": 204
        },
        "outputId": "6fa0d792-d320-490c-b6ef-ed0af39e1197"
      },
      "cell_type": "code",
      "source": [
        "dataset=data.loc[data.index,['readme','package_info']]\n",
        "dataset.head()"
      ],
      "execution_count": 27,
      "outputs": [
        {
          "output_type": "execute_result",
          "data": {
            "text/html": [
              "<div>\n",
              "<style scoped>\n",
              "    .dataframe tbody tr th:only-of-type {\n",
              "        vertical-align: middle;\n",
              "    }\n",
              "\n",
              "    .dataframe tbody tr th {\n",
              "        vertical-align: top;\n",
              "    }\n",
              "\n",
              "    .dataframe thead th {\n",
              "        text-align: right;\n",
              "    }\n",
              "</style>\n",
              "<table border=\"1\" class=\"dataframe\">\n",
              "  <thead>\n",
              "    <tr style=\"text-align: right;\">\n",
              "      <th></th>\n",
              "      <th>readme</th>\n",
              "      <th>package_info</th>\n",
              "    </tr>\n",
              "  </thead>\n",
              "  <tbody>\n",
              "    <tr>\n",
              "      <th>1</th>\n",
              "      <td># BackupD\\n\\nA simple backup http server to st...</td>\n",
              "      <td>[express, moment]</td>\n",
              "    </tr>\n",
              "    <tr>\n",
              "      <th>2</th>\n",
              "      <td># Angular Hitmands Auth\\n[![Build Status](http...</td>\n",
              "      <td>[express, grunt-angular-templates]</td>\n",
              "    </tr>\n",
              "    <tr>\n",
              "      <th>4</th>\n",
              "      <td>KeystoneJS Forums\\n===============\\n\\nAbandone...</td>\n",
              "      <td>[moment, moment-timezone]</td>\n",
              "    </tr>\n",
              "    <tr>\n",
              "      <th>5</th>\n",
              "      <td>![MarkUs logo](http://markusproject.org/img/ma...</td>\n",
              "      <td>[babel-preset-react, react, react-dom]</td>\n",
              "    </tr>\n",
              "    <tr>\n",
              "      <th>6</th>\n",
              "      <td>bezier-easing-editor\\n====================\\nCu...</td>\n",
              "      <td>[babel-preset-react]</td>\n",
              "    </tr>\n",
              "  </tbody>\n",
              "</table>\n",
              "</div>"
            ],
            "text/plain": [
              "                                              readme  \\\n",
              "1  # BackupD\\n\\nA simple backup http server to st...   \n",
              "2  # Angular Hitmands Auth\\n[![Build Status](http...   \n",
              "4  KeystoneJS Forums\\n===============\\n\\nAbandone...   \n",
              "5  ![MarkUs logo](http://markusproject.org/img/ma...   \n",
              "6  bezier-easing-editor\\n====================\\nCu...   \n",
              "\n",
              "                             package_info  \n",
              "1                       [express, moment]  \n",
              "2      [express, grunt-angular-templates]  \n",
              "4               [moment, moment-timezone]  \n",
              "5  [babel-preset-react, react, react-dom]  \n",
              "6                    [babel-preset-react]  "
            ]
          },
          "metadata": {
            "tags": []
          },
          "execution_count": 27
        }
      ]
    },
    {
      "metadata": {
        "id": "XRtsw1J40tF_",
        "colab_type": "code",
        "colab": {}
      },
      "cell_type": "code",
      "source": [
        "# Return lst[n] if it exists\n",
        "def selectn(lst,n):\n",
        "  if len(lst) > n:\n",
        "    return lst[n]\n",
        "  else:\n",
        "    return None"
      ],
      "execution_count": 0,
      "outputs": []
    },
    {
      "metadata": {
        "id": "yvGzQBfz1fW3",
        "colab_type": "code",
        "colab": {
          "base_uri": "https://localhost:8080/",
          "height": 34
        },
        "outputId": "ff110ccf-5e46-4e8f-8dbd-e7000c4b1b02"
      },
      "cell_type": "code",
      "source": [
        "# Maximum number of packages\n",
        "max_n_pkg = max(dataset['package_info'].apply(len))\n",
        "max_n_pkg"
      ],
      "execution_count": 29,
      "outputs": [
        {
          "output_type": "execute_result",
          "data": {
            "text/plain": [
              "21"
            ]
          },
          "metadata": {
            "tags": []
          },
          "execution_count": 29
        }
      ]
    },
    {
      "metadata": {
        "id": "q8cp7uh21AdF",
        "colab_type": "code",
        "colab": {}
      },
      "cell_type": "code",
      "source": [
        "# Create new columns for labels\n",
        "for i in range(max_n_pkg): \n",
        "  dataset['label'+str(i)]=dataset['package_info'].apply(selectn,args={i})"
      ],
      "execution_count": 0,
      "outputs": []
    },
    {
      "metadata": {
        "id": "ko9Ege7F2nvc",
        "colab_type": "code",
        "colab": {}
      },
      "cell_type": "code",
      "source": [
        "# Remove the package_info column\n",
        "dataset=dataset.drop('package_info',axis=1)"
      ],
      "execution_count": 0,
      "outputs": []
    },
    {
      "metadata": {
        "id": "eBogMIGNDgRL",
        "colab_type": "code",
        "colab": {}
      },
      "cell_type": "code",
      "source": [
        "# Remove newline characters\n",
        "def remove_newline(txt):\n",
        "  txt_maxlen = 10000-2\n",
        "  if len(txt) > txt_maxlen:\n",
        "    qtxt = txt[0:txt_maxlen]\n",
        "  else:\n",
        "    qtxt = txt\n",
        "  qtxt = '\\\"'+qtxt.replace('\\\"',' ')+'\\\"'\n",
        "  qtxt = qtxt.replace('\\r',' ')\n",
        "  qtxt = qtxt.replace('\\n',' ')\n",
        "  qtxt = qtxt.replace('\\t',' ')\n",
        "  qtxt = qtxt.replace('#',' ')\n",
        "  return qtxt"
      ],
      "execution_count": 0,
      "outputs": []
    },
    {
      "metadata": {
        "id": "XBrorxQwElPR",
        "colab_type": "code",
        "colab": {
          "base_uri": "https://localhost:8080/",
          "height": 406
        },
        "outputId": "a1cbf1c7-7019-4ba4-ce8b-28d4cefdf9e1"
      },
      "cell_type": "code",
      "source": [
        "dataset[\"readme\"]=data[\"readme\"].apply(remove_newline)\n",
        "dataset.head()"
      ],
      "execution_count": 33,
      "outputs": [
        {
          "output_type": "execute_result",
          "data": {
            "text/html": [
              "<div>\n",
              "<style scoped>\n",
              "    .dataframe tbody tr th:only-of-type {\n",
              "        vertical-align: middle;\n",
              "    }\n",
              "\n",
              "    .dataframe tbody tr th {\n",
              "        vertical-align: top;\n",
              "    }\n",
              "\n",
              "    .dataframe thead th {\n",
              "        text-align: right;\n",
              "    }\n",
              "</style>\n",
              "<table border=\"1\" class=\"dataframe\">\n",
              "  <thead>\n",
              "    <tr style=\"text-align: right;\">\n",
              "      <th></th>\n",
              "      <th>readme</th>\n",
              "      <th>label0</th>\n",
              "      <th>label1</th>\n",
              "      <th>label2</th>\n",
              "      <th>label3</th>\n",
              "      <th>label4</th>\n",
              "      <th>label5</th>\n",
              "      <th>label6</th>\n",
              "      <th>label7</th>\n",
              "      <th>label8</th>\n",
              "      <th>...</th>\n",
              "      <th>label11</th>\n",
              "      <th>label12</th>\n",
              "      <th>label13</th>\n",
              "      <th>label14</th>\n",
              "      <th>label15</th>\n",
              "      <th>label16</th>\n",
              "      <th>label17</th>\n",
              "      <th>label18</th>\n",
              "      <th>label19</th>\n",
              "      <th>label20</th>\n",
              "    </tr>\n",
              "  </thead>\n",
              "  <tbody>\n",
              "    <tr>\n",
              "      <th>1</th>\n",
              "      <td>\"  BackupD  A simple backup http server to sto...</td>\n",
              "      <td>express</td>\n",
              "      <td>moment</td>\n",
              "      <td>None</td>\n",
              "      <td>None</td>\n",
              "      <td>None</td>\n",
              "      <td>None</td>\n",
              "      <td>None</td>\n",
              "      <td>None</td>\n",
              "      <td>None</td>\n",
              "      <td>...</td>\n",
              "      <td>None</td>\n",
              "      <td>None</td>\n",
              "      <td>None</td>\n",
              "      <td>None</td>\n",
              "      <td>None</td>\n",
              "      <td>None</td>\n",
              "      <td>None</td>\n",
              "      <td>None</td>\n",
              "      <td>None</td>\n",
              "      <td>None</td>\n",
              "    </tr>\n",
              "    <tr>\n",
              "      <th>2</th>\n",
              "      <td>\"  Angular Hitmands Auth [![Build Status](http...</td>\n",
              "      <td>express</td>\n",
              "      <td>grunt-angular-templates</td>\n",
              "      <td>None</td>\n",
              "      <td>None</td>\n",
              "      <td>None</td>\n",
              "      <td>None</td>\n",
              "      <td>None</td>\n",
              "      <td>None</td>\n",
              "      <td>None</td>\n",
              "      <td>...</td>\n",
              "      <td>None</td>\n",
              "      <td>None</td>\n",
              "      <td>None</td>\n",
              "      <td>None</td>\n",
              "      <td>None</td>\n",
              "      <td>None</td>\n",
              "      <td>None</td>\n",
              "      <td>None</td>\n",
              "      <td>None</td>\n",
              "      <td>None</td>\n",
              "    </tr>\n",
              "    <tr>\n",
              "      <th>4</th>\n",
              "      <td>\"KeystoneJS Forums ===============  Abandoned....</td>\n",
              "      <td>moment</td>\n",
              "      <td>moment-timezone</td>\n",
              "      <td>None</td>\n",
              "      <td>None</td>\n",
              "      <td>None</td>\n",
              "      <td>None</td>\n",
              "      <td>None</td>\n",
              "      <td>None</td>\n",
              "      <td>None</td>\n",
              "      <td>...</td>\n",
              "      <td>None</td>\n",
              "      <td>None</td>\n",
              "      <td>None</td>\n",
              "      <td>None</td>\n",
              "      <td>None</td>\n",
              "      <td>None</td>\n",
              "      <td>None</td>\n",
              "      <td>None</td>\n",
              "      <td>None</td>\n",
              "      <td>None</td>\n",
              "    </tr>\n",
              "    <tr>\n",
              "      <th>5</th>\n",
              "      <td>\"![MarkUs logo](http://markusproject.org/img/m...</td>\n",
              "      <td>babel-preset-react</td>\n",
              "      <td>react</td>\n",
              "      <td>react-dom</td>\n",
              "      <td>None</td>\n",
              "      <td>None</td>\n",
              "      <td>None</td>\n",
              "      <td>None</td>\n",
              "      <td>None</td>\n",
              "      <td>None</td>\n",
              "      <td>...</td>\n",
              "      <td>None</td>\n",
              "      <td>None</td>\n",
              "      <td>None</td>\n",
              "      <td>None</td>\n",
              "      <td>None</td>\n",
              "      <td>None</td>\n",
              "      <td>None</td>\n",
              "      <td>None</td>\n",
              "      <td>None</td>\n",
              "      <td>None</td>\n",
              "    </tr>\n",
              "    <tr>\n",
              "      <th>6</th>\n",
              "      <td>\"bezier-easing-editor ==================== Cub...</td>\n",
              "      <td>babel-preset-react</td>\n",
              "      <td>None</td>\n",
              "      <td>None</td>\n",
              "      <td>None</td>\n",
              "      <td>None</td>\n",
              "      <td>None</td>\n",
              "      <td>None</td>\n",
              "      <td>None</td>\n",
              "      <td>None</td>\n",
              "      <td>...</td>\n",
              "      <td>None</td>\n",
              "      <td>None</td>\n",
              "      <td>None</td>\n",
              "      <td>None</td>\n",
              "      <td>None</td>\n",
              "      <td>None</td>\n",
              "      <td>None</td>\n",
              "      <td>None</td>\n",
              "      <td>None</td>\n",
              "      <td>None</td>\n",
              "    </tr>\n",
              "  </tbody>\n",
              "</table>\n",
              "<p>5 rows × 22 columns</p>\n",
              "</div>"
            ],
            "text/plain": [
              "                                              readme              label0  \\\n",
              "1  \"  BackupD  A simple backup http server to sto...             express   \n",
              "2  \"  Angular Hitmands Auth [![Build Status](http...             express   \n",
              "4  \"KeystoneJS Forums ===============  Abandoned....              moment   \n",
              "5  \"![MarkUs logo](http://markusproject.org/img/m...  babel-preset-react   \n",
              "6  \"bezier-easing-editor ==================== Cub...  babel-preset-react   \n",
              "\n",
              "                    label1     label2 label3 label4 label5 label6 label7  \\\n",
              "1                   moment       None   None   None   None   None   None   \n",
              "2  grunt-angular-templates       None   None   None   None   None   None   \n",
              "4          moment-timezone       None   None   None   None   None   None   \n",
              "5                    react  react-dom   None   None   None   None   None   \n",
              "6                     None       None   None   None   None   None   None   \n",
              "\n",
              "  label8   ...   label11 label12 label13 label14 label15 label16 label17  \\\n",
              "1   None   ...      None    None    None    None    None    None    None   \n",
              "2   None   ...      None    None    None    None    None    None    None   \n",
              "4   None   ...      None    None    None    None    None    None    None   \n",
              "5   None   ...      None    None    None    None    None    None    None   \n",
              "6   None   ...      None    None    None    None    None    None    None   \n",
              "\n",
              "  label18 label19 label20  \n",
              "1    None    None    None  \n",
              "2    None    None    None  \n",
              "4    None    None    None  \n",
              "5    None    None    None  \n",
              "6    None    None    None  \n",
              "\n",
              "[5 rows x 22 columns]"
            ]
          },
          "metadata": {
            "tags": []
          },
          "execution_count": 33
        }
      ]
    },
    {
      "metadata": {
        "id": "_EEua8E-8hJ4",
        "colab_type": "code",
        "colab": {
          "base_uri": "https://localhost:8080/",
          "height": 34
        },
        "outputId": "d3929f2d-9d39-4497-9bc5-39495173faab"
      },
      "cell_type": "code",
      "source": [
        "dataset.shape"
      ],
      "execution_count": 34,
      "outputs": [
        {
          "output_type": "execute_result",
          "data": {
            "text/plain": [
              "(10989, 22)"
            ]
          },
          "metadata": {
            "tags": []
          },
          "execution_count": 34
        }
      ]
    },
    {
      "metadata": {
        "id": "eENfM-HYeoWU",
        "colab_type": "code",
        "colab": {}
      },
      "cell_type": "code",
      "source": [
        "# Write the dataset into a file\n",
        "dataset.to_csv('githubreadmepackage.csv',index=False,header=False)"
      ],
      "execution_count": 0,
      "outputs": []
    },
    {
      "metadata": {
        "id": "bLP7SCB6etV9",
        "colab_type": "code",
        "colab": {}
      },
      "cell_type": "code",
      "source": [
        "input_file = open('githubreadmepackage.csv')\n",
        "output_file = open('github_readme_package.csv','wt')"
      ],
      "execution_count": 0,
      "outputs": []
    },
    {
      "metadata": {
        "id": "x3vF-8GWgneu",
        "colab_type": "code",
        "colab": {}
      },
      "cell_type": "code",
      "source": [
        "def clean_line(line):\n",
        "  txt = line\n",
        "  pattern = re.compile(r'(,){2,}')\n",
        "  txt = re.sub(pattern, ' ', txt)\n",
        "  pattern = re.compile(r'( ){2,}')\n",
        "  txt = re.sub(pattern, ' ', txt)\n",
        "  pattern = re.compile(r'(\"){3}')\n",
        "  txt = re.sub(pattern, r'\"', txt)\n",
        "  return txt"
      ],
      "execution_count": 0,
      "outputs": []
    },
    {
      "metadata": {
        "id": "WZoZmusC_8sk",
        "colab_type": "code",
        "colab": {}
      },
      "cell_type": "code",
      "source": [
        "for line in input_file:\n",
        "  cline = clean_line(line)\n",
        "  if not cline.startswith('\\\" \\\",', 0, 4):\n",
        "    output_file.write(cline)"
      ],
      "execution_count": 0,
      "outputs": []
    },
    {
      "metadata": {
        "id": "WNkkRDinsDMd",
        "colab_type": "code",
        "colab": {}
      },
      "cell_type": "code",
      "source": [
        "files.download('github_readme_package.csv')"
      ],
      "execution_count": 0,
      "outputs": []
    },
    {
      "metadata": {
        "id": "VSG-Oc6kZPuj",
        "colab_type": "text"
      },
      "cell_type": "markdown",
      "source": [
        "# Training data"
      ]
    },
    {
      "metadata": {
        "id": "ug3hlruehFex",
        "colab_type": "code",
        "colab": {}
      },
      "cell_type": "code",
      "source": [
        "# One-hot encoding of packages in repos\n",
        "n_repos=data.shape[0]\n",
        "n_pkgs=len(packages)\n",
        "y = np.zeros((n_repos,n_pkgs))\n",
        "for n_repo, i in zip(range(len(data.index)),data.index):\n",
        "  for n_pkg, pkg in zip(range(len(packages)),packages):\n",
        "    if pkg in data['package_info'][i]:\n",
        "      y[n_repo,n_pkg] = 1"
      ],
      "execution_count": 0,
      "outputs": []
    },
    {
      "metadata": {
        "id": "so6DHBjQaeGl",
        "colab_type": "code",
        "colab": {}
      },
      "cell_type": "code",
      "source": [
        "readme_train=data[\"readme\"]\n",
        "max_features = 1000\n",
        "tokenizer = Tokenizer(num_words=max_features)\n",
        "tokenizer.fit_on_texts(list(readme_train))\n",
        "readme_tokenized_train = tokenizer.texts_to_sequences(readme_train)"
      ],
      "execution_count": 0,
      "outputs": []
    },
    {
      "metadata": {
        "id": "GuRY7yvTl3Yu",
        "colab_type": "code",
        "colab": {
          "base_uri": "https://localhost:8080/",
          "height": 187
        },
        "outputId": "28502dbe-b8a0-4641-bed6-49d8ff699366"
      },
      "cell_type": "code",
      "source": [
        "dir(tokenizer)\n",
        "print(tokenizer.word_counts)"
      ],
      "execution_count": 42,
      "outputs": [
        {
          "output_type": "stream",
          "text": [
            "IOPub data rate exceeded.\n",
            "The notebook server will temporarily stop sending output\n",
            "to the client in order to avoid crashing it.\n",
            "To change this limit, set the config variable\n",
            "`--NotebookApp.iopub_data_rate_limit`.\n",
            "\n",
            "Current values:\n",
            "NotebookApp.iopub_data_rate_limit=1000000.0 (bytes/sec)\n",
            "NotebookApp.rate_limit_window=3.0 (secs)\n",
            "\n"
          ],
          "name": "stderr"
        }
      ]
    },
    {
      "metadata": {
        "id": "TJ38YQF1Xcm7",
        "colab_type": "code",
        "colab": {}
      },
      "cell_type": "code",
      "source": [
        "maxlen = 500\n",
        "X_t = pad_sequences(readme_tokenized_train, maxlen=maxlen)"
      ],
      "execution_count": 0,
      "outputs": []
    },
    {
      "metadata": {
        "id": "2xJ3AnaZXxX3",
        "colab_type": "code",
        "colab": {
          "base_uri": "https://localhost:8080/",
          "height": 347
        },
        "outputId": "5b016dc3-74e1-43a9-efae-cea4d2c8a0e2"
      },
      "cell_type": "code",
      "source": [
        "totalNumWords = [len(readme) for readme in readme_tokenized_train]\n",
        "plt.hist(totalNumWords,bins = np.arange(0,maxlen+10,10))\n",
        "plt.show()"
      ],
      "execution_count": 44,
      "outputs": [
        {
          "output_type": "display_data",
          "data": {
            "image/png": "[encoded data removed]",
            "text/plain": [
              "<matplotlib.figure.Figure at 0x7fb66f196748>"
            ]
          },
          "metadata": {
            "tags": []
          }
        }
      ]
    },
    {
      "metadata": {
        "id": "hticX7mn_tbM",
        "colab_type": "text"
      },
      "cell_type": "markdown",
      "source": [
        "# Bag of Words Model"
      ]
    },
    {
      "metadata": {
        "id": "dZTD6JvOCHJs",
        "colab_type": "text"
      },
      "cell_type": "markdown",
      "source": [
        "## Building the model"
      ]
    },
    {
      "metadata": {
        "id": "1DktYnGACA1l",
        "colab_type": "code",
        "colab": {}
      },
      "cell_type": "code",
      "source": [
        "# Build the model\n",
        "model = Sequential()\n",
        "model.add(Dense(512, input_shape=(maxlen,)))\n",
        "model.add(Activation('relu'))\n",
        "model.add(Dropout(0.5))\n",
        "model.add(Dense(512, input_shape=(maxlen,)))\n",
        "model.add(Activation('relu'))\n",
        "model.add(Dropout(0.5))\n",
        "model.add(Dense(n_packages))\n",
        "model.add(Activation('sigmoid'))\n",
        "\n",
        "model.compile(loss='mean_squared_error',\n",
        "              optimizer='adam',\n",
        "              metrics=['accuracy'])"
      ],
      "execution_count": 0,
      "outputs": []
    },
    {
      "metadata": {
        "id": "P1T5S4cxEqvn",
        "colab_type": "code",
        "colab": {
          "base_uri": "https://localhost:8080/",
          "height": 408
        },
        "outputId": "4ed330f6-92f3-407e-9f59-ea53f2baa57d"
      },
      "cell_type": "code",
      "source": [
        "model.summary()"
      ],
      "execution_count": 46,
      "outputs": [
        {
          "output_type": "stream",
          "text": [
            "_________________________________________________________________\n",
            "Layer (type)                 Output Shape              Param #   \n",
            "=================================================================\n",
            "dense_1 (Dense)              (None, 512)               256512    \n",
            "_________________________________________________________________\n",
            "activation_1 (Activation)    (None, 512)               0         \n",
            "_________________________________________________________________\n",
            "dropout_1 (Dropout)          (None, 512)               0         \n",
            "_________________________________________________________________\n",
            "dense_2 (Dense)              (None, 512)               262656    \n",
            "_________________________________________________________________\n",
            "activation_2 (Activation)    (None, 512)               0         \n",
            "_________________________________________________________________\n",
            "dropout_2 (Dropout)          (None, 512)               0         \n",
            "_________________________________________________________________\n",
            "dense_3 (Dense)              (None, 60)                30780     \n",
            "_________________________________________________________________\n",
            "activation_3 (Activation)    (None, 60)                0         \n",
            "=================================================================\n",
            "Total params: 549,948\n",
            "Trainable params: 549,948\n",
            "Non-trainable params: 0\n",
            "_________________________________________________________________\n"
          ],
          "name": "stdout"
        }
      ]
    },
    {
      "metadata": {
        "id": "yPJJF6G5D6uq",
        "colab_type": "text"
      },
      "cell_type": "markdown",
      "source": [
        "## Training"
      ]
    },
    {
      "metadata": {
        "id": "p_QqahN1CC5l",
        "colab_type": "code",
        "colab": {
          "base_uri": "https://localhost:8080/",
          "height": 731
        },
        "outputId": "18c234cd-c18a-444a-c4f0-c82bbf684034"
      },
      "cell_type": "code",
      "source": [
        "batch_size = 32\n",
        "epochs = 20\n",
        "model.fit(X_t,y, batch_size=batch_size, epochs=epochs, validation_split=0.1)"
      ],
      "execution_count": 47,
      "outputs": [
        {
          "output_type": "stream",
          "text": [
            "Train on 9890 samples, validate on 1099 samples\n",
            "Epoch 1/20\n",
            "9890/9890 [==============================] - 5s 518us/step - loss: 0.0686 - acc: 0.1798 - val_loss: 0.0544 - val_acc: 0.2011\n",
            "Epoch 2/20\n",
            "9890/9890 [==============================] - 5s 460us/step - loss: 0.0515 - acc: 0.2110 - val_loss: 0.0543 - val_acc: 0.2011\n",
            "Epoch 3/20\n",
            "9890/9890 [==============================] - 5s 471us/step - loss: 0.0513 - acc: 0.2124 - val_loss: 0.0543 - val_acc: 0.2011\n",
            "Epoch 4/20\n",
            "9890/9890 [==============================] - 5s 461us/step - loss: 0.0513 - acc: 0.2126 - val_loss: 0.0543 - val_acc: 0.2011\n",
            "Epoch 5/20\n",
            "9890/9890 [==============================] - 5s 468us/step - loss: 0.0514 - acc: 0.2117 - val_loss: 0.0543 - val_acc: 0.2011\n",
            "Epoch 6/20\n",
            "9890/9890 [==============================] - 5s 464us/step - loss: 0.0513 - acc: 0.2123 - val_loss: 0.0543 - val_acc: 0.2011\n",
            "Epoch 7/20\n",
            "9890/9890 [==============================] - 5s 467us/step - loss: 0.0513 - acc: 0.2121 - val_loss: 0.0543 - val_acc: 0.2011\n",
            "Epoch 8/20\n",
            "9890/9890 [==============================] - 4s 451us/step - loss: 0.0513 - acc: 0.2126 - val_loss: 0.0543 - val_acc: 0.2011\n",
            "Epoch 9/20\n",
            "9890/9890 [==============================] - 4s 449us/step - loss: 0.0512 - acc: 0.2127 - val_loss: 0.0543 - val_acc: 0.2011\n",
            "Epoch 10/20\n",
            "9890/9890 [==============================] - 4s 453us/step - loss: 0.0513 - acc: 0.2124 - val_loss: 0.0543 - val_acc: 0.2011\n",
            "Epoch 11/20\n",
            "9890/9890 [==============================] - 4s 455us/step - loss: 0.0513 - acc: 0.2126 - val_loss: 0.0543 - val_acc: 0.2011\n",
            "Epoch 12/20\n",
            "9890/9890 [==============================] - 5s 457us/step - loss: 0.0513 - acc: 0.2129 - val_loss: 0.0543 - val_acc: 0.2011\n",
            "Epoch 13/20\n",
            "9890/9890 [==============================] - 5s 459us/step - loss: 0.0512 - acc: 0.2127 - val_loss: 0.0543 - val_acc: 0.2011\n",
            "Epoch 14/20\n",
            "9890/9890 [==============================] - 5s 461us/step - loss: 0.0512 - acc: 0.2126 - val_loss: 0.0543 - val_acc: 0.2011\n",
            "Epoch 15/20\n",
            "9890/9890 [==============================] - 5s 457us/step - loss: 0.0512 - acc: 0.2125 - val_loss: 0.0543 - val_acc: 0.2011\n",
            "Epoch 16/20\n",
            "9890/9890 [==============================] - 5s 461us/step - loss: 0.0512 - acc: 0.2128 - val_loss: 0.0543 - val_acc: 0.2011\n",
            "Epoch 17/20\n",
            "9890/9890 [==============================] - 5s 460us/step - loss: 0.0512 - acc: 0.2128 - val_loss: 0.0543 - val_acc: 0.2011\n",
            "Epoch 18/20\n",
            "9890/9890 [==============================] - 5s 460us/step - loss: 0.0512 - acc: 0.2126 - val_loss: 0.0543 - val_acc: 0.2011\n",
            "Epoch 19/20\n",
            "9890/9890 [==============================] - 5s 465us/step - loss: 0.0513 - acc: 0.2126 - val_loss: 0.0543 - val_acc: 0.2011\n",
            "Epoch 20/20\n",
            "9890/9890 [==============================] - 5s 462us/step - loss: 0.0514 - acc: 0.2127 - val_loss: 0.0543 - val_acc: 0.2011\n"
          ],
          "name": "stdout"
        },
        {
          "output_type": "execute_result",
          "data": {
            "text/plain": [
              "<keras.callbacks.History at 0x7fb66f1a72b0>"
            ]
          },
          "metadata": {
            "tags": []
          },
          "execution_count": 47
        }
      ]
    },
    {
      "metadata": {
        "id": "lqWZFZdplrHv",
        "colab_type": "text"
      },
      "cell_type": "markdown",
      "source": [
        "## Evaluation"
      ]
    },
    {
      "metadata": {
        "id": "cL43qNhrEVrD",
        "colab_type": "code",
        "colab": {
          "base_uri": "https://localhost:8080/",
          "height": 364
        },
        "outputId": "bcb88180-aafc-4a01-af67-151aa6d957dc"
      },
      "cell_type": "code",
      "source": [
        "n_t=1\n",
        "x_tst=np.reshape(X_t[n_t,:],(1,maxlen))\n",
        "plt.plot(y[n_t,:])"
      ],
      "execution_count": 48,
      "outputs": [
        {
          "output_type": "execute_result",
          "data": {
            "text/plain": [
              "[<matplotlib.lines.Line2D at 0x7fb66f196438>]"
            ]
          },
          "metadata": {
            "tags": []
          },
          "execution_count": 48
        },
        {
          "output_type": "display_data",
          "data": {
            "image/png": "[encoded data removed]",
            "text/plain": [
              "<matplotlib.figure.Figure at 0x7fb66a1f0438>"
            ]
          },
          "metadata": {
            "tags": []
          }
        }
      ]
    },
    {
      "metadata": {
        "id": "yutpTtvjEYBv",
        "colab_type": "code",
        "colab": {
          "base_uri": "https://localhost:8080/",
          "height": 364
        },
        "outputId": "57626d2c-2340-4f98-ce9a-4cf9e61b5bb1"
      },
      "cell_type": "code",
      "source": [
        "y_p = model.predict(x_tst, verbose=0)[0]\n",
        "plt.plot(y_p)"
      ],
      "execution_count": 49,
      "outputs": [
        {
          "output_type": "execute_result",
          "data": {
            "text/plain": [
              "[<matplotlib.lines.Line2D at 0x7fb667973128>]"
            ]
          },
          "metadata": {
            "tags": []
          },
          "execution_count": 49
        },
        {
          "output_type": "display_data",
          "data": {
            "image/png": "[encoded data removed]",
            "text/plain": [
              "<matplotlib.figure.Figure at 0x7fb66f199c88>"
            ]
          },
          "metadata": {
            "tags": []
          }
        }
      ]
    },
    {
      "metadata": {
        "id": "pI6xp1JLEUaO",
        "colab_type": "text"
      },
      "cell_type": "markdown",
      "source": [
        "## Prediction"
      ]
    }
  ]
}