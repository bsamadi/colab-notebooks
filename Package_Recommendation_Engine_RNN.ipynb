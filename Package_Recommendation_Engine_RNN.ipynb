{
  "nbformat": 4,
  "nbformat_minor": 0,
  "metadata": {
    "colab": {
      "name": "Package Recommendation Engine - RNN.ipynb",
      "version": "0.3.2",
      "provenance": [],
      "collapsed_sections": [
        "qVu3yEACC45f",
        "xcwbeBIKNLVk",
        "91Qswcs-Racr",
        "YLscgV61RK_L",
        "VSG-Oc6kZPuj",
        "4Wg_p5YxjEuM",
        "wzuV40b0Bdo1",
        "fMHGgz8GE4eC",
        "JUE1Wa8ESmh3"
      ],
      "include_colab_link": true
    },
    "kernelspec": {
      "name": "python3",
      "display_name": "Python 3"
    }
  },
  "cells": [
    {
      "cell_type": "markdown",
      "metadata": {
        "id": "view-in-github",
        "colab_type": "text"
      },
      "source": [
        "[View in Colaboratory](https://colab.research.google.com/github/connected-bsamadi/colab-notebooks/blob/master/Package_Recommendation_Engine_RNN.ipynb)"
      ]
    },
    {
      "metadata": {
        "id": "qVu3yEACC45f",
        "colab_type": "text"
      },
      "cell_type": "markdown",
      "source": [
        "# Setting up"
      ]
    },
    {
      "metadata": {
        "id": "0XeiWi7llE07",
        "colab_type": "code",
        "colab": {}
      },
      "cell_type": "code",
      "source": [
        "# Google Cloud authentication\n",
        "from google.colab import auth\n",
        "auth.authenticate_user()"
      ],
      "execution_count": 0,
      "outputs": []
    },
    {
      "metadata": {
        "id": "9qLqtNVSEYIl",
        "colab_type": "code",
        "colab": {}
      },
      "cell_type": "code",
      "source": [
        "# Installing packages\n",
        "!pip install nltk > /dev/null\n",
        "!pip install rake-nltk > /dev/null\n",
        "!pip install just > /dev/null\n"
      ],
      "execution_count": 0,
      "outputs": []
    },
    {
      "metadata": {
        "id": "cs_R3Keakxdj",
        "colab_type": "code",
        "colab": {
          "base_uri": "https://localhost:8080/"
        },
        "outputId": "c0a34024-5315-4ca7-af89-f97ae26b3f92"
      },
      "cell_type": "code",
      "source": [
        "# Download a list of stop words for RAKE\n",
        "!wget https://raw.githubusercontent.com/zelandiya/RAKE-tutorial/master/data/stoplists/SmartStoplist.txt > /dev/null"
      ],
      "execution_count": 0,
      "outputs": [
        {
          "output_type": "stream",
          "text": [
            "\n",
            "Redirecting output to ‘wget-log.6’.\n"
          ],
          "name": "stdout"
        }
      ]
    },
    {
      "metadata": {
        "id": "F7IOueubz7XD",
        "colab_type": "code",
        "colab": {
          "base_uri": "https://localhost:8080/"
        },
        "outputId": "31884e97-eed7-40f5-8f2b-a3404bc4b03b"
      },
      "cell_type": "code",
      "source": [
        "from google.cloud import bigquery\n",
        "import json\n",
        "import re\n",
        "import pandas\n",
        "from rake_nltk import Rake\n",
        "import sys\n",
        "import just\n",
        "import numpy as np\n",
        "import matplotlib.pyplot as plt\n",
        "from collections import Counter\n",
        "from keras.models import Sequential\n",
        "from keras.layers import Activation, Dense\n",
        "from keras.layers import LSTM\n",
        "from keras.optimizers import RMSprop"
      ],
      "execution_count": 0,
      "outputs": [
        {
          "output_type": "stream",
          "text": [
            "Using TensorFlow backend.\n"
          ],
          "name": "stderr"
        }
      ]
    },
    {
      "metadata": {
        "id": "eUJxhFqJM8Qf",
        "colab_type": "code",
        "colab": {}
      },
      "cell_type": "code",
      "source": [
        "# Assigning the project name and creating the BigQuery client\n",
        "# https://cloud.google.com/resource-manager/docs/creating-managing-projects\n",
        "project_id = 'ontario-2018'\n",
        "client = bigquery.Client(project=project_id)"
      ],
      "execution_count": 0,
      "outputs": []
    },
    {
      "metadata": {
        "id": "xcwbeBIKNLVk",
        "colab_type": "text"
      },
      "cell_type": "markdown",
      "source": [
        "# Data Query\n",
        "BigQuery is used to get the data from the github_repos dataset."
      ]
    },
    {
      "metadata": {
        "id": "t81Olv1jMWLf",
        "colab_type": "code",
        "colab": {}
      },
      "cell_type": "code",
      "source": [
        "# Legacy SQL is used\n",
        "job_config = bigquery.job.QueryJobConfig()\n",
        "job_config.use_legacy_sql=True"
      ],
      "execution_count": 0,
      "outputs": []
    },
    {
      "metadata": {
        "id": "91Qswcs-Racr",
        "colab_type": "text"
      },
      "cell_type": "markdown",
      "source": [
        "## Extracting packages"
      ]
    },
    {
      "metadata": {
        "id": "sFJRNRdPRgit",
        "colab_type": "code",
        "colab": {}
      },
      "cell_type": "code",
      "source": [
        "### Get packages from big query\n",
        "query = ('''\n",
        "SELECT sample_repo_name, content\n",
        "FROM [bigquery-public-data:github_repos.sample_contents] contents\n",
        "INNER JOIN [bigquery-public-data:github_repos.sample_files] files\n",
        "  ON contents.id = files.id\n",
        "INNER JOIN [bigquery-public-data:github_repos.sample_repos] repos\n",
        "  ON contents.sample_repo_name = repos.repo_name\n",
        "WHERE files.path = 'package.json' AND repos.watch_count > 1000\n",
        "''')\n",
        "query_job = client.query(query,job_config)\n",
        "package_results = query_job.to_dataframe().values"
      ],
      "execution_count": 0,
      "outputs": []
    },
    {
      "metadata": {
        "id": "7EQsdb2kNGFG",
        "colab_type": "code",
        "colab": {}
      },
      "cell_type": "code",
      "source": [
        "### Transform package_results into package_array\n",
        "package_array = []\n",
        "package_reponame_array = []\n",
        "for package in package_results:\n",
        "    repo_obj = json.loads(package[1])\n",
        "    package_record = {}\n",
        "    package_record[\"reponame\"] = package[0]\n",
        "    package_reponame_array.append(package[0])\n",
        "    if \"name\" in repo_obj:\n",
        "      package_record[\"name\"] = repo_obj[\"name\"]\n",
        "    if \"devDependencies\" in repo_obj:\n",
        "      dev_dependencies = repo_obj[\"devDependencies\"]\n",
        "      if (len(dev_dependencies) > 0):\n",
        "        package_record[\"devDependencies\"] = dev_dependencies\n",
        "    if \"dependencies\" in repo_obj:\n",
        "      dependencies = repo_obj[\"dependencies\"]\n",
        "      if (len(dependencies) > 0):\n",
        "        package_record[\"dependencies\"] = dependencies\n",
        "    if \"keywords\" in repo_obj:\n",
        "      keywords = repo_obj[\"keywords\"]\n",
        "      if (len(keywords) > 0):\n",
        "        package_record[\"keywords\"] = keywords\n",
        "    package_array.append(package_record)"
      ],
      "execution_count": 0,
      "outputs": []
    },
    {
      "metadata": {
        "id": "YLscgV61RK_L",
        "colab_type": "text"
      },
      "cell_type": "markdown",
      "source": [
        "## Extracting Readme Files"
      ]
    },
    {
      "metadata": {
        "id": "23hOpMn0EOvJ",
        "colab_type": "code",
        "colab": {
          "base_uri": "https://localhost:8080/",
          "height": 51
        },
        "outputId": "20bddcdd-5a72-4d05-f5c8-ba0bb8aaae76"
      },
      "cell_type": "code",
      "source": [
        "### Get README.md files from big query\n",
        "\n",
        "job_config = bigquery.job.QueryJobConfig()\n",
        "job_config.use_legacy_sql=False\n",
        "query = ('''SELECT files.repo_name, content\n",
        "FROM `bigquery-public-data.github_repos.contents` contents\n",
        "INNER JOIN `bigquery-public-data.github_repos.files` files\n",
        "  ON contents.id = files.id\n",
        "WHERE files.path IN ('readme.md','Readme.md', 'README.md', 'README.MD') AND files.repo_name IN UNNEST(@repolist)\n",
        "''')\n",
        "\n",
        "query_params = [\n",
        "    bigquery.ArrayQueryParameter('repolist', 'STRING', package_reponame_array)\n",
        "]\n",
        "job_config.query_parameters = query_params\n",
        "query_job = client.query(query,job_config)\n",
        "readme_results = query_job.to_dataframe().values\n",
        "print(len(package_reponame_array))\n",
        "print(len(readme_results))"
      ],
      "execution_count": 0,
      "outputs": [
        {
          "output_type": "stream",
          "text": [
            "25\n",
            "22\n"
          ],
          "name": "stdout"
        }
      ]
    },
    {
      "metadata": {
        "id": "9NKXKxtuLNBL",
        "colab_type": "code",
        "colab": {}
      },
      "cell_type": "code",
      "source": [
        "### Transform readme_results into readme_array\n",
        "\n",
        "readme_array = []\n",
        "for readme_interim in readme_results:\n",
        "  readme_record = {}\n",
        "  readme_record[\"reponame\"] = readme_interim[0]\n",
        "  readme_record[\"content\"] = readme_interim[1]\n",
        "  readme_array.append(readme_record)"
      ],
      "execution_count": 0,
      "outputs": []
    },
    {
      "metadata": {
        "id": "VSG-Oc6kZPuj",
        "colab_type": "text"
      },
      "cell_type": "markdown",
      "source": [
        "# Creating training data"
      ]
    },
    {
      "metadata": {
        "id": "xvOmdIICO-SR",
        "colab_type": "code",
        "colab": {}
      },
      "cell_type": "code",
      "source": [
        "### Load the content of SmartStoplist.txt into stop_words\n",
        "\n",
        "stop_words=[]\n",
        "with open(\"SmartStoplist.txt\", 'r') as f:\n",
        "    for i, x in enumerate(f):\n",
        "        if 1 <= i:\n",
        "            stop_words.append(x.rstrip())"
      ],
      "execution_count": 0,
      "outputs": []
    },
    {
      "metadata": {
        "id": "vetcC0I-R5eh",
        "colab_type": "code",
        "colab": {}
      },
      "cell_type": "code",
      "source": [
        "### Extract keywords using Rake\n",
        "\n",
        "rake = Rake(stopwords=stop_words, max_length=1)\n",
        "concatenated_readme = ''\n",
        "for readme in readme_array:\n",
        "  concatenated_readme = concatenated_readme + readme[\"content\"]\n",
        "rake.extract_keywords_from_text(concatenated_readme)\n",
        "ranked_phrases = rake.get_ranked_phrases()"
      ],
      "execution_count": 0,
      "outputs": []
    },
    {
      "metadata": {
        "id": "aoYCyfUBccfq",
        "colab_type": "code",
        "colab": {
          "base_uri": "https://localhost:8080/",
          "height": 71
        },
        "outputId": "a7264958-13ec-4fa7-8eb7-7d2d309902fd"
      },
      "cell_type": "code",
      "source": [
        "### Remove all non-english characters\n",
        "\n",
        "pattern = re.compile(\"[a-zA-Z0-9]\")\n",
        "input_nodes = list(filter(lambda x: bool(re.match(pattern, x)), ranked_phrases))\n",
        "input_nodes = list(filter(lambda x: len(x)>1, input_nodes))\n",
        "print(input_nodes)\n",
        "len(input_nodes)"
      ],
      "execution_count": 0,
      "outputs": [
        {
          "output_type": "stream",
          "text": [
            "['zos', 'zip', 'zh_cn', 'zfy6ll7efa', 'zenparsing', 'zen', 'youtube', 'youtu', 'yielded', 'yieldables', 'yieldable', 'yield', 'yelouafi', 'yellowgreen', 'yellowapple', 'yellow', 'years', 'yarn', 'yandex', 'xojs', 'xo', 'xmlhttprequest', 'xcodeproj', 'xcode', 'wrong', 'written', 'writing', 'write', 'wrap', 'wpo', 'wow', 'worry', 'world', 'works', 'working', 'workarounds', 'workaround', 'work', 'won', 'withgoogle', 'windowscroller', 'windows', 'windowing', 'window', 'win', 'wikipedia', 'wiki', 'width', 'white', 'whatwg', 'weststrate', 'welcoming', 'weeks', 'webstorm', 'webstore', 'website', 'websemantics', 'webscr', 'webpagetest', 'webpack', 'web', 'wearejh', 'ways', 'watches', 'watch', 'wasn', 'warranty', 'warranties', 'warnings', 'warning', 'warn', 'wait', 'vue', 'vscode', 'voted', 'vortex', 'voorhoede', 'voila', 'visualization', 'visiting', 'visit', 'visionmedia', 'virtualized', 'virtualization', 'viewport', 'viewmodel', 'viewer', 'view', 'videos', 'vi', 'versions', 'version', 'verify', 'verbose', 'vendor', 'ved', 've', 'vars', 'variable', 'vampolo', 'values', 'validator', 'validated', 'val', 'vadimdemedes', 'v5', 'v4', 'v3', 'v2', 'v1', 'v0', 'uvk9zassm8q', 'utm_source', 'utm_medium', 'utm_content', 'utm_campaign', 'utilize', 'usp', 'usingautosizer', 'users', 'username', 'userid', 'user_fetch_requested', 'user', 'useable', 'usd', 'usage', 'urls', 'url', 'uploaded', 'upload', 'upgrade', 'updating', 'updates', 'updated', 'update', 'unzip', 'unprefixed', 'unprefix', 'unpkg', 'unopinionated', 'unobtrusiveness', 'unlink', 'unlike', 'units', 'unit', 'unique', 'uniform', 'unfinishedtodocount', 'unexpected', 'understanding', 'unconditionally', 'uncompressed', 'unavailable', 'unable', 'umd', 'ul', 'ui', 'ug32xx0o3l', 'typically', 'typescriptlang', 'typescript', 'types', 'typeerror', 'typed', 'type', 'ty', 'txt', 'twitter', 'twiliosms', 'twilioipm', 'tweet', 'tweak', 'tutorials', 'turning', 'turned', 'turn', 'tsconfig', 'truthy', 'true', 'trough', 'troubleshooting', 'triggers', 'trigger', 'tricks', 'treo', 'tree', 'treated', 'treasuredata', 'travis', 'transpiles', 'transpile', 'transpilation', 'translation', 'translate', 'transition', 'transformation', 'transform', 'tracked', 'track', 'trace', 'tower', 'touch', 'tos', 'tort', 'top', 'tootallnate', 'tooltips', 'tooltip', 'tools', 'toolkit', 'tooling', 'tool', 'tons', 'ton', 'tokei', 'toggles', 'toggled', 'toggle', 'todoview', 'todos', 'todolistview', 'todolist', 'todo', 'today', 'tmp', 'tldt', 'tldroid', 'tldr_viewer', 'tldr_elixir_client', 'tldr', 'tlcr', 'tl', 'tj', 'titles', 'title', 'tired', 'tiny', 'timing', 'timeseries', 'times', 'timer', 'timeouts', 'timeout', 'timeline', 'time', 'ticking', 'thunks', 'thunk', 'thumb', 'throwsasync', 'thrown', 'thrower', 'throw', 'throttling', 'threaded', 'thread', 'things', 'thing', 'themes', 'theme', 'thearegee', 'tether', 'tests', 'testing', 'test', 'terminology', 'terminal', 'templates', 'template', 'tempfile', 'temp', 'technically', 'technical', 'teams', 'team', 'tealdeer', 'tdlmbo_hzsbp8tmg', 'tc39', 'taylorhakes', 'tasks', 'targetting', 'target', 'tape', 'tap', 'taobao', 'talks', 'talking', 'talk', 'takes', 'takelatest', 'takeevery', 'tags', 'tagged', 'tag', 'tablewithnaturalsort', 'table', 'tabindex', 't7cujdu', 'systemjs', 'system', 'syntax', 'synchronous', 'sync', 'symbol', 'sylvainpolletvillard', 'swiper3', 'swiper2', 'swiper', 'svg', 'surprised', 'surfaced', 'surface', 'suppose', 'supports', 'supported', 'support', 'supplying', 'supply', 'superraytin', 'super', 'summary', 'suitable', 'suggest', 'success', 'subset', 'subsequent', 'subprocesses', 'submitted', 'submit', 'submission', 'sublime', 'sublicense', 'subject', 'subdomain', 'stylus', 'styles', 'stylelint', 'style', 'studio', 'structure', 'strong', 'strive', 'string', 'straightforward', 'straight', 'storing', 'stores', 'stored', 'store', 'storage', 'step', 'stdout', 'statustext', 'statuses', 'status', 'stats', 'statistics', 'statement', 'state', 'stashed', 'startup', 'starter', 'started', 'start', 'stars', 'star', 'standard', 'stand', 'stale', 'stage', 'stable', 'srsudar', 'src', 'squeeze', 'square', 'spying', 'spring', 'spreadsheets', 'spread', 'sponsors', 'sponsored', 'sponsor', 'spin', 'speedcurve', 'specification', 'special', 'spec', 'spawns', 'spacing', 'space', 'sources', 'sourcemaps', 'source', 'sotojuan', 'sorting', 'sorted', 'sortable', 'sonnylazuardi', 'somelibname', 'solve', 'solution', 'solo', 'software', 'social', 'snippets', 'snippetoptions', 'snippet', 'snapshots', 'snapshot', 'snap', 'smart', 'slowed', 'slow', 'slightly', 'slider', 'slashing', 'slack', 'skipping', 'skipped', 'skip', 'size', 'sites', 'site_request_forgery_', 'site', 'single', 'sindresorhus', 'simply', 'simplified', 'simplicity', 'simplest', 'simpler', 'simple', 'similarly', 'similar', 'signing', 'signal', 'sig', 'side', 'shown', 'show', 'shouldn', 'short', 'shoichikaji', 'shirts', 'ships', 'shipped', 'shields', 'sharpened', 'sharing', 'shared', 'share', 'shallowcompare', 'shallow', 'shakyshane', 'sh', 'sg', 'setup', 'settings', 'setting', 'settimeout', 'set', 'session', 'service', 'server', 'serial', 'sending', 'send', 'semver', 'semantically', 'selectortimings', 'selectors', 'selectorcounts', 'selector', 'selected', 'select', 'security', 'section', 'search', 'seal', 'scss', 'scrollsync', 'scripts', 'script', 'screenshots', 'screenshot', 'screencast', 'screen', 'scores', 'scientific', 'science', 'schematics', 'scenario', 'scan', 'scale', 'scalable', 'sboudrias', 'saves', 'saved', 'save', 'satisfied', 'sass', 'samverschueren', 'sagas', 'sagamiddleware', 'saga', 'safeeval', 'safe', 'safari_48x48', 'safari', 'sa', 'rycochet', 'rxjs', 'rusty', 'rust', 'runtime', 'runs', 'running', 'run', 'rules', 'rule', 'ruby', 'ru_ru', 'rs', 'root', 'room', 'rollup', 'robot', 'roadmap', 'rnpm', 'rmsportal', 'rilut', 'rights', 'rgba', 'review', 'reverselist', 'returns', 'returned', 'return', 'results', 'result', 'restriction', 'rest', 'responsibility', 'response', 'respond', 'resources', 'resource', 'resolves', 'resolve', 'resolution', 'resizable', 'res', 'requires', 'requirejs', 'required', 'require', 'requests', 'request', 'req', 'repro', 'repository', 'repos', 'reports', 'reporting', 'reporter', 'reported', 'report', 'repo', 'reply', 'replied', 'replaced', 'repeated', 'repeat', 'rendertimings', 'rendering', 'rendered', 'rendercounts', 'render', 'rems', 'removed', 'remove', 'remix', 'remind', 'remember', 'remains', 'relying', 'relies', 'reliable', 'releases', 'released', 'release', 'relations', 'related', 'reject', 'registry', 'register', 'regions', 'regex', 'regenerator', 'regenerated', 'refguide', 'referral', 'references', 'reference', 'refer', 'reduxsaga', 'redux', 'reduces', 'reducer', 'redis', 'redirection', 'redirect', 'redbubble', 'recursed', 'recordunmountevent', 'recordrenderstopevent', 'recordrenderstartevent', 'recordmountevent', 'recordit', 'recorder', 'recorded', 'recommended', 'recommend', 'recipes', 'recipe', 'receiving', 'received', 'receive', 'rebelmail', 'reassign', 'reason', 'realize', 'real', 'ready', 'reads', 'readme_ru', 'readme_ja', 'readme', 'reading', 'readfile', 'readable', 'read', 'reactive_programming', 'reactive', 'reactions', 'reaction', 'reacted', 'react', 'reached', 'rc', 'raylee', 'raw', 'ratio', 'ranges', 'rails', 'radius', 'rackt', 'quit', 'quickstart', 'quickest', 'quick', 'questions', 'queries', 'python', 'py', 'px', 'pwa', 'putting', 'put', 'pushing', 'push', 'purpose', 'pulls', 'pubsub', 'publish', 'publicly', 'public', 'pt_br', 'psibi', 'prs', 'proxy', 'proxies', 'providing', 'providers', 'providedtitle', 'provided', 'provide', 'props', 'proposals', 'proposal', 'property', 'properties', 'proper', 'proof', 'pronunciation', 'pronounced', 'prompted', 'promises', 'promise', 'projects', 'projectdir', 'project', 'progress', 'programming', 'programmer', 'programmatically', 'profiling', 'profile', 'production', 'product', 'producing', 'produce', 'processors', 'processes', 'processed', 'process', 'problem', 'prints', 'printing', 'printed', 'previous', 'prevented', 'prettier', 'preset', 'presented', 'presentation', 'present', 'prepared', 'prelink', 'prefixes', 'prefixer', 'prefixed', 'prefix', 'preferences', 'prefer', 'predictable', 'precompiling', 'precompiled', 'precedence', 'pre', 'pranavraja', 'practices', 'practice', 'pr', 'pp1', 'pp', 'powered', 'power', 'postlink', 'postinstall', 'postimg', 'postgres', 'postcssjs', 'postcss', 'position', 'port', 'porras', 'pops', 'poppers', 'popperjs', 'popper', 'popovers', 'polyfills', 'polyfill', 'points', 'point', 'png', 'pm', 'plugins', 'plugin', 'pluggable', 'plist', 'pld3jnfklds7wsehsal2cfwg0fex7a6aok', 'playlist', 'playground', 'platforms', 'plans', 'planning', 'plan', 'places', 'placements', 'placeholders', 'placeholder', 'place', 'pixel', 'pivotal', 'pitfalls', 'pipeline', 'pipe', 'pify', 'picture', 'picking', 'picker', 'pick', 'phrases', 'php', 'philosophy', 'pg', 'perl', 'performant', 'performance', 'perform', 'perfect', 'percentiles', 'percentage', 'pepa65', 'people', 'pending', 'peers', 'paypalobjects', 'paypal', 'payload', 'paused', 'paulirish', 'patterns', 'pattern', 'patreon', 'path', 'patch', 'paste', 'past', 'password', 'passing', 'passes', 'passed', 'pass', 'parts', 'part', 'parsing', 'parsejson', 'parse', 'params', 'parameters', 'parallelism', 'parallel', 'panel', 'pairs', 'pain', 'pages', 'pageres', 'page__nav', 'page__main', 'page__head', 'page__footer', 'page', 'padding', 'packagr', 'packages', 'packager', 'packageinstance', 'package', 'owasp', 'overriding', 'overrides', 'override', 'output', 'outdated', 'ots', 'ostera', 'osjsorg', 'os', 'originates', 'origin', 'org', 'order', 'orange', 'options', 'optionally', 'optional', 'option', 'opting', 'optimizer', 'optimized', 'optimization', 'opposite', 'opposed', 'opinionated', 'operations', 'operate', 'opera_48x48', 'opera', 'opensourcenorth', 'opened', 'open', 'opacity', 'onupdate', 'online', 'onepage', 'onenotedev', 'oncreate', 'onclick', 'on_spectrum', 'omit', 'older', 'official', 'offer', 'obvious', 'obtaining', 'observer', 'observables', 'observable', 'objects', 'object', 'obj', 'obama', 'nyvnqkrl69s', 'nyc', 'nutellinoit', 'number', 'null', 'nuget', 'npx', 'npmjs', 'npm', 'novemberborn', 'november', 'notthrowsasync', 'note', 'noryn6gotvo', 'normalized', 'normalize', 'normal', 'nope', 'nontrivial', 'nonthrower', 'noninfringement', 'nolimits4web', 'noise', 'nodejs', 'node_modules', 'node_env', 'node', 'nnmlddkpgoecicoallmimonoboialpap', 'nl', 'nilj0', 'nightlies', 'nice', 'ngtools', 'ng', 'news', 'neutrino', 'network', 'net', 'nestedtimeline', 'nested', 'neighborhood999', 'needed', 'ndmitry', 'nay', 'navigation', 'nav', 'natively', 'native', 'names', 'named', 'mz', 'mysaga', 'mweststrate', 'multigrid', 'multicolumnsorttable', 'mt', 'mskims', 'mscdex', 'mozilla', 'moz', 'moving', 'move', 'months', 'monorepo', 'mongodb', 'modules', 'module', 'modular', 'modifying', 'modify', 'modifiers', 'modifier', 'modified', 'moderate', 'models', 'model', 'mode', 'moddus', 'mocha', 'mobxjs', 'mobx4', 'mobx', 'mobservable', 'mobile', 'mo', 'mixed', 'mit', 'mistake', 'miss', 'mirrors', 'minus', 'minmax', 'minimize', 'minimal', 'minified', 'mini', 'mind', 'min', 'milliseconds', 'mikaeljorhult', 'migrating', 'middlewares', 'middleware', 'middleman', 'microsoftedge', 'microsoft', 'michel', 'mic', 'mflint', 'metrics', 'metric', 'methods', 'method', 'metadata', 'messages', 'message', 'mess', 'merged', 'merge', 'merchantability', 'menu', 'mentioned', 'mendix', 'members', 'melpa', 'meet', 'medium', 'medis', 'media', 'mechanisms', 'mechanism', 'measuring', 'meant', 'means', 'meaning', 'md', 'max', 'mathematical', 'math', 'matching', 'matches', 'matcher', 'matched', 'match', 'master', 'masonry', 'martians', 'margin', 'maplimit', 'map', 'manually', 'manner', 'manekinekko', 'management', 'managed', 'manage', 'man', 'making', 'makes', 'make', 'maintenance', 'maintain', 'main', 'magic', 'made', 'macros', 'macro', 'macos', 'machine', 'mac', 'm4a', 'lukehoban', 'luisrudge', 'luin', 'lts', 'ls', 'lpg', 'lower', 'low', 'love', 'lots', 'lot', 'lord63', 'loops', 'longer', 'long', 'logos', 'logornpm_final4', 'logo_readme', 'logo', 'logging', 'logged', 'log', 'lodin', 'lodash', 'location', 'locate', 'localization', 'loading', 'loader', 'load', 'll', 'listening', 'listeners', 'listen', 'list', 'linux', 'lint', 'links', 'linkingsucceeded', 'linking', 'linked', 'link', 'linear', 'line', 'limited', 'limitations', 'limitation', 'likewise', 'lighthouse', 'lifecycle', 'licenses', 'license', 'library', 'libraries', 'libhive', 'liberapay', 'lib', 'liable', 'liability', 'li', 'lh4u', 'leveraging', 'levels', 'level', 'letting', 'lessons', 'lengthy', 'leighmcculloch', 'leave', 'learned', 'learncode', 'learn', 'leak', 'lead', 'lckifpakia', 'lc', 'layer', 'launched', 'launch', 'latest', 'larger', 'large', 'lang', 'landscape', 'labs', 'labels', 'labeled', 'label', 'l9', 'l81', 'l7', 'kuanyui', 'korean', 'ko_kr', 'knockout', 'kirillseva', 'kinds', 'kindly', 'kind', 'keywords', 'keys', 'keyboard', 'key', 'kevva', 'kdpgvgumpgfqahpjicrk', 'kbd', 'k8dr8bmu7', 'justinribeiro', 'jspm', 'json', 'jsdom', 'jsdelivr', 'jsc', 'js', 'jquery', 'jpg', 'jpeg', 'joytocode', 'jonsuh', 'jonathantneal', 'join', 'joelbarbosa', 'jlhwung', 'jhz3aaqobk', 'jfmengels', 'jest', 'jenius', 'jekyll', 'jeffjewiss', 'javascriptcore', 'javascript', 'jamestalmage', 'ja_jp', 'j30k46l7xw', 'ixzpn44trr', 'ivdgtxspnwlojlhrpkf1nwezfl8', 'iterable', 'items', 'item_name', 'it_it', 'istanbul', 'issuestats', 'issues', 'issue', 'isolation', 'isolated', 'ish', 'iq0', 'ios', 'ioredis', 'io', 'involves', 'invoked', 'inverse', 'introduction', 'introduces', 'introduced', 'introduce', 'intro', 'intricacies', 'internally', 'interfaces', 'interface', 'interesting', 'interested', 'interacting', 'intentions', 'intentional', 'intended', 'integrations', 'integration', 'integrate', 'instructions', 'instanceof', 'instance', 'installing', 'installed', 'installation', 'installable', 'install', 'instability', 'inspired', 'insist', 'insights', 'inside', 'insert', 'ins', 'inquirer', 'input', 'innerhtml', 'inlined', 'injecting', 'initialized', 'ing', 'information', 'info', 'influence', 'infiniteloader', 'infinite', 'infer', 'indirection', 'indexing', 'index', 'increasing', 'including', 'includes', 'included', 'include', 'improved', 'improve', 'improper', 'imported', 'important', 'import', 'implied', 'implements', 'implemented', 'implementation', 'implement', 'imperative_programming', 'imgur', 'img', 'images', 'image', 'imac', 'im', 'ignoreunknownversions', 'ignore', 'iexplore', 'ie9', 'ie11', 'ie10', 'ides', 'identical', 'ideas', 'ideal', 'idea', 'idangero', 'id1071725095', 'id1063631769', 'id', 'iamvdo', 'hybrids', 'human', 'hug', 'hubspot', 'httparchive', 'http', 'html5accessibility', 'html', 'hterkelsen', 'hpe', 'howto', 'howdyai', 'howdy', 'hover', 'hostname', 'host', 'hooks', 'hook', 'home', 'hl', 'hit', 'hill', 'highly', 'highlighting', 'highlighted', 'higher', 'high', 'hidroh', 'hidden', 'hey', 'herokuapp', 'helpful', 'helpers', 'helped', 'height', 'heart', 'hears', 'heard', 'headers', 'header', 'head', 'haven', 'hard', 'happy', 'happened', 'happen', 'handling', 'handles', 'handler', 'handled', 'handle', 'handbook', 'hand', 'hamburgers', 'hamburger', 'hacks', 'hacking', 'h1', 'gzip', 'gulp', 'guise', 'guides', 'guideline', 'guide', 'gui', 'guesstimate', 'guess', 'gucong3000', 'guard', 'guaranteed', 'grunt', 'group', 'grids', 'grid', 'greenkeeper', 'green', 'greater', 'great', 'gray', 'gratipay', 'grateful', 'graphs', 'graph', 'granted', 'grandpa', 'gradients', 'gradient', 'grade', 'gpu', 'gpa', 'gotwarlost', 'googlechrome', 'google', 'godaddy', 'goal', 'gnode', 'glossary', 'globals', 'global_objects', 'global', 'glob', 'glitch', 'giving', 'give', 'gittip', 'gitter', 'githubusercontent', 'github', 'git', 'gif', 'gianasista', 'gh', 'gfx', 'getter', 'getstarted', 'getguesstimate', 'generators', 'generator', 'generated', 'generate', 'generally', 'general', 'gems', 'gemfile', 'gatherers', 'gap', 'gallery', 'ga', 'future', 'furnished', 'functions', 'functional', 'function', 'func', 'fun', 'fully', 'full', 'fs', 'fritz', 'friends', 'friendly', 'friend', 'frequently', 'freesuraj', 'freenode', 'free', 'framework', 'fragment', 'fr_fr', 'foundation', 'found', 'forward', 'formdata', 'form', 'forks', 'forking', 'fork', 'forget', 'foreachof', 'forceupdategrids', 'forceupdategrid', 'forcefully', 'force', 'forbidden_header_name', 'foot', 'foo', 'fonts', 'font', 'follow', 'folder', 'focused', 'focusable', 'focus', 'fn', 'fly', 'flux', 'flowtype', 'flow', 'flexibility', 'flexbugs', 'flexbox', 'flex', 'flavors', 'flat', 'flags', 'flag', 'fkd7hjknpt', 'fixes', 'fixed', 'fix', 'fitness', 'fit', 'firefox_48x48', 'firefox', 'fired', 'finished', 'fine', 'find', 'final', 'filter', 'files', 'filed', 'file', 'fields', 'field', 'ffd7be7bf628', 'ffb400', 'ff69b4', 'fezvrasta', 'fetchuser', 'fetchpolyfill', 'fetch', 'features', 'featured', 'feature', 'fc4e', 'fbos', 'fastlane', 'faster', 'fast', 'faq', 'family', 'familiarize', 'familiar', 'falsy', 'false', 'failwithoutassertions', 'failure', 'fails', 'failing', 'fail', 'fact', 'facebook', 'eyes', 'externalresources', 'external', 'extensions', 'extension', 'extended', 'expressjs', 'express', 'exports', 'exported', 'export', 'exploring', 'explicitly', 'explanations', 'explanation', 'experiments', 'experience', 'expected', 'expanded', 'exits', 'execution', 'executed', 'execute', 'executable', 'excluded', 'exclude', 'excel', 'examples', 'example_audit', 'ex7oladjt', 'evil', 'events', 'event', 'eval', 'establish', 'esnext', 'esm', 'eslint', 'es_es', 'es6', 'es5', 'es2015', 'es', 'errors', 'error', 'errinvalidproj', 'err', 'equivalent', 'epub', 'environment', 'env', 'entry', 'entries', 'enterprise', 'ensure', 'english', 'engine', 'endpoint', 'ending', 'end', 'encourage', 'encountered', 'encounter', 'enables', 'enabled', 'enable', 'en_us', 'en', 'ems', 'emphatic', 'emilebres', 'ember', 'emazzotta', 'elements', 'element', 'elegant', 'electron_48x48', 'electron', 'elastic', 'ejs', 'efficient', 'effects', 'effect', 'ef1589d7063f', 'editing', 'edit', 'edgurgel', 'edge_48x48', 'edge', 'ecmascript', 'ebidel', 'easy', 'easiest', 'easier', 'ease', 'early', 'e8', 'e7v91mu2m5x48ehx', 'e79e', 'e7', 'e6', 'e5', 'dwres', 'duration', 'due', 'dt', 'drop', 'drive', 'draios', 'dragging', 'drag', 'dq', 'downs', 'downloads', 'download', 'dougwilson', 'dont_trip_up_with_vendor_prefixes', 'donation', 'donate', 'don', 'domains', 'domain', 'dom', 'doiuse', 'doesn', 'documentation', 'document', 'docs', 'docker', 'dm', 'dive', 'div', 'distributions', 'distribution', 'distribute', 'dist', 'displaying', 'displayed', 'display', 'dispatcher', 'dispatched', 'dispatch', 'disk', 'discussion', 'discuss', 'discover', 'disabled', 'disable', 'disabilities', 'directory', 'directories', 'directly', 'diogofcunha', 'dig', 'difference', 'diff', 'didn', 'devtools', 'devkit', 'devices', 'device', 'devhub', 'development', 'developers', 'developer', 'developed', 'develop', 'devdeps', 'devdependencies', 'dev', 'determine', 'detection', 'detected', 'detect', 'details', 'detail', 'destroy', 'destination', 'desired', 'designed', 'design', 'description', 'describe', 'derived', 'derive', 'derivations', 'derivation', 'depth', 'deps', 'deploy', 'depends', 'depending', 'dependents', 'dependency', 'dependencies', 'depended', 'depend', 'depdendency', 'demonstrated', 'demand', 'delegation', 'defining', 'defined', 'define', 'defaults', 'default', 'decorators', 'decorator', 'decorate', 'declared', 'declare', 'declarations', 'debugging', 'debug', 'deals', 'dealings', 'deal', 'de', 'dbrgn', 'david', 'datepicker', 'date', 'database', 'data', 'dash', 'damages', 'd460fxti0f', 'cz', 'customizingstyles', 'customize', 'customization', 'customizable', 'custom', 'current', 'currency_code', 'cumbersome', 'cult', 'cssnext', 'cssnano', 'css', 'csrf', 'cs1707', 'crucial', 'cross', 'credits', 'credentials', 'creator', 'creation', 'creatinganinfiniteloadinglist', 'creating', 'createstore', 'created', 'create', 'crawl', 'craving', 'crash', 'cpu', 'cpp', 'covert', 'covered', 'coveralls', 'coverage', 'courses', 'couple', 'counted', 'count', 'cors', 'correct', 'corner', 'coreh', 'core', 'copyright', 'copy', 'copies', 'coordinate', 'cookies', 'cookie', 'cook', 'converted', 'convert', 'convention', 'controls', 'controller', 'control', 'contributors', 'contributions', 'contributing', 'contribute', 'contrast', 'contrary', 'contract', 'continue', 'context', 'contents', 'content', 'constructor', 'constitutes', 'constants', 'const', 'consolidate', 'console', 'consistent', 'considered', 'connection', 'connecting', 'connect', 'conflict', 'configured', 'configure', 'configuration', 'configs', 'config', 'conditions', 'concurrent', 'concurrency', 'concordancejs', 'concordance', 'concise', 'concerned', 'concepts', 'concept', 'computes', 'computer', 'computed', 'compute', 'computations', 'compression', 'comprehensive', 'componentwillupdate', 'componentwillunmount', 'componentwillmount', 'components', 'componentdidupdate', 'component', 'complicated', 'compliant', 'complex', 'completion', 'completing', 'complete', 'compiler', 'compileenhancements', 'compiled', 'compile', 'compatible', 'compatibility', 'compat', 'compass', 'comparison', 'comparing', 'compared', 'compare', 'companies', 'community', 'commune', 'commonjs', 'common', 'committed', 'commitizen', 'commit', 'comment', 'commands', 'commander', 'command', 'comma', 'combined', 'combinations', 'columnsizer', 'column', 'color', 'collections', 'collection', 'collapse', 'coinbase', 'codesandbox', 'codemods', 'codecov', 'code_style', 'code', 'codacy', 'cocoapods', 'cmd', 'cloudup', 'closed', 'clone', 'clients', 'client', 'clicking', 'clicked', 'click', 'cli', 'clean', 'clauderic', 'classfellow', 'classes', 'class', 'claim', 'ciscospark', 'ciscojabber', 'circleci', 'ci', 'chromium', 'chrome_path', 'chrome_48x48', 'chrome', 'chrisallenlane', 'choose', 'choices', 'choice', 'chinese', 'child', 'checkstatus', 'check', 'cheat', 'chat', 'charge', 'character', 'channel', 'changing', 'changelog', 'changed', 'change', 'chance', 'challenges', 'chain', 'cgi', 'cells', 'cellmeasurer', 'cdns', 'cdnjs', 'cdn', 'cc', 'cb', 'causality', 'cats', 'category', 'categorical', 'catched', 'catch', 'cases', 'case', 'cascade', 'care', 'capture', 'capable', 'caolan', 'canonical', 'caniuse', 'cancelled', 'calling', 'called', 'callbacks', 'callback', 'call', 'calibre', 'calculations', 'calculation', 'calculate', 'caching', 'cached', 'bvaughn', 'buy', 'button', 'business', 'built', 'buildtools', 'buildscripts', 'builds', 'building', 'build_webpack', 'build_optimizer', 'build_ng_packagr', 'build_dev', 'build_connector', 'build_angular', 'build', 'bugs', 'bug', 'btn_donatecc_lg', 'btn', 'bs', 'brunch', 'browsersync', 'browserslist', 'browsers', 'browserify', 'browser', 'browse', 'brought', 'brotli', 'broccoli', 'bring', 'brightgreen', 'bridge', 'brevity', 'breaking', 'break', 'branches', 'branch', 'brainmaestro', 'brackets', 'br', 'boyney123', 'box', 'bower', 'bound', 'bots', 'botkit', 'botframework', 'bot', 'boring', 'border', 'bootstrap', 'boom', 'boolean', 'books', 'book', 'boils', 'boilerplates', 'body', 'bn', 'blogs', 'blocksize', 'blocking', 'block', 'blob', 'blipmdconlkpinefehnmjammfjpmpbjk', 'blakeembrey', 'bl', 'bit', 'binaries', 'bin', 'bigquery', 'big', 'bhp', 'beta', 'benefit', 'beneficial', 'belong', 'believed', 'behavior', 'behaves', 'begins', 'beginnertutorial', 'beforeeach', 'beautiful', 'beaconed', 'bd', 'bcoe', 'bc', 'baz', 'basics', 'basically', 'basic', 'bash', 'based', 'bar', 'badges', 'badge_grade', 'badge', 'backport', 'background', 'backers', 'backer', 'backed', 'back', 'babel', 'b8', 'b5', 'b1', 'ay', 'aws40kox90u', 'awesome', 'awaited', 'await', 'avoided', 'avoid', 'avatar', 'avajs', 'ava__js', 'ava', 'autosizer', 'autorun', 'autoprefixer', 'autoprefix', 'automatization', 'automatically', 'authors', 'authoring', 'author', 'authentication', 'audits', 'auditing', 'audit', 'attribute', 'attempts', 'attaching', 'atom', 'atlassian', 'atlaskit', 'asynchronous', 'async', 'assign', 'assets', 'assertions', 'assertion', 'assert', 'art', 'arrowturn', 'arrowkeystepper', 'arrowalt', 'arrow', 'arrays', 'array', 'arising', 'aria', 'arguments', 'argument', 'args', 'aren', 'area', 'archive', 'architecture', 'architect', 'appveyor', 'apps', 'approach', 'applystyles', 'applystyle', 'applyreactstyle', 'applymiddleware', 'apply', 'applies', 'applied', 'application', 'applicable', 'apple', 'apphub', 'append', 'appearance', 'app', 'apmssu3qnf0', 'apis', 'api', 'antd', 'ant', 'answer', 'annotating', 'animations', 'animated', 'angularjs', 'angular_devkit', 'angular', 'android', 'andreasonny83', 'andreascn', 'andersevenrud', 'anatomy', 'analyzing', 'analyze', 'analysis', 'amp', 'amount', 'amd', 'altoghether', 'alternatively', 'alternative', 'alter', 'alrra', 'allowing', 'allowed', 'alipayobjects', 'alias', 'algolia', 'alfred', 'alfmdwaaqbaj', 'aims', 'aimed', 'aim', 'ai', 'ahead', 'aggregate', 'aftereach', 'affecting', 'affect', 'ae', 'advisable', 'advantage', 'advanced', 'adjust', 'adjacent', 'addyosmani', 'addition', 'adding', 'added', 'add', 'actual', 'acts', 'activities', 'actively', 'active', 'actions', 'actioncounts', 'action', 'achieved', 'achieve', 'account', 'accomplished', 'accessing', 'accessible', 'accessibility', 'accessed', 'access_control_cors', 'access', 'accepts', 'ac', 'abortsignal', 'aborting', 'abortcontroller', 'abortable', 'ability', 'aa1bac299dd0', 'a8', 'a7', '9f91', '9df04cb6', '9c', '99', '97f3', '962647f8', '92ce', '92', '9129', '91', '903e', '9000', '900', '90', '8m', '8f', '8de3', '8c', '8b', '89', '88a95d146a75', '88', '84', '83be', '83', '81', '8001', '80', '7c9e7c86e0c6ead141bb0539d33143d0e1f576dd', '732', '6px', '6833f9', '67', '663be15acb3dd2eb0f71b1956ef28c2cd3fdeed0', '640x360', '635902', '6002', '60', '5px', '5ms', '5ed9c7', '59cb', '5983843', '59', '58', '57', '56', '55', '54557dc319b04e92e31cb87427bef194ec1c549c', '54', '5368888', '53', '5224894a7cca', '52', '512', '51', '500', '50', '4x', '4px', '4ef7d128', '4d63', '49', '485645', '484499', '48', '47073b5b58aa6f3fb24f98757be5d3f56218d160', '47', '46', '45000', '45', '44', '43', '42m', '42', '412', '41', '40px', '40m', '40gmail', '40556658', '40', '3dy', '3dxy', '3dx', '3bbase64', '3anonhosted', '3aimage', '3abtn_donate_sm', '3a', '39191', '39', '38', '37311298', '37', '36', '35', '34', '33px', '33', '32', '31', '30330590', '3000x3000', '3000', '300', '30', '2x', '2px', '2m', '2fwebpack', '2fupdate', '2fsvg', '2fschematics', '2fr', '2fpwa', '2fcore', '2fcli', '2fbuild', '2farchitect', '2fangular', '2egif', '2ecom', '2dsync', '2dppx', '2ddonationsbf', '2cphn2zybpzd0itgl2zwxsb18xiibkyxrhlw5hbwu9ikxpdmvsbg8gmsigeg1sbnm9imh0dha6ly93d3cudzmub3jnlziwmdavc3zniib2awv3qm94psiwidagmtagoci', '2bxml', '2bphn0ewxlpi5jbhmtmxtmawxsoinmzmy7ftwvc3r5bgu', '2bphbhdgggy2xhc3m9imnscy0xiibkpsjnnswwqy40miwwldasljyzldasmy4zngmwldeuodqumtksmi43miwxljc0ldmumwgwvjcunthhljq0ljq0ldasmcwwlc42oc4znuw0ljm1ldyunjlinwm0lju4ldasns0unjmsns0zljm1uzkuntgsmcw1ldbattiuodmsnc4xogeunjmunjmsmcwxldesljy1ls42m0eunjqunjqsmcwwldesmi44myw0lje4wk01ldqumthhljyzljyzldasmswxlc42ns0unjnbljy0ljy0ldasmcwxldusnc4xofptmi4xnywwys42my42mywwldesmswunjutljyzqs42nc42ncwwldasmsw3lje3ldqumthaii8', '2bpgrlznm', '2bpc9zdmc', '2bpc9kzwzzpjx0axrszt5zcgvjdhj1btwvdgl0bgu', '2b', '2978551', '29597', '29', '28', '27', '261d', '26', '25', '2464966', '24', '23f662f6', '2301202', '23', '22478294', '22', '214067', '2109932', '21', '20your', '20with', '20weststrate', '20the', '20supercharge', '20state', '20start', '20react', '20quick', '20px', '20mobx', '20in', '20guide', '20client', '20chat', '20apps', '2017', '2000', '20', '1s', '1fr', '1dri6hc2xiptlbkfnh8yczocpxqtoacicdesdyvfg_be', '1c3a711a', '19', '18', '17391516', '17', '16', '15s', '15px', '15', '1462115295', '14333364', '14', '13', '12m', '127', '1234', '12', '11e8', '11e6', '11e5', '11737732', '113399210633478618934', '11', '10s', '1050222', '100px', '100', '10', '0ca1e55e', '098f2f8ed866', '09', '0800', '000']\n"
          ],
          "name": "stdout"
        },
        {
          "output_type": "execute_result",
          "data": {
            "text/plain": [
              "2483"
            ]
          },
          "metadata": {
            "tags": []
          },
          "execution_count": 13
        }
      ]
    },
    {
      "metadata": {
        "id": "zsXDPcu4axp7",
        "colab_type": "code",
        "colab": {}
      },
      "cell_type": "code",
      "source": [
        "### Perform keyword extraction for individual reademe files and\n",
        "### remove keywords that are not in the target input_nodes\n",
        "readme_keywords_array = []\n",
        "for readme_entry in readme_array:\n",
        "  raked_entry = rake.extract_keywords_from_text(readme_entry[\"content\"])\n",
        "  ranked_phrases = rake.get_ranked_phrases()\n",
        "  # Filter keywords\n",
        "  ranked_phrases = list(filter(lambda x: x in input_nodes,ranked_phrases))\n",
        "  # Build keywords object\n",
        "  keywords = {}\n",
        "  keywords[\"reponame\"] = readme_entry[\"reponame\"]\n",
        "  keywords[\"keywords\"] = ranked_phrases\n",
        "  readme_keywords_array.append(keywords)"
      ],
      "execution_count": 0,
      "outputs": []
    },
    {
      "metadata": {
        "id": "4S-R3TpNqUwW",
        "colab_type": "code",
        "colab": {
          "base_uri": "https://localhost:8080/",
          "height": 34
        },
        "outputId": "f8695a28-e575-49b6-e8a0-986139aab2f9"
      },
      "cell_type": "code",
      "source": [
        "# Creating a dictionary for keywords\n",
        "repos = []\n",
        "keywords_dic={}\n",
        "for i in range(len(readme_keywords_array)):\n",
        "  repos.append(readme_keywords_array[i][\"reponame\"])\n",
        "  keywords_dic[readme_keywords_array[i][\"reponame\"]] = readme_keywords_array[i][\"keywords\"]\n",
        "len(repos)"
      ],
      "execution_count": 0,
      "outputs": [
        {
          "output_type": "execute_result",
          "data": {
            "text/plain": [
              "22"
            ]
          },
          "metadata": {
            "tags": []
          },
          "execution_count": 15
        }
      ]
    },
    {
      "metadata": {
        "id": "9tRZPQgdsLIF",
        "colab_type": "code",
        "colab": {
          "base_uri": "https://localhost:8080/",
          "height": 34
        },
        "outputId": "4c407bda-ed8f-46eb-adfd-9d8c502f96c1"
      },
      "cell_type": "code",
      "source": [
        "# Creating a dictionary for packages\n",
        "packages_dic={}\n",
        "for repo in package_array:\n",
        "  if repo[\"reponame\"] in repos:\n",
        "    packages_dic[repo[\"reponame\"]] = []\n",
        "    if \"devDependencies\" in repo:\n",
        "      packages_dic[repo[\"reponame\"]].append(repo[\"devDependencies\"])\n",
        "    if \"dependencies\" in repo:\n",
        "      packages_dic[repo[\"reponame\"]].append(repo[\"dependencies\"])\n",
        "len(packages_dic.keys())"
      ],
      "execution_count": 0,
      "outputs": [
        {
          "output_type": "execute_result",
          "data": {
            "text/plain": [
              "22"
            ]
          },
          "metadata": {
            "tags": []
          },
          "execution_count": 16
        }
      ]
    },
    {
      "metadata": {
        "id": "4Wg_p5YxjEuM",
        "colab_type": "text"
      },
      "cell_type": "markdown",
      "source": [
        "# Training Data"
      ]
    },
    {
      "metadata": {
        "id": "KoOxSwJwXZ_D",
        "colab_type": "code",
        "colab": {}
      },
      "cell_type": "code",
      "source": [
        "# list keywords for each repo\n",
        "Questions = [keywords_dic[i] for i in repos]\n",
        "max_input_len = max(map(len, Questions))\n",
        "\n",
        "# list of unique keywords\n",
        "input_tokens = list({keyword for repo_list in Questions for keyword in repo_list})\n",
        "num_input_tokens = len(input_tokens)\n",
        "keyword_to_index = {}\n",
        "for i in range(len(input_tokens)):\n",
        "  keyword_to_index[input_tokens[i]]=i\n",
        "index_to_keyword = {v: k for k, v in keyword_to_index.items()}"
      ],
      "execution_count": 0,
      "outputs": []
    },
    {
      "metadata": {
        "id": "-6ZkS2YwXxAm",
        "colab_type": "code",
        "colab": {}
      },
      "cell_type": "code",
      "source": [
        "# list packages for each repo\n",
        "Answers = [list(packages_dic[i][0]) for i in repos]\n",
        "max_output_len = max(map(len, Answers))\n",
        "\n",
        "# list of unique packages\n",
        "output_tokens = list({pkg for repo_pkg in Answers for pkg in repo_pkg})\n",
        "num_output_tokens = len(output_tokens)\n",
        "package_to_index = {}\n",
        "for i in range(len(output_tokens)):\n",
        "  package_to_index[output_tokens[i]]=i\n",
        "index_to_package = {v: k for k, v in package_to_index.items()}"
      ],
      "execution_count": 0,
      "outputs": []
    },
    {
      "metadata": {
        "id": "bmDcUgyS1oxQ",
        "colab_type": "code",
        "colab": {}
      },
      "cell_type": "code",
      "source": [
        "n = len(repos)\n",
        "X = np.zeros((n, max_input_len, num_input_tokens), dtype=np.bool)\n",
        "y = np.zeros((n, num_output_tokens), dtype=np.bool)\n",
        "for num_pair, (question, answer) in enumerate(zip(Questions, Answers)):\n",
        "  for num_token, q_token in enumerate(question):\n",
        "    X[num_pair, num_token, keyword_to_index[q_token]] = 1\n",
        "  for num_token, a_token in enumerate(answer):\n",
        "    y[num_pair, package_to_index[a_token]] = 1"
      ],
      "execution_count": 0,
      "outputs": []
    },
    {
      "metadata": {
        "id": "wzuV40b0Bdo1",
        "colab_type": "text"
      },
      "cell_type": "markdown",
      "source": [
        "# Build the model"
      ]
    },
    {
      "metadata": {
        "id": "Tdf-qb0SAWvJ",
        "colab_type": "code",
        "colab": {}
      },
      "cell_type": "code",
      "source": [
        "hidden_units=128\n",
        "model = Sequential()\n",
        "input_s = (None, num_input_tokens)\n",
        "model.add(LSTM(hidden_units, input_shape=input_s))\n",
        "model.add(Dense(num_output_tokens))\n",
        "model.add(Activation('softmax'))\n",
        "optimizer = RMSprop(lr=0.01)\n",
        "model.compile(loss='categorical_crossentropy', optimizer=optimizer)"
      ],
      "execution_count": 0,
      "outputs": []
    },
    {
      "metadata": {
        "id": "fMHGgz8GE4eC",
        "colab_type": "text"
      },
      "cell_type": "markdown",
      "source": [
        "# Training"
      ]
    },
    {
      "metadata": {
        "id": "GL--1oleEzPh",
        "colab_type": "code",
        "colab": {
          "base_uri": "https://localhost:8080/",
          "height": 3077
        },
        "outputId": "e113122c-bcc1-49d1-c8c9-585b181d9805"
      },
      "cell_type": "code",
      "source": [
        "iterations=20\n",
        "bat_size=256\n",
        "num_epochs=3\n",
        "for iteration in range(iterations):\n",
        "  print()\n",
        "  print('-' * 50)\n",
        "  print('Iteration', iteration)\n",
        "  model.fit(X, y, batch_size=bat_size, epochs=num_epochs)"
      ],
      "execution_count": 0,
      "outputs": [
        {
          "output_type": "stream",
          "text": [
            "\n",
            "--------------------------------------------------\n",
            "Iteration 0\n",
            "Epoch 1/3\n",
            "22/22 [==============================] - 5s 217ms/step - loss: 99.4402\n",
            "Epoch 2/3\n",
            "22/22 [==============================] - 4s 178ms/step - loss: 132.6980\n",
            "Epoch 3/3\n",
            "22/22 [==============================] - 4s 168ms/step - loss: 99.2543\n",
            "\n",
            "--------------------------------------------------\n",
            "Iteration 1\n",
            "Epoch 1/3\n",
            "22/22 [==============================] - 4s 165ms/step - loss: 99.7557\n",
            "Epoch 2/3\n",
            "22/22 [==============================] - 4s 168ms/step - loss: 97.0515\n",
            "Epoch 3/3\n",
            "22/22 [==============================] - 4s 163ms/step - loss: 97.0115\n",
            "\n",
            "--------------------------------------------------\n",
            "Iteration 2\n",
            "Epoch 1/3\n",
            "22/22 [==============================] - 4s 162ms/step - loss: 97.5773\n",
            "Epoch 2/3\n",
            "22/22 [==============================] - 4s 162ms/step - loss: 99.6110\n",
            "Epoch 3/3\n",
            "22/22 [==============================] - 4s 164ms/step - loss: 103.7948\n",
            "\n",
            "--------------------------------------------------\n",
            "Iteration 3\n",
            "Epoch 1/3\n",
            "22/22 [==============================] - 4s 163ms/step - loss: 104.4793\n",
            "Epoch 2/3\n",
            "22/22 [==============================] - 4s 164ms/step - loss: 102.2305\n",
            "Epoch 3/3\n",
            "22/22 [==============================] - 4s 164ms/step - loss: 100.9621\n",
            "\n",
            "--------------------------------------------------\n",
            "Iteration 4\n",
            "Epoch 1/3\n",
            "22/22 [==============================] - 4s 163ms/step - loss: 99.9721\n",
            "Epoch 2/3\n",
            "22/22 [==============================] - 4s 162ms/step - loss: 99.2041\n",
            "Epoch 3/3\n",
            "22/22 [==============================] - 4s 162ms/step - loss: 98.3919\n",
            "\n",
            "--------------------------------------------------\n",
            "Iteration 5\n",
            "Epoch 1/3\n",
            "22/22 [==============================] - 4s 165ms/step - loss: 98.2448\n",
            "Epoch 2/3\n",
            "22/22 [==============================] - 4s 164ms/step - loss: 97.9506\n",
            "Epoch 3/3\n",
            "22/22 [==============================] - 4s 162ms/step - loss: 97.6946\n",
            "\n",
            "--------------------------------------------------\n",
            "Iteration 6\n",
            "Epoch 1/3\n",
            "22/22 [==============================] - 4s 165ms/step - loss: 97.8610\n",
            "Epoch 2/3\n",
            "22/22 [==============================] - 4s 163ms/step - loss: 97.8262\n",
            "Epoch 3/3\n",
            "22/22 [==============================] - 4s 166ms/step - loss: 98.0323\n",
            "\n",
            "--------------------------------------------------\n",
            "Iteration 7\n",
            "Epoch 1/3\n",
            "22/22 [==============================] - 4s 168ms/step - loss: 98.1567\n",
            "Epoch 2/3\n",
            "22/22 [==============================] - 4s 165ms/step - loss: 98.3947\n",
            "Epoch 3/3\n",
            "22/22 [==============================] - 4s 167ms/step - loss: 98.3846\n",
            "\n",
            "--------------------------------------------------\n",
            "Iteration 8\n",
            "Epoch 1/3\n",
            "22/22 [==============================] - 4s 168ms/step - loss: 98.6910\n",
            "Epoch 2/3\n",
            "22/22 [==============================] - 4s 170ms/step - loss: 98.7881\n",
            "Epoch 3/3\n",
            "22/22 [==============================] - 4s 169ms/step - loss: 98.9030\n",
            "\n",
            "--------------------------------------------------\n",
            "Iteration 9\n",
            "Epoch 1/3\n",
            "22/22 [==============================] - 4s 172ms/step - loss: 98.6824\n",
            "Epoch 2/3\n",
            "22/22 [==============================] - 4s 170ms/step - loss: 98.5654\n",
            "Epoch 3/3\n",
            "22/22 [==============================] - 4s 168ms/step - loss: 98.4951\n",
            "\n",
            "--------------------------------------------------\n",
            "Iteration 10\n",
            "Epoch 1/3\n",
            "22/22 [==============================] - 4s 166ms/step - loss: 98.4426\n",
            "Epoch 2/3\n",
            "22/22 [==============================] - 4s 167ms/step - loss: 98.4664\n",
            "Epoch 3/3\n",
            "22/22 [==============================] - 4s 167ms/step - loss: 98.4785\n",
            "\n",
            "--------------------------------------------------\n",
            "Iteration 11\n",
            "Epoch 1/3\n",
            "22/22 [==============================] - 4s 167ms/step - loss: 98.5796\n",
            "Epoch 2/3\n",
            "22/22 [==============================] - 4s 168ms/step - loss: 98.6713\n",
            "Epoch 3/3\n",
            "22/22 [==============================] - 4s 166ms/step - loss: 98.7233\n",
            "\n",
            "--------------------------------------------------\n",
            "Iteration 12\n",
            "Epoch 1/3\n",
            "22/22 [==============================] - 4s 165ms/step - loss: 98.6845\n",
            "Epoch 2/3\n",
            "22/22 [==============================] - 4s 162ms/step - loss: 98.6536\n",
            "Epoch 3/3\n",
            "22/22 [==============================] - 4s 159ms/step - loss: 98.5435\n",
            "\n",
            "--------------------------------------------------\n",
            "Iteration 13\n",
            "Epoch 1/3\n",
            "22/22 [==============================] - 3s 159ms/step - loss: 98.5063\n",
            "Epoch 2/3\n",
            "22/22 [==============================] - 3s 158ms/step - loss: 98.4836\n",
            "Epoch 3/3\n",
            "22/22 [==============================] - 3s 159ms/step - loss: 98.6628\n",
            "\n",
            "--------------------------------------------------\n",
            "Iteration 14\n",
            "Epoch 1/3\n",
            "22/22 [==============================] - 4s 160ms/step - loss: 98.7685\n",
            "Epoch 2/3\n",
            "22/22 [==============================] - 3s 158ms/step - loss: 98.7849\n",
            "Epoch 3/3\n",
            "22/22 [==============================] - 4s 160ms/step - loss: 98.7552\n",
            "\n",
            "--------------------------------------------------\n",
            "Iteration 15\n",
            "Epoch 1/3\n",
            "22/22 [==============================] - 4s 160ms/step - loss: 98.6839\n",
            "Epoch 2/3\n",
            "22/22 [==============================] - 4s 160ms/step - loss: 98.5802\n",
            "Epoch 3/3\n",
            "22/22 [==============================] - 4s 162ms/step - loss: 98.5672\n",
            "\n",
            "--------------------------------------------------\n",
            "Iteration 16\n",
            "Epoch 1/3\n",
            "22/22 [==============================] - 4s 160ms/step - loss: 98.5419\n",
            "Epoch 2/3\n",
            "22/22 [==============================] - 3s 159ms/step - loss: 98.5246\n",
            "Epoch 3/3\n",
            "22/22 [==============================] - 3s 159ms/step - loss: 98.5343\n",
            "\n",
            "--------------------------------------------------\n",
            "Iteration 17\n",
            "Epoch 1/3\n",
            "22/22 [==============================] - 4s 160ms/step - loss: 98.5454\n",
            "Epoch 2/3\n",
            "22/22 [==============================] - 3s 159ms/step - loss: 98.5712\n",
            "Epoch 3/3\n",
            "22/22 [==============================] - 3s 159ms/step - loss: 98.5747\n",
            "\n",
            "--------------------------------------------------\n",
            "Iteration 18\n",
            "Epoch 1/3\n",
            "22/22 [==============================] - 3s 158ms/step - loss: 98.6068\n",
            "Epoch 2/3\n",
            "22/22 [==============================] - 3s 158ms/step - loss: 98.6055\n",
            "Epoch 3/3\n",
            "22/22 [==============================] - 4s 159ms/step - loss: 98.6195\n",
            "\n",
            "--------------------------------------------------\n",
            "Iteration 19\n",
            "Epoch 1/3\n",
            "22/22 [==============================] - 3s 159ms/step - loss: 98.5940\n",
            "Epoch 2/3\n",
            "22/22 [==============================] - 4s 159ms/step - loss: 98.6062\n",
            "Epoch 3/3\n",
            "22/22 [==============================] - 4s 159ms/step - loss: 98.5841\n"
          ],
          "name": "stdout"
        }
      ]
    },
    {
      "metadata": {
        "id": "roOFONAuLXK6",
        "colab_type": "code",
        "colab": {}
      },
      "cell_type": "code",
      "source": [
        "model.save(\"neural_token\")"
      ],
      "execution_count": 0,
      "outputs": []
    },
    {
      "metadata": {
        "id": "JUE1Wa8ESmh3",
        "colab_type": "text"
      },
      "cell_type": "markdown",
      "source": [
        "# Prediction"
      ]
    },
    {
      "metadata": {
        "id": "GQqtQNkVSwqi",
        "colab_type": "code",
        "colab": {}
      },
      "cell_type": "code",
      "source": [
        "repo=repos[1]\n",
        "keys = keywords_dic[repo]\n",
        "keys_encoded = np.zeros((1, max_input_len, num_input_tokens), dtype=np.bool)\n",
        "for num_token, q in enumerate(keys):\n",
        "    X[1, num_token, keyword_to_index[q]] = 1"
      ],
      "execution_count": 0,
      "outputs": []
    },
    {
      "metadata": {
        "id": "j5sBKfAmPJ96",
        "colab_type": "code",
        "colab": {
          "base_uri": "https://localhost:8080/",
          "height": 364
        },
        "outputId": "66c08463-d71e-48db-e966-ebe319b151b4"
      },
      "cell_type": "code",
      "source": [
        "preds = model.predict(keys_encoded, verbose=0)[0]\n",
        "plt.plot(preds)"
      ],
      "execution_count": 0,
      "outputs": [
        {
          "output_type": "execute_result",
          "data": {
            "text/plain": [
              "[<matplotlib.lines.Line2D at 0x7f1ad199b128>]"
            ]
          },
          "metadata": {
            "tags": []
          },
          "execution_count": 24
        },
        {
          "output_type": "display_data",
          "data": {
            "image/png": "[encoded data removed]",
            "text/plain": [
              "<matplotlib.figure.Figure at 0x7f1ad194ca20>"
            ]
          },
          "metadata": {
            "tags": []
          }
        }
      ]
    },
    {
      "metadata": {
        "id": "MC00ZSr_ZEKU",
        "colab_type": "code",
        "colab": {
          "base_uri": "https://localhost:8080/",
          "height": 85
        },
        "outputId": "f437511e-1e05-454a-ef45-ce72858f43c2"
      },
      "cell_type": "code",
      "source": [
        "ix=np.argsort(preds)\n",
        "print(index_to_package[ix[-1]])\n",
        "print(index_to_package[ix[-2]])\n",
        "print(index_to_package[ix[-3]])\n",
        "print(index_to_package[ix[-4]])"
      ],
      "execution_count": 0,
      "outputs": [
        {
          "output_type": "stream",
          "text": [
            "gulp\n",
            "babel-loader\n",
            "babel-preset-es2015\n",
            "mocha\n"
          ],
          "name": "stdout"
        }
      ]
    },
    {
      "metadata": {
        "id": "VDyMlZFoSedr",
        "colab_type": "code",
        "colab": {
          "base_uri": "https://localhost:8080/",
          "height": 85
        },
        "outputId": "3f1f0c2b-2f38-4ca4-c0da-0f100d645fe5"
      },
      "cell_type": "code",
      "source": [
        "packages_dic[repo]"
      ],
      "execution_count": 0,
      "outputs": [
        {
          "output_type": "execute_result",
          "data": {
            "text/plain": [
              "[{'browserify': '^10.0.0',\n",
              "  'istanbul-harmony': '0',\n",
              "  'mocha': '^2.0.0',\n",
              "  'mz': '^1.0.2'}]"
            ]
          },
          "metadata": {
            "tags": []
          },
          "execution_count": 26
        }
      ]
    }
  ]
}