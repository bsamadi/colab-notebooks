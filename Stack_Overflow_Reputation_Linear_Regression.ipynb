{
  "nbformat": 4,
  "nbformat_minor": 0,
  "metadata": {
    "colab": {
      "name": "Stack Overflow Reputation - Linear Regression.ipynb",
      "version": "0.3.2",
      "provenance": [],
      "collapsed_sections": [],
      "include_colab_link": true
    },
    "kernelspec": {
      "name": "python3",
      "display_name": "Python 3"
    },
    "accelerator": "GPU"
  },
  "cells": [
    {
      "cell_type": "markdown",
      "metadata": {
        "id": "view-in-github",
        "colab_type": "text"
      },
      "source": [
        "<a href=\"https://colab.research.google.com/github/connected-bsamadi/colab-notebooks/blob/master/Stack_Overflow_Reputation_Linear_Regression.ipynb\" target=\"_parent\"><img src=\"https://colab.research.google.com/assets/colab-badge.svg\" alt=\"Open In Colab\"/></a>"
      ]
    },
    {
      "metadata": {
        "id": "Pqu4EdwlAkl6",
        "colab_type": "text"
      },
      "cell_type": "markdown",
      "source": [
        "# Stack Overflow Reputation - Linear Regression"
      ]
    },
    {
      "metadata": {
        "id": "sDp5z_WiAfXO",
        "colab_type": "code",
        "colab": {}
      },
      "cell_type": "code",
      "source": [
        "import pandas as pd\n",
        "import numpy as np\n",
        "import matplotlib.pyplot as plt"
      ],
      "execution_count": 0,
      "outputs": []
    },
    {
      "metadata": {
        "id": "Skt5jMPjhKdT",
        "colab_type": "code",
        "colab": {}
      },
      "cell_type": "code",
      "source": [
        "import seaborn as sns \n",
        "\n",
        "%matplotlib inline"
      ],
      "execution_count": 0,
      "outputs": []
    },
    {
      "metadata": {
        "id": "Sb_0fD4mdtpJ",
        "colab_type": "code",
        "colab": {}
      },
      "cell_type": "code",
      "source": [
        "from google.colab import auth\n",
        "auth.authenticate_user()"
      ],
      "execution_count": 0,
      "outputs": []
    },
    {
      "metadata": {
        "id": "UWB_GIFVduLr",
        "colab_type": "code",
        "colab": {}
      },
      "cell_type": "code",
      "source": [
        "from google.cloud import bigquery\n",
        "\n",
        "project_id = 'ontario-2018'\n",
        "client = bigquery.Client(project=project_id)"
      ],
      "execution_count": 0,
      "outputs": []
    },
    {
      "metadata": {
        "id": "xkNqVSi_A6wk",
        "colab_type": "text"
      },
      "cell_type": "markdown",
      "source": [
        "## Ingest"
      ]
    },
    {
      "metadata": {
        "id": "ykUSV-W8b54g",
        "colab_type": "code",
        "colab": {}
      },
      "cell_type": "code",
      "source": [
        "# Number of people\n",
        "n=10000"
      ],
      "execution_count": 0,
      "outputs": []
    },
    {
      "metadata": {
        "id": "jI7YuEOBBVk7",
        "colab_type": "code",
        "colab": {}
      },
      "cell_type": "code",
      "source": [
        "query = ('''\n",
        "WITH\n",
        "  g AS (\n",
        "  SELECT\n",
        "    author.name AS name,\n",
        "    COUNT(commit) AS num_commits,\n",
        "    COUNT(DISTINCT repo_name) AS num_repos,\n",
        "    AVG(LENGTH(subject)) AS avg_subject_len,\n",
        "    AVG(LENGTH(message)) AS avg_message_len,\n",
        "    AVG(author.time_sec) AS avg_time,\n",
        "    COALESCE(STDDEV(author.time_sec),\n",
        "      0) AS std_time\n",
        "  FROM\n",
        "    `bigquery-public-data.github_repos.sample_commits`\n",
        "  GROUP BY\n",
        "    author.name),\n",
        "  s AS (\n",
        "  SELECT\n",
        "    display_name,\n",
        "    AVG(reputation) AS reputation,\n",
        "    AVG(up_votes) AS up_votes,\n",
        "    AVG(down_votes) AS down_votes,\n",
        "    AVG(views) AS views\n",
        "  FROM\n",
        "    `bigquery-public-data.stackoverflow.users`\n",
        "  GROUP BY\n",
        "    display_name )\n",
        "SELECT\n",
        "  name,\n",
        "  num_commits,\n",
        "  num_repos,\n",
        "  avg_subject_len,\n",
        "  avg_message_len,\n",
        "  avg_time,\n",
        "  std_time,\n",
        "  reputation,\n",
        "  up_votes,\n",
        "  down_votes,\n",
        "  views\n",
        "FROM\n",
        "  g\n",
        "INNER JOIN\n",
        "  s\n",
        "ON\n",
        "  g.name=s.display_name\n",
        "LIMIT \n",
        "'''+str(n))\n",
        "job_config = bigquery.job.QueryJobConfig()\n",
        "query_job = client.query(query,job_config)"
      ],
      "execution_count": 0,
      "outputs": []
    },
    {
      "metadata": {
        "id": "b-N-ZaEnWO3L",
        "colab_type": "code",
        "outputId": "8d4090d7-7b68-42a8-9762-4eb51e0e227e",
        "colab": {
          "base_uri": "https://localhost:8080/",
          "height": 204
        }
      },
      "cell_type": "code",
      "source": [
        "df = query_job.to_dataframe()\n",
        "df.head()"
      ],
      "execution_count": 7,
      "outputs": [
        {
          "output_type": "execute_result",
          "data": {
            "text/html": [
              "<div>\n",
              "<style scoped>\n",
              "    .dataframe tbody tr th:only-of-type {\n",
              "        vertical-align: middle;\n",
              "    }\n",
              "\n",
              "    .dataframe tbody tr th {\n",
              "        vertical-align: top;\n",
              "    }\n",
              "\n",
              "    .dataframe thead th {\n",
              "        text-align: right;\n",
              "    }\n",
              "</style>\n",
              "<table border=\"1\" class=\"dataframe\">\n",
              "  <thead>\n",
              "    <tr style=\"text-align: right;\">\n",
              "      <th></th>\n",
              "      <th>name</th>\n",
              "      <th>num_commits</th>\n",
              "      <th>num_repos</th>\n",
              "      <th>avg_subject_len</th>\n",
              "      <th>avg_message_len</th>\n",
              "      <th>avg_time</th>\n",
              "      <th>std_time</th>\n",
              "      <th>reputation</th>\n",
              "      <th>up_votes</th>\n",
              "      <th>down_votes</th>\n",
              "      <th>views</th>\n",
              "    </tr>\n",
              "  </thead>\n",
              "  <tbody>\n",
              "    <tr>\n",
              "      <th>0</th>\n",
              "      <td>Matthew Leffler</td>\n",
              "      <td>1</td>\n",
              "      <td>1</td>\n",
              "      <td>4.0</td>\n",
              "      <td>4.0</td>\n",
              "      <td>1.376438e+09</td>\n",
              "      <td>0.0</td>\n",
              "      <td>602.500000</td>\n",
              "      <td>913.500000</td>\n",
              "      <td>1.000000</td>\n",
              "      <td>62.000000</td>\n",
              "    </tr>\n",
              "    <tr>\n",
              "      <th>1</th>\n",
              "      <td>Nathan Howell</td>\n",
              "      <td>1</td>\n",
              "      <td>1</td>\n",
              "      <td>8.0</td>\n",
              "      <td>9.0</td>\n",
              "      <td>1.451933e+09</td>\n",
              "      <td>0.0</td>\n",
              "      <td>1348.333333</td>\n",
              "      <td>20.333333</td>\n",
              "      <td>2.333333</td>\n",
              "      <td>135.000000</td>\n",
              "    </tr>\n",
              "    <tr>\n",
              "      <th>2</th>\n",
              "      <td>Tushar</td>\n",
              "      <td>1</td>\n",
              "      <td>1</td>\n",
              "      <td>8.0</td>\n",
              "      <td>8.0</td>\n",
              "      <td>1.450034e+09</td>\n",
              "      <td>0.0</td>\n",
              "      <td>317.835913</td>\n",
              "      <td>13.597523</td>\n",
              "      <td>26.065015</td>\n",
              "      <td>57.678019</td>\n",
              "    </tr>\n",
              "    <tr>\n",
              "      <th>3</th>\n",
              "      <td>naoyashiga</td>\n",
              "      <td>1</td>\n",
              "      <td>1</td>\n",
              "      <td>8.0</td>\n",
              "      <td>9.0</td>\n",
              "      <td>1.457097e+09</td>\n",
              "      <td>0.0</td>\n",
              "      <td>8.000000</td>\n",
              "      <td>0.000000</td>\n",
              "      <td>0.000000</td>\n",
              "      <td>26.000000</td>\n",
              "    </tr>\n",
              "    <tr>\n",
              "      <th>4</th>\n",
              "      <td>Steve Moser</td>\n",
              "      <td>1</td>\n",
              "      <td>1</td>\n",
              "      <td>9.0</td>\n",
              "      <td>9.0</td>\n",
              "      <td>1.449166e+09</td>\n",
              "      <td>0.0</td>\n",
              "      <td>4081.000000</td>\n",
              "      <td>1373.000000</td>\n",
              "      <td>6.000000</td>\n",
              "      <td>600.000000</td>\n",
              "    </tr>\n",
              "  </tbody>\n",
              "</table>\n",
              "</div>"
            ],
            "text/plain": [
              "              name  num_commits  num_repos  avg_subject_len  avg_message_len  \\\n",
              "0  Matthew Leffler            1          1              4.0              4.0   \n",
              "1    Nathan Howell            1          1              8.0              9.0   \n",
              "2           Tushar            1          1              8.0              8.0   \n",
              "3       naoyashiga            1          1              8.0              9.0   \n",
              "4      Steve Moser            1          1              9.0              9.0   \n",
              "\n",
              "       avg_time  std_time   reputation     up_votes  down_votes       views  \n",
              "0  1.376438e+09       0.0   602.500000   913.500000    1.000000   62.000000  \n",
              "1  1.451933e+09       0.0  1348.333333    20.333333    2.333333  135.000000  \n",
              "2  1.450034e+09       0.0   317.835913    13.597523   26.065015   57.678019  \n",
              "3  1.457097e+09       0.0     8.000000     0.000000    0.000000   26.000000  \n",
              "4  1.449166e+09       0.0  4081.000000  1373.000000    6.000000  600.000000  "
            ]
          },
          "metadata": {
            "tags": []
          },
          "execution_count": 7
        }
      ]
    },
    {
      "metadata": {
        "id": "qOUp4RytBWfs",
        "colab_type": "text"
      },
      "cell_type": "markdown",
      "source": [
        "## Validate"
      ]
    },
    {
      "metadata": {
        "id": "hprD3i3Oyf43",
        "colab_type": "code",
        "colab": {
          "base_uri": "https://localhost:8080/",
          "height": 221
        },
        "outputId": "56b99405-faa6-4ba5-bff2-8517137a1159"
      },
      "cell_type": "code",
      "source": [
        "df.isnull().sum()"
      ],
      "execution_count": 8,
      "outputs": [
        {
          "output_type": "execute_result",
          "data": {
            "text/plain": [
              "name               0\n",
              "num_commits        0\n",
              "num_repos          0\n",
              "avg_subject_len    0\n",
              "avg_message_len    0\n",
              "avg_time           0\n",
              "std_time           0\n",
              "reputation         0\n",
              "up_votes           0\n",
              "down_votes         0\n",
              "views              0\n",
              "dtype: int64"
            ]
          },
          "metadata": {
            "tags": []
          },
          "execution_count": 8
        }
      ]
    },
    {
      "metadata": {
        "id": "3ceeSgZp34YG",
        "colab_type": "code",
        "colab": {
          "base_uri": "https://localhost:8080/",
          "height": 511
        },
        "outputId": "e3147087-e2bc-4141-f796-f3c1f5e403f6"
      },
      "cell_type": "code",
      "source": [
        "sns.set(rc={'figure.figsize':(11.7,8.27)})\n",
        "sns.distplot(df['reputation'], bins=30)\n",
        "plt.show()"
      ],
      "execution_count": 9,
      "outputs": [
        {
          "output_type": "display_data",
          "data": {
            "image/png": "[encoded data removed]",
            "text/plain": [
              "<matplotlib.figure.Figure at 0x7fcc65508358>"
            ]
          },
          "metadata": {
            "tags": []
          }
        }
      ]
    },
    {
      "metadata": {
        "id": "KkGHCkNv36AK",
        "colab_type": "code",
        "colab": {
          "base_uri": "https://localhost:8080/",
          "height": 586
        },
        "outputId": "9e533f8e-668a-4f50-f8eb-69ded70bd674"
      },
      "cell_type": "code",
      "source": [
        "correlation_matrix = df.corr().round(2)\n",
        "# annot = True to print the values inside the square\n",
        "sns.heatmap(data=correlation_matrix, annot=True)"
      ],
      "execution_count": 10,
      "outputs": [
        {
          "output_type": "execute_result",
          "data": {
            "text/plain": [
              "<matplotlib.axes._subplots.AxesSubplot at 0x7fcc654222b0>"
            ]
          },
          "metadata": {
            "tags": []
          },
          "execution_count": 10
        },
        {
          "output_type": "display_data",
          "data": {
            "image/png": "[encoded data removed]",
            "text/plain": [
              "<matplotlib.figure.Figure at 0x7fcc654ae0b8>"
            ]
          },
          "metadata": {
            "tags": []
          }
        }
      ]
    },
    {
      "metadata": {
        "id": "4UZGKVsgBX52",
        "colab_type": "code",
        "outputId": "ba0f0f84-f2c9-4799-e090-04c31999cbfa",
        "colab": {
          "base_uri": "https://localhost:8080/",
          "height": 34
        }
      },
      "cell_type": "code",
      "source": [
        "df.reputation.max()"
      ],
      "execution_count": 11,
      "outputs": [
        {
          "output_type": "execute_result",
          "data": {
            "text/plain": [
              "261410.5"
            ]
          },
          "metadata": {
            "tags": []
          },
          "execution_count": 11
        }
      ]
    },
    {
      "metadata": {
        "id": "dIWEDvl0kW4_",
        "colab_type": "code",
        "outputId": "82b9cebe-6cd3-410f-f21a-b42a39dfac38",
        "colab": {
          "base_uri": "https://localhost:8080/",
          "height": 34
        }
      },
      "cell_type": "code",
      "source": [
        "df.reputation.min()"
      ],
      "execution_count": 12,
      "outputs": [
        {
          "output_type": "execute_result",
          "data": {
            "text/plain": [
              "1.0"
            ]
          },
          "metadata": {
            "tags": []
          },
          "execution_count": 12
        }
      ]
    },
    {
      "metadata": {
        "id": "HPPVxPKKkaQK",
        "colab_type": "code",
        "outputId": "f4f650a0-340d-432b-feb4-14d79e10d2a7",
        "colab": {
          "base_uri": "https://localhost:8080/",
          "height": 34
        }
      },
      "cell_type": "code",
      "source": [
        "df.reputation.mean()"
      ],
      "execution_count": 13,
      "outputs": [
        {
          "output_type": "execute_result",
          "data": {
            "text/plain": [
              "763.1608219547252"
            ]
          },
          "metadata": {
            "tags": []
          },
          "execution_count": 13
        }
      ]
    },
    {
      "metadata": {
        "id": "rIDLbSmMBZHW",
        "colab_type": "text"
      },
      "cell_type": "markdown",
      "source": [
        "## Transform"
      ]
    },
    {
      "metadata": {
        "id": "E0gIdH9C00PQ",
        "colab_type": "code",
        "colab": {}
      },
      "cell_type": "code",
      "source": [
        "X = pd.DataFrame(df,columns=['num_commits','num_repos','avg_subject_len', 'avg_message_len', 'avg_time', 'up_votes', 'down_votes', 'views'])\n",
        "Y = df['reputation']"
      ],
      "execution_count": 0,
      "outputs": []
    },
    {
      "metadata": {
        "id": "USNvPxJn0qK2",
        "colab_type": "code",
        "colab": {
          "base_uri": "https://localhost:8080/",
          "height": 85
        },
        "outputId": "9ebce538-345b-4e97-d87a-d248840d02b0"
      },
      "cell_type": "code",
      "source": [
        "from sklearn.model_selection import train_test_split\n",
        "\n",
        "X_train, X_test, Y_train, Y_test = train_test_split(X, Y, test_size = 0.2, random_state=5)\n",
        "print(X_train.shape)\n",
        "print(X_test.shape)\n",
        "print(Y_train.shape)\n",
        "print(Y_test.shape)"
      ],
      "execution_count": 15,
      "outputs": [
        {
          "output_type": "stream",
          "text": [
            "(4150, 8)\n",
            "(1038, 8)\n",
            "(4150,)\n",
            "(1038,)\n"
          ],
          "name": "stdout"
        }
      ]
    },
    {
      "metadata": {
        "id": "X-JTmDs8gzGS",
        "colab_type": "text"
      },
      "cell_type": "markdown",
      "source": [
        "## Build Model"
      ]
    },
    {
      "metadata": {
        "id": "fJ-n6m8mg4eS",
        "colab_type": "code",
        "colab": {}
      },
      "cell_type": "code",
      "source": [
        "from sklearn.linear_model import LinearRegression\n",
        "from sklearn.metrics import mean_squared_error\n",
        "\n",
        "lin_model = LinearRegression()"
      ],
      "execution_count": 0,
      "outputs": []
    },
    {
      "metadata": {
        "id": "H42JP2i_BbOB",
        "colab_type": "text"
      },
      "cell_type": "markdown",
      "source": [
        "## Train"
      ]
    },
    {
      "metadata": {
        "id": "mQrASBv1Bce3",
        "colab_type": "code",
        "outputId": "2120b685-0a45-4852-923a-9eb59ce43484",
        "colab": {
          "base_uri": "https://localhost:8080/",
          "height": 34
        }
      },
      "cell_type": "code",
      "source": [
        "lin_model.fit(X_train, Y_train)"
      ],
      "execution_count": 17,
      "outputs": [
        {
          "output_type": "execute_result",
          "data": {
            "text/plain": [
              "LinearRegression(copy_X=True, fit_intercept=True, n_jobs=1, normalize=False)"
            ]
          },
          "metadata": {
            "tags": []
          },
          "execution_count": 17
        }
      ]
    },
    {
      "metadata": {
        "id": "0FUyLjUCBggx",
        "colab_type": "text"
      },
      "cell_type": "markdown",
      "source": [
        "## Evaluate"
      ]
    },
    {
      "metadata": {
        "id": "Cmd5p_5sBicJ",
        "colab_type": "code",
        "outputId": "449f1057-b1bd-4463-fccf-19797646800a",
        "colab": {
          "base_uri": "https://localhost:8080/",
          "height": 187
        }
      },
      "cell_type": "code",
      "source": [
        "from sklearn.metrics import mean_squared_error, r2_score\n",
        "\n",
        "# model evaluation for training set\n",
        "y_train_predict = lin_model.predict(X_train)\n",
        "rmse = (np.sqrt(mean_squared_error(Y_train, y_train_predict)))\n",
        "r2 = r2_score(Y_train, y_train_predict)\n",
        "\n",
        "print(\"The model performance for training set\")\n",
        "print(\"--------------------------------------\")\n",
        "print('RMSE is {}'.format(rmse))\n",
        "print('R2 score is {}'.format(r2))\n",
        "print(\"\\n\")\n",
        "\n",
        "# model evaluation for testing set\n",
        "y_test_predict = lin_model.predict(X_test)\n",
        "rmse = (np.sqrt(mean_squared_error(Y_test, y_test_predict)))\n",
        "r2 = r2_score(Y_test, y_test_predict)\n",
        "\n",
        "print(\"The model performance for testing set\")\n",
        "print(\"--------------------------------------\")\n",
        "print('RMSE is {}'.format(rmse))\n",
        "print('R2 score is {}'.format(r2))"
      ],
      "execution_count": 18,
      "outputs": [
        {
          "output_type": "stream",
          "text": [
            "The model performance for training set\n",
            "--------------------------------------\n",
            "RMSE is 2903.787784712639\n",
            "R2 score is 0.6851075094918555\n",
            "\n",
            "\n",
            "The model performance for testing set\n",
            "--------------------------------------\n",
            "RMSE is 1608.177045660366\n",
            "R2 score is 0.9702706143412759\n"
          ],
          "name": "stdout"
        }
      ]
    },
    {
      "metadata": {
        "id": "wrAgjAFtBi60",
        "colab_type": "text"
      },
      "cell_type": "markdown",
      "source": [
        "## Validate"
      ]
    },
    {
      "metadata": {
        "id": "oVh95RcE3X1c",
        "colab_type": "code",
        "colab": {
          "base_uri": "https://localhost:8080/",
          "height": 511
        },
        "outputId": "13584f64-dec9-43b4-ffb4-3f34826414f7"
      },
      "cell_type": "code",
      "source": [
        "plt.scatter(Y_test, y_test_predict)\n",
        "plt.xlabel('True Reputation')\n",
        "plt.ylabel('Predicted Reputation')\n",
        "plt.axis('equal')\n",
        "plt.xlim(plt.xlim())\n",
        "plt.ylim(plt.ylim())\n",
        "_ = plt.plot([-10000, 350000], [-10000, 350000])"
      ],
      "execution_count": 19,
      "outputs": [
        {
          "output_type": "display_data",
          "data": {
            "image/png": "[encoded data removed]",
            "text/plain": [
              "<matplotlib.figure.Figure at 0x7fcc64fd2ef0>"
            ]
          },
          "metadata": {
            "tags": []
          }
        }
      ]
    },
    {
      "metadata": {
        "id": "F6VL4zk3BnnV",
        "colab_type": "text"
      },
      "cell_type": "markdown",
      "source": [
        "## Push"
      ]
    },
    {
      "metadata": {
        "id": "AZxokpA8Booz",
        "colab_type": "code",
        "colab": {}
      },
      "cell_type": "code",
      "source": [
        ""
      ],
      "execution_count": 0,
      "outputs": []
    },
    {
      "metadata": {
        "id": "BSQIiG-DBpLV",
        "colab_type": "text"
      },
      "cell_type": "markdown",
      "source": [
        "## Serve"
      ]
    },
    {
      "metadata": {
        "id": "wVElqVq7Bp_m",
        "colab_type": "code",
        "colab": {}
      },
      "cell_type": "code",
      "source": [
        ""
      ],
      "execution_count": 0,
      "outputs": []
    }
  ]
}